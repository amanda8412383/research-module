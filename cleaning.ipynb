{
 "cells": [
  {
   "cell_type": "markdown",
   "metadata": {},
   "source": [
    "in this notebook, I combined the data that is needed for our research project, using 76 countries in GPS as the key because this is our main interest in the project, all the data has been filtered to at least after 2003, for the reason that democratic index only starts from 2006.\n",
    "notice:\n",
    "- democratic index range from 2006 to 2019, 2007 & 2009 doesn't exist\n",
    "- Bosnia Herzegovina have no record in humanitarian aids data.\n",
    "- 54 countries do not have ODA record\n",
    "- 63 countries do not have aid received record\n",
    " \n",
    "\n",
    "### data output \n",
    "| Variable     |      Content                                                   |\n",
    "|:-------------|:------------------------------------------------------------- :|\n",
    "| country| name of countries from Global Preference Survey(GPS) data            |\n",
    "| isocode | isocode of the countries                             |\n",
    "|demo2019 ~ demo2006| democratic index by year|\n",
    "|altruism| altruism score from GPS | \n",
    "|gdp2003 ~ gdp2019| gdp in current US dollar by year|\n",
    "|funding2003 ~ funding2019| humanitarian aid fundinn in US dollar by year       |\n",
    "|pledge2003 ~ pledge2019|pledging humanitarian aid in US dollar by year        |\n",
    "|funding2003_gdp ~ funding2019_gdp| funding / gdp the year * 100       |\n",
    "|gdpcapita2003 ~ gdpcapita2019| gdp per capita in current US dollar by year  |\n",
    "|region| region group from WDI data|\n",
    "|income_type| income group from WDI data|\n",
    "|aid_boolean| True if the country ever receive net official aid between 2003 ~ 2019|\n",
    "|pop2003 ~ pop2019| population data by year |\n",
    "|oda2003 ~ oda2019|Net Official development assistance in current US dollar |\n",
    "|govexpense2003 ~ govexpense2019| General government total expenditure as % of GDP  |\n",
    "|oda_int| 1 if the country ever receive net official aid between 2003 ~ 2019|\n",
    "|oecd| dummy variable indicates whether the country belongs to OECD at 2020 |\n",
    "|g20| dummy variable indicates whether the country belongs to G20 at 2019 |\n",
    "|gni2003 ~ gni2020| Gini Index data from world bank  |\n",
    "\n",
    "\n",
    "\n",
    "\n"
   ]
  },
  {
   "cell_type": "code",
   "execution_count": 1,
   "metadata": {},
   "outputs": [],
   "source": [
    "import pandas as pd\n",
    "import glob\n",
    "from auxiliary import *\n",
    "import zipfile\n",
    "\n",
    "pd.set_option('display.max_columns', 500)\n",
    "pd.set_option('display.max_rows', 500)\n",
    "\n"
   ]
  },
  {
   "cell_type": "code",
   "execution_count": 3,
   "metadata": {},
   "outputs": [],
   "source": [
    "\n",
    "with zipfile.ZipFile('data.zip', 'r') as zip_ref:\n",
    "    zip_ref.extractall('')"
   ]
  },
  {
   "source": [
    "### read in  democracy index from The Economist's Democracy Index"
   ],
   "cell_type": "markdown",
   "metadata": {}
  },
  {
   "cell_type": "code",
   "execution_count": 2,
   "metadata": {},
   "outputs": [],
   "source": [
    "democracy = pd.read_excel('data/EIU_Democracy_Index_2006_to_2019.xls').rename(columns={\"Unnamed: 0\": \"country\"})"
   ]
  },
  {
   "cell_type": "code",
   "execution_count": 3,
   "metadata": {},
   "outputs": [
    {
     "output_type": "execute_result",
     "data": {
      "text/plain": [
       "         country  demo2019  demo2018  demo2017  demo2016  demo2015  demo2014  \\\n",
       "0         Canada      9.22      9.15      9.15      9.15      9.08      9.08   \n",
       "1  United States      7.96      7.96      7.98      7.98      8.05      8.11   \n",
       "2        Austria      8.29      8.29      8.42      8.41      8.54      8.54   \n",
       "3        Belgium      7.64      7.78      7.78      7.77      7.93      7.93   \n",
       "4         Cyprus      7.59      7.59      7.59      7.65      7.53      7.40   \n",
       "\n",
       "   demo2013  demo2012  demo2011  demo2010  demo2008  demo2006  \n",
       "0      9.08      9.08      9.08      9.08      9.07      9.07  \n",
       "1      8.11      8.11      8.11      8.18      8.22      8.22  \n",
       "2      8.48      8.62      8.49      8.49      8.49      8.69  \n",
       "3      8.05      8.05      8.05      8.05      8.16      8.15  \n",
       "4      7.29      7.29      7.29      7.29      7.70      7.60  "
      ],
      "text/html": "<div>\n<style scoped>\n    .dataframe tbody tr th:only-of-type {\n        vertical-align: middle;\n    }\n\n    .dataframe tbody tr th {\n        vertical-align: top;\n    }\n\n    .dataframe thead th {\n        text-align: right;\n    }\n</style>\n<table border=\"1\" class=\"dataframe\">\n  <thead>\n    <tr style=\"text-align: right;\">\n      <th></th>\n      <th>country</th>\n      <th>demo2019</th>\n      <th>demo2018</th>\n      <th>demo2017</th>\n      <th>demo2016</th>\n      <th>demo2015</th>\n      <th>demo2014</th>\n      <th>demo2013</th>\n      <th>demo2012</th>\n      <th>demo2011</th>\n      <th>demo2010</th>\n      <th>demo2008</th>\n      <th>demo2006</th>\n    </tr>\n  </thead>\n  <tbody>\n    <tr>\n      <th>0</th>\n      <td>Canada</td>\n      <td>9.22</td>\n      <td>9.15</td>\n      <td>9.15</td>\n      <td>9.15</td>\n      <td>9.08</td>\n      <td>9.08</td>\n      <td>9.08</td>\n      <td>9.08</td>\n      <td>9.08</td>\n      <td>9.08</td>\n      <td>9.07</td>\n      <td>9.07</td>\n    </tr>\n    <tr>\n      <th>1</th>\n      <td>United States</td>\n      <td>7.96</td>\n      <td>7.96</td>\n      <td>7.98</td>\n      <td>7.98</td>\n      <td>8.05</td>\n      <td>8.11</td>\n      <td>8.11</td>\n      <td>8.11</td>\n      <td>8.11</td>\n      <td>8.18</td>\n      <td>8.22</td>\n      <td>8.22</td>\n    </tr>\n    <tr>\n      <th>2</th>\n      <td>Austria</td>\n      <td>8.29</td>\n      <td>8.29</td>\n      <td>8.42</td>\n      <td>8.41</td>\n      <td>8.54</td>\n      <td>8.54</td>\n      <td>8.48</td>\n      <td>8.62</td>\n      <td>8.49</td>\n      <td>8.49</td>\n      <td>8.49</td>\n      <td>8.69</td>\n    </tr>\n    <tr>\n      <th>3</th>\n      <td>Belgium</td>\n      <td>7.64</td>\n      <td>7.78</td>\n      <td>7.78</td>\n      <td>7.77</td>\n      <td>7.93</td>\n      <td>7.93</td>\n      <td>8.05</td>\n      <td>8.05</td>\n      <td>8.05</td>\n      <td>8.05</td>\n      <td>8.16</td>\n      <td>8.15</td>\n    </tr>\n    <tr>\n      <th>4</th>\n      <td>Cyprus</td>\n      <td>7.59</td>\n      <td>7.59</td>\n      <td>7.59</td>\n      <td>7.65</td>\n      <td>7.53</td>\n      <td>7.40</td>\n      <td>7.29</td>\n      <td>7.29</td>\n      <td>7.29</td>\n      <td>7.29</td>\n      <td>7.70</td>\n      <td>7.60</td>\n    </tr>\n  </tbody>\n</table>\n</div>"
     },
     "metadata": {},
     "execution_count": 3
    }
   ],
   "source": [
    "country_dict = {'US': 'United States',  'Bosnia and Hercegovina' : 'Bosnia Herzegovina', 'UK' : 'United Kingdom', 'UAE': 'United Arab Emirates' }\n",
    "democracy = democracy.replace({\"country\": country_dict})\n",
    "democracy = democracy.set_index('country').add_prefix('demo').reset_index()\n",
    "democracy.head()"
   ]
  },
  {
   "source": [
    "### read in Global Preference Survey (GPS) data and merge with  democracy index "
   ],
   "cell_type": "markdown",
   "metadata": {}
  },
  {
   "cell_type": "code",
   "execution_count": 4,
   "metadata": {},
   "outputs": [
    {
     "output_type": "execute_result",
     "data": {
      "text/plain": [
       "(76, 8)"
      ]
     },
     "metadata": {},
     "execution_count": 4
    }
   ],
   "source": [
    "gps = pd.read_stata('data/country.dta')\n",
    "gps.shape"
   ]
  },
  {
   "cell_type": "code",
   "execution_count": 5,
   "metadata": {},
   "outputs": [
    {
     "output_type": "execute_result",
     "data": {
      "text/plain": [
       "       country isocode  patience  risktaking  posrecip  negrecip  altruism  \\\n",
       "0  Afghanistan     AFG -0.201360    0.120764  0.289641  0.254712  0.166455   \n",
       "1      Algeria     DZA  0.059815    0.391530 -0.598255  0.254901 -0.009968   \n",
       "2    Argentina     ARG -0.229308    0.041503  0.159679 -0.140457  0.027347   \n",
       "3    Australia     AUS  0.657004    0.137137  0.069660  0.022190  0.155331   \n",
       "4      Austria     AUT  0.608285   -0.061829  0.161047 -0.055415 -0.035363   \n",
       "\n",
       "      trust  \n",
       "0  0.315964  \n",
       "1 -0.177371  \n",
       "2 -0.206733  \n",
       "3  0.298973  \n",
       "4  0.154628  "
      ],
      "text/html": "<div>\n<style scoped>\n    .dataframe tbody tr th:only-of-type {\n        vertical-align: middle;\n    }\n\n    .dataframe tbody tr th {\n        vertical-align: top;\n    }\n\n    .dataframe thead th {\n        text-align: right;\n    }\n</style>\n<table border=\"1\" class=\"dataframe\">\n  <thead>\n    <tr style=\"text-align: right;\">\n      <th></th>\n      <th>country</th>\n      <th>isocode</th>\n      <th>patience</th>\n      <th>risktaking</th>\n      <th>posrecip</th>\n      <th>negrecip</th>\n      <th>altruism</th>\n      <th>trust</th>\n    </tr>\n  </thead>\n  <tbody>\n    <tr>\n      <th>0</th>\n      <td>Afghanistan</td>\n      <td>AFG</td>\n      <td>-0.201360</td>\n      <td>0.120764</td>\n      <td>0.289641</td>\n      <td>0.254712</td>\n      <td>0.166455</td>\n      <td>0.315964</td>\n    </tr>\n    <tr>\n      <th>1</th>\n      <td>Algeria</td>\n      <td>DZA</td>\n      <td>0.059815</td>\n      <td>0.391530</td>\n      <td>-0.598255</td>\n      <td>0.254901</td>\n      <td>-0.009968</td>\n      <td>-0.177371</td>\n    </tr>\n    <tr>\n      <th>2</th>\n      <td>Argentina</td>\n      <td>ARG</td>\n      <td>-0.229308</td>\n      <td>0.041503</td>\n      <td>0.159679</td>\n      <td>-0.140457</td>\n      <td>0.027347</td>\n      <td>-0.206733</td>\n    </tr>\n    <tr>\n      <th>3</th>\n      <td>Australia</td>\n      <td>AUS</td>\n      <td>0.657004</td>\n      <td>0.137137</td>\n      <td>0.069660</td>\n      <td>0.022190</td>\n      <td>0.155331</td>\n      <td>0.298973</td>\n    </tr>\n    <tr>\n      <th>4</th>\n      <td>Austria</td>\n      <td>AUT</td>\n      <td>0.608285</td>\n      <td>-0.061829</td>\n      <td>0.161047</td>\n      <td>-0.055415</td>\n      <td>-0.035363</td>\n      <td>0.154628</td>\n    </tr>\n  </tbody>\n</table>\n</div>"
     },
     "metadata": {},
     "execution_count": 5
    }
   ],
   "source": [
    "gps.head()"
   ]
  },
  {
   "cell_type": "code",
   "execution_count": 6,
   "metadata": {},
   "outputs": [
    {
     "output_type": "execute_result",
     "data": {
      "text/plain": [
       "(76, 20)"
      ]
     },
     "metadata": {},
     "execution_count": 6
    }
   ],
   "source": [
    "gps_democracy = pd.merge(gps, democracy, how = 'left', on = 'country')\n",
    "gps_democracy.shape"
   ]
  },
  {
   "cell_type": "code",
   "execution_count": 7,
   "metadata": {},
   "outputs": [
    {
     "output_type": "execute_result",
     "data": {
      "text/plain": [
       "       country isocode  patience  risktaking  posrecip  negrecip  altruism  \\\n",
       "0  Afghanistan     AFG -0.201360    0.120764  0.289641  0.254712  0.166455   \n",
       "1      Algeria     DZA  0.059815    0.391530 -0.598255  0.254901 -0.009968   \n",
       "2    Argentina     ARG -0.229308    0.041503  0.159679 -0.140457  0.027347   \n",
       "3    Australia     AUS  0.657004    0.137137  0.069660  0.022190  0.155331   \n",
       "4      Austria     AUT  0.608285   -0.061829  0.161047 -0.055415 -0.035363   \n",
       "\n",
       "      trust  demo2019  demo2018  demo2017  demo2016  demo2015  demo2014  \\\n",
       "0  0.315964      2.85      2.97      2.55      2.55      2.77      2.77   \n",
       "1 -0.177371      4.01      3.50      3.56      3.56      3.95      3.83   \n",
       "2 -0.206733      7.02      7.02      6.96      6.96      7.02      6.84   \n",
       "3  0.298973      9.09      9.09      9.09      9.01      9.01      9.01   \n",
       "4  0.154628      8.29      8.29      8.42      8.41      8.54      8.54   \n",
       "\n",
       "   demo2013  demo2012  demo2011  demo2010  demo2008  demo2006  \n",
       "0      2.48      2.48      2.48      2.48      3.02      3.06  \n",
       "1      3.83      3.83      3.44      3.44      3.32      3.17  \n",
       "2      6.84      6.84      6.84      6.84      6.63      6.63  \n",
       "3      9.13      9.22      9.22      9.22      9.09      9.09  \n",
       "4      8.48      8.62      8.49      8.49      8.49      8.69  "
      ],
      "text/html": "<div>\n<style scoped>\n    .dataframe tbody tr th:only-of-type {\n        vertical-align: middle;\n    }\n\n    .dataframe tbody tr th {\n        vertical-align: top;\n    }\n\n    .dataframe thead th {\n        text-align: right;\n    }\n</style>\n<table border=\"1\" class=\"dataframe\">\n  <thead>\n    <tr style=\"text-align: right;\">\n      <th></th>\n      <th>country</th>\n      <th>isocode</th>\n      <th>patience</th>\n      <th>risktaking</th>\n      <th>posrecip</th>\n      <th>negrecip</th>\n      <th>altruism</th>\n      <th>trust</th>\n      <th>demo2019</th>\n      <th>demo2018</th>\n      <th>demo2017</th>\n      <th>demo2016</th>\n      <th>demo2015</th>\n      <th>demo2014</th>\n      <th>demo2013</th>\n      <th>demo2012</th>\n      <th>demo2011</th>\n      <th>demo2010</th>\n      <th>demo2008</th>\n      <th>demo2006</th>\n    </tr>\n  </thead>\n  <tbody>\n    <tr>\n      <th>0</th>\n      <td>Afghanistan</td>\n      <td>AFG</td>\n      <td>-0.201360</td>\n      <td>0.120764</td>\n      <td>0.289641</td>\n      <td>0.254712</td>\n      <td>0.166455</td>\n      <td>0.315964</td>\n      <td>2.85</td>\n      <td>2.97</td>\n      <td>2.55</td>\n      <td>2.55</td>\n      <td>2.77</td>\n      <td>2.77</td>\n      <td>2.48</td>\n      <td>2.48</td>\n      <td>2.48</td>\n      <td>2.48</td>\n      <td>3.02</td>\n      <td>3.06</td>\n    </tr>\n    <tr>\n      <th>1</th>\n      <td>Algeria</td>\n      <td>DZA</td>\n      <td>0.059815</td>\n      <td>0.391530</td>\n      <td>-0.598255</td>\n      <td>0.254901</td>\n      <td>-0.009968</td>\n      <td>-0.177371</td>\n      <td>4.01</td>\n      <td>3.50</td>\n      <td>3.56</td>\n      <td>3.56</td>\n      <td>3.95</td>\n      <td>3.83</td>\n      <td>3.83</td>\n      <td>3.83</td>\n      <td>3.44</td>\n      <td>3.44</td>\n      <td>3.32</td>\n      <td>3.17</td>\n    </tr>\n    <tr>\n      <th>2</th>\n      <td>Argentina</td>\n      <td>ARG</td>\n      <td>-0.229308</td>\n      <td>0.041503</td>\n      <td>0.159679</td>\n      <td>-0.140457</td>\n      <td>0.027347</td>\n      <td>-0.206733</td>\n      <td>7.02</td>\n      <td>7.02</td>\n      <td>6.96</td>\n      <td>6.96</td>\n      <td>7.02</td>\n      <td>6.84</td>\n      <td>6.84</td>\n      <td>6.84</td>\n      <td>6.84</td>\n      <td>6.84</td>\n      <td>6.63</td>\n      <td>6.63</td>\n    </tr>\n    <tr>\n      <th>3</th>\n      <td>Australia</td>\n      <td>AUS</td>\n      <td>0.657004</td>\n      <td>0.137137</td>\n      <td>0.069660</td>\n      <td>0.022190</td>\n      <td>0.155331</td>\n      <td>0.298973</td>\n      <td>9.09</td>\n      <td>9.09</td>\n      <td>9.09</td>\n      <td>9.01</td>\n      <td>9.01</td>\n      <td>9.01</td>\n      <td>9.13</td>\n      <td>9.22</td>\n      <td>9.22</td>\n      <td>9.22</td>\n      <td>9.09</td>\n      <td>9.09</td>\n    </tr>\n    <tr>\n      <th>4</th>\n      <td>Austria</td>\n      <td>AUT</td>\n      <td>0.608285</td>\n      <td>-0.061829</td>\n      <td>0.161047</td>\n      <td>-0.055415</td>\n      <td>-0.035363</td>\n      <td>0.154628</td>\n      <td>8.29</td>\n      <td>8.29</td>\n      <td>8.42</td>\n      <td>8.41</td>\n      <td>8.54</td>\n      <td>8.54</td>\n      <td>8.48</td>\n      <td>8.62</td>\n      <td>8.49</td>\n      <td>8.49</td>\n      <td>8.49</td>\n      <td>8.69</td>\n    </tr>\n  </tbody>\n</table>\n</div>"
     },
     "metadata": {},
     "execution_count": 7
    }
   ],
   "source": [
    "# gps_democracy[gps_democracy.isna().any(axis=1)]\n",
    "gps_democracy.head()"
   ]
  },
  {
   "source": [
    "### read in UN Humanitarian Affairs Financial Tracking Service data by year and rename columns for merging\n",
    "### notice Bosnia does not get matched"
   ],
   "cell_type": "markdown",
   "metadata": {}
  },
  {
   "cell_type": "code",
   "execution_count": 8,
   "metadata": {},
   "outputs": [],
   "source": [
    "file_name = 'data/OCHA_FTS_Government_Donations_20'\n",
    "extension = '.xlsx'\n",
    "all_filenames = [i for i in glob.glob(f'{file_name}*{extension}')]"
   ]
  },
  {
   "cell_type": "code",
   "execution_count": 9,
   "metadata": {},
   "outputs": [],
   "source": [
    "for i in range(len(all_filenames)):\n",
    "    new = pd.read_excel(all_filenames[i], sheet_name='Export data', skiprows=2).rename(columns={\"Source org.\": \"country\", \"Funding US$\": \"funding\", \"Pledges US$\" : \"pledge\"})\n",
    "    if i == 0:\n",
    "        df = new\n",
    "    elif i < 7:\n",
    "        df = pd.merge(df, new, how='outer', on=\"country\", suffixes=('', f'200{i+3}'))       \n",
    "    else:\n",
    "        df = pd.merge(df, new, how='outer', on=\"country\", suffixes=('', f'20{i+3}'))\n",
    "\n",
    "donate = df.rename(columns={\"pledge\": \"pledge2003\", \"funding\": \"funding2003\"}).replace({0: np.nan})\n",
    "donate['country'] = donate['country'].str.rstrip(' Government of')\n",
    "donate['country'] = donate['country'].str.rstrip(',')\n"
   ]
  },
  {
   "cell_type": "code",
   "execution_count": 10,
   "metadata": {},
   "outputs": [],
   "source": [
    "#checking 2006 & 2020 manually \n",
    "country_dict = {'United States of America': 'United States',  'Saudi Arabia (Kingdom of)' : 'Saudi Arabia', 'Russian Federation' : 'Russia', 'Korea, Republic of': 'South Korea', 'Viet Nam' : 'Vietnam'}\n",
    "donate = donate.replace({\"country\": country_dict})"
   ]
  },
  {
   "cell_type": "code",
   "execution_count": 11,
   "metadata": {},
   "outputs": [
    {
     "output_type": "execute_result",
     "data": {
      "text/plain": [
       "(76, 56)"
      ]
     },
     "metadata": {},
     "execution_count": 11
    }
   ],
   "source": [
    "gps_demo_donate = pd.merge(gps_democracy, donate,  how = 'left', on = 'country')\n",
    "gps_demo_donate.shape"
   ]
  },
  {
   "cell_type": "code",
   "execution_count": 12,
   "metadata": {},
   "outputs": [
    {
     "output_type": "execute_result",
     "data": {
      "text/plain": [
       "       country isocode  patience  risktaking  posrecip  negrecip  altruism  \\\n",
       "0  Afghanistan     AFG -0.201360    0.120764  0.289641  0.254712  0.166455   \n",
       "1      Algeria     DZA  0.059815    0.391530 -0.598255  0.254901 -0.009968   \n",
       "2    Argentina     ARG -0.229308    0.041503  0.159679 -0.140457  0.027347   \n",
       "3    Australia     AUS  0.657004    0.137137  0.069660  0.022190  0.155331   \n",
       "4      Austria     AUT  0.608285   -0.061829  0.161047 -0.055415 -0.035363   \n",
       "\n",
       "      trust  demo2019  demo2018  demo2017  demo2016  demo2015  demo2014  \\\n",
       "0  0.315964      2.85      2.97      2.55      2.55      2.77      2.77   \n",
       "1 -0.177371      4.01      3.50      3.56      3.56      3.95      3.83   \n",
       "2 -0.206733      7.02      7.02      6.96      6.96      7.02      6.84   \n",
       "3  0.298973      9.09      9.09      9.09      9.01      9.01      9.01   \n",
       "4  0.154628      8.29      8.29      8.42      8.41      8.54      8.54   \n",
       "\n",
       "   demo2013  demo2012  demo2011  demo2010  demo2008  demo2006  funding2003  \\\n",
       "0      2.48      2.48      2.48      2.48      3.02      3.06          NaN   \n",
       "1      3.83      3.83      3.44      3.44      3.32      3.17    3178000.0   \n",
       "2      6.84      6.84      6.84      6.84      6.63      6.63          NaN   \n",
       "3      9.13      9.22      9.22      9.22      9.09      9.09   87736725.0   \n",
       "4      8.48      8.62      8.49      8.49      8.49      8.69    3245126.0   \n",
       "\n",
       "   pledge2003  funding2004  pledge2004  funding2005  pledge2005  funding2006  \\\n",
       "0         NaN          NaN         NaN     500000.0         NaN          NaN   \n",
       "1         NaN          NaN         NaN   14769749.0         NaN          NaN   \n",
       "2         NaN          NaN         NaN          NaN         NaN          NaN   \n",
       "3         NaN   69076907.0         NaN   85073844.0  29859474.0   89757369.0   \n",
       "4         NaN    6186042.0         NaN   18423937.0         NaN    5624017.0   \n",
       "\n",
       "   pledge2006  funding2007  pledge2007  funding2008  pledge2008  funding2009  \\\n",
       "0         NaN          NaN         NaN   24000000.0         NaN     136493.0   \n",
       "1         NaN      10000.0         NaN      10000.0         NaN      76432.0   \n",
       "2         NaN          NaN         NaN     139000.0         NaN      31100.0   \n",
       "3   2262517.0  109371739.0   3817867.0  143674846.0  39494954.0  196311166.0   \n",
       "4    765306.0    7885069.0         NaN   15280397.0   1017509.0   16939495.0   \n",
       "\n",
       "   pledge2009  funding2010  pledge2010  funding2011  pledge2011  funding2012  \\\n",
       "0         NaN    2379910.0         NaN       3360.0         NaN       3000.0   \n",
       "1         NaN   10110696.0         NaN   16010000.0   7000000.0          NaN   \n",
       "2         NaN      50000.0         NaN     107332.0         NaN     130826.0   \n",
       "3   8733624.0  293856560.0   1923773.0  312711049.0         NaN  271004092.0   \n",
       "4    348675.0   25973202.0         NaN   18074363.0    500409.0   16333100.0   \n",
       "\n",
       "   pledge2012  funding2013  pledge2013  funding2014  pledge2014  funding2015  \\\n",
       "0         NaN       2000.0         NaN          NaN         NaN       1000.0   \n",
       "1         NaN    2000000.0         NaN      10000.0         NaN          NaN   \n",
       "2         NaN     165718.0         NaN     230500.0         NaN          NaN   \n",
       "3   2809573.0  263194483.0         NaN  269253261.0         NaN  166236181.0   \n",
       "4         NaN   17699567.0         NaN   18504048.0         NaN   18786627.0   \n",
       "\n",
       "   pledge2015  funding2016  pledge2016  funding2017  pledge2017  funding2018  \\\n",
       "0         NaN          NaN         NaN          NaN         NaN    3870542.0   \n",
       "1         NaN     660000.0         NaN      10000.0         NaN      10000.0   \n",
       "2         NaN     176272.0         NaN    1344591.0         NaN     265000.0   \n",
       "3    762236.0  205207886.0   2724017.0  243900706.0   2712522.0  248119692.0   \n",
       "4         NaN   35663228.0         NaN   49109105.0         NaN   26096928.0   \n",
       "\n",
       "   pledge2018  funding2019  pledge2019  funding2020  pledge2020  \n",
       "0         NaN     903177.0         NaN          NaN         NaN  \n",
       "1         NaN          NaN         NaN          NaN         NaN  \n",
       "2         NaN     155000.0         NaN          NaN         NaN  \n",
       "3         NaN  310639840.0         NaN  271692972.0         NaN  \n",
       "4   6670328.0   32476153.0   1540154.0   19142494.0         NaN  "
      ],
      "text/html": "<div>\n<style scoped>\n    .dataframe tbody tr th:only-of-type {\n        vertical-align: middle;\n    }\n\n    .dataframe tbody tr th {\n        vertical-align: top;\n    }\n\n    .dataframe thead th {\n        text-align: right;\n    }\n</style>\n<table border=\"1\" class=\"dataframe\">\n  <thead>\n    <tr style=\"text-align: right;\">\n      <th></th>\n      <th>country</th>\n      <th>isocode</th>\n      <th>patience</th>\n      <th>risktaking</th>\n      <th>posrecip</th>\n      <th>negrecip</th>\n      <th>altruism</th>\n      <th>trust</th>\n      <th>demo2019</th>\n      <th>demo2018</th>\n      <th>demo2017</th>\n      <th>demo2016</th>\n      <th>demo2015</th>\n      <th>demo2014</th>\n      <th>demo2013</th>\n      <th>demo2012</th>\n      <th>demo2011</th>\n      <th>demo2010</th>\n      <th>demo2008</th>\n      <th>demo2006</th>\n      <th>funding2003</th>\n      <th>pledge2003</th>\n      <th>funding2004</th>\n      <th>pledge2004</th>\n      <th>funding2005</th>\n      <th>pledge2005</th>\n      <th>funding2006</th>\n      <th>pledge2006</th>\n      <th>funding2007</th>\n      <th>pledge2007</th>\n      <th>funding2008</th>\n      <th>pledge2008</th>\n      <th>funding2009</th>\n      <th>pledge2009</th>\n      <th>funding2010</th>\n      <th>pledge2010</th>\n      <th>funding2011</th>\n      <th>pledge2011</th>\n      <th>funding2012</th>\n      <th>pledge2012</th>\n      <th>funding2013</th>\n      <th>pledge2013</th>\n      <th>funding2014</th>\n      <th>pledge2014</th>\n      <th>funding2015</th>\n      <th>pledge2015</th>\n      <th>funding2016</th>\n      <th>pledge2016</th>\n      <th>funding2017</th>\n      <th>pledge2017</th>\n      <th>funding2018</th>\n      <th>pledge2018</th>\n      <th>funding2019</th>\n      <th>pledge2019</th>\n      <th>funding2020</th>\n      <th>pledge2020</th>\n    </tr>\n  </thead>\n  <tbody>\n    <tr>\n      <th>0</th>\n      <td>Afghanistan</td>\n      <td>AFG</td>\n      <td>-0.201360</td>\n      <td>0.120764</td>\n      <td>0.289641</td>\n      <td>0.254712</td>\n      <td>0.166455</td>\n      <td>0.315964</td>\n      <td>2.85</td>\n      <td>2.97</td>\n      <td>2.55</td>\n      <td>2.55</td>\n      <td>2.77</td>\n      <td>2.77</td>\n      <td>2.48</td>\n      <td>2.48</td>\n      <td>2.48</td>\n      <td>2.48</td>\n      <td>3.02</td>\n      <td>3.06</td>\n      <td>NaN</td>\n      <td>NaN</td>\n      <td>NaN</td>\n      <td>NaN</td>\n      <td>500000.0</td>\n      <td>NaN</td>\n      <td>NaN</td>\n      <td>NaN</td>\n      <td>NaN</td>\n      <td>NaN</td>\n      <td>24000000.0</td>\n      <td>NaN</td>\n      <td>136493.0</td>\n      <td>NaN</td>\n      <td>2379910.0</td>\n      <td>NaN</td>\n      <td>3360.0</td>\n      <td>NaN</td>\n      <td>3000.0</td>\n      <td>NaN</td>\n      <td>2000.0</td>\n      <td>NaN</td>\n      <td>NaN</td>\n      <td>NaN</td>\n      <td>1000.0</td>\n      <td>NaN</td>\n      <td>NaN</td>\n      <td>NaN</td>\n      <td>NaN</td>\n      <td>NaN</td>\n      <td>3870542.0</td>\n      <td>NaN</td>\n      <td>903177.0</td>\n      <td>NaN</td>\n      <td>NaN</td>\n      <td>NaN</td>\n    </tr>\n    <tr>\n      <th>1</th>\n      <td>Algeria</td>\n      <td>DZA</td>\n      <td>0.059815</td>\n      <td>0.391530</td>\n      <td>-0.598255</td>\n      <td>0.254901</td>\n      <td>-0.009968</td>\n      <td>-0.177371</td>\n      <td>4.01</td>\n      <td>3.50</td>\n      <td>3.56</td>\n      <td>3.56</td>\n      <td>3.95</td>\n      <td>3.83</td>\n      <td>3.83</td>\n      <td>3.83</td>\n      <td>3.44</td>\n      <td>3.44</td>\n      <td>3.32</td>\n      <td>3.17</td>\n      <td>3178000.0</td>\n      <td>NaN</td>\n      <td>NaN</td>\n      <td>NaN</td>\n      <td>14769749.0</td>\n      <td>NaN</td>\n      <td>NaN</td>\n      <td>NaN</td>\n      <td>10000.0</td>\n      <td>NaN</td>\n      <td>10000.0</td>\n      <td>NaN</td>\n      <td>76432.0</td>\n      <td>NaN</td>\n      <td>10110696.0</td>\n      <td>NaN</td>\n      <td>16010000.0</td>\n      <td>7000000.0</td>\n      <td>NaN</td>\n      <td>NaN</td>\n      <td>2000000.0</td>\n      <td>NaN</td>\n      <td>10000.0</td>\n      <td>NaN</td>\n      <td>NaN</td>\n      <td>NaN</td>\n      <td>660000.0</td>\n      <td>NaN</td>\n      <td>10000.0</td>\n      <td>NaN</td>\n      <td>10000.0</td>\n      <td>NaN</td>\n      <td>NaN</td>\n      <td>NaN</td>\n      <td>NaN</td>\n      <td>NaN</td>\n    </tr>\n    <tr>\n      <th>2</th>\n      <td>Argentina</td>\n      <td>ARG</td>\n      <td>-0.229308</td>\n      <td>0.041503</td>\n      <td>0.159679</td>\n      <td>-0.140457</td>\n      <td>0.027347</td>\n      <td>-0.206733</td>\n      <td>7.02</td>\n      <td>7.02</td>\n      <td>6.96</td>\n      <td>6.96</td>\n      <td>7.02</td>\n      <td>6.84</td>\n      <td>6.84</td>\n      <td>6.84</td>\n      <td>6.84</td>\n      <td>6.84</td>\n      <td>6.63</td>\n      <td>6.63</td>\n      <td>NaN</td>\n      <td>NaN</td>\n      <td>NaN</td>\n      <td>NaN</td>\n      <td>NaN</td>\n      <td>NaN</td>\n      <td>NaN</td>\n      <td>NaN</td>\n      <td>NaN</td>\n      <td>NaN</td>\n      <td>139000.0</td>\n      <td>NaN</td>\n      <td>31100.0</td>\n      <td>NaN</td>\n      <td>50000.0</td>\n      <td>NaN</td>\n      <td>107332.0</td>\n      <td>NaN</td>\n      <td>130826.0</td>\n      <td>NaN</td>\n      <td>165718.0</td>\n      <td>NaN</td>\n      <td>230500.0</td>\n      <td>NaN</td>\n      <td>NaN</td>\n      <td>NaN</td>\n      <td>176272.0</td>\n      <td>NaN</td>\n      <td>1344591.0</td>\n      <td>NaN</td>\n      <td>265000.0</td>\n      <td>NaN</td>\n      <td>155000.0</td>\n      <td>NaN</td>\n      <td>NaN</td>\n      <td>NaN</td>\n    </tr>\n    <tr>\n      <th>3</th>\n      <td>Australia</td>\n      <td>AUS</td>\n      <td>0.657004</td>\n      <td>0.137137</td>\n      <td>0.069660</td>\n      <td>0.022190</td>\n      <td>0.155331</td>\n      <td>0.298973</td>\n      <td>9.09</td>\n      <td>9.09</td>\n      <td>9.09</td>\n      <td>9.01</td>\n      <td>9.01</td>\n      <td>9.01</td>\n      <td>9.13</td>\n      <td>9.22</td>\n      <td>9.22</td>\n      <td>9.22</td>\n      <td>9.09</td>\n      <td>9.09</td>\n      <td>87736725.0</td>\n      <td>NaN</td>\n      <td>69076907.0</td>\n      <td>NaN</td>\n      <td>85073844.0</td>\n      <td>29859474.0</td>\n      <td>89757369.0</td>\n      <td>2262517.0</td>\n      <td>109371739.0</td>\n      <td>3817867.0</td>\n      <td>143674846.0</td>\n      <td>39494954.0</td>\n      <td>196311166.0</td>\n      <td>8733624.0</td>\n      <td>293856560.0</td>\n      <td>1923773.0</td>\n      <td>312711049.0</td>\n      <td>NaN</td>\n      <td>271004092.0</td>\n      <td>2809573.0</td>\n      <td>263194483.0</td>\n      <td>NaN</td>\n      <td>269253261.0</td>\n      <td>NaN</td>\n      <td>166236181.0</td>\n      <td>762236.0</td>\n      <td>205207886.0</td>\n      <td>2724017.0</td>\n      <td>243900706.0</td>\n      <td>2712522.0</td>\n      <td>248119692.0</td>\n      <td>NaN</td>\n      <td>310639840.0</td>\n      <td>NaN</td>\n      <td>271692972.0</td>\n      <td>NaN</td>\n    </tr>\n    <tr>\n      <th>4</th>\n      <td>Austria</td>\n      <td>AUT</td>\n      <td>0.608285</td>\n      <td>-0.061829</td>\n      <td>0.161047</td>\n      <td>-0.055415</td>\n      <td>-0.035363</td>\n      <td>0.154628</td>\n      <td>8.29</td>\n      <td>8.29</td>\n      <td>8.42</td>\n      <td>8.41</td>\n      <td>8.54</td>\n      <td>8.54</td>\n      <td>8.48</td>\n      <td>8.62</td>\n      <td>8.49</td>\n      <td>8.49</td>\n      <td>8.49</td>\n      <td>8.69</td>\n      <td>3245126.0</td>\n      <td>NaN</td>\n      <td>6186042.0</td>\n      <td>NaN</td>\n      <td>18423937.0</td>\n      <td>NaN</td>\n      <td>5624017.0</td>\n      <td>765306.0</td>\n      <td>7885069.0</td>\n      <td>NaN</td>\n      <td>15280397.0</td>\n      <td>1017509.0</td>\n      <td>16939495.0</td>\n      <td>348675.0</td>\n      <td>25973202.0</td>\n      <td>NaN</td>\n      <td>18074363.0</td>\n      <td>500409.0</td>\n      <td>16333100.0</td>\n      <td>NaN</td>\n      <td>17699567.0</td>\n      <td>NaN</td>\n      <td>18504048.0</td>\n      <td>NaN</td>\n      <td>18786627.0</td>\n      <td>NaN</td>\n      <td>35663228.0</td>\n      <td>NaN</td>\n      <td>49109105.0</td>\n      <td>NaN</td>\n      <td>26096928.0</td>\n      <td>6670328.0</td>\n      <td>32476153.0</td>\n      <td>1540154.0</td>\n      <td>19142494.0</td>\n      <td>NaN</td>\n    </tr>\n  </tbody>\n</table>\n</div>"
     },
     "metadata": {},
     "execution_count": 12
    }
   ],
   "source": [
    "gps_demo_donate.head()"
   ]
  },
  {
   "cell_type": "code",
   "execution_count": 13,
   "metadata": {},
   "outputs": [
    {
     "output_type": "execute_result",
     "data": {
      "text/plain": [
       "              country isocode  patience  risktaking  posrecip  negrecip  \\\n",
       "7  Bosnia Herzegovina     BIH -0.247258   -0.125639  0.096463  0.429355   \n",
       "\n",
       "   altruism     trust  demo2019  demo2018  demo2017  demo2016  demo2015  \\\n",
       "7  -0.11531 -0.193106      4.86      4.98      4.87      4.87      4.83   \n",
       "\n",
       "   demo2014  demo2013  demo2012  demo2011  demo2010  demo2008  demo2006  \\\n",
       "7      4.78      5.02      5.11      5.24      5.32       5.7      5.78   \n",
       "\n",
       "   funding2003  pledge2003  funding2004  pledge2004  funding2005  pledge2005  \\\n",
       "7          NaN         NaN          NaN         NaN          NaN         NaN   \n",
       "\n",
       "   funding2006  pledge2006  funding2007  pledge2007  funding2008  pledge2008  \\\n",
       "7          NaN         NaN          NaN         NaN          NaN         NaN   \n",
       "\n",
       "   funding2009  pledge2009  funding2010  pledge2010  funding2011  pledge2011  \\\n",
       "7          NaN         NaN          NaN         NaN          NaN         NaN   \n",
       "\n",
       "   funding2012  pledge2012  funding2013  pledge2013  funding2014  pledge2014  \\\n",
       "7          NaN         NaN          NaN         NaN          NaN         NaN   \n",
       "\n",
       "   funding2015  pledge2015  funding2016  pledge2016  funding2017  pledge2017  \\\n",
       "7          NaN         NaN          NaN         NaN          NaN         NaN   \n",
       "\n",
       "   funding2018  pledge2018  funding2019  pledge2019  funding2020  pledge2020  \n",
       "7          NaN         NaN          NaN         NaN          NaN         NaN  "
      ],
      "text/html": "<div>\n<style scoped>\n    .dataframe tbody tr th:only-of-type {\n        vertical-align: middle;\n    }\n\n    .dataframe tbody tr th {\n        vertical-align: top;\n    }\n\n    .dataframe thead th {\n        text-align: right;\n    }\n</style>\n<table border=\"1\" class=\"dataframe\">\n  <thead>\n    <tr style=\"text-align: right;\">\n      <th></th>\n      <th>country</th>\n      <th>isocode</th>\n      <th>patience</th>\n      <th>risktaking</th>\n      <th>posrecip</th>\n      <th>negrecip</th>\n      <th>altruism</th>\n      <th>trust</th>\n      <th>demo2019</th>\n      <th>demo2018</th>\n      <th>demo2017</th>\n      <th>demo2016</th>\n      <th>demo2015</th>\n      <th>demo2014</th>\n      <th>demo2013</th>\n      <th>demo2012</th>\n      <th>demo2011</th>\n      <th>demo2010</th>\n      <th>demo2008</th>\n      <th>demo2006</th>\n      <th>funding2003</th>\n      <th>pledge2003</th>\n      <th>funding2004</th>\n      <th>pledge2004</th>\n      <th>funding2005</th>\n      <th>pledge2005</th>\n      <th>funding2006</th>\n      <th>pledge2006</th>\n      <th>funding2007</th>\n      <th>pledge2007</th>\n      <th>funding2008</th>\n      <th>pledge2008</th>\n      <th>funding2009</th>\n      <th>pledge2009</th>\n      <th>funding2010</th>\n      <th>pledge2010</th>\n      <th>funding2011</th>\n      <th>pledge2011</th>\n      <th>funding2012</th>\n      <th>pledge2012</th>\n      <th>funding2013</th>\n      <th>pledge2013</th>\n      <th>funding2014</th>\n      <th>pledge2014</th>\n      <th>funding2015</th>\n      <th>pledge2015</th>\n      <th>funding2016</th>\n      <th>pledge2016</th>\n      <th>funding2017</th>\n      <th>pledge2017</th>\n      <th>funding2018</th>\n      <th>pledge2018</th>\n      <th>funding2019</th>\n      <th>pledge2019</th>\n      <th>funding2020</th>\n      <th>pledge2020</th>\n    </tr>\n  </thead>\n  <tbody>\n    <tr>\n      <th>7</th>\n      <td>Bosnia Herzegovina</td>\n      <td>BIH</td>\n      <td>-0.247258</td>\n      <td>-0.125639</td>\n      <td>0.096463</td>\n      <td>0.429355</td>\n      <td>-0.11531</td>\n      <td>-0.193106</td>\n      <td>4.86</td>\n      <td>4.98</td>\n      <td>4.87</td>\n      <td>4.87</td>\n      <td>4.83</td>\n      <td>4.78</td>\n      <td>5.02</td>\n      <td>5.11</td>\n      <td>5.24</td>\n      <td>5.32</td>\n      <td>5.7</td>\n      <td>5.78</td>\n      <td>NaN</td>\n      <td>NaN</td>\n      <td>NaN</td>\n      <td>NaN</td>\n      <td>NaN</td>\n      <td>NaN</td>\n      <td>NaN</td>\n      <td>NaN</td>\n      <td>NaN</td>\n      <td>NaN</td>\n      <td>NaN</td>\n      <td>NaN</td>\n      <td>NaN</td>\n      <td>NaN</td>\n      <td>NaN</td>\n      <td>NaN</td>\n      <td>NaN</td>\n      <td>NaN</td>\n      <td>NaN</td>\n      <td>NaN</td>\n      <td>NaN</td>\n      <td>NaN</td>\n      <td>NaN</td>\n      <td>NaN</td>\n      <td>NaN</td>\n      <td>NaN</td>\n      <td>NaN</td>\n      <td>NaN</td>\n      <td>NaN</td>\n      <td>NaN</td>\n      <td>NaN</td>\n      <td>NaN</td>\n      <td>NaN</td>\n      <td>NaN</td>\n      <td>NaN</td>\n      <td>NaN</td>\n    </tr>\n  </tbody>\n</table>\n</div>"
     },
     "metadata": {},
     "execution_count": 13
    }
   ],
   "source": [
    "gps_demo_donate[gps_demo_donate.filter(regex='(funding|pledge)20*', axis=1).isna().all(axis=1)]"
   ]
  },
  {
   "source": [
    "### read in GDP in current US dollar data from WDI and merge with previous data frame"
   ],
   "cell_type": "markdown",
   "metadata": {}
  },
  {
   "cell_type": "code",
   "execution_count": 14,
   "metadata": {},
   "outputs": [
    {
     "output_type": "execute_result",
     "data": {
      "text/plain": [
       "              gdp2003       gdp2004       gdp2005       gdp2006       gdp2007  \\\n",
       "isocode                                                                         \n",
       "ABW      2.021229e+09  2.228492e+09  2.330726e+09  2.424581e+09  2.615084e+09   \n",
       "AFG      4.515559e+09  5.226779e+09  6.209138e+09  6.971286e+09  9.747880e+09   \n",
       "AGO      1.781271e+10  2.355205e+10  3.697092e+10  5.238101e+10  6.526645e+10   \n",
       "ALB      5.611492e+09  7.184681e+09  8.052076e+09  8.896074e+09  1.067732e+10   \n",
       "AND      2.361727e+09  2.894922e+09  3.159905e+09  3.456442e+09  3.952601e+09   \n",
       "\n",
       "              gdp2008       gdp2009       gdp2010       gdp2011       gdp2012  \\\n",
       "isocode                                                                         \n",
       "ABW      2.745251e+09  2.498883e+09  2.390503e+09  2.549721e+09  2.534637e+09   \n",
       "AFG      1.010923e+10  1.243909e+10  1.585657e+10  1.780429e+10  2.000160e+10   \n",
       "AGO      8.853861e+10  7.030716e+10  8.379950e+10  1.117897e+11  1.280529e+11   \n",
       "ALB      1.288135e+10  1.204422e+10  1.192693e+10  1.289077e+10  1.231983e+10   \n",
       "AND      4.085631e+09  3.674410e+09  3.449967e+09  3.629204e+09  3.188809e+09   \n",
       "\n",
       "              gdp2013       gdp2014       gdp2015       gdp2016       gdp2017  \\\n",
       "isocode                                                                         \n",
       "ABW      2.701676e+09  2.765363e+09  2.919553e+09  2.965922e+09  3.056425e+09   \n",
       "AFG      2.056107e+10  2.048489e+10  1.990711e+10  1.936264e+10  2.019176e+10   \n",
       "AGO      1.367099e+11  1.457122e+11  1.161936e+11  1.011239e+11  1.221238e+11   \n",
       "ALB      1.277622e+10  1.322814e+10  1.138685e+10  1.186120e+10  1.301969e+10   \n",
       "AND      3.193704e+09  3.271808e+09  2.789870e+09  2.896679e+09  3.000181e+09   \n",
       "\n",
       "              gdp2018       gdp2019  \n",
       "isocode                              \n",
       "ABW               NaN           NaN  \n",
       "AFG      1.948438e+10  1.910135e+10  \n",
       "AGO      1.013532e+11  9.463542e+10  \n",
       "ALB      1.514702e+10  1.527808e+10  \n",
       "AND      3.218316e+09  3.154058e+09  "
      ],
      "text/html": "<div>\n<style scoped>\n    .dataframe tbody tr th:only-of-type {\n        vertical-align: middle;\n    }\n\n    .dataframe tbody tr th {\n        vertical-align: top;\n    }\n\n    .dataframe thead th {\n        text-align: right;\n    }\n</style>\n<table border=\"1\" class=\"dataframe\">\n  <thead>\n    <tr style=\"text-align: right;\">\n      <th></th>\n      <th>gdp2003</th>\n      <th>gdp2004</th>\n      <th>gdp2005</th>\n      <th>gdp2006</th>\n      <th>gdp2007</th>\n      <th>gdp2008</th>\n      <th>gdp2009</th>\n      <th>gdp2010</th>\n      <th>gdp2011</th>\n      <th>gdp2012</th>\n      <th>gdp2013</th>\n      <th>gdp2014</th>\n      <th>gdp2015</th>\n      <th>gdp2016</th>\n      <th>gdp2017</th>\n      <th>gdp2018</th>\n      <th>gdp2019</th>\n    </tr>\n    <tr>\n      <th>isocode</th>\n      <th></th>\n      <th></th>\n      <th></th>\n      <th></th>\n      <th></th>\n      <th></th>\n      <th></th>\n      <th></th>\n      <th></th>\n      <th></th>\n      <th></th>\n      <th></th>\n      <th></th>\n      <th></th>\n      <th></th>\n      <th></th>\n      <th></th>\n    </tr>\n  </thead>\n  <tbody>\n    <tr>\n      <th>ABW</th>\n      <td>2.021229e+09</td>\n      <td>2.228492e+09</td>\n      <td>2.330726e+09</td>\n      <td>2.424581e+09</td>\n      <td>2.615084e+09</td>\n      <td>2.745251e+09</td>\n      <td>2.498883e+09</td>\n      <td>2.390503e+09</td>\n      <td>2.549721e+09</td>\n      <td>2.534637e+09</td>\n      <td>2.701676e+09</td>\n      <td>2.765363e+09</td>\n      <td>2.919553e+09</td>\n      <td>2.965922e+09</td>\n      <td>3.056425e+09</td>\n      <td>NaN</td>\n      <td>NaN</td>\n    </tr>\n    <tr>\n      <th>AFG</th>\n      <td>4.515559e+09</td>\n      <td>5.226779e+09</td>\n      <td>6.209138e+09</td>\n      <td>6.971286e+09</td>\n      <td>9.747880e+09</td>\n      <td>1.010923e+10</td>\n      <td>1.243909e+10</td>\n      <td>1.585657e+10</td>\n      <td>1.780429e+10</td>\n      <td>2.000160e+10</td>\n      <td>2.056107e+10</td>\n      <td>2.048489e+10</td>\n      <td>1.990711e+10</td>\n      <td>1.936264e+10</td>\n      <td>2.019176e+10</td>\n      <td>1.948438e+10</td>\n      <td>1.910135e+10</td>\n    </tr>\n    <tr>\n      <th>AGO</th>\n      <td>1.781271e+10</td>\n      <td>2.355205e+10</td>\n      <td>3.697092e+10</td>\n      <td>5.238101e+10</td>\n      <td>6.526645e+10</td>\n      <td>8.853861e+10</td>\n      <td>7.030716e+10</td>\n      <td>8.379950e+10</td>\n      <td>1.117897e+11</td>\n      <td>1.280529e+11</td>\n      <td>1.367099e+11</td>\n      <td>1.457122e+11</td>\n      <td>1.161936e+11</td>\n      <td>1.011239e+11</td>\n      <td>1.221238e+11</td>\n      <td>1.013532e+11</td>\n      <td>9.463542e+10</td>\n    </tr>\n    <tr>\n      <th>ALB</th>\n      <td>5.611492e+09</td>\n      <td>7.184681e+09</td>\n      <td>8.052076e+09</td>\n      <td>8.896074e+09</td>\n      <td>1.067732e+10</td>\n      <td>1.288135e+10</td>\n      <td>1.204422e+10</td>\n      <td>1.192693e+10</td>\n      <td>1.289077e+10</td>\n      <td>1.231983e+10</td>\n      <td>1.277622e+10</td>\n      <td>1.322814e+10</td>\n      <td>1.138685e+10</td>\n      <td>1.186120e+10</td>\n      <td>1.301969e+10</td>\n      <td>1.514702e+10</td>\n      <td>1.527808e+10</td>\n    </tr>\n    <tr>\n      <th>AND</th>\n      <td>2.361727e+09</td>\n      <td>2.894922e+09</td>\n      <td>3.159905e+09</td>\n      <td>3.456442e+09</td>\n      <td>3.952601e+09</td>\n      <td>4.085631e+09</td>\n      <td>3.674410e+09</td>\n      <td>3.449967e+09</td>\n      <td>3.629204e+09</td>\n      <td>3.188809e+09</td>\n      <td>3.193704e+09</td>\n      <td>3.271808e+09</td>\n      <td>2.789870e+09</td>\n      <td>2.896679e+09</td>\n      <td>3.000181e+09</td>\n      <td>3.218316e+09</td>\n      <td>3.154058e+09</td>\n    </tr>\n  </tbody>\n</table>\n</div>"
     },
     "metadata": {},
     "execution_count": 14
    }
   ],
   "source": [
    "gdp = pd.read_excel('data/GDP_by_country_by_year.xls', sheet_name='Data', skiprows=3).rename(columns={\"Country Code\": \"isocode\"}).set_index('isocode')\n",
    "gdp = gdp.iloc[:,-18 : -1]\n",
    "gdp = gdp.add_prefix('gdp')\n",
    "gdp.reset_index()\n",
    "gdp.head()\n"
   ]
  },
  {
   "cell_type": "code",
   "execution_count": 15,
   "metadata": {},
   "outputs": [
    {
     "output_type": "execute_result",
     "data": {
      "text/plain": [
       "(76, 73)"
      ]
     },
     "metadata": {},
     "execution_count": 15
    }
   ],
   "source": [
    "gps_demo_donate_gdp = pd.merge(gps_demo_donate, gdp, how='left', on=\"isocode\")\n",
    "gps_demo_donate_gdp.shape"
   ]
  },
  {
   "cell_type": "code",
   "execution_count": 16,
   "metadata": {},
   "outputs": [
    {
     "output_type": "execute_result",
     "data": {
      "text/plain": [
       "       country isocode  patience  risktaking  posrecip  negrecip  altruism  \\\n",
       "0  Afghanistan     AFG -0.201360    0.120764  0.289641  0.254712  0.166455   \n",
       "1      Algeria     DZA  0.059815    0.391530 -0.598255  0.254901 -0.009968   \n",
       "2    Argentina     ARG -0.229308    0.041503  0.159679 -0.140457  0.027347   \n",
       "3    Australia     AUS  0.657004    0.137137  0.069660  0.022190  0.155331   \n",
       "4      Austria     AUT  0.608285   -0.061829  0.161047 -0.055415 -0.035363   \n",
       "\n",
       "      trust  demo2019  demo2018  demo2017  demo2016  demo2015  demo2014  \\\n",
       "0  0.315964      2.85      2.97      2.55      2.55      2.77      2.77   \n",
       "1 -0.177371      4.01      3.50      3.56      3.56      3.95      3.83   \n",
       "2 -0.206733      7.02      7.02      6.96      6.96      7.02      6.84   \n",
       "3  0.298973      9.09      9.09      9.09      9.01      9.01      9.01   \n",
       "4  0.154628      8.29      8.29      8.42      8.41      8.54      8.54   \n",
       "\n",
       "   demo2013  demo2012  demo2011  demo2010  demo2008  demo2006  funding2003  \\\n",
       "0      2.48      2.48      2.48      2.48      3.02      3.06          NaN   \n",
       "1      3.83      3.83      3.44      3.44      3.32      3.17    3178000.0   \n",
       "2      6.84      6.84      6.84      6.84      6.63      6.63          NaN   \n",
       "3      9.13      9.22      9.22      9.22      9.09      9.09   87736725.0   \n",
       "4      8.48      8.62      8.49      8.49      8.49      8.69    3245126.0   \n",
       "\n",
       "   pledge2003  funding2004  pledge2004  funding2005  pledge2005  funding2006  \\\n",
       "0         NaN          NaN         NaN     500000.0         NaN          NaN   \n",
       "1         NaN          NaN         NaN   14769749.0         NaN          NaN   \n",
       "2         NaN          NaN         NaN          NaN         NaN          NaN   \n",
       "3         NaN   69076907.0         NaN   85073844.0  29859474.0   89757369.0   \n",
       "4         NaN    6186042.0         NaN   18423937.0         NaN    5624017.0   \n",
       "\n",
       "   pledge2006  funding2007  pledge2007  funding2008  pledge2008  funding2009  \\\n",
       "0         NaN          NaN         NaN   24000000.0         NaN     136493.0   \n",
       "1         NaN      10000.0         NaN      10000.0         NaN      76432.0   \n",
       "2         NaN          NaN         NaN     139000.0         NaN      31100.0   \n",
       "3   2262517.0  109371739.0   3817867.0  143674846.0  39494954.0  196311166.0   \n",
       "4    765306.0    7885069.0         NaN   15280397.0   1017509.0   16939495.0   \n",
       "\n",
       "   pledge2009  funding2010  pledge2010  funding2011  pledge2011  funding2012  \\\n",
       "0         NaN    2379910.0         NaN       3360.0         NaN       3000.0   \n",
       "1         NaN   10110696.0         NaN   16010000.0   7000000.0          NaN   \n",
       "2         NaN      50000.0         NaN     107332.0         NaN     130826.0   \n",
       "3   8733624.0  293856560.0   1923773.0  312711049.0         NaN  271004092.0   \n",
       "4    348675.0   25973202.0         NaN   18074363.0    500409.0   16333100.0   \n",
       "\n",
       "   pledge2012  funding2013  pledge2013  funding2014  pledge2014  funding2015  \\\n",
       "0         NaN       2000.0         NaN          NaN         NaN       1000.0   \n",
       "1         NaN    2000000.0         NaN      10000.0         NaN          NaN   \n",
       "2         NaN     165718.0         NaN     230500.0         NaN          NaN   \n",
       "3   2809573.0  263194483.0         NaN  269253261.0         NaN  166236181.0   \n",
       "4         NaN   17699567.0         NaN   18504048.0         NaN   18786627.0   \n",
       "\n",
       "   pledge2015  funding2016  pledge2016  funding2017  pledge2017  funding2018  \\\n",
       "0         NaN          NaN         NaN          NaN         NaN    3870542.0   \n",
       "1         NaN     660000.0         NaN      10000.0         NaN      10000.0   \n",
       "2         NaN     176272.0         NaN    1344591.0         NaN     265000.0   \n",
       "3    762236.0  205207886.0   2724017.0  243900706.0   2712522.0  248119692.0   \n",
       "4         NaN   35663228.0         NaN   49109105.0         NaN   26096928.0   \n",
       "\n",
       "   pledge2018  funding2019  pledge2019  funding2020  pledge2020       gdp2003  \\\n",
       "0         NaN     903177.0         NaN          NaN         NaN  4.515559e+09   \n",
       "1         NaN          NaN         NaN          NaN         NaN  6.786485e+10   \n",
       "2         NaN     155000.0         NaN          NaN         NaN  1.275870e+11   \n",
       "3         NaN  310639840.0         NaN  271692972.0         NaN  4.664881e+11   \n",
       "4   6670328.0   32476153.0   1540154.0   19142494.0         NaN  2.616958e+11   \n",
       "\n",
       "        gdp2004       gdp2005       gdp2006       gdp2007       gdp2008  \\\n",
       "0  5.226779e+09  6.209138e+09  6.971286e+09  9.747880e+09  1.010923e+10   \n",
       "1  8.532477e+10  1.031984e+11  1.170254e+11  1.349773e+11  1.710006e+11   \n",
       "2  1.646579e+11  1.987371e+11  2.325573e+11  2.875305e+11  3.615580e+11   \n",
       "3  6.124904e+11  6.934078e+11  7.460542e+11  8.530996e+11  1.053996e+12   \n",
       "4  3.009042e+11  3.159744e+11  3.359986e+11  3.886914e+11  4.302943e+11   \n",
       "\n",
       "        gdp2009       gdp2010       gdp2011       gdp2012       gdp2013  \\\n",
       "0  1.243909e+10  1.585657e+10  1.780429e+10  2.000160e+10  2.056107e+10   \n",
       "1  1.372107e+11  1.612078e+11  2.000195e+11  2.090603e+11  2.097548e+11   \n",
       "2  3.329765e+11  4.236274e+11  5.301633e+11  5.459824e+11  5.520251e+11   \n",
       "3  9.278052e+11  1.146138e+12  1.396650e+12  1.546152e+12  1.576184e+12   \n",
       "4  4.001723e+11  3.918927e+11  4.311203e+11  4.094252e+11  4.300687e+11   \n",
       "\n",
       "        gdp2014       gdp2015       gdp2016       gdp2017       gdp2018  \\\n",
       "0  2.048489e+10  1.990711e+10  1.936264e+10  2.019176e+10  1.948438e+10   \n",
       "1  2.138088e+11  1.659794e+11  1.600338e+11  1.673894e+11  1.737580e+11   \n",
       "2  5.263197e+11  5.947493e+11  5.575314e+11  6.426959e+11  5.198715e+11   \n",
       "3  1.467484e+12  1.351694e+12  1.208847e+12  1.330136e+12  1.433904e+12   \n",
       "4  4.419961e+11  3.818176e+11  3.952277e+11  4.183162e+11  4.555083e+11   \n",
       "\n",
       "        gdp2019  \n",
       "0  1.910135e+10  \n",
       "1  1.699882e+11  \n",
       "2  4.496634e+11  \n",
       "3  1.392681e+12  \n",
       "4  4.463147e+11  "
      ],
      "text/html": "<div>\n<style scoped>\n    .dataframe tbody tr th:only-of-type {\n        vertical-align: middle;\n    }\n\n    .dataframe tbody tr th {\n        vertical-align: top;\n    }\n\n    .dataframe thead th {\n        text-align: right;\n    }\n</style>\n<table border=\"1\" class=\"dataframe\">\n  <thead>\n    <tr style=\"text-align: right;\">\n      <th></th>\n      <th>country</th>\n      <th>isocode</th>\n      <th>patience</th>\n      <th>risktaking</th>\n      <th>posrecip</th>\n      <th>negrecip</th>\n      <th>altruism</th>\n      <th>trust</th>\n      <th>demo2019</th>\n      <th>demo2018</th>\n      <th>demo2017</th>\n      <th>demo2016</th>\n      <th>demo2015</th>\n      <th>demo2014</th>\n      <th>demo2013</th>\n      <th>demo2012</th>\n      <th>demo2011</th>\n      <th>demo2010</th>\n      <th>demo2008</th>\n      <th>demo2006</th>\n      <th>funding2003</th>\n      <th>pledge2003</th>\n      <th>funding2004</th>\n      <th>pledge2004</th>\n      <th>funding2005</th>\n      <th>pledge2005</th>\n      <th>funding2006</th>\n      <th>pledge2006</th>\n      <th>funding2007</th>\n      <th>pledge2007</th>\n      <th>funding2008</th>\n      <th>pledge2008</th>\n      <th>funding2009</th>\n      <th>pledge2009</th>\n      <th>funding2010</th>\n      <th>pledge2010</th>\n      <th>funding2011</th>\n      <th>pledge2011</th>\n      <th>funding2012</th>\n      <th>pledge2012</th>\n      <th>funding2013</th>\n      <th>pledge2013</th>\n      <th>funding2014</th>\n      <th>pledge2014</th>\n      <th>funding2015</th>\n      <th>pledge2015</th>\n      <th>funding2016</th>\n      <th>pledge2016</th>\n      <th>funding2017</th>\n      <th>pledge2017</th>\n      <th>funding2018</th>\n      <th>pledge2018</th>\n      <th>funding2019</th>\n      <th>pledge2019</th>\n      <th>funding2020</th>\n      <th>pledge2020</th>\n      <th>gdp2003</th>\n      <th>gdp2004</th>\n      <th>gdp2005</th>\n      <th>gdp2006</th>\n      <th>gdp2007</th>\n      <th>gdp2008</th>\n      <th>gdp2009</th>\n      <th>gdp2010</th>\n      <th>gdp2011</th>\n      <th>gdp2012</th>\n      <th>gdp2013</th>\n      <th>gdp2014</th>\n      <th>gdp2015</th>\n      <th>gdp2016</th>\n      <th>gdp2017</th>\n      <th>gdp2018</th>\n      <th>gdp2019</th>\n    </tr>\n  </thead>\n  <tbody>\n    <tr>\n      <th>0</th>\n      <td>Afghanistan</td>\n      <td>AFG</td>\n      <td>-0.201360</td>\n      <td>0.120764</td>\n      <td>0.289641</td>\n      <td>0.254712</td>\n      <td>0.166455</td>\n      <td>0.315964</td>\n      <td>2.85</td>\n      <td>2.97</td>\n      <td>2.55</td>\n      <td>2.55</td>\n      <td>2.77</td>\n      <td>2.77</td>\n      <td>2.48</td>\n      <td>2.48</td>\n      <td>2.48</td>\n      <td>2.48</td>\n      <td>3.02</td>\n      <td>3.06</td>\n      <td>NaN</td>\n      <td>NaN</td>\n      <td>NaN</td>\n      <td>NaN</td>\n      <td>500000.0</td>\n      <td>NaN</td>\n      <td>NaN</td>\n      <td>NaN</td>\n      <td>NaN</td>\n      <td>NaN</td>\n      <td>24000000.0</td>\n      <td>NaN</td>\n      <td>136493.0</td>\n      <td>NaN</td>\n      <td>2379910.0</td>\n      <td>NaN</td>\n      <td>3360.0</td>\n      <td>NaN</td>\n      <td>3000.0</td>\n      <td>NaN</td>\n      <td>2000.0</td>\n      <td>NaN</td>\n      <td>NaN</td>\n      <td>NaN</td>\n      <td>1000.0</td>\n      <td>NaN</td>\n      <td>NaN</td>\n      <td>NaN</td>\n      <td>NaN</td>\n      <td>NaN</td>\n      <td>3870542.0</td>\n      <td>NaN</td>\n      <td>903177.0</td>\n      <td>NaN</td>\n      <td>NaN</td>\n      <td>NaN</td>\n      <td>4.515559e+09</td>\n      <td>5.226779e+09</td>\n      <td>6.209138e+09</td>\n      <td>6.971286e+09</td>\n      <td>9.747880e+09</td>\n      <td>1.010923e+10</td>\n      <td>1.243909e+10</td>\n      <td>1.585657e+10</td>\n      <td>1.780429e+10</td>\n      <td>2.000160e+10</td>\n      <td>2.056107e+10</td>\n      <td>2.048489e+10</td>\n      <td>1.990711e+10</td>\n      <td>1.936264e+10</td>\n      <td>2.019176e+10</td>\n      <td>1.948438e+10</td>\n      <td>1.910135e+10</td>\n    </tr>\n    <tr>\n      <th>1</th>\n      <td>Algeria</td>\n      <td>DZA</td>\n      <td>0.059815</td>\n      <td>0.391530</td>\n      <td>-0.598255</td>\n      <td>0.254901</td>\n      <td>-0.009968</td>\n      <td>-0.177371</td>\n      <td>4.01</td>\n      <td>3.50</td>\n      <td>3.56</td>\n      <td>3.56</td>\n      <td>3.95</td>\n      <td>3.83</td>\n      <td>3.83</td>\n      <td>3.83</td>\n      <td>3.44</td>\n      <td>3.44</td>\n      <td>3.32</td>\n      <td>3.17</td>\n      <td>3178000.0</td>\n      <td>NaN</td>\n      <td>NaN</td>\n      <td>NaN</td>\n      <td>14769749.0</td>\n      <td>NaN</td>\n      <td>NaN</td>\n      <td>NaN</td>\n      <td>10000.0</td>\n      <td>NaN</td>\n      <td>10000.0</td>\n      <td>NaN</td>\n      <td>76432.0</td>\n      <td>NaN</td>\n      <td>10110696.0</td>\n      <td>NaN</td>\n      <td>16010000.0</td>\n      <td>7000000.0</td>\n      <td>NaN</td>\n      <td>NaN</td>\n      <td>2000000.0</td>\n      <td>NaN</td>\n      <td>10000.0</td>\n      <td>NaN</td>\n      <td>NaN</td>\n      <td>NaN</td>\n      <td>660000.0</td>\n      <td>NaN</td>\n      <td>10000.0</td>\n      <td>NaN</td>\n      <td>10000.0</td>\n      <td>NaN</td>\n      <td>NaN</td>\n      <td>NaN</td>\n      <td>NaN</td>\n      <td>NaN</td>\n      <td>6.786485e+10</td>\n      <td>8.532477e+10</td>\n      <td>1.031984e+11</td>\n      <td>1.170254e+11</td>\n      <td>1.349773e+11</td>\n      <td>1.710006e+11</td>\n      <td>1.372107e+11</td>\n      <td>1.612078e+11</td>\n      <td>2.000195e+11</td>\n      <td>2.090603e+11</td>\n      <td>2.097548e+11</td>\n      <td>2.138088e+11</td>\n      <td>1.659794e+11</td>\n      <td>1.600338e+11</td>\n      <td>1.673894e+11</td>\n      <td>1.737580e+11</td>\n      <td>1.699882e+11</td>\n    </tr>\n    <tr>\n      <th>2</th>\n      <td>Argentina</td>\n      <td>ARG</td>\n      <td>-0.229308</td>\n      <td>0.041503</td>\n      <td>0.159679</td>\n      <td>-0.140457</td>\n      <td>0.027347</td>\n      <td>-0.206733</td>\n      <td>7.02</td>\n      <td>7.02</td>\n      <td>6.96</td>\n      <td>6.96</td>\n      <td>7.02</td>\n      <td>6.84</td>\n      <td>6.84</td>\n      <td>6.84</td>\n      <td>6.84</td>\n      <td>6.84</td>\n      <td>6.63</td>\n      <td>6.63</td>\n      <td>NaN</td>\n      <td>NaN</td>\n      <td>NaN</td>\n      <td>NaN</td>\n      <td>NaN</td>\n      <td>NaN</td>\n      <td>NaN</td>\n      <td>NaN</td>\n      <td>NaN</td>\n      <td>NaN</td>\n      <td>139000.0</td>\n      <td>NaN</td>\n      <td>31100.0</td>\n      <td>NaN</td>\n      <td>50000.0</td>\n      <td>NaN</td>\n      <td>107332.0</td>\n      <td>NaN</td>\n      <td>130826.0</td>\n      <td>NaN</td>\n      <td>165718.0</td>\n      <td>NaN</td>\n      <td>230500.0</td>\n      <td>NaN</td>\n      <td>NaN</td>\n      <td>NaN</td>\n      <td>176272.0</td>\n      <td>NaN</td>\n      <td>1344591.0</td>\n      <td>NaN</td>\n      <td>265000.0</td>\n      <td>NaN</td>\n      <td>155000.0</td>\n      <td>NaN</td>\n      <td>NaN</td>\n      <td>NaN</td>\n      <td>1.275870e+11</td>\n      <td>1.646579e+11</td>\n      <td>1.987371e+11</td>\n      <td>2.325573e+11</td>\n      <td>2.875305e+11</td>\n      <td>3.615580e+11</td>\n      <td>3.329765e+11</td>\n      <td>4.236274e+11</td>\n      <td>5.301633e+11</td>\n      <td>5.459824e+11</td>\n      <td>5.520251e+11</td>\n      <td>5.263197e+11</td>\n      <td>5.947493e+11</td>\n      <td>5.575314e+11</td>\n      <td>6.426959e+11</td>\n      <td>5.198715e+11</td>\n      <td>4.496634e+11</td>\n    </tr>\n    <tr>\n      <th>3</th>\n      <td>Australia</td>\n      <td>AUS</td>\n      <td>0.657004</td>\n      <td>0.137137</td>\n      <td>0.069660</td>\n      <td>0.022190</td>\n      <td>0.155331</td>\n      <td>0.298973</td>\n      <td>9.09</td>\n      <td>9.09</td>\n      <td>9.09</td>\n      <td>9.01</td>\n      <td>9.01</td>\n      <td>9.01</td>\n      <td>9.13</td>\n      <td>9.22</td>\n      <td>9.22</td>\n      <td>9.22</td>\n      <td>9.09</td>\n      <td>9.09</td>\n      <td>87736725.0</td>\n      <td>NaN</td>\n      <td>69076907.0</td>\n      <td>NaN</td>\n      <td>85073844.0</td>\n      <td>29859474.0</td>\n      <td>89757369.0</td>\n      <td>2262517.0</td>\n      <td>109371739.0</td>\n      <td>3817867.0</td>\n      <td>143674846.0</td>\n      <td>39494954.0</td>\n      <td>196311166.0</td>\n      <td>8733624.0</td>\n      <td>293856560.0</td>\n      <td>1923773.0</td>\n      <td>312711049.0</td>\n      <td>NaN</td>\n      <td>271004092.0</td>\n      <td>2809573.0</td>\n      <td>263194483.0</td>\n      <td>NaN</td>\n      <td>269253261.0</td>\n      <td>NaN</td>\n      <td>166236181.0</td>\n      <td>762236.0</td>\n      <td>205207886.0</td>\n      <td>2724017.0</td>\n      <td>243900706.0</td>\n      <td>2712522.0</td>\n      <td>248119692.0</td>\n      <td>NaN</td>\n      <td>310639840.0</td>\n      <td>NaN</td>\n      <td>271692972.0</td>\n      <td>NaN</td>\n      <td>4.664881e+11</td>\n      <td>6.124904e+11</td>\n      <td>6.934078e+11</td>\n      <td>7.460542e+11</td>\n      <td>8.530996e+11</td>\n      <td>1.053996e+12</td>\n      <td>9.278052e+11</td>\n      <td>1.146138e+12</td>\n      <td>1.396650e+12</td>\n      <td>1.546152e+12</td>\n      <td>1.576184e+12</td>\n      <td>1.467484e+12</td>\n      <td>1.351694e+12</td>\n      <td>1.208847e+12</td>\n      <td>1.330136e+12</td>\n      <td>1.433904e+12</td>\n      <td>1.392681e+12</td>\n    </tr>\n    <tr>\n      <th>4</th>\n      <td>Austria</td>\n      <td>AUT</td>\n      <td>0.608285</td>\n      <td>-0.061829</td>\n      <td>0.161047</td>\n      <td>-0.055415</td>\n      <td>-0.035363</td>\n      <td>0.154628</td>\n      <td>8.29</td>\n      <td>8.29</td>\n      <td>8.42</td>\n      <td>8.41</td>\n      <td>8.54</td>\n      <td>8.54</td>\n      <td>8.48</td>\n      <td>8.62</td>\n      <td>8.49</td>\n      <td>8.49</td>\n      <td>8.49</td>\n      <td>8.69</td>\n      <td>3245126.0</td>\n      <td>NaN</td>\n      <td>6186042.0</td>\n      <td>NaN</td>\n      <td>18423937.0</td>\n      <td>NaN</td>\n      <td>5624017.0</td>\n      <td>765306.0</td>\n      <td>7885069.0</td>\n      <td>NaN</td>\n      <td>15280397.0</td>\n      <td>1017509.0</td>\n      <td>16939495.0</td>\n      <td>348675.0</td>\n      <td>25973202.0</td>\n      <td>NaN</td>\n      <td>18074363.0</td>\n      <td>500409.0</td>\n      <td>16333100.0</td>\n      <td>NaN</td>\n      <td>17699567.0</td>\n      <td>NaN</td>\n      <td>18504048.0</td>\n      <td>NaN</td>\n      <td>18786627.0</td>\n      <td>NaN</td>\n      <td>35663228.0</td>\n      <td>NaN</td>\n      <td>49109105.0</td>\n      <td>NaN</td>\n      <td>26096928.0</td>\n      <td>6670328.0</td>\n      <td>32476153.0</td>\n      <td>1540154.0</td>\n      <td>19142494.0</td>\n      <td>NaN</td>\n      <td>2.616958e+11</td>\n      <td>3.009042e+11</td>\n      <td>3.159744e+11</td>\n      <td>3.359986e+11</td>\n      <td>3.886914e+11</td>\n      <td>4.302943e+11</td>\n      <td>4.001723e+11</td>\n      <td>3.918927e+11</td>\n      <td>4.311203e+11</td>\n      <td>4.094252e+11</td>\n      <td>4.300687e+11</td>\n      <td>4.419961e+11</td>\n      <td>3.818176e+11</td>\n      <td>3.952277e+11</td>\n      <td>4.183162e+11</td>\n      <td>4.555083e+11</td>\n      <td>4.463147e+11</td>\n    </tr>\n  </tbody>\n</table>\n</div>"
     },
     "metadata": {},
     "execution_count": 16
    }
   ],
   "source": [
    "# gps_demo_donate_gdp[gps_demo_donate_gdp.filter(regex='gdp.*', axis=1).isna().all(axis=1)]\n",
    "gps_demo_donate_gdp.head()"
   ]
  },
  {
   "source": [
    "### adding columns of funding / GDP * 100 by year"
   ],
   "cell_type": "markdown",
   "metadata": {}
  },
  {
   "cell_type": "code",
   "execution_count": 17,
   "metadata": {},
   "outputs": [
    {
     "output_type": "execute_result",
     "data": {
      "text/plain": [
       "       country isocode  patience  risktaking  posrecip  negrecip  altruism  \\\n",
       "0  Afghanistan     AFG -0.201360    0.120764  0.289641  0.254712  0.166455   \n",
       "1      Algeria     DZA  0.059815    0.391530 -0.598255  0.254901 -0.009968   \n",
       "2    Argentina     ARG -0.229308    0.041503  0.159679 -0.140457  0.027347   \n",
       "3    Australia     AUS  0.657004    0.137137  0.069660  0.022190  0.155331   \n",
       "4      Austria     AUT  0.608285   -0.061829  0.161047 -0.055415 -0.035363   \n",
       "\n",
       "      trust  demo2019  demo2018  demo2017  demo2016  demo2015  demo2014  \\\n",
       "0  0.315964      2.85      2.97      2.55      2.55      2.77      2.77   \n",
       "1 -0.177371      4.01      3.50      3.56      3.56      3.95      3.83   \n",
       "2 -0.206733      7.02      7.02      6.96      6.96      7.02      6.84   \n",
       "3  0.298973      9.09      9.09      9.09      9.01      9.01      9.01   \n",
       "4  0.154628      8.29      8.29      8.42      8.41      8.54      8.54   \n",
       "\n",
       "   demo2013  demo2012  demo2011  demo2010  demo2008  demo2006  funding2003  \\\n",
       "0      2.48      2.48      2.48      2.48      3.02      3.06          NaN   \n",
       "1      3.83      3.83      3.44      3.44      3.32      3.17    3178000.0   \n",
       "2      6.84      6.84      6.84      6.84      6.63      6.63          NaN   \n",
       "3      9.13      9.22      9.22      9.22      9.09      9.09   87736725.0   \n",
       "4      8.48      8.62      8.49      8.49      8.49      8.69    3245126.0   \n",
       "\n",
       "   pledge2003  funding2004  pledge2004  funding2005  pledge2005  funding2006  \\\n",
       "0         NaN          NaN         NaN     500000.0         NaN          NaN   \n",
       "1         NaN          NaN         NaN   14769749.0         NaN          NaN   \n",
       "2         NaN          NaN         NaN          NaN         NaN          NaN   \n",
       "3         NaN   69076907.0         NaN   85073844.0  29859474.0   89757369.0   \n",
       "4         NaN    6186042.0         NaN   18423937.0         NaN    5624017.0   \n",
       "\n",
       "   pledge2006  funding2007  pledge2007  funding2008  pledge2008  funding2009  \\\n",
       "0         NaN          NaN         NaN   24000000.0         NaN     136493.0   \n",
       "1         NaN      10000.0         NaN      10000.0         NaN      76432.0   \n",
       "2         NaN          NaN         NaN     139000.0         NaN      31100.0   \n",
       "3   2262517.0  109371739.0   3817867.0  143674846.0  39494954.0  196311166.0   \n",
       "4    765306.0    7885069.0         NaN   15280397.0   1017509.0   16939495.0   \n",
       "\n",
       "   pledge2009  funding2010  pledge2010  funding2011  pledge2011  funding2012  \\\n",
       "0         NaN    2379910.0         NaN       3360.0         NaN       3000.0   \n",
       "1         NaN   10110696.0         NaN   16010000.0   7000000.0          NaN   \n",
       "2         NaN      50000.0         NaN     107332.0         NaN     130826.0   \n",
       "3   8733624.0  293856560.0   1923773.0  312711049.0         NaN  271004092.0   \n",
       "4    348675.0   25973202.0         NaN   18074363.0    500409.0   16333100.0   \n",
       "\n",
       "   pledge2012  funding2013  pledge2013  funding2014  pledge2014  funding2015  \\\n",
       "0         NaN       2000.0         NaN          NaN         NaN       1000.0   \n",
       "1         NaN    2000000.0         NaN      10000.0         NaN          NaN   \n",
       "2         NaN     165718.0         NaN     230500.0         NaN          NaN   \n",
       "3   2809573.0  263194483.0         NaN  269253261.0         NaN  166236181.0   \n",
       "4         NaN   17699567.0         NaN   18504048.0         NaN   18786627.0   \n",
       "\n",
       "   pledge2015  funding2016  pledge2016  funding2017  pledge2017  funding2018  \\\n",
       "0         NaN          NaN         NaN          NaN         NaN    3870542.0   \n",
       "1         NaN     660000.0         NaN      10000.0         NaN      10000.0   \n",
       "2         NaN     176272.0         NaN    1344591.0         NaN     265000.0   \n",
       "3    762236.0  205207886.0   2724017.0  243900706.0   2712522.0  248119692.0   \n",
       "4         NaN   35663228.0         NaN   49109105.0         NaN   26096928.0   \n",
       "\n",
       "   pledge2018  funding2019  pledge2019  funding2020  pledge2020       gdp2003  \\\n",
       "0         NaN     903177.0         NaN          NaN         NaN  4.515559e+09   \n",
       "1         NaN          NaN         NaN          NaN         NaN  6.786485e+10   \n",
       "2         NaN     155000.0         NaN          NaN         NaN  1.275870e+11   \n",
       "3         NaN  310639840.0         NaN  271692972.0         NaN  4.664881e+11   \n",
       "4   6670328.0   32476153.0   1540154.0   19142494.0         NaN  2.616958e+11   \n",
       "\n",
       "        gdp2004       gdp2005       gdp2006       gdp2007       gdp2008  \\\n",
       "0  5.226779e+09  6.209138e+09  6.971286e+09  9.747880e+09  1.010923e+10   \n",
       "1  8.532477e+10  1.031984e+11  1.170254e+11  1.349773e+11  1.710006e+11   \n",
       "2  1.646579e+11  1.987371e+11  2.325573e+11  2.875305e+11  3.615580e+11   \n",
       "3  6.124904e+11  6.934078e+11  7.460542e+11  8.530996e+11  1.053996e+12   \n",
       "4  3.009042e+11  3.159744e+11  3.359986e+11  3.886914e+11  4.302943e+11   \n",
       "\n",
       "        gdp2009       gdp2010       gdp2011       gdp2012       gdp2013  \\\n",
       "0  1.243909e+10  1.585657e+10  1.780429e+10  2.000160e+10  2.056107e+10   \n",
       "1  1.372107e+11  1.612078e+11  2.000195e+11  2.090603e+11  2.097548e+11   \n",
       "2  3.329765e+11  4.236274e+11  5.301633e+11  5.459824e+11  5.520251e+11   \n",
       "3  9.278052e+11  1.146138e+12  1.396650e+12  1.546152e+12  1.576184e+12   \n",
       "4  4.001723e+11  3.918927e+11  4.311203e+11  4.094252e+11  4.300687e+11   \n",
       "\n",
       "        gdp2014       gdp2015       gdp2016       gdp2017       gdp2018  \\\n",
       "0  2.048489e+10  1.990711e+10  1.936264e+10  2.019176e+10  1.948438e+10   \n",
       "1  2.138088e+11  1.659794e+11  1.600338e+11  1.673894e+11  1.737580e+11   \n",
       "2  5.263197e+11  5.947493e+11  5.575314e+11  6.426959e+11  5.198715e+11   \n",
       "3  1.467484e+12  1.351694e+12  1.208847e+12  1.330136e+12  1.433904e+12   \n",
       "4  4.419961e+11  3.818176e+11  3.952277e+11  4.183162e+11  4.555083e+11   \n",
       "\n",
       "        gdp2019  funding_gdp2003  funding_gdp2004  funding_gdp2005  \\\n",
       "0  1.910135e+10              NaN              NaN           0.0081   \n",
       "1  1.699882e+11           0.0047              NaN           0.0143   \n",
       "2  4.496634e+11              NaN              NaN              NaN   \n",
       "3  1.392681e+12           0.0188           0.0113           0.0123   \n",
       "4  4.463147e+11           0.0012           0.0021           0.0058   \n",
       "\n",
       "   funding_gdp2006  funding_gdp2007  funding_gdp2008  funding_gdp2009  \\\n",
       "0              NaN              NaN           0.2374           0.0011   \n",
       "1              NaN           0.0000           0.0000           0.0001   \n",
       "2              NaN              NaN           0.0000           0.0000   \n",
       "3           0.0120           0.0128           0.0136           0.0212   \n",
       "4           0.0017           0.0020           0.0036           0.0042   \n",
       "\n",
       "   funding_gdp2010  funding_gdp2011  funding_gdp2012  funding_gdp2013  \\\n",
       "0           0.0150           0.0000           0.0000           0.0000   \n",
       "1           0.0063           0.0080              NaN           0.0010   \n",
       "2           0.0000           0.0000           0.0000           0.0000   \n",
       "3           0.0256           0.0224           0.0175           0.0167   \n",
       "4           0.0066           0.0042           0.0040           0.0041   \n",
       "\n",
       "   funding_gdp2014  funding_gdp2015  funding_gdp2016  funding_gdp2017  \\\n",
       "0              NaN           0.0000              NaN              NaN   \n",
       "1           0.0000              NaN           0.0004           0.0000   \n",
       "2           0.0000              NaN           0.0000           0.0002   \n",
       "3           0.0183           0.0123           0.0170           0.0183   \n",
       "4           0.0042           0.0049           0.0090           0.0117   \n",
       "\n",
       "   funding_gdp2018  funding_gdp2019  \n",
       "0           0.0199           0.0047  \n",
       "1           0.0000              NaN  \n",
       "2           0.0001           0.0000  \n",
       "3           0.0173           0.0223  \n",
       "4           0.0057           0.0073  "
      ],
      "text/html": "<div>\n<style scoped>\n    .dataframe tbody tr th:only-of-type {\n        vertical-align: middle;\n    }\n\n    .dataframe tbody tr th {\n        vertical-align: top;\n    }\n\n    .dataframe thead th {\n        text-align: right;\n    }\n</style>\n<table border=\"1\" class=\"dataframe\">\n  <thead>\n    <tr style=\"text-align: right;\">\n      <th></th>\n      <th>country</th>\n      <th>isocode</th>\n      <th>patience</th>\n      <th>risktaking</th>\n      <th>posrecip</th>\n      <th>negrecip</th>\n      <th>altruism</th>\n      <th>trust</th>\n      <th>demo2019</th>\n      <th>demo2018</th>\n      <th>demo2017</th>\n      <th>demo2016</th>\n      <th>demo2015</th>\n      <th>demo2014</th>\n      <th>demo2013</th>\n      <th>demo2012</th>\n      <th>demo2011</th>\n      <th>demo2010</th>\n      <th>demo2008</th>\n      <th>demo2006</th>\n      <th>funding2003</th>\n      <th>pledge2003</th>\n      <th>funding2004</th>\n      <th>pledge2004</th>\n      <th>funding2005</th>\n      <th>pledge2005</th>\n      <th>funding2006</th>\n      <th>pledge2006</th>\n      <th>funding2007</th>\n      <th>pledge2007</th>\n      <th>funding2008</th>\n      <th>pledge2008</th>\n      <th>funding2009</th>\n      <th>pledge2009</th>\n      <th>funding2010</th>\n      <th>pledge2010</th>\n      <th>funding2011</th>\n      <th>pledge2011</th>\n      <th>funding2012</th>\n      <th>pledge2012</th>\n      <th>funding2013</th>\n      <th>pledge2013</th>\n      <th>funding2014</th>\n      <th>pledge2014</th>\n      <th>funding2015</th>\n      <th>pledge2015</th>\n      <th>funding2016</th>\n      <th>pledge2016</th>\n      <th>funding2017</th>\n      <th>pledge2017</th>\n      <th>funding2018</th>\n      <th>pledge2018</th>\n      <th>funding2019</th>\n      <th>pledge2019</th>\n      <th>funding2020</th>\n      <th>pledge2020</th>\n      <th>gdp2003</th>\n      <th>gdp2004</th>\n      <th>gdp2005</th>\n      <th>gdp2006</th>\n      <th>gdp2007</th>\n      <th>gdp2008</th>\n      <th>gdp2009</th>\n      <th>gdp2010</th>\n      <th>gdp2011</th>\n      <th>gdp2012</th>\n      <th>gdp2013</th>\n      <th>gdp2014</th>\n      <th>gdp2015</th>\n      <th>gdp2016</th>\n      <th>gdp2017</th>\n      <th>gdp2018</th>\n      <th>gdp2019</th>\n      <th>funding_gdp2003</th>\n      <th>funding_gdp2004</th>\n      <th>funding_gdp2005</th>\n      <th>funding_gdp2006</th>\n      <th>funding_gdp2007</th>\n      <th>funding_gdp2008</th>\n      <th>funding_gdp2009</th>\n      <th>funding_gdp2010</th>\n      <th>funding_gdp2011</th>\n      <th>funding_gdp2012</th>\n      <th>funding_gdp2013</th>\n      <th>funding_gdp2014</th>\n      <th>funding_gdp2015</th>\n      <th>funding_gdp2016</th>\n      <th>funding_gdp2017</th>\n      <th>funding_gdp2018</th>\n      <th>funding_gdp2019</th>\n    </tr>\n  </thead>\n  <tbody>\n    <tr>\n      <th>0</th>\n      <td>Afghanistan</td>\n      <td>AFG</td>\n      <td>-0.201360</td>\n      <td>0.120764</td>\n      <td>0.289641</td>\n      <td>0.254712</td>\n      <td>0.166455</td>\n      <td>0.315964</td>\n      <td>2.85</td>\n      <td>2.97</td>\n      <td>2.55</td>\n      <td>2.55</td>\n      <td>2.77</td>\n      <td>2.77</td>\n      <td>2.48</td>\n      <td>2.48</td>\n      <td>2.48</td>\n      <td>2.48</td>\n      <td>3.02</td>\n      <td>3.06</td>\n      <td>NaN</td>\n      <td>NaN</td>\n      <td>NaN</td>\n      <td>NaN</td>\n      <td>500000.0</td>\n      <td>NaN</td>\n      <td>NaN</td>\n      <td>NaN</td>\n      <td>NaN</td>\n      <td>NaN</td>\n      <td>24000000.0</td>\n      <td>NaN</td>\n      <td>136493.0</td>\n      <td>NaN</td>\n      <td>2379910.0</td>\n      <td>NaN</td>\n      <td>3360.0</td>\n      <td>NaN</td>\n      <td>3000.0</td>\n      <td>NaN</td>\n      <td>2000.0</td>\n      <td>NaN</td>\n      <td>NaN</td>\n      <td>NaN</td>\n      <td>1000.0</td>\n      <td>NaN</td>\n      <td>NaN</td>\n      <td>NaN</td>\n      <td>NaN</td>\n      <td>NaN</td>\n      <td>3870542.0</td>\n      <td>NaN</td>\n      <td>903177.0</td>\n      <td>NaN</td>\n      <td>NaN</td>\n      <td>NaN</td>\n      <td>4.515559e+09</td>\n      <td>5.226779e+09</td>\n      <td>6.209138e+09</td>\n      <td>6.971286e+09</td>\n      <td>9.747880e+09</td>\n      <td>1.010923e+10</td>\n      <td>1.243909e+10</td>\n      <td>1.585657e+10</td>\n      <td>1.780429e+10</td>\n      <td>2.000160e+10</td>\n      <td>2.056107e+10</td>\n      <td>2.048489e+10</td>\n      <td>1.990711e+10</td>\n      <td>1.936264e+10</td>\n      <td>2.019176e+10</td>\n      <td>1.948438e+10</td>\n      <td>1.910135e+10</td>\n      <td>NaN</td>\n      <td>NaN</td>\n      <td>0.0081</td>\n      <td>NaN</td>\n      <td>NaN</td>\n      <td>0.2374</td>\n      <td>0.0011</td>\n      <td>0.0150</td>\n      <td>0.0000</td>\n      <td>0.0000</td>\n      <td>0.0000</td>\n      <td>NaN</td>\n      <td>0.0000</td>\n      <td>NaN</td>\n      <td>NaN</td>\n      <td>0.0199</td>\n      <td>0.0047</td>\n    </tr>\n    <tr>\n      <th>1</th>\n      <td>Algeria</td>\n      <td>DZA</td>\n      <td>0.059815</td>\n      <td>0.391530</td>\n      <td>-0.598255</td>\n      <td>0.254901</td>\n      <td>-0.009968</td>\n      <td>-0.177371</td>\n      <td>4.01</td>\n      <td>3.50</td>\n      <td>3.56</td>\n      <td>3.56</td>\n      <td>3.95</td>\n      <td>3.83</td>\n      <td>3.83</td>\n      <td>3.83</td>\n      <td>3.44</td>\n      <td>3.44</td>\n      <td>3.32</td>\n      <td>3.17</td>\n      <td>3178000.0</td>\n      <td>NaN</td>\n      <td>NaN</td>\n      <td>NaN</td>\n      <td>14769749.0</td>\n      <td>NaN</td>\n      <td>NaN</td>\n      <td>NaN</td>\n      <td>10000.0</td>\n      <td>NaN</td>\n      <td>10000.0</td>\n      <td>NaN</td>\n      <td>76432.0</td>\n      <td>NaN</td>\n      <td>10110696.0</td>\n      <td>NaN</td>\n      <td>16010000.0</td>\n      <td>7000000.0</td>\n      <td>NaN</td>\n      <td>NaN</td>\n      <td>2000000.0</td>\n      <td>NaN</td>\n      <td>10000.0</td>\n      <td>NaN</td>\n      <td>NaN</td>\n      <td>NaN</td>\n      <td>660000.0</td>\n      <td>NaN</td>\n      <td>10000.0</td>\n      <td>NaN</td>\n      <td>10000.0</td>\n      <td>NaN</td>\n      <td>NaN</td>\n      <td>NaN</td>\n      <td>NaN</td>\n      <td>NaN</td>\n      <td>6.786485e+10</td>\n      <td>8.532477e+10</td>\n      <td>1.031984e+11</td>\n      <td>1.170254e+11</td>\n      <td>1.349773e+11</td>\n      <td>1.710006e+11</td>\n      <td>1.372107e+11</td>\n      <td>1.612078e+11</td>\n      <td>2.000195e+11</td>\n      <td>2.090603e+11</td>\n      <td>2.097548e+11</td>\n      <td>2.138088e+11</td>\n      <td>1.659794e+11</td>\n      <td>1.600338e+11</td>\n      <td>1.673894e+11</td>\n      <td>1.737580e+11</td>\n      <td>1.699882e+11</td>\n      <td>0.0047</td>\n      <td>NaN</td>\n      <td>0.0143</td>\n      <td>NaN</td>\n      <td>0.0000</td>\n      <td>0.0000</td>\n      <td>0.0001</td>\n      <td>0.0063</td>\n      <td>0.0080</td>\n      <td>NaN</td>\n      <td>0.0010</td>\n      <td>0.0000</td>\n      <td>NaN</td>\n      <td>0.0004</td>\n      <td>0.0000</td>\n      <td>0.0000</td>\n      <td>NaN</td>\n    </tr>\n    <tr>\n      <th>2</th>\n      <td>Argentina</td>\n      <td>ARG</td>\n      <td>-0.229308</td>\n      <td>0.041503</td>\n      <td>0.159679</td>\n      <td>-0.140457</td>\n      <td>0.027347</td>\n      <td>-0.206733</td>\n      <td>7.02</td>\n      <td>7.02</td>\n      <td>6.96</td>\n      <td>6.96</td>\n      <td>7.02</td>\n      <td>6.84</td>\n      <td>6.84</td>\n      <td>6.84</td>\n      <td>6.84</td>\n      <td>6.84</td>\n      <td>6.63</td>\n      <td>6.63</td>\n      <td>NaN</td>\n      <td>NaN</td>\n      <td>NaN</td>\n      <td>NaN</td>\n      <td>NaN</td>\n      <td>NaN</td>\n      <td>NaN</td>\n      <td>NaN</td>\n      <td>NaN</td>\n      <td>NaN</td>\n      <td>139000.0</td>\n      <td>NaN</td>\n      <td>31100.0</td>\n      <td>NaN</td>\n      <td>50000.0</td>\n      <td>NaN</td>\n      <td>107332.0</td>\n      <td>NaN</td>\n      <td>130826.0</td>\n      <td>NaN</td>\n      <td>165718.0</td>\n      <td>NaN</td>\n      <td>230500.0</td>\n      <td>NaN</td>\n      <td>NaN</td>\n      <td>NaN</td>\n      <td>176272.0</td>\n      <td>NaN</td>\n      <td>1344591.0</td>\n      <td>NaN</td>\n      <td>265000.0</td>\n      <td>NaN</td>\n      <td>155000.0</td>\n      <td>NaN</td>\n      <td>NaN</td>\n      <td>NaN</td>\n      <td>1.275870e+11</td>\n      <td>1.646579e+11</td>\n      <td>1.987371e+11</td>\n      <td>2.325573e+11</td>\n      <td>2.875305e+11</td>\n      <td>3.615580e+11</td>\n      <td>3.329765e+11</td>\n      <td>4.236274e+11</td>\n      <td>5.301633e+11</td>\n      <td>5.459824e+11</td>\n      <td>5.520251e+11</td>\n      <td>5.263197e+11</td>\n      <td>5.947493e+11</td>\n      <td>5.575314e+11</td>\n      <td>6.426959e+11</td>\n      <td>5.198715e+11</td>\n      <td>4.496634e+11</td>\n      <td>NaN</td>\n      <td>NaN</td>\n      <td>NaN</td>\n      <td>NaN</td>\n      <td>NaN</td>\n      <td>0.0000</td>\n      <td>0.0000</td>\n      <td>0.0000</td>\n      <td>0.0000</td>\n      <td>0.0000</td>\n      <td>0.0000</td>\n      <td>0.0000</td>\n      <td>NaN</td>\n      <td>0.0000</td>\n      <td>0.0002</td>\n      <td>0.0001</td>\n      <td>0.0000</td>\n    </tr>\n    <tr>\n      <th>3</th>\n      <td>Australia</td>\n      <td>AUS</td>\n      <td>0.657004</td>\n      <td>0.137137</td>\n      <td>0.069660</td>\n      <td>0.022190</td>\n      <td>0.155331</td>\n      <td>0.298973</td>\n      <td>9.09</td>\n      <td>9.09</td>\n      <td>9.09</td>\n      <td>9.01</td>\n      <td>9.01</td>\n      <td>9.01</td>\n      <td>9.13</td>\n      <td>9.22</td>\n      <td>9.22</td>\n      <td>9.22</td>\n      <td>9.09</td>\n      <td>9.09</td>\n      <td>87736725.0</td>\n      <td>NaN</td>\n      <td>69076907.0</td>\n      <td>NaN</td>\n      <td>85073844.0</td>\n      <td>29859474.0</td>\n      <td>89757369.0</td>\n      <td>2262517.0</td>\n      <td>109371739.0</td>\n      <td>3817867.0</td>\n      <td>143674846.0</td>\n      <td>39494954.0</td>\n      <td>196311166.0</td>\n      <td>8733624.0</td>\n      <td>293856560.0</td>\n      <td>1923773.0</td>\n      <td>312711049.0</td>\n      <td>NaN</td>\n      <td>271004092.0</td>\n      <td>2809573.0</td>\n      <td>263194483.0</td>\n      <td>NaN</td>\n      <td>269253261.0</td>\n      <td>NaN</td>\n      <td>166236181.0</td>\n      <td>762236.0</td>\n      <td>205207886.0</td>\n      <td>2724017.0</td>\n      <td>243900706.0</td>\n      <td>2712522.0</td>\n      <td>248119692.0</td>\n      <td>NaN</td>\n      <td>310639840.0</td>\n      <td>NaN</td>\n      <td>271692972.0</td>\n      <td>NaN</td>\n      <td>4.664881e+11</td>\n      <td>6.124904e+11</td>\n      <td>6.934078e+11</td>\n      <td>7.460542e+11</td>\n      <td>8.530996e+11</td>\n      <td>1.053996e+12</td>\n      <td>9.278052e+11</td>\n      <td>1.146138e+12</td>\n      <td>1.396650e+12</td>\n      <td>1.546152e+12</td>\n      <td>1.576184e+12</td>\n      <td>1.467484e+12</td>\n      <td>1.351694e+12</td>\n      <td>1.208847e+12</td>\n      <td>1.330136e+12</td>\n      <td>1.433904e+12</td>\n      <td>1.392681e+12</td>\n      <td>0.0188</td>\n      <td>0.0113</td>\n      <td>0.0123</td>\n      <td>0.0120</td>\n      <td>0.0128</td>\n      <td>0.0136</td>\n      <td>0.0212</td>\n      <td>0.0256</td>\n      <td>0.0224</td>\n      <td>0.0175</td>\n      <td>0.0167</td>\n      <td>0.0183</td>\n      <td>0.0123</td>\n      <td>0.0170</td>\n      <td>0.0183</td>\n      <td>0.0173</td>\n      <td>0.0223</td>\n    </tr>\n    <tr>\n      <th>4</th>\n      <td>Austria</td>\n      <td>AUT</td>\n      <td>0.608285</td>\n      <td>-0.061829</td>\n      <td>0.161047</td>\n      <td>-0.055415</td>\n      <td>-0.035363</td>\n      <td>0.154628</td>\n      <td>8.29</td>\n      <td>8.29</td>\n      <td>8.42</td>\n      <td>8.41</td>\n      <td>8.54</td>\n      <td>8.54</td>\n      <td>8.48</td>\n      <td>8.62</td>\n      <td>8.49</td>\n      <td>8.49</td>\n      <td>8.49</td>\n      <td>8.69</td>\n      <td>3245126.0</td>\n      <td>NaN</td>\n      <td>6186042.0</td>\n      <td>NaN</td>\n      <td>18423937.0</td>\n      <td>NaN</td>\n      <td>5624017.0</td>\n      <td>765306.0</td>\n      <td>7885069.0</td>\n      <td>NaN</td>\n      <td>15280397.0</td>\n      <td>1017509.0</td>\n      <td>16939495.0</td>\n      <td>348675.0</td>\n      <td>25973202.0</td>\n      <td>NaN</td>\n      <td>18074363.0</td>\n      <td>500409.0</td>\n      <td>16333100.0</td>\n      <td>NaN</td>\n      <td>17699567.0</td>\n      <td>NaN</td>\n      <td>18504048.0</td>\n      <td>NaN</td>\n      <td>18786627.0</td>\n      <td>NaN</td>\n      <td>35663228.0</td>\n      <td>NaN</td>\n      <td>49109105.0</td>\n      <td>NaN</td>\n      <td>26096928.0</td>\n      <td>6670328.0</td>\n      <td>32476153.0</td>\n      <td>1540154.0</td>\n      <td>19142494.0</td>\n      <td>NaN</td>\n      <td>2.616958e+11</td>\n      <td>3.009042e+11</td>\n      <td>3.159744e+11</td>\n      <td>3.359986e+11</td>\n      <td>3.886914e+11</td>\n      <td>4.302943e+11</td>\n      <td>4.001723e+11</td>\n      <td>3.918927e+11</td>\n      <td>4.311203e+11</td>\n      <td>4.094252e+11</td>\n      <td>4.300687e+11</td>\n      <td>4.419961e+11</td>\n      <td>3.818176e+11</td>\n      <td>3.952277e+11</td>\n      <td>4.183162e+11</td>\n      <td>4.555083e+11</td>\n      <td>4.463147e+11</td>\n      <td>0.0012</td>\n      <td>0.0021</td>\n      <td>0.0058</td>\n      <td>0.0017</td>\n      <td>0.0020</td>\n      <td>0.0036</td>\n      <td>0.0042</td>\n      <td>0.0066</td>\n      <td>0.0042</td>\n      <td>0.0040</td>\n      <td>0.0041</td>\n      <td>0.0042</td>\n      <td>0.0049</td>\n      <td>0.0090</td>\n      <td>0.0117</td>\n      <td>0.0057</td>\n      <td>0.0073</td>\n    </tr>\n  </tbody>\n</table>\n</div>"
     },
     "metadata": {},
     "execution_count": 17
    }
   ],
   "source": [
    "df_funding = convert_percent('funding','gdp', gps_demo_donate_gdp, ratio=100)\n",
    "df_funding.head()"
   ]
  },
  {
   "source": [
    "### adding GDP per capita in current US dollar from WDI\n",
    "\n",
    "<!---adding General government total expenditure as % of GDP from IMF --->"
   ],
   "cell_type": "markdown",
   "metadata": {}
  },
  {
   "cell_type": "code",
   "execution_count": 18,
   "metadata": {},
   "outputs": [
    {
     "output_type": "execute_result",
     "data": {
      "text/plain": [
       "         gdpcapita2003  gdpcapita2004  gdpcapita2005  gdpcapita2006  \\\n",
       "isocode                                                               \n",
       "ABW       20833.761612   22569.974985   23300.039558   24045.272483   \n",
       "AFG         190.683814     211.382117     242.031285     263.733692   \n",
       "AGO         982.960899    1255.564045    1902.422346    2599.566464   \n",
       "ALB        1846.118813    2373.579844    2673.787283    2972.743265   \n",
       "AND       32271.963902   37969.174991   40066.256919   42675.812757   \n",
       "\n",
       "         gdpcapita2007  gdpcapita2008  gdpcapita2009  gdpcapita2010  \\\n",
       "isocode                                                               \n",
       "ABW       25835.132668   27084.703690   24630.453714   23512.602596   \n",
       "AFG         359.693238     364.660745     438.076034     543.303042   \n",
       "AGO        3121.995637    4080.941410    3122.780766    3587.883798   \n",
       "ALB        3595.037163    4370.540127    4114.140114    4094.350334   \n",
       "AND       47803.693608   48718.496869   43503.185516   40852.666777   \n",
       "\n",
       "         gdpcapita2011  gdpcapita2012  gdpcapita2013  gdpcapita2014  \\\n",
       "isocode                                                               \n",
       "ABW       24985.993281   24713.698045   26189.435509   26647.938101   \n",
       "AFG         591.162759     641.871479     637.165523     613.856689   \n",
       "AGO        4615.468028    5100.095808    5254.882338    5408.410496   \n",
       "ALB        4437.142885    4247.629984    4413.060861    4578.631994   \n",
       "AND       43335.328862   38686.461264   39538.766722   41303.929371   \n",
       "\n",
       "         gdpcapita2015  gdpcapita2016  gdpcapita2017  gdpcapita2018  \\\n",
       "isocode                                                               \n",
       "ABW       27980.880695   28281.350482   29007.693003            NaN   \n",
       "AFG         578.466353     547.228110     556.302002     524.162881   \n",
       "AGO        4166.979684    3506.072885    4095.812942    3289.646664   \n",
       "ALB        3952.801215    4124.055726    4531.020806    5284.380184   \n",
       "AND       35762.523074   37474.665406   38962.880354   41793.055258   \n",
       "\n",
       "         gdpcapita2019  \n",
       "isocode                 \n",
       "ABW                NaN  \n",
       "AFG         502.115487  \n",
       "AGO        2973.591160  \n",
       "ALB        5352.857411  \n",
       "AND       40886.391165  "
      ],
      "text/html": "<div>\n<style scoped>\n    .dataframe tbody tr th:only-of-type {\n        vertical-align: middle;\n    }\n\n    .dataframe tbody tr th {\n        vertical-align: top;\n    }\n\n    .dataframe thead th {\n        text-align: right;\n    }\n</style>\n<table border=\"1\" class=\"dataframe\">\n  <thead>\n    <tr style=\"text-align: right;\">\n      <th></th>\n      <th>gdpcapita2003</th>\n      <th>gdpcapita2004</th>\n      <th>gdpcapita2005</th>\n      <th>gdpcapita2006</th>\n      <th>gdpcapita2007</th>\n      <th>gdpcapita2008</th>\n      <th>gdpcapita2009</th>\n      <th>gdpcapita2010</th>\n      <th>gdpcapita2011</th>\n      <th>gdpcapita2012</th>\n      <th>gdpcapita2013</th>\n      <th>gdpcapita2014</th>\n      <th>gdpcapita2015</th>\n      <th>gdpcapita2016</th>\n      <th>gdpcapita2017</th>\n      <th>gdpcapita2018</th>\n      <th>gdpcapita2019</th>\n    </tr>\n    <tr>\n      <th>isocode</th>\n      <th></th>\n      <th></th>\n      <th></th>\n      <th></th>\n      <th></th>\n      <th></th>\n      <th></th>\n      <th></th>\n      <th></th>\n      <th></th>\n      <th></th>\n      <th></th>\n      <th></th>\n      <th></th>\n      <th></th>\n      <th></th>\n      <th></th>\n    </tr>\n  </thead>\n  <tbody>\n    <tr>\n      <th>ABW</th>\n      <td>20833.761612</td>\n      <td>22569.974985</td>\n      <td>23300.039558</td>\n      <td>24045.272483</td>\n      <td>25835.132668</td>\n      <td>27084.703690</td>\n      <td>24630.453714</td>\n      <td>23512.602596</td>\n      <td>24985.993281</td>\n      <td>24713.698045</td>\n      <td>26189.435509</td>\n      <td>26647.938101</td>\n      <td>27980.880695</td>\n      <td>28281.350482</td>\n      <td>29007.693003</td>\n      <td>NaN</td>\n      <td>NaN</td>\n    </tr>\n    <tr>\n      <th>AFG</th>\n      <td>190.683814</td>\n      <td>211.382117</td>\n      <td>242.031285</td>\n      <td>263.733692</td>\n      <td>359.693238</td>\n      <td>364.660745</td>\n      <td>438.076034</td>\n      <td>543.303042</td>\n      <td>591.162759</td>\n      <td>641.871479</td>\n      <td>637.165523</td>\n      <td>613.856689</td>\n      <td>578.466353</td>\n      <td>547.228110</td>\n      <td>556.302002</td>\n      <td>524.162881</td>\n      <td>502.115487</td>\n    </tr>\n    <tr>\n      <th>AGO</th>\n      <td>982.960899</td>\n      <td>1255.564045</td>\n      <td>1902.422346</td>\n      <td>2599.566464</td>\n      <td>3121.995637</td>\n      <td>4080.941410</td>\n      <td>3122.780766</td>\n      <td>3587.883798</td>\n      <td>4615.468028</td>\n      <td>5100.095808</td>\n      <td>5254.882338</td>\n      <td>5408.410496</td>\n      <td>4166.979684</td>\n      <td>3506.072885</td>\n      <td>4095.812942</td>\n      <td>3289.646664</td>\n      <td>2973.591160</td>\n    </tr>\n    <tr>\n      <th>ALB</th>\n      <td>1846.118813</td>\n      <td>2373.579844</td>\n      <td>2673.787283</td>\n      <td>2972.743265</td>\n      <td>3595.037163</td>\n      <td>4370.540127</td>\n      <td>4114.140114</td>\n      <td>4094.350334</td>\n      <td>4437.142885</td>\n      <td>4247.629984</td>\n      <td>4413.060861</td>\n      <td>4578.631994</td>\n      <td>3952.801215</td>\n      <td>4124.055726</td>\n      <td>4531.020806</td>\n      <td>5284.380184</td>\n      <td>5352.857411</td>\n    </tr>\n    <tr>\n      <th>AND</th>\n      <td>32271.963902</td>\n      <td>37969.174991</td>\n      <td>40066.256919</td>\n      <td>42675.812757</td>\n      <td>47803.693608</td>\n      <td>48718.496869</td>\n      <td>43503.185516</td>\n      <td>40852.666777</td>\n      <td>43335.328862</td>\n      <td>38686.461264</td>\n      <td>39538.766722</td>\n      <td>41303.929371</td>\n      <td>35762.523074</td>\n      <td>37474.665406</td>\n      <td>38962.880354</td>\n      <td>41793.055258</td>\n      <td>40886.391165</td>\n    </tr>\n  </tbody>\n</table>\n</div>"
     },
     "metadata": {},
     "execution_count": 18
    }
   ],
   "source": [
    "capita = pd.read_excel('data/gdppercapita.xls', sheet_name='Data', skiprows=3).rename(columns={\"Country Code\": \"isocode\"}).set_index('isocode')\n",
    "capita_filter = capita.filter(regex='^20(10|11|12|.*[3456789]$)', axis=1).add_prefix('gdpcapita')\n",
    "\n",
    "capita_filter.head()\n",
    "\n"
   ]
  },
  {
   "cell_type": "code",
   "execution_count": 19,
   "metadata": {},
   "outputs": [],
   "source": [
    "df_add_capita = pd.merge(df_funding, capita_filter, how='left', on=\"isocode\")\n",
    "# df_add_capita.shape\n",
    "# df_add_capita[df_add_capita.filter(regex='gdpcapita.*', axis=1).isna().all(axis=1)]\n",
    "\n",
    "\n",
    "\n"
   ]
  },
  {
   "source": [
    "### adding government expense as % of GDP from imf\n"
   ],
   "cell_type": "markdown",
   "metadata": {}
  },
  {
   "cell_type": "code",
   "execution_count": 20,
   "metadata": {},
   "outputs": [
    {
     "output_type": "execute_result",
     "data": {
      "text/plain": [
       "(76, 124)"
      ]
     },
     "metadata": {},
     "execution_count": 20
    }
   ],
   "source": [
    "govexpense = pd.read_csv('data/govexpense.csv').set_index('isocode')\n",
    "df_add_govexpense = pd.merge(df_add_capita, govexpense, how='left', on=\"isocode\")\n",
    "df_add_govexpense.shape\n",
    "# df_add_govexpense[df_add_govexpense.filter(regex='govexpense.*', axis=1).isna().all(axis=1)]"
   ]
  },
  {
   "source": [
    "### adding region and income group data from WDI"
   ],
   "cell_type": "markdown",
   "metadata": {}
  },
  {
   "cell_type": "code",
   "execution_count": 21,
   "metadata": {},
   "outputs": [
    {
     "output_type": "execute_result",
     "data": {
      "text/plain": [
       "                            region          income_type\n",
       "isocode                                                \n",
       "ABW      Latin America & Caribbean          High income\n",
       "AFG                     South Asia           Low income\n",
       "AGO             Sub-Saharan Africa  Lower middle income\n",
       "ALB          Europe & Central Asia  Upper middle income\n",
       "AND          Europe & Central Asia          High income"
      ],
      "text/html": "<div>\n<style scoped>\n    .dataframe tbody tr th:only-of-type {\n        vertical-align: middle;\n    }\n\n    .dataframe tbody tr th {\n        vertical-align: top;\n    }\n\n    .dataframe thead th {\n        text-align: right;\n    }\n</style>\n<table border=\"1\" class=\"dataframe\">\n  <thead>\n    <tr style=\"text-align: right;\">\n      <th></th>\n      <th>region</th>\n      <th>income_type</th>\n    </tr>\n    <tr>\n      <th>isocode</th>\n      <th></th>\n      <th></th>\n    </tr>\n  </thead>\n  <tbody>\n    <tr>\n      <th>ABW</th>\n      <td>Latin America &amp; Caribbean</td>\n      <td>High income</td>\n    </tr>\n    <tr>\n      <th>AFG</th>\n      <td>South Asia</td>\n      <td>Low income</td>\n    </tr>\n    <tr>\n      <th>AGO</th>\n      <td>Sub-Saharan Africa</td>\n      <td>Lower middle income</td>\n    </tr>\n    <tr>\n      <th>ALB</th>\n      <td>Europe &amp; Central Asia</td>\n      <td>Upper middle income</td>\n    </tr>\n    <tr>\n      <th>AND</th>\n      <td>Europe &amp; Central Asia</td>\n      <td>High income</td>\n    </tr>\n  </tbody>\n</table>\n</div>"
     },
     "metadata": {},
     "execution_count": 21
    }
   ],
   "source": [
    "region = pd.read_csv('data/WDICountry.csv').rename(columns={\"Country Code\": \"isocode\"}).set_index('isocode')\n",
    "region_rename = region.rename({'Region': 'region', 'Income Group': 'income_type'}, axis=1)\n",
    "region_filter = region_rename.filter(items=['region', 'income_type'], axis=1)\n",
    "region_filter.head()\n"
   ]
  },
  {
   "cell_type": "code",
   "execution_count": 22,
   "metadata": {},
   "outputs": [],
   "source": [
    "df_add_region = pd.merge(df_add_govexpense, region_filter, how='left', on=\"isocode\")\n",
    "# df_add_region.shape\n",
    "# df_add_region[df_add_region.filter(items=['region', 'income_type'], axis=1).isna().any(axis=1)]"
   ]
  },
  {
   "source": [
    "### adding population data by year from world bank"
   ],
   "cell_type": "markdown",
   "metadata": {}
  },
  {
   "cell_type": "code",
   "execution_count": 23,
   "metadata": {},
   "outputs": [
    {
     "output_type": "execute_result",
     "data": {
      "text/plain": [
       "            pop2003     pop2004     pop2005     pop2006     pop2007  \\\n",
       "isocode                                                               \n",
       "ABW         97017.0     98737.0    100031.0    100834.0    101222.0   \n",
       "AFG      23680871.0  24726684.0  25654277.0  26433049.0  27100536.0   \n",
       "AGO      18121479.0  18758145.0  19433602.0  20149901.0  20905363.0   \n",
       "ALB       3039616.0   3026939.0   3011487.0   2992547.0   2970017.0   \n",
       "AND         73182.0     76244.0     78867.0     80993.0     82684.0   \n",
       "\n",
       "            pop2008     pop2009     pop2010     pop2011     pop2012  \\\n",
       "isocode                                                               \n",
       "ABW        101358.0    101455.0    101669.0    102046.0    102560.0   \n",
       "AFG      27722276.0  28394813.0  29185507.0  30117413.0  31161376.0   \n",
       "AGO      21695634.0  22514281.0  23356246.0  24220661.0  25107931.0   \n",
       "ALB       2947314.0   2927519.0   2913021.0   2905195.0   2900401.0   \n",
       "AND         83862.0     84463.0     84449.0     83747.0     82427.0   \n",
       "\n",
       "            pop2013     pop2014     pop2015     pop2016     pop2017  \\\n",
       "isocode                                                               \n",
       "ABW        103159.0    103774.0    104341.0    104872.0    105366.0   \n",
       "AFG      32269589.0  33370794.0  34413603.0  35383128.0  36296400.0   \n",
       "AGO      26015780.0  26941779.0  27884381.0  28842484.0  29816748.0   \n",
       "ALB       2895092.0   2889104.0   2880703.0   2876101.0   2873457.0   \n",
       "AND         80774.0     79213.0     78011.0     77297.0     77001.0   \n",
       "\n",
       "            pop2018     pop2019  \n",
       "isocode                          \n",
       "ABW        105845.0    106314.0  \n",
       "AFG      37172386.0  38041754.0  \n",
       "AGO      30809762.0  31825295.0  \n",
       "ALB       2866376.0   2854191.0  \n",
       "AND         77006.0     77142.0  "
      ],
      "text/html": "<div>\n<style scoped>\n    .dataframe tbody tr th:only-of-type {\n        vertical-align: middle;\n    }\n\n    .dataframe tbody tr th {\n        vertical-align: top;\n    }\n\n    .dataframe thead th {\n        text-align: right;\n    }\n</style>\n<table border=\"1\" class=\"dataframe\">\n  <thead>\n    <tr style=\"text-align: right;\">\n      <th></th>\n      <th>pop2003</th>\n      <th>pop2004</th>\n      <th>pop2005</th>\n      <th>pop2006</th>\n      <th>pop2007</th>\n      <th>pop2008</th>\n      <th>pop2009</th>\n      <th>pop2010</th>\n      <th>pop2011</th>\n      <th>pop2012</th>\n      <th>pop2013</th>\n      <th>pop2014</th>\n      <th>pop2015</th>\n      <th>pop2016</th>\n      <th>pop2017</th>\n      <th>pop2018</th>\n      <th>pop2019</th>\n    </tr>\n    <tr>\n      <th>isocode</th>\n      <th></th>\n      <th></th>\n      <th></th>\n      <th></th>\n      <th></th>\n      <th></th>\n      <th></th>\n      <th></th>\n      <th></th>\n      <th></th>\n      <th></th>\n      <th></th>\n      <th></th>\n      <th></th>\n      <th></th>\n      <th></th>\n      <th></th>\n    </tr>\n  </thead>\n  <tbody>\n    <tr>\n      <th>ABW</th>\n      <td>97017.0</td>\n      <td>98737.0</td>\n      <td>100031.0</td>\n      <td>100834.0</td>\n      <td>101222.0</td>\n      <td>101358.0</td>\n      <td>101455.0</td>\n      <td>101669.0</td>\n      <td>102046.0</td>\n      <td>102560.0</td>\n      <td>103159.0</td>\n      <td>103774.0</td>\n      <td>104341.0</td>\n      <td>104872.0</td>\n      <td>105366.0</td>\n      <td>105845.0</td>\n      <td>106314.0</td>\n    </tr>\n    <tr>\n      <th>AFG</th>\n      <td>23680871.0</td>\n      <td>24726684.0</td>\n      <td>25654277.0</td>\n      <td>26433049.0</td>\n      <td>27100536.0</td>\n      <td>27722276.0</td>\n      <td>28394813.0</td>\n      <td>29185507.0</td>\n      <td>30117413.0</td>\n      <td>31161376.0</td>\n      <td>32269589.0</td>\n      <td>33370794.0</td>\n      <td>34413603.0</td>\n      <td>35383128.0</td>\n      <td>36296400.0</td>\n      <td>37172386.0</td>\n      <td>38041754.0</td>\n    </tr>\n    <tr>\n      <th>AGO</th>\n      <td>18121479.0</td>\n      <td>18758145.0</td>\n      <td>19433602.0</td>\n      <td>20149901.0</td>\n      <td>20905363.0</td>\n      <td>21695634.0</td>\n      <td>22514281.0</td>\n      <td>23356246.0</td>\n      <td>24220661.0</td>\n      <td>25107931.0</td>\n      <td>26015780.0</td>\n      <td>26941779.0</td>\n      <td>27884381.0</td>\n      <td>28842484.0</td>\n      <td>29816748.0</td>\n      <td>30809762.0</td>\n      <td>31825295.0</td>\n    </tr>\n    <tr>\n      <th>ALB</th>\n      <td>3039616.0</td>\n      <td>3026939.0</td>\n      <td>3011487.0</td>\n      <td>2992547.0</td>\n      <td>2970017.0</td>\n      <td>2947314.0</td>\n      <td>2927519.0</td>\n      <td>2913021.0</td>\n      <td>2905195.0</td>\n      <td>2900401.0</td>\n      <td>2895092.0</td>\n      <td>2889104.0</td>\n      <td>2880703.0</td>\n      <td>2876101.0</td>\n      <td>2873457.0</td>\n      <td>2866376.0</td>\n      <td>2854191.0</td>\n    </tr>\n    <tr>\n      <th>AND</th>\n      <td>73182.0</td>\n      <td>76244.0</td>\n      <td>78867.0</td>\n      <td>80993.0</td>\n      <td>82684.0</td>\n      <td>83862.0</td>\n      <td>84463.0</td>\n      <td>84449.0</td>\n      <td>83747.0</td>\n      <td>82427.0</td>\n      <td>80774.0</td>\n      <td>79213.0</td>\n      <td>78011.0</td>\n      <td>77297.0</td>\n      <td>77001.0</td>\n      <td>77006.0</td>\n      <td>77142.0</td>\n    </tr>\n  </tbody>\n</table>\n</div>"
     },
     "metadata": {},
     "execution_count": 23
    }
   ],
   "source": [
    "pop = pd.read_excel('data/Worldbank_Population_Data.xls', sheet_name='Data', skiprows=3).rename(columns={\"Country Code\": \"isocode\"}).set_index('isocode')\n",
    "pop_filter = pop.filter(regex='^20(10|11|12|.*[3456789]$)', axis=1).add_prefix('pop')\n",
    "pop_filter.head()"
   ]
  },
  {
   "cell_type": "code",
   "execution_count": 24,
   "metadata": {},
   "outputs": [],
   "source": [
    "df_add_pop = pd.merge(df_add_region, pop_filter, how='left', on=\"isocode\")\n",
    "# df_add_pop.shape\n",
    "# df_add_pop[df_add_pop.filter(regex='pop.*', axis=1).isna().all(axis=1)]"
   ]
  },
  {
   "source": [
    "### adding Net Official development assistance (ODA) data in current US dollar from WDI\n",
    "### notice 54/76 countries have no ODA record from 2003 ~ 2019"
   ],
   "cell_type": "markdown",
   "metadata": {}
  },
  {
   "cell_type": "code",
   "execution_count": 25,
   "metadata": {},
   "outputs": [
    {
     "output_type": "execute_result",
     "data": {
      "text/plain": [
       "         oda2003  oda2004  oda2005  oda2006  oda2007  oda2008  oda2009  \\\n",
       "isocode                                                                  \n",
       "ABW          NaN      NaN      NaN      NaN      NaN      NaN      NaN   \n",
       "AFG          NaN      NaN      NaN      NaN      NaN      NaN      NaN   \n",
       "AGO          NaN      NaN      NaN      NaN      NaN      NaN      NaN   \n",
       "ALB          NaN      NaN      NaN      NaN      NaN      NaN      NaN   \n",
       "AND          NaN      NaN      NaN      NaN      NaN      NaN      NaN   \n",
       "\n",
       "         oda2010  oda2011  oda2012  oda2013  oda2014  oda2015  oda2016  \\\n",
       "isocode                                                                  \n",
       "ABW          NaN      NaN      NaN      NaN      NaN      NaN      NaN   \n",
       "AFG          NaN      NaN      NaN      NaN      NaN      NaN      NaN   \n",
       "AGO          NaN      NaN      NaN      NaN      NaN      NaN      NaN   \n",
       "ALB          NaN      NaN      NaN      NaN      NaN      NaN      NaN   \n",
       "AND          NaN      NaN      NaN      NaN      NaN      NaN      NaN   \n",
       "\n",
       "         oda2017  oda2018  oda2019  \n",
       "isocode                             \n",
       "ABW          NaN      NaN      NaN  \n",
       "AFG          NaN      NaN      NaN  \n",
       "AGO          NaN      NaN      NaN  \n",
       "ALB          NaN      NaN      NaN  \n",
       "AND          NaN      NaN      NaN  "
      ],
      "text/html": "<div>\n<style scoped>\n    .dataframe tbody tr th:only-of-type {\n        vertical-align: middle;\n    }\n\n    .dataframe tbody tr th {\n        vertical-align: top;\n    }\n\n    .dataframe thead th {\n        text-align: right;\n    }\n</style>\n<table border=\"1\" class=\"dataframe\">\n  <thead>\n    <tr style=\"text-align: right;\">\n      <th></th>\n      <th>oda2003</th>\n      <th>oda2004</th>\n      <th>oda2005</th>\n      <th>oda2006</th>\n      <th>oda2007</th>\n      <th>oda2008</th>\n      <th>oda2009</th>\n      <th>oda2010</th>\n      <th>oda2011</th>\n      <th>oda2012</th>\n      <th>oda2013</th>\n      <th>oda2014</th>\n      <th>oda2015</th>\n      <th>oda2016</th>\n      <th>oda2017</th>\n      <th>oda2018</th>\n      <th>oda2019</th>\n    </tr>\n    <tr>\n      <th>isocode</th>\n      <th></th>\n      <th></th>\n      <th></th>\n      <th></th>\n      <th></th>\n      <th></th>\n      <th></th>\n      <th></th>\n      <th></th>\n      <th></th>\n      <th></th>\n      <th></th>\n      <th></th>\n      <th></th>\n      <th></th>\n      <th></th>\n      <th></th>\n    </tr>\n  </thead>\n  <tbody>\n    <tr>\n      <th>ABW</th>\n      <td>NaN</td>\n      <td>NaN</td>\n      <td>NaN</td>\n      <td>NaN</td>\n      <td>NaN</td>\n      <td>NaN</td>\n      <td>NaN</td>\n      <td>NaN</td>\n      <td>NaN</td>\n      <td>NaN</td>\n      <td>NaN</td>\n      <td>NaN</td>\n      <td>NaN</td>\n      <td>NaN</td>\n      <td>NaN</td>\n      <td>NaN</td>\n      <td>NaN</td>\n    </tr>\n    <tr>\n      <th>AFG</th>\n      <td>NaN</td>\n      <td>NaN</td>\n      <td>NaN</td>\n      <td>NaN</td>\n      <td>NaN</td>\n      <td>NaN</td>\n      <td>NaN</td>\n      <td>NaN</td>\n      <td>NaN</td>\n      <td>NaN</td>\n      <td>NaN</td>\n      <td>NaN</td>\n      <td>NaN</td>\n      <td>NaN</td>\n      <td>NaN</td>\n      <td>NaN</td>\n      <td>NaN</td>\n    </tr>\n    <tr>\n      <th>AGO</th>\n      <td>NaN</td>\n      <td>NaN</td>\n      <td>NaN</td>\n      <td>NaN</td>\n      <td>NaN</td>\n      <td>NaN</td>\n      <td>NaN</td>\n      <td>NaN</td>\n      <td>NaN</td>\n      <td>NaN</td>\n      <td>NaN</td>\n      <td>NaN</td>\n      <td>NaN</td>\n      <td>NaN</td>\n      <td>NaN</td>\n      <td>NaN</td>\n      <td>NaN</td>\n    </tr>\n    <tr>\n      <th>ALB</th>\n      <td>NaN</td>\n      <td>NaN</td>\n      <td>NaN</td>\n      <td>NaN</td>\n      <td>NaN</td>\n      <td>NaN</td>\n      <td>NaN</td>\n      <td>NaN</td>\n      <td>NaN</td>\n      <td>NaN</td>\n      <td>NaN</td>\n      <td>NaN</td>\n      <td>NaN</td>\n      <td>NaN</td>\n      <td>NaN</td>\n      <td>NaN</td>\n      <td>NaN</td>\n    </tr>\n    <tr>\n      <th>AND</th>\n      <td>NaN</td>\n      <td>NaN</td>\n      <td>NaN</td>\n      <td>NaN</td>\n      <td>NaN</td>\n      <td>NaN</td>\n      <td>NaN</td>\n      <td>NaN</td>\n      <td>NaN</td>\n      <td>NaN</td>\n      <td>NaN</td>\n      <td>NaN</td>\n      <td>NaN</td>\n      <td>NaN</td>\n      <td>NaN</td>\n      <td>NaN</td>\n      <td>NaN</td>\n    </tr>\n  </tbody>\n</table>\n</div>"
     },
     "metadata": {},
     "execution_count": 25
    }
   ],
   "source": [
    "oda = pd.read_excel('data/oda.xls', sheet_name='Data', skiprows=3).rename(columns={\"Country Code\": \"isocode\"}).set_index('isocode')\n",
    "oda_filter = oda.filter(regex='^20(10|11|12|.*[3456789]$)', axis=1).add_prefix('oda')\n",
    "# oda_replace = oda.replace({0: np.nan})\n",
    "oda_filter.head()"
   ]
  },
  {
   "cell_type": "code",
   "execution_count": 26,
   "metadata": {},
   "outputs": [],
   "source": [
    "oda_filter['oda_int'] = oda_filter.mean(axis=1).notna().astype(int)"
   ]
  },
  {
   "cell_type": "code",
   "execution_count": 27,
   "metadata": {},
   "outputs": [
    {
     "output_type": "execute_result",
     "data": {
      "text/plain": [
       "(0, 161)"
      ]
     },
     "metadata": {},
     "execution_count": 27
    }
   ],
   "source": [
    "df_add_oda = pd.merge(df_add_pop, oda_filter, how='left', on=\"isocode\")\n",
    "# df_add_oda.shape\n",
    "df_add_oda[df_add_oda.filter(regex='oda.*', axis=1).isna().all(axis=1)].shape"
   ]
  },
  {
   "cell_type": "code",
   "execution_count": 28,
   "metadata": {},
   "outputs": [],
   "source": [
    "#oda as % of GNI \n",
    "# odagni = pd.read_excel('data/oda gni.xls', sheet_name='Data', skiprows=3).rename(columns={\"Country Code\": \"isocode\"}).set_index('isocode')\n",
    "# odagni_filter = odagni.filter(regex='^20(10|11|12|.*[3456789]$)', axis=1).add_prefix('odagni')\n",
    "# odagni_filter.head()\n",
    "# df_add_odagni = pd.merge(df_add_oda, odagni_filter, how='left', on=\"isocode\")\n",
    "# df_add_odagni.shape\n",
    "# df_add_odagni[df_add_odagni.filter(regex='odagni.*', axis=1).isna().all(axis=1)].shape"
   ]
  },
  {
   "source": [
    "### adding net official aid recieve or not in current US dollar \n",
    "### our countries of interest only appear in 2003, 2004, 2008, 2009, 2011\n",
    "### notice 63/76 countries does not have any record"
   ],
   "cell_type": "markdown",
   "metadata": {}
  },
  {
   "cell_type": "code",
   "execution_count": 29,
   "metadata": {},
   "outputs": [
    {
     "output_type": "execute_result",
     "data": {
      "text/plain": [
       "              aid2003       aid2004  aid2005  aid2006  aid2007  aid2008  \\\n",
       "isocode                                                                   \n",
       "ABW      7.622000e+07 -1.132000e+07      NaN      NaN      NaN      NaN   \n",
       "AFG               NaN           NaN      NaN      NaN      NaN      NaN   \n",
       "AGO               NaN           NaN      NaN      NaN      NaN      NaN   \n",
       "ALB               NaN           NaN      NaN      NaN      NaN      NaN   \n",
       "AND               NaN           NaN      NaN      NaN      NaN      NaN   \n",
       "\n",
       "         aid2009  aid2010  aid2011  aid2012  aid2013  aid2014  aid2015  \\\n",
       "isocode                                                                  \n",
       "ABW          NaN      NaN      NaN      NaN      NaN      NaN      NaN   \n",
       "AFG          NaN      NaN      NaN      NaN      NaN      NaN      NaN   \n",
       "AGO          NaN      NaN      NaN      NaN      NaN      NaN      NaN   \n",
       "ALB          NaN      NaN      NaN      NaN      NaN      NaN      NaN   \n",
       "AND          NaN      NaN      NaN      NaN      NaN      NaN      NaN   \n",
       "\n",
       "         aid2016  aid2017  aid2018  aid2019  \n",
       "isocode                                      \n",
       "ABW          NaN      NaN      NaN      NaN  \n",
       "AFG          NaN      NaN      NaN      NaN  \n",
       "AGO          NaN      NaN      NaN      NaN  \n",
       "ALB          NaN      NaN      NaN      NaN  \n",
       "AND          NaN      NaN      NaN      NaN  "
      ],
      "text/html": "<div>\n<style scoped>\n    .dataframe tbody tr th:only-of-type {\n        vertical-align: middle;\n    }\n\n    .dataframe tbody tr th {\n        vertical-align: top;\n    }\n\n    .dataframe thead th {\n        text-align: right;\n    }\n</style>\n<table border=\"1\" class=\"dataframe\">\n  <thead>\n    <tr style=\"text-align: right;\">\n      <th></th>\n      <th>aid2003</th>\n      <th>aid2004</th>\n      <th>aid2005</th>\n      <th>aid2006</th>\n      <th>aid2007</th>\n      <th>aid2008</th>\n      <th>aid2009</th>\n      <th>aid2010</th>\n      <th>aid2011</th>\n      <th>aid2012</th>\n      <th>aid2013</th>\n      <th>aid2014</th>\n      <th>aid2015</th>\n      <th>aid2016</th>\n      <th>aid2017</th>\n      <th>aid2018</th>\n      <th>aid2019</th>\n    </tr>\n    <tr>\n      <th>isocode</th>\n      <th></th>\n      <th></th>\n      <th></th>\n      <th></th>\n      <th></th>\n      <th></th>\n      <th></th>\n      <th></th>\n      <th></th>\n      <th></th>\n      <th></th>\n      <th></th>\n      <th></th>\n      <th></th>\n      <th></th>\n      <th></th>\n      <th></th>\n    </tr>\n  </thead>\n  <tbody>\n    <tr>\n      <th>ABW</th>\n      <td>7.622000e+07</td>\n      <td>-1.132000e+07</td>\n      <td>NaN</td>\n      <td>NaN</td>\n      <td>NaN</td>\n      <td>NaN</td>\n      <td>NaN</td>\n      <td>NaN</td>\n      <td>NaN</td>\n      <td>NaN</td>\n      <td>NaN</td>\n      <td>NaN</td>\n      <td>NaN</td>\n      <td>NaN</td>\n      <td>NaN</td>\n      <td>NaN</td>\n      <td>NaN</td>\n    </tr>\n    <tr>\n      <th>AFG</th>\n      <td>NaN</td>\n      <td>NaN</td>\n      <td>NaN</td>\n      <td>NaN</td>\n      <td>NaN</td>\n      <td>NaN</td>\n      <td>NaN</td>\n      <td>NaN</td>\n      <td>NaN</td>\n      <td>NaN</td>\n      <td>NaN</td>\n      <td>NaN</td>\n      <td>NaN</td>\n      <td>NaN</td>\n      <td>NaN</td>\n      <td>NaN</td>\n      <td>NaN</td>\n    </tr>\n    <tr>\n      <th>AGO</th>\n      <td>NaN</td>\n      <td>NaN</td>\n      <td>NaN</td>\n      <td>NaN</td>\n      <td>NaN</td>\n      <td>NaN</td>\n      <td>NaN</td>\n      <td>NaN</td>\n      <td>NaN</td>\n      <td>NaN</td>\n      <td>NaN</td>\n      <td>NaN</td>\n      <td>NaN</td>\n      <td>NaN</td>\n      <td>NaN</td>\n      <td>NaN</td>\n      <td>NaN</td>\n    </tr>\n    <tr>\n      <th>ALB</th>\n      <td>NaN</td>\n      <td>NaN</td>\n      <td>NaN</td>\n      <td>NaN</td>\n      <td>NaN</td>\n      <td>NaN</td>\n      <td>NaN</td>\n      <td>NaN</td>\n      <td>NaN</td>\n      <td>NaN</td>\n      <td>NaN</td>\n      <td>NaN</td>\n      <td>NaN</td>\n      <td>NaN</td>\n      <td>NaN</td>\n      <td>NaN</td>\n      <td>NaN</td>\n    </tr>\n    <tr>\n      <th>AND</th>\n      <td>NaN</td>\n      <td>NaN</td>\n      <td>NaN</td>\n      <td>NaN</td>\n      <td>NaN</td>\n      <td>NaN</td>\n      <td>NaN</td>\n      <td>NaN</td>\n      <td>NaN</td>\n      <td>NaN</td>\n      <td>NaN</td>\n      <td>NaN</td>\n      <td>NaN</td>\n      <td>NaN</td>\n      <td>NaN</td>\n      <td>NaN</td>\n      <td>NaN</td>\n    </tr>\n  </tbody>\n</table>\n</div>"
     },
     "metadata": {},
     "execution_count": 29
    }
   ],
   "source": [
    "\n",
    "aid = pd.read_excel('data/offial aid received.xls', sheet_name='Data', skiprows=3).rename(columns={\"Country Code\": \"isocode\"}).set_index('isocode')\n",
    "aid_filter = aid.filter(regex='^20(10|11|12|.*[3456789]$)', axis=1).add_prefix('aid')\n",
    "aid_filter.head()"
   ]
  },
  {
   "cell_type": "code",
   "execution_count": 30,
   "metadata": {},
   "outputs": [
    {
     "output_type": "execute_result",
     "data": {
      "text/plain": [
       "(76, 162)"
      ]
     },
     "metadata": {},
     "execution_count": 30
    }
   ],
   "source": [
    "aid_int = aid_filter.mean(axis=1).notna().astype(int)\n",
    "df_add_aid = pd.merge(df_add_oda, aid_int.rename('aid'), how='left', on=\"isocode\")\n",
    "df_add_aid.shape\n"
   ]
  },
  {
   "source": [
    "### adding columns of GDP / population * 100 by year and compare with GDP per capita to ensure corectness\n",
    "# df_capita = convert_percent('gdp','pop', df_add_aid)\n",
    "# df_capita[['gdp2003_pop', 'gdpcapita2003', 'gdp2004_pop', 'gdpcapita2004']]"
   ],
   "cell_type": "code",
   "metadata": {},
   "execution_count": 31,
   "outputs": []
  },
  {
   "cell_type": "code",
   "execution_count": 32,
   "metadata": {},
   "outputs": [
    {
     "output_type": "execute_result",
     "data": {
      "text/plain": [
       "       country isocode  patience  risktaking  posrecip  negrecip  altruism  \\\n",
       "0  Afghanistan     AFG -0.201360    0.120764  0.289641  0.254712  0.166455   \n",
       "1      Algeria     DZA  0.059815    0.391530 -0.598255  0.254901 -0.009968   \n",
       "2    Argentina     ARG -0.229308    0.041503  0.159679 -0.140457  0.027347   \n",
       "3    Australia     AUS  0.657004    0.137137  0.069660  0.022190  0.155331   \n",
       "4      Austria     AUT  0.608285   -0.061829  0.161047 -0.055415 -0.035363   \n",
       "\n",
       "      trust  demo2019  demo2018  demo2017  demo2016  demo2015  demo2014  \\\n",
       "0  0.315964      2.85      2.97      2.55      2.55      2.77      2.77   \n",
       "1 -0.177371      4.01      3.50      3.56      3.56      3.95      3.83   \n",
       "2 -0.206733      7.02      7.02      6.96      6.96      7.02      6.84   \n",
       "3  0.298973      9.09      9.09      9.09      9.01      9.01      9.01   \n",
       "4  0.154628      8.29      8.29      8.42      8.41      8.54      8.54   \n",
       "\n",
       "   demo2013  demo2012  demo2011  demo2010  demo2008  demo2006  funding2003  \\\n",
       "0      2.48      2.48      2.48      2.48      3.02      3.06          NaN   \n",
       "1      3.83      3.83      3.44      3.44      3.32      3.17    3178000.0   \n",
       "2      6.84      6.84      6.84      6.84      6.63      6.63          NaN   \n",
       "3      9.13      9.22      9.22      9.22      9.09      9.09   87736725.0   \n",
       "4      8.48      8.62      8.49      8.49      8.49      8.69    3245126.0   \n",
       "\n",
       "   pledge2003  funding2004  pledge2004  funding2005  pledge2005  funding2006  \\\n",
       "0         NaN          NaN         NaN     500000.0         NaN          NaN   \n",
       "1         NaN          NaN         NaN   14769749.0         NaN          NaN   \n",
       "2         NaN          NaN         NaN          NaN         NaN          NaN   \n",
       "3         NaN   69076907.0         NaN   85073844.0  29859474.0   89757369.0   \n",
       "4         NaN    6186042.0         NaN   18423937.0         NaN    5624017.0   \n",
       "\n",
       "   pledge2006  funding2007  pledge2007  funding2008  pledge2008  funding2009  \\\n",
       "0         NaN          NaN         NaN   24000000.0         NaN     136493.0   \n",
       "1         NaN      10000.0         NaN      10000.0         NaN      76432.0   \n",
       "2         NaN          NaN         NaN     139000.0         NaN      31100.0   \n",
       "3   2262517.0  109371739.0   3817867.0  143674846.0  39494954.0  196311166.0   \n",
       "4    765306.0    7885069.0         NaN   15280397.0   1017509.0   16939495.0   \n",
       "\n",
       "   pledge2009  funding2010  pledge2010  funding2011  pledge2011  funding2012  \\\n",
       "0         NaN    2379910.0         NaN       3360.0         NaN       3000.0   \n",
       "1         NaN   10110696.0         NaN   16010000.0   7000000.0          NaN   \n",
       "2         NaN      50000.0         NaN     107332.0         NaN     130826.0   \n",
       "3   8733624.0  293856560.0   1923773.0  312711049.0         NaN  271004092.0   \n",
       "4    348675.0   25973202.0         NaN   18074363.0    500409.0   16333100.0   \n",
       "\n",
       "   pledge2012  funding2013  pledge2013  funding2014  pledge2014  funding2015  \\\n",
       "0         NaN       2000.0         NaN          NaN         NaN       1000.0   \n",
       "1         NaN    2000000.0         NaN      10000.0         NaN          NaN   \n",
       "2         NaN     165718.0         NaN     230500.0         NaN          NaN   \n",
       "3   2809573.0  263194483.0         NaN  269253261.0         NaN  166236181.0   \n",
       "4         NaN   17699567.0         NaN   18504048.0         NaN   18786627.0   \n",
       "\n",
       "   pledge2015  funding2016  pledge2016  funding2017  pledge2017  funding2018  \\\n",
       "0         NaN          NaN         NaN          NaN         NaN    3870542.0   \n",
       "1         NaN     660000.0         NaN      10000.0         NaN      10000.0   \n",
       "2         NaN     176272.0         NaN    1344591.0         NaN     265000.0   \n",
       "3    762236.0  205207886.0   2724017.0  243900706.0   2712522.0  248119692.0   \n",
       "4         NaN   35663228.0         NaN   49109105.0         NaN   26096928.0   \n",
       "\n",
       "   pledge2018  funding2019  pledge2019  funding2020  pledge2020       gdp2003  \\\n",
       "0         NaN     903177.0         NaN          NaN         NaN  4.515559e+09   \n",
       "1         NaN          NaN         NaN          NaN         NaN  6.786485e+10   \n",
       "2         NaN     155000.0         NaN          NaN         NaN  1.275870e+11   \n",
       "3         NaN  310639840.0         NaN  271692972.0         NaN  4.664881e+11   \n",
       "4   6670328.0   32476153.0   1540154.0   19142494.0         NaN  2.616958e+11   \n",
       "\n",
       "        gdp2004       gdp2005       gdp2006       gdp2007       gdp2008  \\\n",
       "0  5.226779e+09  6.209138e+09  6.971286e+09  9.747880e+09  1.010923e+10   \n",
       "1  8.532477e+10  1.031984e+11  1.170254e+11  1.349773e+11  1.710006e+11   \n",
       "2  1.646579e+11  1.987371e+11  2.325573e+11  2.875305e+11  3.615580e+11   \n",
       "3  6.124904e+11  6.934078e+11  7.460542e+11  8.530996e+11  1.053996e+12   \n",
       "4  3.009042e+11  3.159744e+11  3.359986e+11  3.886914e+11  4.302943e+11   \n",
       "\n",
       "        gdp2009       gdp2010       gdp2011       gdp2012       gdp2013  \\\n",
       "0  1.243909e+10  1.585657e+10  1.780429e+10  2.000160e+10  2.056107e+10   \n",
       "1  1.372107e+11  1.612078e+11  2.000195e+11  2.090603e+11  2.097548e+11   \n",
       "2  3.329765e+11  4.236274e+11  5.301633e+11  5.459824e+11  5.520251e+11   \n",
       "3  9.278052e+11  1.146138e+12  1.396650e+12  1.546152e+12  1.576184e+12   \n",
       "4  4.001723e+11  3.918927e+11  4.311203e+11  4.094252e+11  4.300687e+11   \n",
       "\n",
       "        gdp2014       gdp2015       gdp2016       gdp2017       gdp2018  \\\n",
       "0  2.048489e+10  1.990711e+10  1.936264e+10  2.019176e+10  1.948438e+10   \n",
       "1  2.138088e+11  1.659794e+11  1.600338e+11  1.673894e+11  1.737580e+11   \n",
       "2  5.263197e+11  5.947493e+11  5.575314e+11  6.426959e+11  5.198715e+11   \n",
       "3  1.467484e+12  1.351694e+12  1.208847e+12  1.330136e+12  1.433904e+12   \n",
       "4  4.419961e+11  3.818176e+11  3.952277e+11  4.183162e+11  4.555083e+11   \n",
       "\n",
       "        gdp2019  funding_gdp2003  funding_gdp2004  funding_gdp2005  \\\n",
       "0  1.910135e+10              NaN              NaN           0.0081   \n",
       "1  1.699882e+11           0.0047              NaN           0.0143   \n",
       "2  4.496634e+11              NaN              NaN              NaN   \n",
       "3  1.392681e+12           0.0188           0.0113           0.0123   \n",
       "4  4.463147e+11           0.0012           0.0021           0.0058   \n",
       "\n",
       "   funding_gdp2006  funding_gdp2007  funding_gdp2008  funding_gdp2009  \\\n",
       "0              NaN              NaN           0.2374           0.0011   \n",
       "1              NaN           0.0000           0.0000           0.0001   \n",
       "2              NaN              NaN           0.0000           0.0000   \n",
       "3           0.0120           0.0128           0.0136           0.0212   \n",
       "4           0.0017           0.0020           0.0036           0.0042   \n",
       "\n",
       "   funding_gdp2010  funding_gdp2011  funding_gdp2012  funding_gdp2013  \\\n",
       "0           0.0150           0.0000           0.0000           0.0000   \n",
       "1           0.0063           0.0080              NaN           0.0010   \n",
       "2           0.0000           0.0000           0.0000           0.0000   \n",
       "3           0.0256           0.0224           0.0175           0.0167   \n",
       "4           0.0066           0.0042           0.0040           0.0041   \n",
       "\n",
       "   funding_gdp2014  funding_gdp2015  funding_gdp2016  funding_gdp2017  \\\n",
       "0              NaN           0.0000              NaN              NaN   \n",
       "1           0.0000              NaN           0.0004           0.0000   \n",
       "2           0.0000              NaN           0.0000           0.0002   \n",
       "3           0.0183           0.0123           0.0170           0.0183   \n",
       "4           0.0042           0.0049           0.0090           0.0117   \n",
       "\n",
       "   funding_gdp2018  funding_gdp2019  gdpcapita2003  gdpcapita2004  \\\n",
       "0           0.0199           0.0047     190.683814     211.382117   \n",
       "1           0.0000              NaN    2103.413058    2609.945608   \n",
       "2           0.0001           0.0000    3349.806124    4277.721351   \n",
       "3           0.0173           0.0223   23447.031001   30430.676437   \n",
       "4           0.0057           0.0073   32222.897241   36821.521468   \n",
       "\n",
       "   gdpcapita2005  gdpcapita2006  gdpcapita2007  gdpcapita2008  gdpcapita2009  \\\n",
       "0     242.031285     263.733692     359.693238     364.660745     438.076034   \n",
       "1    3113.101094    3478.654871    3950.519369    4923.629265    3883.261271   \n",
       "2    5109.851325    5919.012037    7245.448317    9020.873098    8225.137176   \n",
       "3   33999.242858   36044.922811   40960.054495   49601.656708   42772.359166   \n",
       "4   38403.133877   40635.281816   46855.771745   51708.765754   47963.179402   \n",
       "\n",
       "   gdpcapita2010  gdpcapita2011  gdpcapita2012  gdpcapita2013  gdpcapita2014  \\\n",
       "0     543.303042     591.162759     641.871479     637.165523     613.856689   \n",
       "1    4480.799271    5455.853529    5592.257099    5499.581487    5493.025590   \n",
       "2   10385.964432   12848.864197   13082.664326   13080.254732   12334.798245   \n",
       "3   52022.125596   62517.833747   68012.147901   68150.107041   62510.791171   \n",
       "4   46858.043273   51374.958407   48567.695286   50716.708706   51717.495941   \n",
       "\n",
       "   gdpcapita2015  gdpcapita2016  gdpcapita2017  gdpcapita2018  gdpcapita2019  \\\n",
       "0     578.466353     547.228110     556.302002     524.162881     502.115487   \n",
       "1    4177.892515    3946.443977    4044.276600    4114.715061    3948.343279   \n",
       "2   13789.060425   12790.242473   14591.863381   11683.949622   10006.148974   \n",
       "3   56755.721712   49971.131456   54066.471269   57395.919466   54907.101910   \n",
       "4   44178.047378   45237.805092   47549.079040   51525.046434   50277.275087   \n",
       "\n",
       "   govexpense2003  govexpense2004  govexpense2005  govexpense2006  \\\n",
       "0          11.927          15.069          15.698          18.303   \n",
       "1          32.202          30.765          27.108          28.853   \n",
       "2          22.026          23.030          24.426          26.617   \n",
       "3          35.012          34.943          34.691          34.633   \n",
       "4          49.926          53.704          51.154          50.378   \n",
       "\n",
       "   govexpense2007  govexpense2008  govexpense2009  govexpense2010  \\\n",
       "0          21.478          20.918          21.170          20.801   \n",
       "1          33.236          37.950          42.600          37.251   \n",
       "2          29.551          30.762          34.524          33.358   \n",
       "3          34.384          35.113          37.825          37.033   \n",
       "4          49.242          49.871          54.141          52.835   \n",
       "\n",
       "   govexpense2011  govexpense2012  govexpense2013  govexpense2014  \\\n",
       "0          21.937          25.028          24.977          25.402   \n",
       "1          40.123          43.543          36.186          40.606   \n",
       "2          34.902          36.821          37.603          38.853   \n",
       "3          36.352          36.577          36.494          36.832   \n",
       "4          50.892          51.213          51.648          52.325   \n",
       "\n",
       "   govexpense2015  govexpense2016  govexpense2017  govexpense2018  \\\n",
       "0          25.947          28.029          27.732          28.936   \n",
       "1          45.811          41.665          39.205          38.166   \n",
       "2          41.366          41.522          41.121          39.490   \n",
       "3          37.336          37.282          36.741          36.876   \n",
       "4          51.027          50.068          48.931          48.650   \n",
       "\n",
       "   govexpense2019                      region          income_type  \\\n",
       "0          27.999                  South Asia           Low income   \n",
       "1          38.241  Middle East & North Africa  Lower middle income   \n",
       "2          38.327   Latin America & Caribbean  Upper middle income   \n",
       "3          38.451         East Asia & Pacific          High income   \n",
       "4          48.210       Europe & Central Asia          High income   \n",
       "\n",
       "      pop2003     pop2004     pop2005     pop2006     pop2007     pop2008  \\\n",
       "0  23680871.0  24726684.0  25654277.0  26433049.0  27100536.0  27722276.0   \n",
       "1  32264157.0  32692163.0  33149724.0  33641002.0  34166972.0  34730608.0   \n",
       "2  38087868.0  38491972.0  38892931.0  39289878.0  39684295.0  40080160.0   \n",
       "3  19895400.0  20127400.0  20394800.0  20697900.0  20827600.0  21249200.0   \n",
       "4   8121423.0   8171966.0   8227829.0   8268641.0   8295487.0   8321496.0   \n",
       "\n",
       "      pop2009     pop2010     pop2011     pop2012     pop2013     pop2014  \\\n",
       "0  28394813.0  29185507.0  30117413.0  31161376.0  32269589.0  33370794.0   \n",
       "1  35333881.0  35977455.0  36661444.0  37383887.0  38140132.0  38923687.0   \n",
       "2  40482788.0  40788453.0  41261490.0  41733271.0  42202935.0  42669500.0   \n",
       "3  21691700.0  22031750.0  22340024.0  22733465.0  23128129.0  23475686.0   \n",
       "4   8343323.0   8363404.0   8391643.0   8429991.0   8479823.0   8546356.0   \n",
       "\n",
       "      pop2015     pop2016     pop2017     pop2018     pop2019       oda2003  \\\n",
       "0  34413603.0  35383128.0  36296400.0  37172386.0  38041754.0           NaN   \n",
       "1  39728025.0  40551404.0  41389198.0  42228429.0  43053054.0           NaN   \n",
       "2  43131966.0  43590368.0  44044811.0  44494502.0  44938712.0           NaN   \n",
       "3  23815995.0  24190907.0  24601860.0  24982688.0  25364307.0  1.218600e+09   \n",
       "4   8642699.0   8736668.0   8797566.0   8840521.0   8877067.0  5.047800e+08   \n",
       "\n",
       "        oda2004       oda2005       oda2006       oda2007       oda2008  \\\n",
       "0           NaN           NaN           NaN           NaN           NaN   \n",
       "1           NaN           NaN           NaN           NaN           NaN   \n",
       "2           NaN           NaN           NaN           NaN           NaN   \n",
       "3  1.460130e+09  1.680160e+09  2.123220e+09  2.668520e+09  2.954070e+09   \n",
       "4  6.776300e+08  1.573320e+09  1.498430e+09  1.808460e+09  1.713510e+09   \n",
       "\n",
       "        oda2009       oda2010       oda2011       oda2012       oda2013  \\\n",
       "0           NaN           NaN           NaN           NaN           NaN   \n",
       "1           NaN           NaN           NaN           NaN           NaN   \n",
       "2           NaN           NaN           NaN           NaN           NaN   \n",
       "3  2.761610e+09  3.826100e+09  4.982910e+09  5.402700e+09  4.845550e+09   \n",
       "4  1.141780e+09  1.208420e+09  1.111370e+09  1.105750e+09  1.171490e+09   \n",
       "\n",
       "        oda2014       oda2015       oda2016  oda2017  oda2018  oda2019  \\\n",
       "0           NaN           NaN           NaN      NaN      NaN      NaN   \n",
       "1           NaN           NaN           NaN      NaN      NaN      NaN   \n",
       "2           NaN           NaN           NaN      NaN      NaN      NaN   \n",
       "3  4.382420e+09  3.493610e+09  3.277520e+09      NaN      NaN      NaN   \n",
       "4  1.234520e+09  1.323510e+09  1.635480e+09      NaN      NaN      NaN   \n",
       "\n",
       "   oda_int  aid  \n",
       "0        0    0  \n",
       "1        0    0  \n",
       "2        0    0  \n",
       "3        1    0  \n",
       "4        1    0  "
      ],
      "text/html": "<div>\n<style scoped>\n    .dataframe tbody tr th:only-of-type {\n        vertical-align: middle;\n    }\n\n    .dataframe tbody tr th {\n        vertical-align: top;\n    }\n\n    .dataframe thead th {\n        text-align: right;\n    }\n</style>\n<table border=\"1\" class=\"dataframe\">\n  <thead>\n    <tr style=\"text-align: right;\">\n      <th></th>\n      <th>country</th>\n      <th>isocode</th>\n      <th>patience</th>\n      <th>risktaking</th>\n      <th>posrecip</th>\n      <th>negrecip</th>\n      <th>altruism</th>\n      <th>trust</th>\n      <th>demo2019</th>\n      <th>demo2018</th>\n      <th>demo2017</th>\n      <th>demo2016</th>\n      <th>demo2015</th>\n      <th>demo2014</th>\n      <th>demo2013</th>\n      <th>demo2012</th>\n      <th>demo2011</th>\n      <th>demo2010</th>\n      <th>demo2008</th>\n      <th>demo2006</th>\n      <th>funding2003</th>\n      <th>pledge2003</th>\n      <th>funding2004</th>\n      <th>pledge2004</th>\n      <th>funding2005</th>\n      <th>pledge2005</th>\n      <th>funding2006</th>\n      <th>pledge2006</th>\n      <th>funding2007</th>\n      <th>pledge2007</th>\n      <th>funding2008</th>\n      <th>pledge2008</th>\n      <th>funding2009</th>\n      <th>pledge2009</th>\n      <th>funding2010</th>\n      <th>pledge2010</th>\n      <th>funding2011</th>\n      <th>pledge2011</th>\n      <th>funding2012</th>\n      <th>pledge2012</th>\n      <th>funding2013</th>\n      <th>pledge2013</th>\n      <th>funding2014</th>\n      <th>pledge2014</th>\n      <th>funding2015</th>\n      <th>pledge2015</th>\n      <th>funding2016</th>\n      <th>pledge2016</th>\n      <th>funding2017</th>\n      <th>pledge2017</th>\n      <th>funding2018</th>\n      <th>pledge2018</th>\n      <th>funding2019</th>\n      <th>pledge2019</th>\n      <th>funding2020</th>\n      <th>pledge2020</th>\n      <th>gdp2003</th>\n      <th>gdp2004</th>\n      <th>gdp2005</th>\n      <th>gdp2006</th>\n      <th>gdp2007</th>\n      <th>gdp2008</th>\n      <th>gdp2009</th>\n      <th>gdp2010</th>\n      <th>gdp2011</th>\n      <th>gdp2012</th>\n      <th>gdp2013</th>\n      <th>gdp2014</th>\n      <th>gdp2015</th>\n      <th>gdp2016</th>\n      <th>gdp2017</th>\n      <th>gdp2018</th>\n      <th>gdp2019</th>\n      <th>funding_gdp2003</th>\n      <th>funding_gdp2004</th>\n      <th>funding_gdp2005</th>\n      <th>funding_gdp2006</th>\n      <th>funding_gdp2007</th>\n      <th>funding_gdp2008</th>\n      <th>funding_gdp2009</th>\n      <th>funding_gdp2010</th>\n      <th>funding_gdp2011</th>\n      <th>funding_gdp2012</th>\n      <th>funding_gdp2013</th>\n      <th>funding_gdp2014</th>\n      <th>funding_gdp2015</th>\n      <th>funding_gdp2016</th>\n      <th>funding_gdp2017</th>\n      <th>funding_gdp2018</th>\n      <th>funding_gdp2019</th>\n      <th>gdpcapita2003</th>\n      <th>gdpcapita2004</th>\n      <th>gdpcapita2005</th>\n      <th>gdpcapita2006</th>\n      <th>gdpcapita2007</th>\n      <th>gdpcapita2008</th>\n      <th>gdpcapita2009</th>\n      <th>gdpcapita2010</th>\n      <th>gdpcapita2011</th>\n      <th>gdpcapita2012</th>\n      <th>gdpcapita2013</th>\n      <th>gdpcapita2014</th>\n      <th>gdpcapita2015</th>\n      <th>gdpcapita2016</th>\n      <th>gdpcapita2017</th>\n      <th>gdpcapita2018</th>\n      <th>gdpcapita2019</th>\n      <th>govexpense2003</th>\n      <th>govexpense2004</th>\n      <th>govexpense2005</th>\n      <th>govexpense2006</th>\n      <th>govexpense2007</th>\n      <th>govexpense2008</th>\n      <th>govexpense2009</th>\n      <th>govexpense2010</th>\n      <th>govexpense2011</th>\n      <th>govexpense2012</th>\n      <th>govexpense2013</th>\n      <th>govexpense2014</th>\n      <th>govexpense2015</th>\n      <th>govexpense2016</th>\n      <th>govexpense2017</th>\n      <th>govexpense2018</th>\n      <th>govexpense2019</th>\n      <th>region</th>\n      <th>income_type</th>\n      <th>pop2003</th>\n      <th>pop2004</th>\n      <th>pop2005</th>\n      <th>pop2006</th>\n      <th>pop2007</th>\n      <th>pop2008</th>\n      <th>pop2009</th>\n      <th>pop2010</th>\n      <th>pop2011</th>\n      <th>pop2012</th>\n      <th>pop2013</th>\n      <th>pop2014</th>\n      <th>pop2015</th>\n      <th>pop2016</th>\n      <th>pop2017</th>\n      <th>pop2018</th>\n      <th>pop2019</th>\n      <th>oda2003</th>\n      <th>oda2004</th>\n      <th>oda2005</th>\n      <th>oda2006</th>\n      <th>oda2007</th>\n      <th>oda2008</th>\n      <th>oda2009</th>\n      <th>oda2010</th>\n      <th>oda2011</th>\n      <th>oda2012</th>\n      <th>oda2013</th>\n      <th>oda2014</th>\n      <th>oda2015</th>\n      <th>oda2016</th>\n      <th>oda2017</th>\n      <th>oda2018</th>\n      <th>oda2019</th>\n      <th>oda_int</th>\n      <th>aid</th>\n    </tr>\n  </thead>\n  <tbody>\n    <tr>\n      <th>0</th>\n      <td>Afghanistan</td>\n      <td>AFG</td>\n      <td>-0.201360</td>\n      <td>0.120764</td>\n      <td>0.289641</td>\n      <td>0.254712</td>\n      <td>0.166455</td>\n      <td>0.315964</td>\n      <td>2.85</td>\n      <td>2.97</td>\n      <td>2.55</td>\n      <td>2.55</td>\n      <td>2.77</td>\n      <td>2.77</td>\n      <td>2.48</td>\n      <td>2.48</td>\n      <td>2.48</td>\n      <td>2.48</td>\n      <td>3.02</td>\n      <td>3.06</td>\n      <td>NaN</td>\n      <td>NaN</td>\n      <td>NaN</td>\n      <td>NaN</td>\n      <td>500000.0</td>\n      <td>NaN</td>\n      <td>NaN</td>\n      <td>NaN</td>\n      <td>NaN</td>\n      <td>NaN</td>\n      <td>24000000.0</td>\n      <td>NaN</td>\n      <td>136493.0</td>\n      <td>NaN</td>\n      <td>2379910.0</td>\n      <td>NaN</td>\n      <td>3360.0</td>\n      <td>NaN</td>\n      <td>3000.0</td>\n      <td>NaN</td>\n      <td>2000.0</td>\n      <td>NaN</td>\n      <td>NaN</td>\n      <td>NaN</td>\n      <td>1000.0</td>\n      <td>NaN</td>\n      <td>NaN</td>\n      <td>NaN</td>\n      <td>NaN</td>\n      <td>NaN</td>\n      <td>3870542.0</td>\n      <td>NaN</td>\n      <td>903177.0</td>\n      <td>NaN</td>\n      <td>NaN</td>\n      <td>NaN</td>\n      <td>4.515559e+09</td>\n      <td>5.226779e+09</td>\n      <td>6.209138e+09</td>\n      <td>6.971286e+09</td>\n      <td>9.747880e+09</td>\n      <td>1.010923e+10</td>\n      <td>1.243909e+10</td>\n      <td>1.585657e+10</td>\n      <td>1.780429e+10</td>\n      <td>2.000160e+10</td>\n      <td>2.056107e+10</td>\n      <td>2.048489e+10</td>\n      <td>1.990711e+10</td>\n      <td>1.936264e+10</td>\n      <td>2.019176e+10</td>\n      <td>1.948438e+10</td>\n      <td>1.910135e+10</td>\n      <td>NaN</td>\n      <td>NaN</td>\n      <td>0.0081</td>\n      <td>NaN</td>\n      <td>NaN</td>\n      <td>0.2374</td>\n      <td>0.0011</td>\n      <td>0.0150</td>\n      <td>0.0000</td>\n      <td>0.0000</td>\n      <td>0.0000</td>\n      <td>NaN</td>\n      <td>0.0000</td>\n      <td>NaN</td>\n      <td>NaN</td>\n      <td>0.0199</td>\n      <td>0.0047</td>\n      <td>190.683814</td>\n      <td>211.382117</td>\n      <td>242.031285</td>\n      <td>263.733692</td>\n      <td>359.693238</td>\n      <td>364.660745</td>\n      <td>438.076034</td>\n      <td>543.303042</td>\n      <td>591.162759</td>\n      <td>641.871479</td>\n      <td>637.165523</td>\n      <td>613.856689</td>\n      <td>578.466353</td>\n      <td>547.228110</td>\n      <td>556.302002</td>\n      <td>524.162881</td>\n      <td>502.115487</td>\n      <td>11.927</td>\n      <td>15.069</td>\n      <td>15.698</td>\n      <td>18.303</td>\n      <td>21.478</td>\n      <td>20.918</td>\n      <td>21.170</td>\n      <td>20.801</td>\n      <td>21.937</td>\n      <td>25.028</td>\n      <td>24.977</td>\n      <td>25.402</td>\n      <td>25.947</td>\n      <td>28.029</td>\n      <td>27.732</td>\n      <td>28.936</td>\n      <td>27.999</td>\n      <td>South Asia</td>\n      <td>Low income</td>\n      <td>23680871.0</td>\n      <td>24726684.0</td>\n      <td>25654277.0</td>\n      <td>26433049.0</td>\n      <td>27100536.0</td>\n      <td>27722276.0</td>\n      <td>28394813.0</td>\n      <td>29185507.0</td>\n      <td>30117413.0</td>\n      <td>31161376.0</td>\n      <td>32269589.0</td>\n      <td>33370794.0</td>\n      <td>34413603.0</td>\n      <td>35383128.0</td>\n      <td>36296400.0</td>\n      <td>37172386.0</td>\n      <td>38041754.0</td>\n      <td>NaN</td>\n      <td>NaN</td>\n      <td>NaN</td>\n      <td>NaN</td>\n      <td>NaN</td>\n      <td>NaN</td>\n      <td>NaN</td>\n      <td>NaN</td>\n      <td>NaN</td>\n      <td>NaN</td>\n      <td>NaN</td>\n      <td>NaN</td>\n      <td>NaN</td>\n      <td>NaN</td>\n      <td>NaN</td>\n      <td>NaN</td>\n      <td>NaN</td>\n      <td>0</td>\n      <td>0</td>\n    </tr>\n    <tr>\n      <th>1</th>\n      <td>Algeria</td>\n      <td>DZA</td>\n      <td>0.059815</td>\n      <td>0.391530</td>\n      <td>-0.598255</td>\n      <td>0.254901</td>\n      <td>-0.009968</td>\n      <td>-0.177371</td>\n      <td>4.01</td>\n      <td>3.50</td>\n      <td>3.56</td>\n      <td>3.56</td>\n      <td>3.95</td>\n      <td>3.83</td>\n      <td>3.83</td>\n      <td>3.83</td>\n      <td>3.44</td>\n      <td>3.44</td>\n      <td>3.32</td>\n      <td>3.17</td>\n      <td>3178000.0</td>\n      <td>NaN</td>\n      <td>NaN</td>\n      <td>NaN</td>\n      <td>14769749.0</td>\n      <td>NaN</td>\n      <td>NaN</td>\n      <td>NaN</td>\n      <td>10000.0</td>\n      <td>NaN</td>\n      <td>10000.0</td>\n      <td>NaN</td>\n      <td>76432.0</td>\n      <td>NaN</td>\n      <td>10110696.0</td>\n      <td>NaN</td>\n      <td>16010000.0</td>\n      <td>7000000.0</td>\n      <td>NaN</td>\n      <td>NaN</td>\n      <td>2000000.0</td>\n      <td>NaN</td>\n      <td>10000.0</td>\n      <td>NaN</td>\n      <td>NaN</td>\n      <td>NaN</td>\n      <td>660000.0</td>\n      <td>NaN</td>\n      <td>10000.0</td>\n      <td>NaN</td>\n      <td>10000.0</td>\n      <td>NaN</td>\n      <td>NaN</td>\n      <td>NaN</td>\n      <td>NaN</td>\n      <td>NaN</td>\n      <td>6.786485e+10</td>\n      <td>8.532477e+10</td>\n      <td>1.031984e+11</td>\n      <td>1.170254e+11</td>\n      <td>1.349773e+11</td>\n      <td>1.710006e+11</td>\n      <td>1.372107e+11</td>\n      <td>1.612078e+11</td>\n      <td>2.000195e+11</td>\n      <td>2.090603e+11</td>\n      <td>2.097548e+11</td>\n      <td>2.138088e+11</td>\n      <td>1.659794e+11</td>\n      <td>1.600338e+11</td>\n      <td>1.673894e+11</td>\n      <td>1.737580e+11</td>\n      <td>1.699882e+11</td>\n      <td>0.0047</td>\n      <td>NaN</td>\n      <td>0.0143</td>\n      <td>NaN</td>\n      <td>0.0000</td>\n      <td>0.0000</td>\n      <td>0.0001</td>\n      <td>0.0063</td>\n      <td>0.0080</td>\n      <td>NaN</td>\n      <td>0.0010</td>\n      <td>0.0000</td>\n      <td>NaN</td>\n      <td>0.0004</td>\n      <td>0.0000</td>\n      <td>0.0000</td>\n      <td>NaN</td>\n      <td>2103.413058</td>\n      <td>2609.945608</td>\n      <td>3113.101094</td>\n      <td>3478.654871</td>\n      <td>3950.519369</td>\n      <td>4923.629265</td>\n      <td>3883.261271</td>\n      <td>4480.799271</td>\n      <td>5455.853529</td>\n      <td>5592.257099</td>\n      <td>5499.581487</td>\n      <td>5493.025590</td>\n      <td>4177.892515</td>\n      <td>3946.443977</td>\n      <td>4044.276600</td>\n      <td>4114.715061</td>\n      <td>3948.343279</td>\n      <td>32.202</td>\n      <td>30.765</td>\n      <td>27.108</td>\n      <td>28.853</td>\n      <td>33.236</td>\n      <td>37.950</td>\n      <td>42.600</td>\n      <td>37.251</td>\n      <td>40.123</td>\n      <td>43.543</td>\n      <td>36.186</td>\n      <td>40.606</td>\n      <td>45.811</td>\n      <td>41.665</td>\n      <td>39.205</td>\n      <td>38.166</td>\n      <td>38.241</td>\n      <td>Middle East &amp; North Africa</td>\n      <td>Lower middle income</td>\n      <td>32264157.0</td>\n      <td>32692163.0</td>\n      <td>33149724.0</td>\n      <td>33641002.0</td>\n      <td>34166972.0</td>\n      <td>34730608.0</td>\n      <td>35333881.0</td>\n      <td>35977455.0</td>\n      <td>36661444.0</td>\n      <td>37383887.0</td>\n      <td>38140132.0</td>\n      <td>38923687.0</td>\n      <td>39728025.0</td>\n      <td>40551404.0</td>\n      <td>41389198.0</td>\n      <td>42228429.0</td>\n      <td>43053054.0</td>\n      <td>NaN</td>\n      <td>NaN</td>\n      <td>NaN</td>\n      <td>NaN</td>\n      <td>NaN</td>\n      <td>NaN</td>\n      <td>NaN</td>\n      <td>NaN</td>\n      <td>NaN</td>\n      <td>NaN</td>\n      <td>NaN</td>\n      <td>NaN</td>\n      <td>NaN</td>\n      <td>NaN</td>\n      <td>NaN</td>\n      <td>NaN</td>\n      <td>NaN</td>\n      <td>0</td>\n      <td>0</td>\n    </tr>\n    <tr>\n      <th>2</th>\n      <td>Argentina</td>\n      <td>ARG</td>\n      <td>-0.229308</td>\n      <td>0.041503</td>\n      <td>0.159679</td>\n      <td>-0.140457</td>\n      <td>0.027347</td>\n      <td>-0.206733</td>\n      <td>7.02</td>\n      <td>7.02</td>\n      <td>6.96</td>\n      <td>6.96</td>\n      <td>7.02</td>\n      <td>6.84</td>\n      <td>6.84</td>\n      <td>6.84</td>\n      <td>6.84</td>\n      <td>6.84</td>\n      <td>6.63</td>\n      <td>6.63</td>\n      <td>NaN</td>\n      <td>NaN</td>\n      <td>NaN</td>\n      <td>NaN</td>\n      <td>NaN</td>\n      <td>NaN</td>\n      <td>NaN</td>\n      <td>NaN</td>\n      <td>NaN</td>\n      <td>NaN</td>\n      <td>139000.0</td>\n      <td>NaN</td>\n      <td>31100.0</td>\n      <td>NaN</td>\n      <td>50000.0</td>\n      <td>NaN</td>\n      <td>107332.0</td>\n      <td>NaN</td>\n      <td>130826.0</td>\n      <td>NaN</td>\n      <td>165718.0</td>\n      <td>NaN</td>\n      <td>230500.0</td>\n      <td>NaN</td>\n      <td>NaN</td>\n      <td>NaN</td>\n      <td>176272.0</td>\n      <td>NaN</td>\n      <td>1344591.0</td>\n      <td>NaN</td>\n      <td>265000.0</td>\n      <td>NaN</td>\n      <td>155000.0</td>\n      <td>NaN</td>\n      <td>NaN</td>\n      <td>NaN</td>\n      <td>1.275870e+11</td>\n      <td>1.646579e+11</td>\n      <td>1.987371e+11</td>\n      <td>2.325573e+11</td>\n      <td>2.875305e+11</td>\n      <td>3.615580e+11</td>\n      <td>3.329765e+11</td>\n      <td>4.236274e+11</td>\n      <td>5.301633e+11</td>\n      <td>5.459824e+11</td>\n      <td>5.520251e+11</td>\n      <td>5.263197e+11</td>\n      <td>5.947493e+11</td>\n      <td>5.575314e+11</td>\n      <td>6.426959e+11</td>\n      <td>5.198715e+11</td>\n      <td>4.496634e+11</td>\n      <td>NaN</td>\n      <td>NaN</td>\n      <td>NaN</td>\n      <td>NaN</td>\n      <td>NaN</td>\n      <td>0.0000</td>\n      <td>0.0000</td>\n      <td>0.0000</td>\n      <td>0.0000</td>\n      <td>0.0000</td>\n      <td>0.0000</td>\n      <td>0.0000</td>\n      <td>NaN</td>\n      <td>0.0000</td>\n      <td>0.0002</td>\n      <td>0.0001</td>\n      <td>0.0000</td>\n      <td>3349.806124</td>\n      <td>4277.721351</td>\n      <td>5109.851325</td>\n      <td>5919.012037</td>\n      <td>7245.448317</td>\n      <td>9020.873098</td>\n      <td>8225.137176</td>\n      <td>10385.964432</td>\n      <td>12848.864197</td>\n      <td>13082.664326</td>\n      <td>13080.254732</td>\n      <td>12334.798245</td>\n      <td>13789.060425</td>\n      <td>12790.242473</td>\n      <td>14591.863381</td>\n      <td>11683.949622</td>\n      <td>10006.148974</td>\n      <td>22.026</td>\n      <td>23.030</td>\n      <td>24.426</td>\n      <td>26.617</td>\n      <td>29.551</td>\n      <td>30.762</td>\n      <td>34.524</td>\n      <td>33.358</td>\n      <td>34.902</td>\n      <td>36.821</td>\n      <td>37.603</td>\n      <td>38.853</td>\n      <td>41.366</td>\n      <td>41.522</td>\n      <td>41.121</td>\n      <td>39.490</td>\n      <td>38.327</td>\n      <td>Latin America &amp; Caribbean</td>\n      <td>Upper middle income</td>\n      <td>38087868.0</td>\n      <td>38491972.0</td>\n      <td>38892931.0</td>\n      <td>39289878.0</td>\n      <td>39684295.0</td>\n      <td>40080160.0</td>\n      <td>40482788.0</td>\n      <td>40788453.0</td>\n      <td>41261490.0</td>\n      <td>41733271.0</td>\n      <td>42202935.0</td>\n      <td>42669500.0</td>\n      <td>43131966.0</td>\n      <td>43590368.0</td>\n      <td>44044811.0</td>\n      <td>44494502.0</td>\n      <td>44938712.0</td>\n      <td>NaN</td>\n      <td>NaN</td>\n      <td>NaN</td>\n      <td>NaN</td>\n      <td>NaN</td>\n      <td>NaN</td>\n      <td>NaN</td>\n      <td>NaN</td>\n      <td>NaN</td>\n      <td>NaN</td>\n      <td>NaN</td>\n      <td>NaN</td>\n      <td>NaN</td>\n      <td>NaN</td>\n      <td>NaN</td>\n      <td>NaN</td>\n      <td>NaN</td>\n      <td>0</td>\n      <td>0</td>\n    </tr>\n    <tr>\n      <th>3</th>\n      <td>Australia</td>\n      <td>AUS</td>\n      <td>0.657004</td>\n      <td>0.137137</td>\n      <td>0.069660</td>\n      <td>0.022190</td>\n      <td>0.155331</td>\n      <td>0.298973</td>\n      <td>9.09</td>\n      <td>9.09</td>\n      <td>9.09</td>\n      <td>9.01</td>\n      <td>9.01</td>\n      <td>9.01</td>\n      <td>9.13</td>\n      <td>9.22</td>\n      <td>9.22</td>\n      <td>9.22</td>\n      <td>9.09</td>\n      <td>9.09</td>\n      <td>87736725.0</td>\n      <td>NaN</td>\n      <td>69076907.0</td>\n      <td>NaN</td>\n      <td>85073844.0</td>\n      <td>29859474.0</td>\n      <td>89757369.0</td>\n      <td>2262517.0</td>\n      <td>109371739.0</td>\n      <td>3817867.0</td>\n      <td>143674846.0</td>\n      <td>39494954.0</td>\n      <td>196311166.0</td>\n      <td>8733624.0</td>\n      <td>293856560.0</td>\n      <td>1923773.0</td>\n      <td>312711049.0</td>\n      <td>NaN</td>\n      <td>271004092.0</td>\n      <td>2809573.0</td>\n      <td>263194483.0</td>\n      <td>NaN</td>\n      <td>269253261.0</td>\n      <td>NaN</td>\n      <td>166236181.0</td>\n      <td>762236.0</td>\n      <td>205207886.0</td>\n      <td>2724017.0</td>\n      <td>243900706.0</td>\n      <td>2712522.0</td>\n      <td>248119692.0</td>\n      <td>NaN</td>\n      <td>310639840.0</td>\n      <td>NaN</td>\n      <td>271692972.0</td>\n      <td>NaN</td>\n      <td>4.664881e+11</td>\n      <td>6.124904e+11</td>\n      <td>6.934078e+11</td>\n      <td>7.460542e+11</td>\n      <td>8.530996e+11</td>\n      <td>1.053996e+12</td>\n      <td>9.278052e+11</td>\n      <td>1.146138e+12</td>\n      <td>1.396650e+12</td>\n      <td>1.546152e+12</td>\n      <td>1.576184e+12</td>\n      <td>1.467484e+12</td>\n      <td>1.351694e+12</td>\n      <td>1.208847e+12</td>\n      <td>1.330136e+12</td>\n      <td>1.433904e+12</td>\n      <td>1.392681e+12</td>\n      <td>0.0188</td>\n      <td>0.0113</td>\n      <td>0.0123</td>\n      <td>0.0120</td>\n      <td>0.0128</td>\n      <td>0.0136</td>\n      <td>0.0212</td>\n      <td>0.0256</td>\n      <td>0.0224</td>\n      <td>0.0175</td>\n      <td>0.0167</td>\n      <td>0.0183</td>\n      <td>0.0123</td>\n      <td>0.0170</td>\n      <td>0.0183</td>\n      <td>0.0173</td>\n      <td>0.0223</td>\n      <td>23447.031001</td>\n      <td>30430.676437</td>\n      <td>33999.242858</td>\n      <td>36044.922811</td>\n      <td>40960.054495</td>\n      <td>49601.656708</td>\n      <td>42772.359166</td>\n      <td>52022.125596</td>\n      <td>62517.833747</td>\n      <td>68012.147901</td>\n      <td>68150.107041</td>\n      <td>62510.791171</td>\n      <td>56755.721712</td>\n      <td>49971.131456</td>\n      <td>54066.471269</td>\n      <td>57395.919466</td>\n      <td>54907.101910</td>\n      <td>35.012</td>\n      <td>34.943</td>\n      <td>34.691</td>\n      <td>34.633</td>\n      <td>34.384</td>\n      <td>35.113</td>\n      <td>37.825</td>\n      <td>37.033</td>\n      <td>36.352</td>\n      <td>36.577</td>\n      <td>36.494</td>\n      <td>36.832</td>\n      <td>37.336</td>\n      <td>37.282</td>\n      <td>36.741</td>\n      <td>36.876</td>\n      <td>38.451</td>\n      <td>East Asia &amp; Pacific</td>\n      <td>High income</td>\n      <td>19895400.0</td>\n      <td>20127400.0</td>\n      <td>20394800.0</td>\n      <td>20697900.0</td>\n      <td>20827600.0</td>\n      <td>21249200.0</td>\n      <td>21691700.0</td>\n      <td>22031750.0</td>\n      <td>22340024.0</td>\n      <td>22733465.0</td>\n      <td>23128129.0</td>\n      <td>23475686.0</td>\n      <td>23815995.0</td>\n      <td>24190907.0</td>\n      <td>24601860.0</td>\n      <td>24982688.0</td>\n      <td>25364307.0</td>\n      <td>1.218600e+09</td>\n      <td>1.460130e+09</td>\n      <td>1.680160e+09</td>\n      <td>2.123220e+09</td>\n      <td>2.668520e+09</td>\n      <td>2.954070e+09</td>\n      <td>2.761610e+09</td>\n      <td>3.826100e+09</td>\n      <td>4.982910e+09</td>\n      <td>5.402700e+09</td>\n      <td>4.845550e+09</td>\n      <td>4.382420e+09</td>\n      <td>3.493610e+09</td>\n      <td>3.277520e+09</td>\n      <td>NaN</td>\n      <td>NaN</td>\n      <td>NaN</td>\n      <td>1</td>\n      <td>0</td>\n    </tr>\n    <tr>\n      <th>4</th>\n      <td>Austria</td>\n      <td>AUT</td>\n      <td>0.608285</td>\n      <td>-0.061829</td>\n      <td>0.161047</td>\n      <td>-0.055415</td>\n      <td>-0.035363</td>\n      <td>0.154628</td>\n      <td>8.29</td>\n      <td>8.29</td>\n      <td>8.42</td>\n      <td>8.41</td>\n      <td>8.54</td>\n      <td>8.54</td>\n      <td>8.48</td>\n      <td>8.62</td>\n      <td>8.49</td>\n      <td>8.49</td>\n      <td>8.49</td>\n      <td>8.69</td>\n      <td>3245126.0</td>\n      <td>NaN</td>\n      <td>6186042.0</td>\n      <td>NaN</td>\n      <td>18423937.0</td>\n      <td>NaN</td>\n      <td>5624017.0</td>\n      <td>765306.0</td>\n      <td>7885069.0</td>\n      <td>NaN</td>\n      <td>15280397.0</td>\n      <td>1017509.0</td>\n      <td>16939495.0</td>\n      <td>348675.0</td>\n      <td>25973202.0</td>\n      <td>NaN</td>\n      <td>18074363.0</td>\n      <td>500409.0</td>\n      <td>16333100.0</td>\n      <td>NaN</td>\n      <td>17699567.0</td>\n      <td>NaN</td>\n      <td>18504048.0</td>\n      <td>NaN</td>\n      <td>18786627.0</td>\n      <td>NaN</td>\n      <td>35663228.0</td>\n      <td>NaN</td>\n      <td>49109105.0</td>\n      <td>NaN</td>\n      <td>26096928.0</td>\n      <td>6670328.0</td>\n      <td>32476153.0</td>\n      <td>1540154.0</td>\n      <td>19142494.0</td>\n      <td>NaN</td>\n      <td>2.616958e+11</td>\n      <td>3.009042e+11</td>\n      <td>3.159744e+11</td>\n      <td>3.359986e+11</td>\n      <td>3.886914e+11</td>\n      <td>4.302943e+11</td>\n      <td>4.001723e+11</td>\n      <td>3.918927e+11</td>\n      <td>4.311203e+11</td>\n      <td>4.094252e+11</td>\n      <td>4.300687e+11</td>\n      <td>4.419961e+11</td>\n      <td>3.818176e+11</td>\n      <td>3.952277e+11</td>\n      <td>4.183162e+11</td>\n      <td>4.555083e+11</td>\n      <td>4.463147e+11</td>\n      <td>0.0012</td>\n      <td>0.0021</td>\n      <td>0.0058</td>\n      <td>0.0017</td>\n      <td>0.0020</td>\n      <td>0.0036</td>\n      <td>0.0042</td>\n      <td>0.0066</td>\n      <td>0.0042</td>\n      <td>0.0040</td>\n      <td>0.0041</td>\n      <td>0.0042</td>\n      <td>0.0049</td>\n      <td>0.0090</td>\n      <td>0.0117</td>\n      <td>0.0057</td>\n      <td>0.0073</td>\n      <td>32222.897241</td>\n      <td>36821.521468</td>\n      <td>38403.133877</td>\n      <td>40635.281816</td>\n      <td>46855.771745</td>\n      <td>51708.765754</td>\n      <td>47963.179402</td>\n      <td>46858.043273</td>\n      <td>51374.958407</td>\n      <td>48567.695286</td>\n      <td>50716.708706</td>\n      <td>51717.495941</td>\n      <td>44178.047378</td>\n      <td>45237.805092</td>\n      <td>47549.079040</td>\n      <td>51525.046434</td>\n      <td>50277.275087</td>\n      <td>49.926</td>\n      <td>53.704</td>\n      <td>51.154</td>\n      <td>50.378</td>\n      <td>49.242</td>\n      <td>49.871</td>\n      <td>54.141</td>\n      <td>52.835</td>\n      <td>50.892</td>\n      <td>51.213</td>\n      <td>51.648</td>\n      <td>52.325</td>\n      <td>51.027</td>\n      <td>50.068</td>\n      <td>48.931</td>\n      <td>48.650</td>\n      <td>48.210</td>\n      <td>Europe &amp; Central Asia</td>\n      <td>High income</td>\n      <td>8121423.0</td>\n      <td>8171966.0</td>\n      <td>8227829.0</td>\n      <td>8268641.0</td>\n      <td>8295487.0</td>\n      <td>8321496.0</td>\n      <td>8343323.0</td>\n      <td>8363404.0</td>\n      <td>8391643.0</td>\n      <td>8429991.0</td>\n      <td>8479823.0</td>\n      <td>8546356.0</td>\n      <td>8642699.0</td>\n      <td>8736668.0</td>\n      <td>8797566.0</td>\n      <td>8840521.0</td>\n      <td>8877067.0</td>\n      <td>5.047800e+08</td>\n      <td>6.776300e+08</td>\n      <td>1.573320e+09</td>\n      <td>1.498430e+09</td>\n      <td>1.808460e+09</td>\n      <td>1.713510e+09</td>\n      <td>1.141780e+09</td>\n      <td>1.208420e+09</td>\n      <td>1.111370e+09</td>\n      <td>1.105750e+09</td>\n      <td>1.171490e+09</td>\n      <td>1.234520e+09</td>\n      <td>1.323510e+09</td>\n      <td>1.635480e+09</td>\n      <td>NaN</td>\n      <td>NaN</td>\n      <td>NaN</td>\n      <td>1</td>\n      <td>0</td>\n    </tr>\n  </tbody>\n</table>\n</div>"
     },
     "metadata": {},
     "execution_count": 32
    }
   ],
   "source": [
    "df_add_aid.head()"
   ]
  },
  {
   "source": [
    "### add in dummy variables indicates whether in OECD or G20 in 2019"
   ],
   "cell_type": "markdown",
   "metadata": {}
  },
  {
   "cell_type": "code",
   "execution_count": 33,
   "metadata": {},
   "outputs": [],
   "source": [
    "OECD = ['Austria', 'Belgium', 'Czech Republic', 'Denmark', 'Estonia', 'Finland', 'France', 'Germany', 'Greece', 'Hungary', 'Iceland', 'Ireland', 'Italy', 'Latvia', 'Lithuania', 'Luxembourg', 'Netherlands', 'Norway', 'Poland', 'Portugal', 'Slovak Republic', 'Slovenia', 'Spain', 'Sweden', 'Switzerland', 'United Kingdom']\n",
    "EU = [ 'Austria', 'Belgium', 'Bulgaria', 'Croatia', 'Czech Republic', 'Denmark', 'Estonia', 'Finland', 'France', 'Germany', 'Greece', 'Hungary', 'Ireland', 'Italy', 'Latvia', 'Lithuania', 'Luxembourg', 'Malta', 'Netherlands', 'Poland', 'Portugal', 'Romania', 'Slovakia', 'Slovenia', 'Spain', 'Sweden']\n",
    "G20_else = ['Argentina', 'Australia', 'Brazil', 'Canada', 'China', 'France', 'Germany', 'India', 'Indonesia', 'Italy', 'Japan', 'Mexico', 'Russia', 'Saudi Arabia', 'South Africa', 'South Korea', 'Turkey', 'United Kingdom', 'United States']\n",
    "G20 = G20_else + EU\n"
   ]
  },
  {
   "cell_type": "code",
   "execution_count": 34,
   "metadata": {},
   "outputs": [
    {
     "output_type": "execute_result",
     "data": {
      "text/plain": [
       "       country isocode  patience  risktaking  posrecip  negrecip  altruism  \\\n",
       "0  Afghanistan     AFG -0.201360    0.120764  0.289641  0.254712  0.166455   \n",
       "1      Algeria     DZA  0.059815    0.391530 -0.598255  0.254901 -0.009968   \n",
       "2    Argentina     ARG -0.229308    0.041503  0.159679 -0.140457  0.027347   \n",
       "3    Australia     AUS  0.657004    0.137137  0.069660  0.022190  0.155331   \n",
       "4      Austria     AUT  0.608285   -0.061829  0.161047 -0.055415 -0.035363   \n",
       "\n",
       "      trust  demo2019  demo2018  demo2017  demo2016  demo2015  demo2014  \\\n",
       "0  0.315964      2.85      2.97      2.55      2.55      2.77      2.77   \n",
       "1 -0.177371      4.01      3.50      3.56      3.56      3.95      3.83   \n",
       "2 -0.206733      7.02      7.02      6.96      6.96      7.02      6.84   \n",
       "3  0.298973      9.09      9.09      9.09      9.01      9.01      9.01   \n",
       "4  0.154628      8.29      8.29      8.42      8.41      8.54      8.54   \n",
       "\n",
       "   demo2013  demo2012  demo2011  demo2010  demo2008  demo2006  funding2003  \\\n",
       "0      2.48      2.48      2.48      2.48      3.02      3.06          NaN   \n",
       "1      3.83      3.83      3.44      3.44      3.32      3.17    3178000.0   \n",
       "2      6.84      6.84      6.84      6.84      6.63      6.63          NaN   \n",
       "3      9.13      9.22      9.22      9.22      9.09      9.09   87736725.0   \n",
       "4      8.48      8.62      8.49      8.49      8.49      8.69    3245126.0   \n",
       "\n",
       "   pledge2003  funding2004  pledge2004  funding2005  pledge2005  funding2006  \\\n",
       "0         NaN          NaN         NaN     500000.0         NaN          NaN   \n",
       "1         NaN          NaN         NaN   14769749.0         NaN          NaN   \n",
       "2         NaN          NaN         NaN          NaN         NaN          NaN   \n",
       "3         NaN   69076907.0         NaN   85073844.0  29859474.0   89757369.0   \n",
       "4         NaN    6186042.0         NaN   18423937.0         NaN    5624017.0   \n",
       "\n",
       "   pledge2006  funding2007  pledge2007  funding2008  pledge2008  funding2009  \\\n",
       "0         NaN          NaN         NaN   24000000.0         NaN     136493.0   \n",
       "1         NaN      10000.0         NaN      10000.0         NaN      76432.0   \n",
       "2         NaN          NaN         NaN     139000.0         NaN      31100.0   \n",
       "3   2262517.0  109371739.0   3817867.0  143674846.0  39494954.0  196311166.0   \n",
       "4    765306.0    7885069.0         NaN   15280397.0   1017509.0   16939495.0   \n",
       "\n",
       "   pledge2009  funding2010  pledge2010  funding2011  pledge2011  funding2012  \\\n",
       "0         NaN    2379910.0         NaN       3360.0         NaN       3000.0   \n",
       "1         NaN   10110696.0         NaN   16010000.0   7000000.0          NaN   \n",
       "2         NaN      50000.0         NaN     107332.0         NaN     130826.0   \n",
       "3   8733624.0  293856560.0   1923773.0  312711049.0         NaN  271004092.0   \n",
       "4    348675.0   25973202.0         NaN   18074363.0    500409.0   16333100.0   \n",
       "\n",
       "   pledge2012  funding2013  pledge2013  funding2014  pledge2014  funding2015  \\\n",
       "0         NaN       2000.0         NaN          NaN         NaN       1000.0   \n",
       "1         NaN    2000000.0         NaN      10000.0         NaN          NaN   \n",
       "2         NaN     165718.0         NaN     230500.0         NaN          NaN   \n",
       "3   2809573.0  263194483.0         NaN  269253261.0         NaN  166236181.0   \n",
       "4         NaN   17699567.0         NaN   18504048.0         NaN   18786627.0   \n",
       "\n",
       "   pledge2015  funding2016  pledge2016  funding2017  pledge2017  funding2018  \\\n",
       "0         NaN          NaN         NaN          NaN         NaN    3870542.0   \n",
       "1         NaN     660000.0         NaN      10000.0         NaN      10000.0   \n",
       "2         NaN     176272.0         NaN    1344591.0         NaN     265000.0   \n",
       "3    762236.0  205207886.0   2724017.0  243900706.0   2712522.0  248119692.0   \n",
       "4         NaN   35663228.0         NaN   49109105.0         NaN   26096928.0   \n",
       "\n",
       "   pledge2018  funding2019  pledge2019  funding2020  pledge2020       gdp2003  \\\n",
       "0         NaN     903177.0         NaN          NaN         NaN  4.515559e+09   \n",
       "1         NaN          NaN         NaN          NaN         NaN  6.786485e+10   \n",
       "2         NaN     155000.0         NaN          NaN         NaN  1.275870e+11   \n",
       "3         NaN  310639840.0         NaN  271692972.0         NaN  4.664881e+11   \n",
       "4   6670328.0   32476153.0   1540154.0   19142494.0         NaN  2.616958e+11   \n",
       "\n",
       "        gdp2004       gdp2005       gdp2006       gdp2007       gdp2008  \\\n",
       "0  5.226779e+09  6.209138e+09  6.971286e+09  9.747880e+09  1.010923e+10   \n",
       "1  8.532477e+10  1.031984e+11  1.170254e+11  1.349773e+11  1.710006e+11   \n",
       "2  1.646579e+11  1.987371e+11  2.325573e+11  2.875305e+11  3.615580e+11   \n",
       "3  6.124904e+11  6.934078e+11  7.460542e+11  8.530996e+11  1.053996e+12   \n",
       "4  3.009042e+11  3.159744e+11  3.359986e+11  3.886914e+11  4.302943e+11   \n",
       "\n",
       "        gdp2009       gdp2010       gdp2011       gdp2012       gdp2013  \\\n",
       "0  1.243909e+10  1.585657e+10  1.780429e+10  2.000160e+10  2.056107e+10   \n",
       "1  1.372107e+11  1.612078e+11  2.000195e+11  2.090603e+11  2.097548e+11   \n",
       "2  3.329765e+11  4.236274e+11  5.301633e+11  5.459824e+11  5.520251e+11   \n",
       "3  9.278052e+11  1.146138e+12  1.396650e+12  1.546152e+12  1.576184e+12   \n",
       "4  4.001723e+11  3.918927e+11  4.311203e+11  4.094252e+11  4.300687e+11   \n",
       "\n",
       "        gdp2014       gdp2015       gdp2016       gdp2017       gdp2018  \\\n",
       "0  2.048489e+10  1.990711e+10  1.936264e+10  2.019176e+10  1.948438e+10   \n",
       "1  2.138088e+11  1.659794e+11  1.600338e+11  1.673894e+11  1.737580e+11   \n",
       "2  5.263197e+11  5.947493e+11  5.575314e+11  6.426959e+11  5.198715e+11   \n",
       "3  1.467484e+12  1.351694e+12  1.208847e+12  1.330136e+12  1.433904e+12   \n",
       "4  4.419961e+11  3.818176e+11  3.952277e+11  4.183162e+11  4.555083e+11   \n",
       "\n",
       "        gdp2019  funding_gdp2003  funding_gdp2004  funding_gdp2005  \\\n",
       "0  1.910135e+10              NaN              NaN           0.0081   \n",
       "1  1.699882e+11           0.0047              NaN           0.0143   \n",
       "2  4.496634e+11              NaN              NaN              NaN   \n",
       "3  1.392681e+12           0.0188           0.0113           0.0123   \n",
       "4  4.463147e+11           0.0012           0.0021           0.0058   \n",
       "\n",
       "   funding_gdp2006  funding_gdp2007  funding_gdp2008  funding_gdp2009  \\\n",
       "0              NaN              NaN           0.2374           0.0011   \n",
       "1              NaN           0.0000           0.0000           0.0001   \n",
       "2              NaN              NaN           0.0000           0.0000   \n",
       "3           0.0120           0.0128           0.0136           0.0212   \n",
       "4           0.0017           0.0020           0.0036           0.0042   \n",
       "\n",
       "   funding_gdp2010  funding_gdp2011  funding_gdp2012  funding_gdp2013  \\\n",
       "0           0.0150           0.0000           0.0000           0.0000   \n",
       "1           0.0063           0.0080              NaN           0.0010   \n",
       "2           0.0000           0.0000           0.0000           0.0000   \n",
       "3           0.0256           0.0224           0.0175           0.0167   \n",
       "4           0.0066           0.0042           0.0040           0.0041   \n",
       "\n",
       "   funding_gdp2014  funding_gdp2015  funding_gdp2016  funding_gdp2017  \\\n",
       "0              NaN           0.0000              NaN              NaN   \n",
       "1           0.0000              NaN           0.0004           0.0000   \n",
       "2           0.0000              NaN           0.0000           0.0002   \n",
       "3           0.0183           0.0123           0.0170           0.0183   \n",
       "4           0.0042           0.0049           0.0090           0.0117   \n",
       "\n",
       "   funding_gdp2018  funding_gdp2019  gdpcapita2003  gdpcapita2004  \\\n",
       "0           0.0199           0.0047     190.683814     211.382117   \n",
       "1           0.0000              NaN    2103.413058    2609.945608   \n",
       "2           0.0001           0.0000    3349.806124    4277.721351   \n",
       "3           0.0173           0.0223   23447.031001   30430.676437   \n",
       "4           0.0057           0.0073   32222.897241   36821.521468   \n",
       "\n",
       "   gdpcapita2005  gdpcapita2006  gdpcapita2007  gdpcapita2008  gdpcapita2009  \\\n",
       "0     242.031285     263.733692     359.693238     364.660745     438.076034   \n",
       "1    3113.101094    3478.654871    3950.519369    4923.629265    3883.261271   \n",
       "2    5109.851325    5919.012037    7245.448317    9020.873098    8225.137176   \n",
       "3   33999.242858   36044.922811   40960.054495   49601.656708   42772.359166   \n",
       "4   38403.133877   40635.281816   46855.771745   51708.765754   47963.179402   \n",
       "\n",
       "   gdpcapita2010  gdpcapita2011  gdpcapita2012  gdpcapita2013  gdpcapita2014  \\\n",
       "0     543.303042     591.162759     641.871479     637.165523     613.856689   \n",
       "1    4480.799271    5455.853529    5592.257099    5499.581487    5493.025590   \n",
       "2   10385.964432   12848.864197   13082.664326   13080.254732   12334.798245   \n",
       "3   52022.125596   62517.833747   68012.147901   68150.107041   62510.791171   \n",
       "4   46858.043273   51374.958407   48567.695286   50716.708706   51717.495941   \n",
       "\n",
       "   gdpcapita2015  gdpcapita2016  gdpcapita2017  gdpcapita2018  gdpcapita2019  \\\n",
       "0     578.466353     547.228110     556.302002     524.162881     502.115487   \n",
       "1    4177.892515    3946.443977    4044.276600    4114.715061    3948.343279   \n",
       "2   13789.060425   12790.242473   14591.863381   11683.949622   10006.148974   \n",
       "3   56755.721712   49971.131456   54066.471269   57395.919466   54907.101910   \n",
       "4   44178.047378   45237.805092   47549.079040   51525.046434   50277.275087   \n",
       "\n",
       "   govexpense2003  govexpense2004  govexpense2005  govexpense2006  \\\n",
       "0          11.927          15.069          15.698          18.303   \n",
       "1          32.202          30.765          27.108          28.853   \n",
       "2          22.026          23.030          24.426          26.617   \n",
       "3          35.012          34.943          34.691          34.633   \n",
       "4          49.926          53.704          51.154          50.378   \n",
       "\n",
       "   govexpense2007  govexpense2008  govexpense2009  govexpense2010  \\\n",
       "0          21.478          20.918          21.170          20.801   \n",
       "1          33.236          37.950          42.600          37.251   \n",
       "2          29.551          30.762          34.524          33.358   \n",
       "3          34.384          35.113          37.825          37.033   \n",
       "4          49.242          49.871          54.141          52.835   \n",
       "\n",
       "   govexpense2011  govexpense2012  govexpense2013  govexpense2014  \\\n",
       "0          21.937          25.028          24.977          25.402   \n",
       "1          40.123          43.543          36.186          40.606   \n",
       "2          34.902          36.821          37.603          38.853   \n",
       "3          36.352          36.577          36.494          36.832   \n",
       "4          50.892          51.213          51.648          52.325   \n",
       "\n",
       "   govexpense2015  govexpense2016  govexpense2017  govexpense2018  \\\n",
       "0          25.947          28.029          27.732          28.936   \n",
       "1          45.811          41.665          39.205          38.166   \n",
       "2          41.366          41.522          41.121          39.490   \n",
       "3          37.336          37.282          36.741          36.876   \n",
       "4          51.027          50.068          48.931          48.650   \n",
       "\n",
       "   govexpense2019                      region          income_type  \\\n",
       "0          27.999                  South Asia           Low income   \n",
       "1          38.241  Middle East & North Africa  Lower middle income   \n",
       "2          38.327   Latin America & Caribbean  Upper middle income   \n",
       "3          38.451         East Asia & Pacific          High income   \n",
       "4          48.210       Europe & Central Asia          High income   \n",
       "\n",
       "      pop2003     pop2004     pop2005     pop2006     pop2007     pop2008  \\\n",
       "0  23680871.0  24726684.0  25654277.0  26433049.0  27100536.0  27722276.0   \n",
       "1  32264157.0  32692163.0  33149724.0  33641002.0  34166972.0  34730608.0   \n",
       "2  38087868.0  38491972.0  38892931.0  39289878.0  39684295.0  40080160.0   \n",
       "3  19895400.0  20127400.0  20394800.0  20697900.0  20827600.0  21249200.0   \n",
       "4   8121423.0   8171966.0   8227829.0   8268641.0   8295487.0   8321496.0   \n",
       "\n",
       "      pop2009     pop2010     pop2011     pop2012     pop2013     pop2014  \\\n",
       "0  28394813.0  29185507.0  30117413.0  31161376.0  32269589.0  33370794.0   \n",
       "1  35333881.0  35977455.0  36661444.0  37383887.0  38140132.0  38923687.0   \n",
       "2  40482788.0  40788453.0  41261490.0  41733271.0  42202935.0  42669500.0   \n",
       "3  21691700.0  22031750.0  22340024.0  22733465.0  23128129.0  23475686.0   \n",
       "4   8343323.0   8363404.0   8391643.0   8429991.0   8479823.0   8546356.0   \n",
       "\n",
       "      pop2015     pop2016     pop2017     pop2018     pop2019       oda2003  \\\n",
       "0  34413603.0  35383128.0  36296400.0  37172386.0  38041754.0           NaN   \n",
       "1  39728025.0  40551404.0  41389198.0  42228429.0  43053054.0           NaN   \n",
       "2  43131966.0  43590368.0  44044811.0  44494502.0  44938712.0           NaN   \n",
       "3  23815995.0  24190907.0  24601860.0  24982688.0  25364307.0  1.218600e+09   \n",
       "4   8642699.0   8736668.0   8797566.0   8840521.0   8877067.0  5.047800e+08   \n",
       "\n",
       "        oda2004       oda2005       oda2006       oda2007       oda2008  \\\n",
       "0           NaN           NaN           NaN           NaN           NaN   \n",
       "1           NaN           NaN           NaN           NaN           NaN   \n",
       "2           NaN           NaN           NaN           NaN           NaN   \n",
       "3  1.460130e+09  1.680160e+09  2.123220e+09  2.668520e+09  2.954070e+09   \n",
       "4  6.776300e+08  1.573320e+09  1.498430e+09  1.808460e+09  1.713510e+09   \n",
       "\n",
       "        oda2009       oda2010       oda2011       oda2012       oda2013  \\\n",
       "0           NaN           NaN           NaN           NaN           NaN   \n",
       "1           NaN           NaN           NaN           NaN           NaN   \n",
       "2           NaN           NaN           NaN           NaN           NaN   \n",
       "3  2.761610e+09  3.826100e+09  4.982910e+09  5.402700e+09  4.845550e+09   \n",
       "4  1.141780e+09  1.208420e+09  1.111370e+09  1.105750e+09  1.171490e+09   \n",
       "\n",
       "        oda2014       oda2015       oda2016  oda2017  oda2018  oda2019  \\\n",
       "0           NaN           NaN           NaN      NaN      NaN      NaN   \n",
       "1           NaN           NaN           NaN      NaN      NaN      NaN   \n",
       "2           NaN           NaN           NaN      NaN      NaN      NaN   \n",
       "3  4.382420e+09  3.493610e+09  3.277520e+09      NaN      NaN      NaN   \n",
       "4  1.234520e+09  1.323510e+09  1.635480e+09      NaN      NaN      NaN   \n",
       "\n",
       "   oda_int  aid  oecd  g20  \n",
       "0        0    0     0    0  \n",
       "1        0    0     0    0  \n",
       "2        0    0     0    1  \n",
       "3        1    0     0    1  \n",
       "4        1    0     1    1  "
      ],
      "text/html": "<div>\n<style scoped>\n    .dataframe tbody tr th:only-of-type {\n        vertical-align: middle;\n    }\n\n    .dataframe tbody tr th {\n        vertical-align: top;\n    }\n\n    .dataframe thead th {\n        text-align: right;\n    }\n</style>\n<table border=\"1\" class=\"dataframe\">\n  <thead>\n    <tr style=\"text-align: right;\">\n      <th></th>\n      <th>country</th>\n      <th>isocode</th>\n      <th>patience</th>\n      <th>risktaking</th>\n      <th>posrecip</th>\n      <th>negrecip</th>\n      <th>altruism</th>\n      <th>trust</th>\n      <th>demo2019</th>\n      <th>demo2018</th>\n      <th>demo2017</th>\n      <th>demo2016</th>\n      <th>demo2015</th>\n      <th>demo2014</th>\n      <th>demo2013</th>\n      <th>demo2012</th>\n      <th>demo2011</th>\n      <th>demo2010</th>\n      <th>demo2008</th>\n      <th>demo2006</th>\n      <th>funding2003</th>\n      <th>pledge2003</th>\n      <th>funding2004</th>\n      <th>pledge2004</th>\n      <th>funding2005</th>\n      <th>pledge2005</th>\n      <th>funding2006</th>\n      <th>pledge2006</th>\n      <th>funding2007</th>\n      <th>pledge2007</th>\n      <th>funding2008</th>\n      <th>pledge2008</th>\n      <th>funding2009</th>\n      <th>pledge2009</th>\n      <th>funding2010</th>\n      <th>pledge2010</th>\n      <th>funding2011</th>\n      <th>pledge2011</th>\n      <th>funding2012</th>\n      <th>pledge2012</th>\n      <th>funding2013</th>\n      <th>pledge2013</th>\n      <th>funding2014</th>\n      <th>pledge2014</th>\n      <th>funding2015</th>\n      <th>pledge2015</th>\n      <th>funding2016</th>\n      <th>pledge2016</th>\n      <th>funding2017</th>\n      <th>pledge2017</th>\n      <th>funding2018</th>\n      <th>pledge2018</th>\n      <th>funding2019</th>\n      <th>pledge2019</th>\n      <th>funding2020</th>\n      <th>pledge2020</th>\n      <th>gdp2003</th>\n      <th>gdp2004</th>\n      <th>gdp2005</th>\n      <th>gdp2006</th>\n      <th>gdp2007</th>\n      <th>gdp2008</th>\n      <th>gdp2009</th>\n      <th>gdp2010</th>\n      <th>gdp2011</th>\n      <th>gdp2012</th>\n      <th>gdp2013</th>\n      <th>gdp2014</th>\n      <th>gdp2015</th>\n      <th>gdp2016</th>\n      <th>gdp2017</th>\n      <th>gdp2018</th>\n      <th>gdp2019</th>\n      <th>funding_gdp2003</th>\n      <th>funding_gdp2004</th>\n      <th>funding_gdp2005</th>\n      <th>funding_gdp2006</th>\n      <th>funding_gdp2007</th>\n      <th>funding_gdp2008</th>\n      <th>funding_gdp2009</th>\n      <th>funding_gdp2010</th>\n      <th>funding_gdp2011</th>\n      <th>funding_gdp2012</th>\n      <th>funding_gdp2013</th>\n      <th>funding_gdp2014</th>\n      <th>funding_gdp2015</th>\n      <th>funding_gdp2016</th>\n      <th>funding_gdp2017</th>\n      <th>funding_gdp2018</th>\n      <th>funding_gdp2019</th>\n      <th>gdpcapita2003</th>\n      <th>gdpcapita2004</th>\n      <th>gdpcapita2005</th>\n      <th>gdpcapita2006</th>\n      <th>gdpcapita2007</th>\n      <th>gdpcapita2008</th>\n      <th>gdpcapita2009</th>\n      <th>gdpcapita2010</th>\n      <th>gdpcapita2011</th>\n      <th>gdpcapita2012</th>\n      <th>gdpcapita2013</th>\n      <th>gdpcapita2014</th>\n      <th>gdpcapita2015</th>\n      <th>gdpcapita2016</th>\n      <th>gdpcapita2017</th>\n      <th>gdpcapita2018</th>\n      <th>gdpcapita2019</th>\n      <th>govexpense2003</th>\n      <th>govexpense2004</th>\n      <th>govexpense2005</th>\n      <th>govexpense2006</th>\n      <th>govexpense2007</th>\n      <th>govexpense2008</th>\n      <th>govexpense2009</th>\n      <th>govexpense2010</th>\n      <th>govexpense2011</th>\n      <th>govexpense2012</th>\n      <th>govexpense2013</th>\n      <th>govexpense2014</th>\n      <th>govexpense2015</th>\n      <th>govexpense2016</th>\n      <th>govexpense2017</th>\n      <th>govexpense2018</th>\n      <th>govexpense2019</th>\n      <th>region</th>\n      <th>income_type</th>\n      <th>pop2003</th>\n      <th>pop2004</th>\n      <th>pop2005</th>\n      <th>pop2006</th>\n      <th>pop2007</th>\n      <th>pop2008</th>\n      <th>pop2009</th>\n      <th>pop2010</th>\n      <th>pop2011</th>\n      <th>pop2012</th>\n      <th>pop2013</th>\n      <th>pop2014</th>\n      <th>pop2015</th>\n      <th>pop2016</th>\n      <th>pop2017</th>\n      <th>pop2018</th>\n      <th>pop2019</th>\n      <th>oda2003</th>\n      <th>oda2004</th>\n      <th>oda2005</th>\n      <th>oda2006</th>\n      <th>oda2007</th>\n      <th>oda2008</th>\n      <th>oda2009</th>\n      <th>oda2010</th>\n      <th>oda2011</th>\n      <th>oda2012</th>\n      <th>oda2013</th>\n      <th>oda2014</th>\n      <th>oda2015</th>\n      <th>oda2016</th>\n      <th>oda2017</th>\n      <th>oda2018</th>\n      <th>oda2019</th>\n      <th>oda_int</th>\n      <th>aid</th>\n      <th>oecd</th>\n      <th>g20</th>\n    </tr>\n  </thead>\n  <tbody>\n    <tr>\n      <th>0</th>\n      <td>Afghanistan</td>\n      <td>AFG</td>\n      <td>-0.201360</td>\n      <td>0.120764</td>\n      <td>0.289641</td>\n      <td>0.254712</td>\n      <td>0.166455</td>\n      <td>0.315964</td>\n      <td>2.85</td>\n      <td>2.97</td>\n      <td>2.55</td>\n      <td>2.55</td>\n      <td>2.77</td>\n      <td>2.77</td>\n      <td>2.48</td>\n      <td>2.48</td>\n      <td>2.48</td>\n      <td>2.48</td>\n      <td>3.02</td>\n      <td>3.06</td>\n      <td>NaN</td>\n      <td>NaN</td>\n      <td>NaN</td>\n      <td>NaN</td>\n      <td>500000.0</td>\n      <td>NaN</td>\n      <td>NaN</td>\n      <td>NaN</td>\n      <td>NaN</td>\n      <td>NaN</td>\n      <td>24000000.0</td>\n      <td>NaN</td>\n      <td>136493.0</td>\n      <td>NaN</td>\n      <td>2379910.0</td>\n      <td>NaN</td>\n      <td>3360.0</td>\n      <td>NaN</td>\n      <td>3000.0</td>\n      <td>NaN</td>\n      <td>2000.0</td>\n      <td>NaN</td>\n      <td>NaN</td>\n      <td>NaN</td>\n      <td>1000.0</td>\n      <td>NaN</td>\n      <td>NaN</td>\n      <td>NaN</td>\n      <td>NaN</td>\n      <td>NaN</td>\n      <td>3870542.0</td>\n      <td>NaN</td>\n      <td>903177.0</td>\n      <td>NaN</td>\n      <td>NaN</td>\n      <td>NaN</td>\n      <td>4.515559e+09</td>\n      <td>5.226779e+09</td>\n      <td>6.209138e+09</td>\n      <td>6.971286e+09</td>\n      <td>9.747880e+09</td>\n      <td>1.010923e+10</td>\n      <td>1.243909e+10</td>\n      <td>1.585657e+10</td>\n      <td>1.780429e+10</td>\n      <td>2.000160e+10</td>\n      <td>2.056107e+10</td>\n      <td>2.048489e+10</td>\n      <td>1.990711e+10</td>\n      <td>1.936264e+10</td>\n      <td>2.019176e+10</td>\n      <td>1.948438e+10</td>\n      <td>1.910135e+10</td>\n      <td>NaN</td>\n      <td>NaN</td>\n      <td>0.0081</td>\n      <td>NaN</td>\n      <td>NaN</td>\n      <td>0.2374</td>\n      <td>0.0011</td>\n      <td>0.0150</td>\n      <td>0.0000</td>\n      <td>0.0000</td>\n      <td>0.0000</td>\n      <td>NaN</td>\n      <td>0.0000</td>\n      <td>NaN</td>\n      <td>NaN</td>\n      <td>0.0199</td>\n      <td>0.0047</td>\n      <td>190.683814</td>\n      <td>211.382117</td>\n      <td>242.031285</td>\n      <td>263.733692</td>\n      <td>359.693238</td>\n      <td>364.660745</td>\n      <td>438.076034</td>\n      <td>543.303042</td>\n      <td>591.162759</td>\n      <td>641.871479</td>\n      <td>637.165523</td>\n      <td>613.856689</td>\n      <td>578.466353</td>\n      <td>547.228110</td>\n      <td>556.302002</td>\n      <td>524.162881</td>\n      <td>502.115487</td>\n      <td>11.927</td>\n      <td>15.069</td>\n      <td>15.698</td>\n      <td>18.303</td>\n      <td>21.478</td>\n      <td>20.918</td>\n      <td>21.170</td>\n      <td>20.801</td>\n      <td>21.937</td>\n      <td>25.028</td>\n      <td>24.977</td>\n      <td>25.402</td>\n      <td>25.947</td>\n      <td>28.029</td>\n      <td>27.732</td>\n      <td>28.936</td>\n      <td>27.999</td>\n      <td>South Asia</td>\n      <td>Low income</td>\n      <td>23680871.0</td>\n      <td>24726684.0</td>\n      <td>25654277.0</td>\n      <td>26433049.0</td>\n      <td>27100536.0</td>\n      <td>27722276.0</td>\n      <td>28394813.0</td>\n      <td>29185507.0</td>\n      <td>30117413.0</td>\n      <td>31161376.0</td>\n      <td>32269589.0</td>\n      <td>33370794.0</td>\n      <td>34413603.0</td>\n      <td>35383128.0</td>\n      <td>36296400.0</td>\n      <td>37172386.0</td>\n      <td>38041754.0</td>\n      <td>NaN</td>\n      <td>NaN</td>\n      <td>NaN</td>\n      <td>NaN</td>\n      <td>NaN</td>\n      <td>NaN</td>\n      <td>NaN</td>\n      <td>NaN</td>\n      <td>NaN</td>\n      <td>NaN</td>\n      <td>NaN</td>\n      <td>NaN</td>\n      <td>NaN</td>\n      <td>NaN</td>\n      <td>NaN</td>\n      <td>NaN</td>\n      <td>NaN</td>\n      <td>0</td>\n      <td>0</td>\n      <td>0</td>\n      <td>0</td>\n    </tr>\n    <tr>\n      <th>1</th>\n      <td>Algeria</td>\n      <td>DZA</td>\n      <td>0.059815</td>\n      <td>0.391530</td>\n      <td>-0.598255</td>\n      <td>0.254901</td>\n      <td>-0.009968</td>\n      <td>-0.177371</td>\n      <td>4.01</td>\n      <td>3.50</td>\n      <td>3.56</td>\n      <td>3.56</td>\n      <td>3.95</td>\n      <td>3.83</td>\n      <td>3.83</td>\n      <td>3.83</td>\n      <td>3.44</td>\n      <td>3.44</td>\n      <td>3.32</td>\n      <td>3.17</td>\n      <td>3178000.0</td>\n      <td>NaN</td>\n      <td>NaN</td>\n      <td>NaN</td>\n      <td>14769749.0</td>\n      <td>NaN</td>\n      <td>NaN</td>\n      <td>NaN</td>\n      <td>10000.0</td>\n      <td>NaN</td>\n      <td>10000.0</td>\n      <td>NaN</td>\n      <td>76432.0</td>\n      <td>NaN</td>\n      <td>10110696.0</td>\n      <td>NaN</td>\n      <td>16010000.0</td>\n      <td>7000000.0</td>\n      <td>NaN</td>\n      <td>NaN</td>\n      <td>2000000.0</td>\n      <td>NaN</td>\n      <td>10000.0</td>\n      <td>NaN</td>\n      <td>NaN</td>\n      <td>NaN</td>\n      <td>660000.0</td>\n      <td>NaN</td>\n      <td>10000.0</td>\n      <td>NaN</td>\n      <td>10000.0</td>\n      <td>NaN</td>\n      <td>NaN</td>\n      <td>NaN</td>\n      <td>NaN</td>\n      <td>NaN</td>\n      <td>6.786485e+10</td>\n      <td>8.532477e+10</td>\n      <td>1.031984e+11</td>\n      <td>1.170254e+11</td>\n      <td>1.349773e+11</td>\n      <td>1.710006e+11</td>\n      <td>1.372107e+11</td>\n      <td>1.612078e+11</td>\n      <td>2.000195e+11</td>\n      <td>2.090603e+11</td>\n      <td>2.097548e+11</td>\n      <td>2.138088e+11</td>\n      <td>1.659794e+11</td>\n      <td>1.600338e+11</td>\n      <td>1.673894e+11</td>\n      <td>1.737580e+11</td>\n      <td>1.699882e+11</td>\n      <td>0.0047</td>\n      <td>NaN</td>\n      <td>0.0143</td>\n      <td>NaN</td>\n      <td>0.0000</td>\n      <td>0.0000</td>\n      <td>0.0001</td>\n      <td>0.0063</td>\n      <td>0.0080</td>\n      <td>NaN</td>\n      <td>0.0010</td>\n      <td>0.0000</td>\n      <td>NaN</td>\n      <td>0.0004</td>\n      <td>0.0000</td>\n      <td>0.0000</td>\n      <td>NaN</td>\n      <td>2103.413058</td>\n      <td>2609.945608</td>\n      <td>3113.101094</td>\n      <td>3478.654871</td>\n      <td>3950.519369</td>\n      <td>4923.629265</td>\n      <td>3883.261271</td>\n      <td>4480.799271</td>\n      <td>5455.853529</td>\n      <td>5592.257099</td>\n      <td>5499.581487</td>\n      <td>5493.025590</td>\n      <td>4177.892515</td>\n      <td>3946.443977</td>\n      <td>4044.276600</td>\n      <td>4114.715061</td>\n      <td>3948.343279</td>\n      <td>32.202</td>\n      <td>30.765</td>\n      <td>27.108</td>\n      <td>28.853</td>\n      <td>33.236</td>\n      <td>37.950</td>\n      <td>42.600</td>\n      <td>37.251</td>\n      <td>40.123</td>\n      <td>43.543</td>\n      <td>36.186</td>\n      <td>40.606</td>\n      <td>45.811</td>\n      <td>41.665</td>\n      <td>39.205</td>\n      <td>38.166</td>\n      <td>38.241</td>\n      <td>Middle East &amp; North Africa</td>\n      <td>Lower middle income</td>\n      <td>32264157.0</td>\n      <td>32692163.0</td>\n      <td>33149724.0</td>\n      <td>33641002.0</td>\n      <td>34166972.0</td>\n      <td>34730608.0</td>\n      <td>35333881.0</td>\n      <td>35977455.0</td>\n      <td>36661444.0</td>\n      <td>37383887.0</td>\n      <td>38140132.0</td>\n      <td>38923687.0</td>\n      <td>39728025.0</td>\n      <td>40551404.0</td>\n      <td>41389198.0</td>\n      <td>42228429.0</td>\n      <td>43053054.0</td>\n      <td>NaN</td>\n      <td>NaN</td>\n      <td>NaN</td>\n      <td>NaN</td>\n      <td>NaN</td>\n      <td>NaN</td>\n      <td>NaN</td>\n      <td>NaN</td>\n      <td>NaN</td>\n      <td>NaN</td>\n      <td>NaN</td>\n      <td>NaN</td>\n      <td>NaN</td>\n      <td>NaN</td>\n      <td>NaN</td>\n      <td>NaN</td>\n      <td>NaN</td>\n      <td>0</td>\n      <td>0</td>\n      <td>0</td>\n      <td>0</td>\n    </tr>\n    <tr>\n      <th>2</th>\n      <td>Argentina</td>\n      <td>ARG</td>\n      <td>-0.229308</td>\n      <td>0.041503</td>\n      <td>0.159679</td>\n      <td>-0.140457</td>\n      <td>0.027347</td>\n      <td>-0.206733</td>\n      <td>7.02</td>\n      <td>7.02</td>\n      <td>6.96</td>\n      <td>6.96</td>\n      <td>7.02</td>\n      <td>6.84</td>\n      <td>6.84</td>\n      <td>6.84</td>\n      <td>6.84</td>\n      <td>6.84</td>\n      <td>6.63</td>\n      <td>6.63</td>\n      <td>NaN</td>\n      <td>NaN</td>\n      <td>NaN</td>\n      <td>NaN</td>\n      <td>NaN</td>\n      <td>NaN</td>\n      <td>NaN</td>\n      <td>NaN</td>\n      <td>NaN</td>\n      <td>NaN</td>\n      <td>139000.0</td>\n      <td>NaN</td>\n      <td>31100.0</td>\n      <td>NaN</td>\n      <td>50000.0</td>\n      <td>NaN</td>\n      <td>107332.0</td>\n      <td>NaN</td>\n      <td>130826.0</td>\n      <td>NaN</td>\n      <td>165718.0</td>\n      <td>NaN</td>\n      <td>230500.0</td>\n      <td>NaN</td>\n      <td>NaN</td>\n      <td>NaN</td>\n      <td>176272.0</td>\n      <td>NaN</td>\n      <td>1344591.0</td>\n      <td>NaN</td>\n      <td>265000.0</td>\n      <td>NaN</td>\n      <td>155000.0</td>\n      <td>NaN</td>\n      <td>NaN</td>\n      <td>NaN</td>\n      <td>1.275870e+11</td>\n      <td>1.646579e+11</td>\n      <td>1.987371e+11</td>\n      <td>2.325573e+11</td>\n      <td>2.875305e+11</td>\n      <td>3.615580e+11</td>\n      <td>3.329765e+11</td>\n      <td>4.236274e+11</td>\n      <td>5.301633e+11</td>\n      <td>5.459824e+11</td>\n      <td>5.520251e+11</td>\n      <td>5.263197e+11</td>\n      <td>5.947493e+11</td>\n      <td>5.575314e+11</td>\n      <td>6.426959e+11</td>\n      <td>5.198715e+11</td>\n      <td>4.496634e+11</td>\n      <td>NaN</td>\n      <td>NaN</td>\n      <td>NaN</td>\n      <td>NaN</td>\n      <td>NaN</td>\n      <td>0.0000</td>\n      <td>0.0000</td>\n      <td>0.0000</td>\n      <td>0.0000</td>\n      <td>0.0000</td>\n      <td>0.0000</td>\n      <td>0.0000</td>\n      <td>NaN</td>\n      <td>0.0000</td>\n      <td>0.0002</td>\n      <td>0.0001</td>\n      <td>0.0000</td>\n      <td>3349.806124</td>\n      <td>4277.721351</td>\n      <td>5109.851325</td>\n      <td>5919.012037</td>\n      <td>7245.448317</td>\n      <td>9020.873098</td>\n      <td>8225.137176</td>\n      <td>10385.964432</td>\n      <td>12848.864197</td>\n      <td>13082.664326</td>\n      <td>13080.254732</td>\n      <td>12334.798245</td>\n      <td>13789.060425</td>\n      <td>12790.242473</td>\n      <td>14591.863381</td>\n      <td>11683.949622</td>\n      <td>10006.148974</td>\n      <td>22.026</td>\n      <td>23.030</td>\n      <td>24.426</td>\n      <td>26.617</td>\n      <td>29.551</td>\n      <td>30.762</td>\n      <td>34.524</td>\n      <td>33.358</td>\n      <td>34.902</td>\n      <td>36.821</td>\n      <td>37.603</td>\n      <td>38.853</td>\n      <td>41.366</td>\n      <td>41.522</td>\n      <td>41.121</td>\n      <td>39.490</td>\n      <td>38.327</td>\n      <td>Latin America &amp; Caribbean</td>\n      <td>Upper middle income</td>\n      <td>38087868.0</td>\n      <td>38491972.0</td>\n      <td>38892931.0</td>\n      <td>39289878.0</td>\n      <td>39684295.0</td>\n      <td>40080160.0</td>\n      <td>40482788.0</td>\n      <td>40788453.0</td>\n      <td>41261490.0</td>\n      <td>41733271.0</td>\n      <td>42202935.0</td>\n      <td>42669500.0</td>\n      <td>43131966.0</td>\n      <td>43590368.0</td>\n      <td>44044811.0</td>\n      <td>44494502.0</td>\n      <td>44938712.0</td>\n      <td>NaN</td>\n      <td>NaN</td>\n      <td>NaN</td>\n      <td>NaN</td>\n      <td>NaN</td>\n      <td>NaN</td>\n      <td>NaN</td>\n      <td>NaN</td>\n      <td>NaN</td>\n      <td>NaN</td>\n      <td>NaN</td>\n      <td>NaN</td>\n      <td>NaN</td>\n      <td>NaN</td>\n      <td>NaN</td>\n      <td>NaN</td>\n      <td>NaN</td>\n      <td>0</td>\n      <td>0</td>\n      <td>0</td>\n      <td>1</td>\n    </tr>\n    <tr>\n      <th>3</th>\n      <td>Australia</td>\n      <td>AUS</td>\n      <td>0.657004</td>\n      <td>0.137137</td>\n      <td>0.069660</td>\n      <td>0.022190</td>\n      <td>0.155331</td>\n      <td>0.298973</td>\n      <td>9.09</td>\n      <td>9.09</td>\n      <td>9.09</td>\n      <td>9.01</td>\n      <td>9.01</td>\n      <td>9.01</td>\n      <td>9.13</td>\n      <td>9.22</td>\n      <td>9.22</td>\n      <td>9.22</td>\n      <td>9.09</td>\n      <td>9.09</td>\n      <td>87736725.0</td>\n      <td>NaN</td>\n      <td>69076907.0</td>\n      <td>NaN</td>\n      <td>85073844.0</td>\n      <td>29859474.0</td>\n      <td>89757369.0</td>\n      <td>2262517.0</td>\n      <td>109371739.0</td>\n      <td>3817867.0</td>\n      <td>143674846.0</td>\n      <td>39494954.0</td>\n      <td>196311166.0</td>\n      <td>8733624.0</td>\n      <td>293856560.0</td>\n      <td>1923773.0</td>\n      <td>312711049.0</td>\n      <td>NaN</td>\n      <td>271004092.0</td>\n      <td>2809573.0</td>\n      <td>263194483.0</td>\n      <td>NaN</td>\n      <td>269253261.0</td>\n      <td>NaN</td>\n      <td>166236181.0</td>\n      <td>762236.0</td>\n      <td>205207886.0</td>\n      <td>2724017.0</td>\n      <td>243900706.0</td>\n      <td>2712522.0</td>\n      <td>248119692.0</td>\n      <td>NaN</td>\n      <td>310639840.0</td>\n      <td>NaN</td>\n      <td>271692972.0</td>\n      <td>NaN</td>\n      <td>4.664881e+11</td>\n      <td>6.124904e+11</td>\n      <td>6.934078e+11</td>\n      <td>7.460542e+11</td>\n      <td>8.530996e+11</td>\n      <td>1.053996e+12</td>\n      <td>9.278052e+11</td>\n      <td>1.146138e+12</td>\n      <td>1.396650e+12</td>\n      <td>1.546152e+12</td>\n      <td>1.576184e+12</td>\n      <td>1.467484e+12</td>\n      <td>1.351694e+12</td>\n      <td>1.208847e+12</td>\n      <td>1.330136e+12</td>\n      <td>1.433904e+12</td>\n      <td>1.392681e+12</td>\n      <td>0.0188</td>\n      <td>0.0113</td>\n      <td>0.0123</td>\n      <td>0.0120</td>\n      <td>0.0128</td>\n      <td>0.0136</td>\n      <td>0.0212</td>\n      <td>0.0256</td>\n      <td>0.0224</td>\n      <td>0.0175</td>\n      <td>0.0167</td>\n      <td>0.0183</td>\n      <td>0.0123</td>\n      <td>0.0170</td>\n      <td>0.0183</td>\n      <td>0.0173</td>\n      <td>0.0223</td>\n      <td>23447.031001</td>\n      <td>30430.676437</td>\n      <td>33999.242858</td>\n      <td>36044.922811</td>\n      <td>40960.054495</td>\n      <td>49601.656708</td>\n      <td>42772.359166</td>\n      <td>52022.125596</td>\n      <td>62517.833747</td>\n      <td>68012.147901</td>\n      <td>68150.107041</td>\n      <td>62510.791171</td>\n      <td>56755.721712</td>\n      <td>49971.131456</td>\n      <td>54066.471269</td>\n      <td>57395.919466</td>\n      <td>54907.101910</td>\n      <td>35.012</td>\n      <td>34.943</td>\n      <td>34.691</td>\n      <td>34.633</td>\n      <td>34.384</td>\n      <td>35.113</td>\n      <td>37.825</td>\n      <td>37.033</td>\n      <td>36.352</td>\n      <td>36.577</td>\n      <td>36.494</td>\n      <td>36.832</td>\n      <td>37.336</td>\n      <td>37.282</td>\n      <td>36.741</td>\n      <td>36.876</td>\n      <td>38.451</td>\n      <td>East Asia &amp; Pacific</td>\n      <td>High income</td>\n      <td>19895400.0</td>\n      <td>20127400.0</td>\n      <td>20394800.0</td>\n      <td>20697900.0</td>\n      <td>20827600.0</td>\n      <td>21249200.0</td>\n      <td>21691700.0</td>\n      <td>22031750.0</td>\n      <td>22340024.0</td>\n      <td>22733465.0</td>\n      <td>23128129.0</td>\n      <td>23475686.0</td>\n      <td>23815995.0</td>\n      <td>24190907.0</td>\n      <td>24601860.0</td>\n      <td>24982688.0</td>\n      <td>25364307.0</td>\n      <td>1.218600e+09</td>\n      <td>1.460130e+09</td>\n      <td>1.680160e+09</td>\n      <td>2.123220e+09</td>\n      <td>2.668520e+09</td>\n      <td>2.954070e+09</td>\n      <td>2.761610e+09</td>\n      <td>3.826100e+09</td>\n      <td>4.982910e+09</td>\n      <td>5.402700e+09</td>\n      <td>4.845550e+09</td>\n      <td>4.382420e+09</td>\n      <td>3.493610e+09</td>\n      <td>3.277520e+09</td>\n      <td>NaN</td>\n      <td>NaN</td>\n      <td>NaN</td>\n      <td>1</td>\n      <td>0</td>\n      <td>0</td>\n      <td>1</td>\n    </tr>\n    <tr>\n      <th>4</th>\n      <td>Austria</td>\n      <td>AUT</td>\n      <td>0.608285</td>\n      <td>-0.061829</td>\n      <td>0.161047</td>\n      <td>-0.055415</td>\n      <td>-0.035363</td>\n      <td>0.154628</td>\n      <td>8.29</td>\n      <td>8.29</td>\n      <td>8.42</td>\n      <td>8.41</td>\n      <td>8.54</td>\n      <td>8.54</td>\n      <td>8.48</td>\n      <td>8.62</td>\n      <td>8.49</td>\n      <td>8.49</td>\n      <td>8.49</td>\n      <td>8.69</td>\n      <td>3245126.0</td>\n      <td>NaN</td>\n      <td>6186042.0</td>\n      <td>NaN</td>\n      <td>18423937.0</td>\n      <td>NaN</td>\n      <td>5624017.0</td>\n      <td>765306.0</td>\n      <td>7885069.0</td>\n      <td>NaN</td>\n      <td>15280397.0</td>\n      <td>1017509.0</td>\n      <td>16939495.0</td>\n      <td>348675.0</td>\n      <td>25973202.0</td>\n      <td>NaN</td>\n      <td>18074363.0</td>\n      <td>500409.0</td>\n      <td>16333100.0</td>\n      <td>NaN</td>\n      <td>17699567.0</td>\n      <td>NaN</td>\n      <td>18504048.0</td>\n      <td>NaN</td>\n      <td>18786627.0</td>\n      <td>NaN</td>\n      <td>35663228.0</td>\n      <td>NaN</td>\n      <td>49109105.0</td>\n      <td>NaN</td>\n      <td>26096928.0</td>\n      <td>6670328.0</td>\n      <td>32476153.0</td>\n      <td>1540154.0</td>\n      <td>19142494.0</td>\n      <td>NaN</td>\n      <td>2.616958e+11</td>\n      <td>3.009042e+11</td>\n      <td>3.159744e+11</td>\n      <td>3.359986e+11</td>\n      <td>3.886914e+11</td>\n      <td>4.302943e+11</td>\n      <td>4.001723e+11</td>\n      <td>3.918927e+11</td>\n      <td>4.311203e+11</td>\n      <td>4.094252e+11</td>\n      <td>4.300687e+11</td>\n      <td>4.419961e+11</td>\n      <td>3.818176e+11</td>\n      <td>3.952277e+11</td>\n      <td>4.183162e+11</td>\n      <td>4.555083e+11</td>\n      <td>4.463147e+11</td>\n      <td>0.0012</td>\n      <td>0.0021</td>\n      <td>0.0058</td>\n      <td>0.0017</td>\n      <td>0.0020</td>\n      <td>0.0036</td>\n      <td>0.0042</td>\n      <td>0.0066</td>\n      <td>0.0042</td>\n      <td>0.0040</td>\n      <td>0.0041</td>\n      <td>0.0042</td>\n      <td>0.0049</td>\n      <td>0.0090</td>\n      <td>0.0117</td>\n      <td>0.0057</td>\n      <td>0.0073</td>\n      <td>32222.897241</td>\n      <td>36821.521468</td>\n      <td>38403.133877</td>\n      <td>40635.281816</td>\n      <td>46855.771745</td>\n      <td>51708.765754</td>\n      <td>47963.179402</td>\n      <td>46858.043273</td>\n      <td>51374.958407</td>\n      <td>48567.695286</td>\n      <td>50716.708706</td>\n      <td>51717.495941</td>\n      <td>44178.047378</td>\n      <td>45237.805092</td>\n      <td>47549.079040</td>\n      <td>51525.046434</td>\n      <td>50277.275087</td>\n      <td>49.926</td>\n      <td>53.704</td>\n      <td>51.154</td>\n      <td>50.378</td>\n      <td>49.242</td>\n      <td>49.871</td>\n      <td>54.141</td>\n      <td>52.835</td>\n      <td>50.892</td>\n      <td>51.213</td>\n      <td>51.648</td>\n      <td>52.325</td>\n      <td>51.027</td>\n      <td>50.068</td>\n      <td>48.931</td>\n      <td>48.650</td>\n      <td>48.210</td>\n      <td>Europe &amp; Central Asia</td>\n      <td>High income</td>\n      <td>8121423.0</td>\n      <td>8171966.0</td>\n      <td>8227829.0</td>\n      <td>8268641.0</td>\n      <td>8295487.0</td>\n      <td>8321496.0</td>\n      <td>8343323.0</td>\n      <td>8363404.0</td>\n      <td>8391643.0</td>\n      <td>8429991.0</td>\n      <td>8479823.0</td>\n      <td>8546356.0</td>\n      <td>8642699.0</td>\n      <td>8736668.0</td>\n      <td>8797566.0</td>\n      <td>8840521.0</td>\n      <td>8877067.0</td>\n      <td>5.047800e+08</td>\n      <td>6.776300e+08</td>\n      <td>1.573320e+09</td>\n      <td>1.498430e+09</td>\n      <td>1.808460e+09</td>\n      <td>1.713510e+09</td>\n      <td>1.141780e+09</td>\n      <td>1.208420e+09</td>\n      <td>1.111370e+09</td>\n      <td>1.105750e+09</td>\n      <td>1.171490e+09</td>\n      <td>1.234520e+09</td>\n      <td>1.323510e+09</td>\n      <td>1.635480e+09</td>\n      <td>NaN</td>\n      <td>NaN</td>\n      <td>NaN</td>\n      <td>1</td>\n      <td>0</td>\n      <td>1</td>\n      <td>1</td>\n    </tr>\n  </tbody>\n</table>\n</div>"
     },
     "metadata": {},
     "execution_count": 34
    }
   ],
   "source": [
    "df_add_oecd = df_add_aid.assign(oecd = df_add_aid[['country']].isin(OECD).astype('int'))\n",
    "df_add_g20 = df_add_oecd.assign(g20 = df_add_aid[['country']].isin(G20).astype('int'))\n",
    "df_add_g20.head()"
   ]
  },
  {
   "source": [
    "### add Gini Index by year from World Bank\n",
    "### 2019's data wasn't avalaible \n",
    "### notice 4/76 country have no observations at all"
   ],
   "cell_type": "markdown",
   "metadata": {}
  },
  {
   "cell_type": "code",
   "execution_count": 35,
   "metadata": {},
   "outputs": [
    {
     "output_type": "execute_result",
     "data": {
      "text/plain": [
       "         gni2003  gni2004  gni2005  gni2006  gni2007  gni2008  gni2009  \\\n",
       "isocode                                                                  \n",
       "ABW          NaN      NaN      NaN      NaN      NaN      NaN      NaN   \n",
       "AFG          NaN      NaN      NaN      NaN      NaN      NaN      NaN   \n",
       "AGO          NaN      NaN      NaN      NaN      NaN     42.7      NaN   \n",
       "ALB          NaN      NaN     30.6      NaN      NaN     30.0      NaN   \n",
       "AND          NaN      NaN      NaN      NaN      NaN      NaN      NaN   \n",
       "\n",
       "         gni2010  gni2011  gni2012  gni2013  gni2014  gni2015  gni2016  \\\n",
       "isocode                                                                  \n",
       "ABW          NaN      NaN      NaN      NaN      NaN      NaN      NaN   \n",
       "AFG          NaN      NaN      NaN      NaN      NaN      NaN      NaN   \n",
       "AGO          NaN      NaN      NaN      NaN      NaN      NaN      NaN   \n",
       "ALB          NaN      NaN     29.0      NaN     34.6     32.9     33.7   \n",
       "AND          NaN      NaN      NaN      NaN      NaN      NaN      NaN   \n",
       "\n",
       "         gni2017  gni2018  gni2019  \n",
       "isocode                             \n",
       "ABW          NaN      NaN      NaN  \n",
       "AFG          NaN      NaN      NaN  \n",
       "AGO          NaN     51.3      NaN  \n",
       "ALB         33.2      NaN      NaN  \n",
       "AND          NaN      NaN      NaN  "
      ],
      "text/html": "<div>\n<style scoped>\n    .dataframe tbody tr th:only-of-type {\n        vertical-align: middle;\n    }\n\n    .dataframe tbody tr th {\n        vertical-align: top;\n    }\n\n    .dataframe thead th {\n        text-align: right;\n    }\n</style>\n<table border=\"1\" class=\"dataframe\">\n  <thead>\n    <tr style=\"text-align: right;\">\n      <th></th>\n      <th>gni2003</th>\n      <th>gni2004</th>\n      <th>gni2005</th>\n      <th>gni2006</th>\n      <th>gni2007</th>\n      <th>gni2008</th>\n      <th>gni2009</th>\n      <th>gni2010</th>\n      <th>gni2011</th>\n      <th>gni2012</th>\n      <th>gni2013</th>\n      <th>gni2014</th>\n      <th>gni2015</th>\n      <th>gni2016</th>\n      <th>gni2017</th>\n      <th>gni2018</th>\n      <th>gni2019</th>\n    </tr>\n    <tr>\n      <th>isocode</th>\n      <th></th>\n      <th></th>\n      <th></th>\n      <th></th>\n      <th></th>\n      <th></th>\n      <th></th>\n      <th></th>\n      <th></th>\n      <th></th>\n      <th></th>\n      <th></th>\n      <th></th>\n      <th></th>\n      <th></th>\n      <th></th>\n      <th></th>\n    </tr>\n  </thead>\n  <tbody>\n    <tr>\n      <th>ABW</th>\n      <td>NaN</td>\n      <td>NaN</td>\n      <td>NaN</td>\n      <td>NaN</td>\n      <td>NaN</td>\n      <td>NaN</td>\n      <td>NaN</td>\n      <td>NaN</td>\n      <td>NaN</td>\n      <td>NaN</td>\n      <td>NaN</td>\n      <td>NaN</td>\n      <td>NaN</td>\n      <td>NaN</td>\n      <td>NaN</td>\n      <td>NaN</td>\n      <td>NaN</td>\n    </tr>\n    <tr>\n      <th>AFG</th>\n      <td>NaN</td>\n      <td>NaN</td>\n      <td>NaN</td>\n      <td>NaN</td>\n      <td>NaN</td>\n      <td>NaN</td>\n      <td>NaN</td>\n      <td>NaN</td>\n      <td>NaN</td>\n      <td>NaN</td>\n      <td>NaN</td>\n      <td>NaN</td>\n      <td>NaN</td>\n      <td>NaN</td>\n      <td>NaN</td>\n      <td>NaN</td>\n      <td>NaN</td>\n    </tr>\n    <tr>\n      <th>AGO</th>\n      <td>NaN</td>\n      <td>NaN</td>\n      <td>NaN</td>\n      <td>NaN</td>\n      <td>NaN</td>\n      <td>42.7</td>\n      <td>NaN</td>\n      <td>NaN</td>\n      <td>NaN</td>\n      <td>NaN</td>\n      <td>NaN</td>\n      <td>NaN</td>\n      <td>NaN</td>\n      <td>NaN</td>\n      <td>NaN</td>\n      <td>51.3</td>\n      <td>NaN</td>\n    </tr>\n    <tr>\n      <th>ALB</th>\n      <td>NaN</td>\n      <td>NaN</td>\n      <td>30.6</td>\n      <td>NaN</td>\n      <td>NaN</td>\n      <td>30.0</td>\n      <td>NaN</td>\n      <td>NaN</td>\n      <td>NaN</td>\n      <td>29.0</td>\n      <td>NaN</td>\n      <td>34.6</td>\n      <td>32.9</td>\n      <td>33.7</td>\n      <td>33.2</td>\n      <td>NaN</td>\n      <td>NaN</td>\n    </tr>\n    <tr>\n      <th>AND</th>\n      <td>NaN</td>\n      <td>NaN</td>\n      <td>NaN</td>\n      <td>NaN</td>\n      <td>NaN</td>\n      <td>NaN</td>\n      <td>NaN</td>\n      <td>NaN</td>\n      <td>NaN</td>\n      <td>NaN</td>\n      <td>NaN</td>\n      <td>NaN</td>\n      <td>NaN</td>\n      <td>NaN</td>\n      <td>NaN</td>\n      <td>NaN</td>\n      <td>NaN</td>\n    </tr>\n  </tbody>\n</table>\n</div>"
     },
     "metadata": {},
     "execution_count": 35
    }
   ],
   "source": [
    "\n",
    "gni = pd.read_excel('data/GNI.xls', sheet_name='Data', skiprows=3).rename(columns={\"Country Code\": \"isocode\"}).set_index('isocode')\n",
    "gni_filter = gni.filter(regex='^20(10|11|12|.*[3456789]$)', axis=1).add_prefix('gni')\n",
    "gni_filter.head()"
   ]
  },
  {
   "cell_type": "code",
   "execution_count": 37,
   "metadata": {},
   "outputs": [
    {
     "output_type": "execute_result",
     "data": {
      "text/plain": [
       "         country isocode  patience  risktaking  posrecip  negrecip  altruism  \\\n",
       "0    Afghanistan     AFG -0.201360    0.120764  0.289641  0.254712  0.166455   \n",
       "10      Cambodia     KHM -0.119899   -0.404640  0.171683 -0.062052 -0.216157   \n",
       "56  Saudi Arabia     SAU  0.200122    0.695746 -0.487077  0.599556 -0.371266   \n",
       "62      Suriname     SUR  0.006719    0.178213  0.164919  0.015116  0.090163   \n",
       "\n",
       "       trust  demo2019  demo2018  demo2017  demo2016  demo2015  demo2014  \\\n",
       "0   0.315964      2.85      2.97      2.55      2.55      2.77      2.77   \n",
       "10 -0.079135      3.53      3.59      3.63      4.27      4.27      4.78   \n",
       "56  0.300153      1.93      1.93      1.93      1.93      1.93      1.82   \n",
       "62  0.116365      6.98      6.98      6.76      6.77      6.77      6.77   \n",
       "\n",
       "    demo2013  demo2012  demo2011  demo2010  demo2008  demo2006  funding2003  \\\n",
       "0       2.48      2.48      2.48      2.48      3.02      3.06          NaN   \n",
       "10      4.60      4.96      4.87      4.87      4.87      4.77          NaN   \n",
       "56      1.82      1.71      1.77      1.84      1.90      1.92  103645788.0   \n",
       "62      6.77      6.65      6.65      6.65      6.58      6.52          NaN   \n",
       "\n",
       "    pledge2003  funding2004  pledge2004  funding2005   pledge2005  \\\n",
       "0          NaN          NaN         NaN     500000.0          NaN   \n",
       "10         NaN          NaN         NaN      10000.0          NaN   \n",
       "56         NaN   45511458.0         NaN  189744486.0  256398333.0   \n",
       "62         NaN          NaN         NaN          NaN          NaN   \n",
       "\n",
       "    funding2006  pledge2006  funding2007  pledge2007  funding2008  pledge2008  \\\n",
       "0           NaN         NaN          NaN         NaN   24000000.0         NaN   \n",
       "10          NaN         NaN          NaN         NaN     310000.0         NaN   \n",
       "56  187656161.0   9950000.0  252564761.0    200000.0  609589418.0         NaN   \n",
       "62          NaN         NaN          NaN         NaN          NaN         NaN   \n",
       "\n",
       "    funding2009  pledge2009  funding2010   pledge2010  funding2011  \\\n",
       "0      136493.0         NaN    2379910.0          NaN       3360.0   \n",
       "10       1554.0         NaN      60000.0          NaN          NaN   \n",
       "56  143442118.0         NaN  281757318.0  146306111.0  213828471.0   \n",
       "62          NaN         NaN    1000000.0          NaN          NaN   \n",
       "\n",
       "    pledge2011  funding2012  pledge2012  funding2013  pledge2013  funding2014  \\\n",
       "0          NaN       3000.0         NaN       2000.0         NaN          NaN   \n",
       "10         NaN          NaN         NaN          NaN         NaN          NaN   \n",
       "56         NaN  412225334.0   2000000.0  287252781.0         NaN  860357984.0   \n",
       "62         NaN          NaN         NaN          NaN         NaN          NaN   \n",
       "\n",
       "    pledge2014  funding2015  pledge2015  funding2016  pledge2016  funding2017  \\\n",
       "0          NaN       1000.0         NaN          NaN         NaN          NaN   \n",
       "10         NaN          NaN         NaN          NaN         NaN          NaN   \n",
       "56  35000000.0  521954949.0         NaN  441809387.0   3400000.0  437150488.0   \n",
       "62         NaN          NaN         NaN          NaN         NaN          NaN   \n",
       "\n",
       "    pledge2017   funding2018  pledge2018   funding2019  pledge2019  \\\n",
       "0          NaN  3.870542e+06         NaN  9.031770e+05         NaN   \n",
       "10         NaN           NaN         NaN           NaN         NaN   \n",
       "56  11203500.0  1.512600e+09         NaN  1.406178e+09         NaN   \n",
       "62         NaN           NaN         NaN           NaN         NaN   \n",
       "\n",
       "    funding2020  pledge2020       gdp2003       gdp2004       gdp2005  \\\n",
       "0           NaN         NaN  4.515559e+09  5.226779e+09  6.209138e+09   \n",
       "10      20000.0         NaN  4.658247e+09  5.337833e+09  6.293046e+09   \n",
       "56  506114935.0    150000.0  2.158077e+11  2.587421e+11  3.284596e+11   \n",
       "62          NaN         NaN  1.274190e+09  1.484093e+09  1.793389e+09   \n",
       "\n",
       "         gdp2006       gdp2007       gdp2008       gdp2009       gdp2010  \\\n",
       "0   6.971286e+09  9.747880e+09  1.010923e+10  1.243909e+10  1.585657e+10   \n",
       "10  7.274596e+09  8.639236e+09  1.035191e+10  1.040185e+10  1.124228e+10   \n",
       "56  3.769001e+11  4.159645e+11  5.197968e+11  4.290979e+11  5.282072e+11   \n",
       "62  2.626380e+09  2.936612e+09  3.532969e+09  3.875410e+09  4.368398e+09   \n",
       "\n",
       "         gdp2011       gdp2012       gdp2013       gdp2014       gdp2015  \\\n",
       "0   1.780429e+10  2.000160e+10  2.056107e+10  2.048489e+10  1.990711e+10   \n",
       "10  1.282954e+10  1.405444e+10  1.522799e+10  1.670261e+10  1.804995e+10   \n",
       "56  6.712388e+11  7.359748e+11  7.466471e+11  7.563503e+11  6.542699e+11   \n",
       "62  4.422277e+09  4.980000e+09  5.145758e+09  5.240606e+09  4.787368e+09   \n",
       "\n",
       "         gdp2016       gdp2017       gdp2018       gdp2019  funding_gdp2003  \\\n",
       "0   1.936264e+10  2.019176e+10  1.948438e+10  1.910135e+10              NaN   \n",
       "10  2.001675e+10  2.217720e+10  2.457175e+10  2.708939e+10              NaN   \n",
       "56  6.449355e+11  6.885861e+11  7.865218e+11  7.929668e+11            0.048   \n",
       "62  3.128954e+09  3.210065e+09  3.458090e+09  3.985251e+09              NaN   \n",
       "\n",
       "    funding_gdp2004  funding_gdp2005  funding_gdp2006  funding_gdp2007  \\\n",
       "0               NaN           0.0081              NaN              NaN   \n",
       "10              NaN           0.0002              NaN              NaN   \n",
       "56           0.0176           0.0578           0.0498           0.0607   \n",
       "62              NaN              NaN              NaN              NaN   \n",
       "\n",
       "    funding_gdp2008  funding_gdp2009  funding_gdp2010  funding_gdp2011  \\\n",
       "0            0.2374           0.0011           0.0150           0.0000   \n",
       "10           0.0030           0.0000           0.0005              NaN   \n",
       "56           0.1173           0.0334           0.0533           0.0319   \n",
       "62              NaN              NaN           0.0229              NaN   \n",
       "\n",
       "    funding_gdp2012  funding_gdp2013  funding_gdp2014  funding_gdp2015  \\\n",
       "0             0.000           0.0000              NaN           0.0000   \n",
       "10              NaN              NaN              NaN              NaN   \n",
       "56            0.056           0.0385           0.1138           0.0798   \n",
       "62              NaN              NaN              NaN              NaN   \n",
       "\n",
       "    funding_gdp2016  funding_gdp2017  funding_gdp2018  funding_gdp2019  \\\n",
       "0               NaN              NaN           0.0199           0.0047   \n",
       "10              NaN              NaN              NaN              NaN   \n",
       "56           0.0685           0.0635           0.1923           0.1773   \n",
       "62              NaN              NaN              NaN              NaN   \n",
       "\n",
       "    gdpcapita2003  gdpcapita2004  gdpcapita2005  gdpcapita2006  gdpcapita2007  \\\n",
       "0      190.683814     211.382117     242.031285     263.733692     359.693238   \n",
       "10     362.335708     408.513826     474.111228     539.750169     631.524842   \n",
       "56    9609.966975   11185.133368   13791.446294   15384.740152   16516.623620   \n",
       "62    2611.356086    3006.189322    3590.626616    5197.717047    5744.759727   \n",
       "\n",
       "    gdpcapita2008  gdpcapita2009  gdpcapita2010  gdpcapita2011  gdpcapita2012  \\\n",
       "0      364.660745     438.076034     543.303042     591.162759     641.871479   \n",
       "10     745.609181     738.054784     785.502283     882.275493     950.880346   \n",
       "56   20078.257790   16113.142485   19262.547681   23745.801614   25243.358698   \n",
       "62    6831.970411    7408.389111    8255.796859    8263.172923    9201.008785   \n",
       "\n",
       "    gdpcapita2013  gdpcapita2014  gdpcapita2015  gdpcapita2016  gdpcapita2017  \\\n",
       "0      637.165523     613.856689     578.466353     547.228110     556.302002   \n",
       "10    1013.420401    1093.496191    1162.904920    1269.591257    1385.259980   \n",
       "56   24844.744371   24463.903164   20627.932782   19879.297530   20803.742566   \n",
       "62    9402.233137    9472.007600    8561.974179    5539.068872    5626.795816   \n",
       "\n",
       "    gdpcapita2018  gdpcapita2019  govexpense2003  govexpense2004  \\\n",
       "0      524.162881     502.115487          11.927          15.069   \n",
       "10    1512.126710    1643.121389          15.749          13.865   \n",
       "56   23338.963458   23139.798656          33.116          31.094   \n",
       "62    6003.723066    6854.906561          20.534          22.286   \n",
       "\n",
       "    govexpense2005  govexpense2006  govexpense2007  govexpense2008  \\\n",
       "0           15.698          18.303          21.478          20.918   \n",
       "10          12.332          12.952          14.404          15.382   \n",
       "56          28.151          27.269          29.453          26.680   \n",
       "62          23.777          23.780          24.180          21.950   \n",
       "\n",
       "    govexpense2009  govexpense2010  govexpense2011  govexpense2012  \\\n",
       "0           21.170          20.801          21.937          25.028   \n",
       "10          20.400          20.903          20.595          21.680   \n",
       "56          37.066          33.012          32.843          33.233   \n",
       "62          25.721          22.515          22.538          28.538   \n",
       "\n",
       "    govexpense2013  govexpense2014  govexpense2015  govexpense2016  \\\n",
       "0           24.977          25.402          25.947          28.029   \n",
       "10          21.366          21.718          20.272          21.118   \n",
       "56          35.527          40.214          40.811          38.682   \n",
       "62          28.772          29.123          31.226          28.005   \n",
       "\n",
       "    govexpense2017  govexpense2018  govexpense2019  \\\n",
       "0           27.732          28.936          27.999   \n",
       "10          22.375          23.175          23.020   \n",
       "56          33.305          36.575          35.613   \n",
       "62          30.797          30.907          35.949   \n",
       "\n",
       "                        region          income_type     pop2003     pop2004  \\\n",
       "0                   South Asia           Low income  23680871.0  24726684.0   \n",
       "10         East Asia & Pacific  Lower middle income  12856163.0  13066469.0   \n",
       "56  Middle East & North Africa          High income  22456649.0  23132682.0   \n",
       "62   Latin America & Caribbean  Upper middle income    487942.0    493679.0   \n",
       "\n",
       "       pop2005     pop2006     pop2007     pop2008     pop2009     pop2010  \\\n",
       "0   25654277.0  26433049.0  27100536.0  27722276.0  28394813.0  29185507.0   \n",
       "10  13273354.0  13477709.0  13679962.0  13883834.0  14093604.0  14312212.0   \n",
       "56  23816183.0  24498310.0  25184597.0  25888541.0  26630303.0  27421461.0   \n",
       "62    499464.0    505295.0    511181.0    517123.0    523111.0    529131.0   \n",
       "\n",
       "       pop2011     pop2012     pop2013     pop2014     pop2015     pop2016  \\\n",
       "0   30117413.0  31161376.0  32269589.0  33370794.0  34413603.0  35383128.0   \n",
       "10  14541423.0  14780454.0  15026332.0  15274503.0  15521436.0  15766293.0   \n",
       "56  28267685.0  29155187.0  30052518.0  30916994.0  31717667.0  32442572.0   \n",
       "62    535179.0    541245.0    547291.0    553273.0    559143.0    564888.0   \n",
       "\n",
       "       pop2017     pop2018     pop2019  oda2003  oda2004  oda2005  oda2006  \\\n",
       "0   36296400.0  37172386.0  38041754.0      NaN      NaN      NaN      NaN   \n",
       "10  16009414.0  16249798.0  16486542.0      NaN      NaN      NaN      NaN   \n",
       "56  33099147.0  33699947.0  34268528.0      NaN      NaN      NaN      NaN   \n",
       "62    570496.0    575991.0    581372.0      NaN      NaN      NaN      NaN   \n",
       "\n",
       "    oda2007  oda2008  oda2009  oda2010  oda2011  oda2012  oda2013  oda2014  \\\n",
       "0       NaN      NaN      NaN      NaN      NaN      NaN      NaN      NaN   \n",
       "10      NaN      NaN      NaN      NaN      NaN      NaN      NaN      NaN   \n",
       "56      NaN      NaN      NaN      NaN      NaN      NaN      NaN      NaN   \n",
       "62      NaN      NaN      NaN      NaN      NaN      NaN      NaN      NaN   \n",
       "\n",
       "    oda2015  oda2016  oda2017  oda2018  oda2019  oda_int  aid  oecd  g20  \\\n",
       "0       NaN      NaN      NaN      NaN      NaN        0    0     0    0   \n",
       "10      NaN      NaN      NaN      NaN      NaN        0    0     0    0   \n",
       "56      NaN      NaN      NaN      NaN      NaN        0    1     0    1   \n",
       "62      NaN      NaN      NaN      NaN      NaN        0    0     0    0   \n",
       "\n",
       "    gni2003  gni2004  gni2005  gni2006  gni2007  gni2008  gni2009  gni2010  \\\n",
       "0       NaN      NaN      NaN      NaN      NaN      NaN      NaN      NaN   \n",
       "10      NaN      NaN      NaN      NaN      NaN      NaN      NaN      NaN   \n",
       "56      NaN      NaN      NaN      NaN      NaN      NaN      NaN      NaN   \n",
       "62      NaN      NaN      NaN      NaN      NaN      NaN      NaN      NaN   \n",
       "\n",
       "    gni2011  gni2012  gni2013  gni2014  gni2015  gni2016  gni2017  gni2018  \\\n",
       "0       NaN      NaN      NaN      NaN      NaN      NaN      NaN      NaN   \n",
       "10      NaN      NaN      NaN      NaN      NaN      NaN      NaN      NaN   \n",
       "56      NaN      NaN      NaN      NaN      NaN      NaN      NaN      NaN   \n",
       "62      NaN      NaN      NaN      NaN      NaN      NaN      NaN      NaN   \n",
       "\n",
       "    gni2019  \n",
       "0       NaN  \n",
       "10      NaN  \n",
       "56      NaN  \n",
       "62      NaN  "
      ],
      "text/html": "<div>\n<style scoped>\n    .dataframe tbody tr th:only-of-type {\n        vertical-align: middle;\n    }\n\n    .dataframe tbody tr th {\n        vertical-align: top;\n    }\n\n    .dataframe thead th {\n        text-align: right;\n    }\n</style>\n<table border=\"1\" class=\"dataframe\">\n  <thead>\n    <tr style=\"text-align: right;\">\n      <th></th>\n      <th>country</th>\n      <th>isocode</th>\n      <th>patience</th>\n      <th>risktaking</th>\n      <th>posrecip</th>\n      <th>negrecip</th>\n      <th>altruism</th>\n      <th>trust</th>\n      <th>demo2019</th>\n      <th>demo2018</th>\n      <th>demo2017</th>\n      <th>demo2016</th>\n      <th>demo2015</th>\n      <th>demo2014</th>\n      <th>demo2013</th>\n      <th>demo2012</th>\n      <th>demo2011</th>\n      <th>demo2010</th>\n      <th>demo2008</th>\n      <th>demo2006</th>\n      <th>funding2003</th>\n      <th>pledge2003</th>\n      <th>funding2004</th>\n      <th>pledge2004</th>\n      <th>funding2005</th>\n      <th>pledge2005</th>\n      <th>funding2006</th>\n      <th>pledge2006</th>\n      <th>funding2007</th>\n      <th>pledge2007</th>\n      <th>funding2008</th>\n      <th>pledge2008</th>\n      <th>funding2009</th>\n      <th>pledge2009</th>\n      <th>funding2010</th>\n      <th>pledge2010</th>\n      <th>funding2011</th>\n      <th>pledge2011</th>\n      <th>funding2012</th>\n      <th>pledge2012</th>\n      <th>funding2013</th>\n      <th>pledge2013</th>\n      <th>funding2014</th>\n      <th>pledge2014</th>\n      <th>funding2015</th>\n      <th>pledge2015</th>\n      <th>funding2016</th>\n      <th>pledge2016</th>\n      <th>funding2017</th>\n      <th>pledge2017</th>\n      <th>funding2018</th>\n      <th>pledge2018</th>\n      <th>funding2019</th>\n      <th>pledge2019</th>\n      <th>funding2020</th>\n      <th>pledge2020</th>\n      <th>gdp2003</th>\n      <th>gdp2004</th>\n      <th>gdp2005</th>\n      <th>gdp2006</th>\n      <th>gdp2007</th>\n      <th>gdp2008</th>\n      <th>gdp2009</th>\n      <th>gdp2010</th>\n      <th>gdp2011</th>\n      <th>gdp2012</th>\n      <th>gdp2013</th>\n      <th>gdp2014</th>\n      <th>gdp2015</th>\n      <th>gdp2016</th>\n      <th>gdp2017</th>\n      <th>gdp2018</th>\n      <th>gdp2019</th>\n      <th>funding_gdp2003</th>\n      <th>funding_gdp2004</th>\n      <th>funding_gdp2005</th>\n      <th>funding_gdp2006</th>\n      <th>funding_gdp2007</th>\n      <th>funding_gdp2008</th>\n      <th>funding_gdp2009</th>\n      <th>funding_gdp2010</th>\n      <th>funding_gdp2011</th>\n      <th>funding_gdp2012</th>\n      <th>funding_gdp2013</th>\n      <th>funding_gdp2014</th>\n      <th>funding_gdp2015</th>\n      <th>funding_gdp2016</th>\n      <th>funding_gdp2017</th>\n      <th>funding_gdp2018</th>\n      <th>funding_gdp2019</th>\n      <th>gdpcapita2003</th>\n      <th>gdpcapita2004</th>\n      <th>gdpcapita2005</th>\n      <th>gdpcapita2006</th>\n      <th>gdpcapita2007</th>\n      <th>gdpcapita2008</th>\n      <th>gdpcapita2009</th>\n      <th>gdpcapita2010</th>\n      <th>gdpcapita2011</th>\n      <th>gdpcapita2012</th>\n      <th>gdpcapita2013</th>\n      <th>gdpcapita2014</th>\n      <th>gdpcapita2015</th>\n      <th>gdpcapita2016</th>\n      <th>gdpcapita2017</th>\n      <th>gdpcapita2018</th>\n      <th>gdpcapita2019</th>\n      <th>govexpense2003</th>\n      <th>govexpense2004</th>\n      <th>govexpense2005</th>\n      <th>govexpense2006</th>\n      <th>govexpense2007</th>\n      <th>govexpense2008</th>\n      <th>govexpense2009</th>\n      <th>govexpense2010</th>\n      <th>govexpense2011</th>\n      <th>govexpense2012</th>\n      <th>govexpense2013</th>\n      <th>govexpense2014</th>\n      <th>govexpense2015</th>\n      <th>govexpense2016</th>\n      <th>govexpense2017</th>\n      <th>govexpense2018</th>\n      <th>govexpense2019</th>\n      <th>region</th>\n      <th>income_type</th>\n      <th>pop2003</th>\n      <th>pop2004</th>\n      <th>pop2005</th>\n      <th>pop2006</th>\n      <th>pop2007</th>\n      <th>pop2008</th>\n      <th>pop2009</th>\n      <th>pop2010</th>\n      <th>pop2011</th>\n      <th>pop2012</th>\n      <th>pop2013</th>\n      <th>pop2014</th>\n      <th>pop2015</th>\n      <th>pop2016</th>\n      <th>pop2017</th>\n      <th>pop2018</th>\n      <th>pop2019</th>\n      <th>oda2003</th>\n      <th>oda2004</th>\n      <th>oda2005</th>\n      <th>oda2006</th>\n      <th>oda2007</th>\n      <th>oda2008</th>\n      <th>oda2009</th>\n      <th>oda2010</th>\n      <th>oda2011</th>\n      <th>oda2012</th>\n      <th>oda2013</th>\n      <th>oda2014</th>\n      <th>oda2015</th>\n      <th>oda2016</th>\n      <th>oda2017</th>\n      <th>oda2018</th>\n      <th>oda2019</th>\n      <th>oda_int</th>\n      <th>aid</th>\n      <th>oecd</th>\n      <th>g20</th>\n      <th>gni2003</th>\n      <th>gni2004</th>\n      <th>gni2005</th>\n      <th>gni2006</th>\n      <th>gni2007</th>\n      <th>gni2008</th>\n      <th>gni2009</th>\n      <th>gni2010</th>\n      <th>gni2011</th>\n      <th>gni2012</th>\n      <th>gni2013</th>\n      <th>gni2014</th>\n      <th>gni2015</th>\n      <th>gni2016</th>\n      <th>gni2017</th>\n      <th>gni2018</th>\n      <th>gni2019</th>\n    </tr>\n  </thead>\n  <tbody>\n    <tr>\n      <th>0</th>\n      <td>Afghanistan</td>\n      <td>AFG</td>\n      <td>-0.201360</td>\n      <td>0.120764</td>\n      <td>0.289641</td>\n      <td>0.254712</td>\n      <td>0.166455</td>\n      <td>0.315964</td>\n      <td>2.85</td>\n      <td>2.97</td>\n      <td>2.55</td>\n      <td>2.55</td>\n      <td>2.77</td>\n      <td>2.77</td>\n      <td>2.48</td>\n      <td>2.48</td>\n      <td>2.48</td>\n      <td>2.48</td>\n      <td>3.02</td>\n      <td>3.06</td>\n      <td>NaN</td>\n      <td>NaN</td>\n      <td>NaN</td>\n      <td>NaN</td>\n      <td>500000.0</td>\n      <td>NaN</td>\n      <td>NaN</td>\n      <td>NaN</td>\n      <td>NaN</td>\n      <td>NaN</td>\n      <td>24000000.0</td>\n      <td>NaN</td>\n      <td>136493.0</td>\n      <td>NaN</td>\n      <td>2379910.0</td>\n      <td>NaN</td>\n      <td>3360.0</td>\n      <td>NaN</td>\n      <td>3000.0</td>\n      <td>NaN</td>\n      <td>2000.0</td>\n      <td>NaN</td>\n      <td>NaN</td>\n      <td>NaN</td>\n      <td>1000.0</td>\n      <td>NaN</td>\n      <td>NaN</td>\n      <td>NaN</td>\n      <td>NaN</td>\n      <td>NaN</td>\n      <td>3.870542e+06</td>\n      <td>NaN</td>\n      <td>9.031770e+05</td>\n      <td>NaN</td>\n      <td>NaN</td>\n      <td>NaN</td>\n      <td>4.515559e+09</td>\n      <td>5.226779e+09</td>\n      <td>6.209138e+09</td>\n      <td>6.971286e+09</td>\n      <td>9.747880e+09</td>\n      <td>1.010923e+10</td>\n      <td>1.243909e+10</td>\n      <td>1.585657e+10</td>\n      <td>1.780429e+10</td>\n      <td>2.000160e+10</td>\n      <td>2.056107e+10</td>\n      <td>2.048489e+10</td>\n      <td>1.990711e+10</td>\n      <td>1.936264e+10</td>\n      <td>2.019176e+10</td>\n      <td>1.948438e+10</td>\n      <td>1.910135e+10</td>\n      <td>NaN</td>\n      <td>NaN</td>\n      <td>0.0081</td>\n      <td>NaN</td>\n      <td>NaN</td>\n      <td>0.2374</td>\n      <td>0.0011</td>\n      <td>0.0150</td>\n      <td>0.0000</td>\n      <td>0.000</td>\n      <td>0.0000</td>\n      <td>NaN</td>\n      <td>0.0000</td>\n      <td>NaN</td>\n      <td>NaN</td>\n      <td>0.0199</td>\n      <td>0.0047</td>\n      <td>190.683814</td>\n      <td>211.382117</td>\n      <td>242.031285</td>\n      <td>263.733692</td>\n      <td>359.693238</td>\n      <td>364.660745</td>\n      <td>438.076034</td>\n      <td>543.303042</td>\n      <td>591.162759</td>\n      <td>641.871479</td>\n      <td>637.165523</td>\n      <td>613.856689</td>\n      <td>578.466353</td>\n      <td>547.228110</td>\n      <td>556.302002</td>\n      <td>524.162881</td>\n      <td>502.115487</td>\n      <td>11.927</td>\n      <td>15.069</td>\n      <td>15.698</td>\n      <td>18.303</td>\n      <td>21.478</td>\n      <td>20.918</td>\n      <td>21.170</td>\n      <td>20.801</td>\n      <td>21.937</td>\n      <td>25.028</td>\n      <td>24.977</td>\n      <td>25.402</td>\n      <td>25.947</td>\n      <td>28.029</td>\n      <td>27.732</td>\n      <td>28.936</td>\n      <td>27.999</td>\n      <td>South Asia</td>\n      <td>Low income</td>\n      <td>23680871.0</td>\n      <td>24726684.0</td>\n      <td>25654277.0</td>\n      <td>26433049.0</td>\n      <td>27100536.0</td>\n      <td>27722276.0</td>\n      <td>28394813.0</td>\n      <td>29185507.0</td>\n      <td>30117413.0</td>\n      <td>31161376.0</td>\n      <td>32269589.0</td>\n      <td>33370794.0</td>\n      <td>34413603.0</td>\n      <td>35383128.0</td>\n      <td>36296400.0</td>\n      <td>37172386.0</td>\n      <td>38041754.0</td>\n      <td>NaN</td>\n      <td>NaN</td>\n      <td>NaN</td>\n      <td>NaN</td>\n      <td>NaN</td>\n      <td>NaN</td>\n      <td>NaN</td>\n      <td>NaN</td>\n      <td>NaN</td>\n      <td>NaN</td>\n      <td>NaN</td>\n      <td>NaN</td>\n      <td>NaN</td>\n      <td>NaN</td>\n      <td>NaN</td>\n      <td>NaN</td>\n      <td>NaN</td>\n      <td>0</td>\n      <td>0</td>\n      <td>0</td>\n      <td>0</td>\n      <td>NaN</td>\n      <td>NaN</td>\n      <td>NaN</td>\n      <td>NaN</td>\n      <td>NaN</td>\n      <td>NaN</td>\n      <td>NaN</td>\n      <td>NaN</td>\n      <td>NaN</td>\n      <td>NaN</td>\n      <td>NaN</td>\n      <td>NaN</td>\n      <td>NaN</td>\n      <td>NaN</td>\n      <td>NaN</td>\n      <td>NaN</td>\n      <td>NaN</td>\n    </tr>\n    <tr>\n      <th>10</th>\n      <td>Cambodia</td>\n      <td>KHM</td>\n      <td>-0.119899</td>\n      <td>-0.404640</td>\n      <td>0.171683</td>\n      <td>-0.062052</td>\n      <td>-0.216157</td>\n      <td>-0.079135</td>\n      <td>3.53</td>\n      <td>3.59</td>\n      <td>3.63</td>\n      <td>4.27</td>\n      <td>4.27</td>\n      <td>4.78</td>\n      <td>4.60</td>\n      <td>4.96</td>\n      <td>4.87</td>\n      <td>4.87</td>\n      <td>4.87</td>\n      <td>4.77</td>\n      <td>NaN</td>\n      <td>NaN</td>\n      <td>NaN</td>\n      <td>NaN</td>\n      <td>10000.0</td>\n      <td>NaN</td>\n      <td>NaN</td>\n      <td>NaN</td>\n      <td>NaN</td>\n      <td>NaN</td>\n      <td>310000.0</td>\n      <td>NaN</td>\n      <td>1554.0</td>\n      <td>NaN</td>\n      <td>60000.0</td>\n      <td>NaN</td>\n      <td>NaN</td>\n      <td>NaN</td>\n      <td>NaN</td>\n      <td>NaN</td>\n      <td>NaN</td>\n      <td>NaN</td>\n      <td>NaN</td>\n      <td>NaN</td>\n      <td>NaN</td>\n      <td>NaN</td>\n      <td>NaN</td>\n      <td>NaN</td>\n      <td>NaN</td>\n      <td>NaN</td>\n      <td>NaN</td>\n      <td>NaN</td>\n      <td>NaN</td>\n      <td>NaN</td>\n      <td>20000.0</td>\n      <td>NaN</td>\n      <td>4.658247e+09</td>\n      <td>5.337833e+09</td>\n      <td>6.293046e+09</td>\n      <td>7.274596e+09</td>\n      <td>8.639236e+09</td>\n      <td>1.035191e+10</td>\n      <td>1.040185e+10</td>\n      <td>1.124228e+10</td>\n      <td>1.282954e+10</td>\n      <td>1.405444e+10</td>\n      <td>1.522799e+10</td>\n      <td>1.670261e+10</td>\n      <td>1.804995e+10</td>\n      <td>2.001675e+10</td>\n      <td>2.217720e+10</td>\n      <td>2.457175e+10</td>\n      <td>2.708939e+10</td>\n      <td>NaN</td>\n      <td>NaN</td>\n      <td>0.0002</td>\n      <td>NaN</td>\n      <td>NaN</td>\n      <td>0.0030</td>\n      <td>0.0000</td>\n      <td>0.0005</td>\n      <td>NaN</td>\n      <td>NaN</td>\n      <td>NaN</td>\n      <td>NaN</td>\n      <td>NaN</td>\n      <td>NaN</td>\n      <td>NaN</td>\n      <td>NaN</td>\n      <td>NaN</td>\n      <td>362.335708</td>\n      <td>408.513826</td>\n      <td>474.111228</td>\n      <td>539.750169</td>\n      <td>631.524842</td>\n      <td>745.609181</td>\n      <td>738.054784</td>\n      <td>785.502283</td>\n      <td>882.275493</td>\n      <td>950.880346</td>\n      <td>1013.420401</td>\n      <td>1093.496191</td>\n      <td>1162.904920</td>\n      <td>1269.591257</td>\n      <td>1385.259980</td>\n      <td>1512.126710</td>\n      <td>1643.121389</td>\n      <td>15.749</td>\n      <td>13.865</td>\n      <td>12.332</td>\n      <td>12.952</td>\n      <td>14.404</td>\n      <td>15.382</td>\n      <td>20.400</td>\n      <td>20.903</td>\n      <td>20.595</td>\n      <td>21.680</td>\n      <td>21.366</td>\n      <td>21.718</td>\n      <td>20.272</td>\n      <td>21.118</td>\n      <td>22.375</td>\n      <td>23.175</td>\n      <td>23.020</td>\n      <td>East Asia &amp; Pacific</td>\n      <td>Lower middle income</td>\n      <td>12856163.0</td>\n      <td>13066469.0</td>\n      <td>13273354.0</td>\n      <td>13477709.0</td>\n      <td>13679962.0</td>\n      <td>13883834.0</td>\n      <td>14093604.0</td>\n      <td>14312212.0</td>\n      <td>14541423.0</td>\n      <td>14780454.0</td>\n      <td>15026332.0</td>\n      <td>15274503.0</td>\n      <td>15521436.0</td>\n      <td>15766293.0</td>\n      <td>16009414.0</td>\n      <td>16249798.0</td>\n      <td>16486542.0</td>\n      <td>NaN</td>\n      <td>NaN</td>\n      <td>NaN</td>\n      <td>NaN</td>\n      <td>NaN</td>\n      <td>NaN</td>\n      <td>NaN</td>\n      <td>NaN</td>\n      <td>NaN</td>\n      <td>NaN</td>\n      <td>NaN</td>\n      <td>NaN</td>\n      <td>NaN</td>\n      <td>NaN</td>\n      <td>NaN</td>\n      <td>NaN</td>\n      <td>NaN</td>\n      <td>0</td>\n      <td>0</td>\n      <td>0</td>\n      <td>0</td>\n      <td>NaN</td>\n      <td>NaN</td>\n      <td>NaN</td>\n      <td>NaN</td>\n      <td>NaN</td>\n      <td>NaN</td>\n      <td>NaN</td>\n      <td>NaN</td>\n      <td>NaN</td>\n      <td>NaN</td>\n      <td>NaN</td>\n      <td>NaN</td>\n      <td>NaN</td>\n      <td>NaN</td>\n      <td>NaN</td>\n      <td>NaN</td>\n      <td>NaN</td>\n    </tr>\n    <tr>\n      <th>56</th>\n      <td>Saudi Arabia</td>\n      <td>SAU</td>\n      <td>0.200122</td>\n      <td>0.695746</td>\n      <td>-0.487077</td>\n      <td>0.599556</td>\n      <td>-0.371266</td>\n      <td>0.300153</td>\n      <td>1.93</td>\n      <td>1.93</td>\n      <td>1.93</td>\n      <td>1.93</td>\n      <td>1.93</td>\n      <td>1.82</td>\n      <td>1.82</td>\n      <td>1.71</td>\n      <td>1.77</td>\n      <td>1.84</td>\n      <td>1.90</td>\n      <td>1.92</td>\n      <td>103645788.0</td>\n      <td>NaN</td>\n      <td>45511458.0</td>\n      <td>NaN</td>\n      <td>189744486.0</td>\n      <td>256398333.0</td>\n      <td>187656161.0</td>\n      <td>9950000.0</td>\n      <td>252564761.0</td>\n      <td>200000.0</td>\n      <td>609589418.0</td>\n      <td>NaN</td>\n      <td>143442118.0</td>\n      <td>NaN</td>\n      <td>281757318.0</td>\n      <td>146306111.0</td>\n      <td>213828471.0</td>\n      <td>NaN</td>\n      <td>412225334.0</td>\n      <td>2000000.0</td>\n      <td>287252781.0</td>\n      <td>NaN</td>\n      <td>860357984.0</td>\n      <td>35000000.0</td>\n      <td>521954949.0</td>\n      <td>NaN</td>\n      <td>441809387.0</td>\n      <td>3400000.0</td>\n      <td>437150488.0</td>\n      <td>11203500.0</td>\n      <td>1.512600e+09</td>\n      <td>NaN</td>\n      <td>1.406178e+09</td>\n      <td>NaN</td>\n      <td>506114935.0</td>\n      <td>150000.0</td>\n      <td>2.158077e+11</td>\n      <td>2.587421e+11</td>\n      <td>3.284596e+11</td>\n      <td>3.769001e+11</td>\n      <td>4.159645e+11</td>\n      <td>5.197968e+11</td>\n      <td>4.290979e+11</td>\n      <td>5.282072e+11</td>\n      <td>6.712388e+11</td>\n      <td>7.359748e+11</td>\n      <td>7.466471e+11</td>\n      <td>7.563503e+11</td>\n      <td>6.542699e+11</td>\n      <td>6.449355e+11</td>\n      <td>6.885861e+11</td>\n      <td>7.865218e+11</td>\n      <td>7.929668e+11</td>\n      <td>0.048</td>\n      <td>0.0176</td>\n      <td>0.0578</td>\n      <td>0.0498</td>\n      <td>0.0607</td>\n      <td>0.1173</td>\n      <td>0.0334</td>\n      <td>0.0533</td>\n      <td>0.0319</td>\n      <td>0.056</td>\n      <td>0.0385</td>\n      <td>0.1138</td>\n      <td>0.0798</td>\n      <td>0.0685</td>\n      <td>0.0635</td>\n      <td>0.1923</td>\n      <td>0.1773</td>\n      <td>9609.966975</td>\n      <td>11185.133368</td>\n      <td>13791.446294</td>\n      <td>15384.740152</td>\n      <td>16516.623620</td>\n      <td>20078.257790</td>\n      <td>16113.142485</td>\n      <td>19262.547681</td>\n      <td>23745.801614</td>\n      <td>25243.358698</td>\n      <td>24844.744371</td>\n      <td>24463.903164</td>\n      <td>20627.932782</td>\n      <td>19879.297530</td>\n      <td>20803.742566</td>\n      <td>23338.963458</td>\n      <td>23139.798656</td>\n      <td>33.116</td>\n      <td>31.094</td>\n      <td>28.151</td>\n      <td>27.269</td>\n      <td>29.453</td>\n      <td>26.680</td>\n      <td>37.066</td>\n      <td>33.012</td>\n      <td>32.843</td>\n      <td>33.233</td>\n      <td>35.527</td>\n      <td>40.214</td>\n      <td>40.811</td>\n      <td>38.682</td>\n      <td>33.305</td>\n      <td>36.575</td>\n      <td>35.613</td>\n      <td>Middle East &amp; North Africa</td>\n      <td>High income</td>\n      <td>22456649.0</td>\n      <td>23132682.0</td>\n      <td>23816183.0</td>\n      <td>24498310.0</td>\n      <td>25184597.0</td>\n      <td>25888541.0</td>\n      <td>26630303.0</td>\n      <td>27421461.0</td>\n      <td>28267685.0</td>\n      <td>29155187.0</td>\n      <td>30052518.0</td>\n      <td>30916994.0</td>\n      <td>31717667.0</td>\n      <td>32442572.0</td>\n      <td>33099147.0</td>\n      <td>33699947.0</td>\n      <td>34268528.0</td>\n      <td>NaN</td>\n      <td>NaN</td>\n      <td>NaN</td>\n      <td>NaN</td>\n      <td>NaN</td>\n      <td>NaN</td>\n      <td>NaN</td>\n      <td>NaN</td>\n      <td>NaN</td>\n      <td>NaN</td>\n      <td>NaN</td>\n      <td>NaN</td>\n      <td>NaN</td>\n      <td>NaN</td>\n      <td>NaN</td>\n      <td>NaN</td>\n      <td>NaN</td>\n      <td>0</td>\n      <td>1</td>\n      <td>0</td>\n      <td>1</td>\n      <td>NaN</td>\n      <td>NaN</td>\n      <td>NaN</td>\n      <td>NaN</td>\n      <td>NaN</td>\n      <td>NaN</td>\n      <td>NaN</td>\n      <td>NaN</td>\n      <td>NaN</td>\n      <td>NaN</td>\n      <td>NaN</td>\n      <td>NaN</td>\n      <td>NaN</td>\n      <td>NaN</td>\n      <td>NaN</td>\n      <td>NaN</td>\n      <td>NaN</td>\n    </tr>\n    <tr>\n      <th>62</th>\n      <td>Suriname</td>\n      <td>SUR</td>\n      <td>0.006719</td>\n      <td>0.178213</td>\n      <td>0.164919</td>\n      <td>0.015116</td>\n      <td>0.090163</td>\n      <td>0.116365</td>\n      <td>6.98</td>\n      <td>6.98</td>\n      <td>6.76</td>\n      <td>6.77</td>\n      <td>6.77</td>\n      <td>6.77</td>\n      <td>6.77</td>\n      <td>6.65</td>\n      <td>6.65</td>\n      <td>6.65</td>\n      <td>6.58</td>\n      <td>6.52</td>\n      <td>NaN</td>\n      <td>NaN</td>\n      <td>NaN</td>\n      <td>NaN</td>\n      <td>NaN</td>\n      <td>NaN</td>\n      <td>NaN</td>\n      <td>NaN</td>\n      <td>NaN</td>\n      <td>NaN</td>\n      <td>NaN</td>\n      <td>NaN</td>\n      <td>NaN</td>\n      <td>NaN</td>\n      <td>1000000.0</td>\n      <td>NaN</td>\n      <td>NaN</td>\n      <td>NaN</td>\n      <td>NaN</td>\n      <td>NaN</td>\n      <td>NaN</td>\n      <td>NaN</td>\n      <td>NaN</td>\n      <td>NaN</td>\n      <td>NaN</td>\n      <td>NaN</td>\n      <td>NaN</td>\n      <td>NaN</td>\n      <td>NaN</td>\n      <td>NaN</td>\n      <td>NaN</td>\n      <td>NaN</td>\n      <td>NaN</td>\n      <td>NaN</td>\n      <td>NaN</td>\n      <td>NaN</td>\n      <td>1.274190e+09</td>\n      <td>1.484093e+09</td>\n      <td>1.793389e+09</td>\n      <td>2.626380e+09</td>\n      <td>2.936612e+09</td>\n      <td>3.532969e+09</td>\n      <td>3.875410e+09</td>\n      <td>4.368398e+09</td>\n      <td>4.422277e+09</td>\n      <td>4.980000e+09</td>\n      <td>5.145758e+09</td>\n      <td>5.240606e+09</td>\n      <td>4.787368e+09</td>\n      <td>3.128954e+09</td>\n      <td>3.210065e+09</td>\n      <td>3.458090e+09</td>\n      <td>3.985251e+09</td>\n      <td>NaN</td>\n      <td>NaN</td>\n      <td>NaN</td>\n      <td>NaN</td>\n      <td>NaN</td>\n      <td>NaN</td>\n      <td>NaN</td>\n      <td>0.0229</td>\n      <td>NaN</td>\n      <td>NaN</td>\n      <td>NaN</td>\n      <td>NaN</td>\n      <td>NaN</td>\n      <td>NaN</td>\n      <td>NaN</td>\n      <td>NaN</td>\n      <td>NaN</td>\n      <td>2611.356086</td>\n      <td>3006.189322</td>\n      <td>3590.626616</td>\n      <td>5197.717047</td>\n      <td>5744.759727</td>\n      <td>6831.970411</td>\n      <td>7408.389111</td>\n      <td>8255.796859</td>\n      <td>8263.172923</td>\n      <td>9201.008785</td>\n      <td>9402.233137</td>\n      <td>9472.007600</td>\n      <td>8561.974179</td>\n      <td>5539.068872</td>\n      <td>5626.795816</td>\n      <td>6003.723066</td>\n      <td>6854.906561</td>\n      <td>20.534</td>\n      <td>22.286</td>\n      <td>23.777</td>\n      <td>23.780</td>\n      <td>24.180</td>\n      <td>21.950</td>\n      <td>25.721</td>\n      <td>22.515</td>\n      <td>22.538</td>\n      <td>28.538</td>\n      <td>28.772</td>\n      <td>29.123</td>\n      <td>31.226</td>\n      <td>28.005</td>\n      <td>30.797</td>\n      <td>30.907</td>\n      <td>35.949</td>\n      <td>Latin America &amp; Caribbean</td>\n      <td>Upper middle income</td>\n      <td>487942.0</td>\n      <td>493679.0</td>\n      <td>499464.0</td>\n      <td>505295.0</td>\n      <td>511181.0</td>\n      <td>517123.0</td>\n      <td>523111.0</td>\n      <td>529131.0</td>\n      <td>535179.0</td>\n      <td>541245.0</td>\n      <td>547291.0</td>\n      <td>553273.0</td>\n      <td>559143.0</td>\n      <td>564888.0</td>\n      <td>570496.0</td>\n      <td>575991.0</td>\n      <td>581372.0</td>\n      <td>NaN</td>\n      <td>NaN</td>\n      <td>NaN</td>\n      <td>NaN</td>\n      <td>NaN</td>\n      <td>NaN</td>\n      <td>NaN</td>\n      <td>NaN</td>\n      <td>NaN</td>\n      <td>NaN</td>\n      <td>NaN</td>\n      <td>NaN</td>\n      <td>NaN</td>\n      <td>NaN</td>\n      <td>NaN</td>\n      <td>NaN</td>\n      <td>NaN</td>\n      <td>0</td>\n      <td>0</td>\n      <td>0</td>\n      <td>0</td>\n      <td>NaN</td>\n      <td>NaN</td>\n      <td>NaN</td>\n      <td>NaN</td>\n      <td>NaN</td>\n      <td>NaN</td>\n      <td>NaN</td>\n      <td>NaN</td>\n      <td>NaN</td>\n      <td>NaN</td>\n      <td>NaN</td>\n      <td>NaN</td>\n      <td>NaN</td>\n      <td>NaN</td>\n      <td>NaN</td>\n      <td>NaN</td>\n      <td>NaN</td>\n    </tr>\n  </tbody>\n</table>\n</div>"
     },
     "metadata": {},
     "execution_count": 37
    }
   ],
   "source": [
    "df_add_gini = pd.merge(df_add_g20, gni_filter, how='left', on=\"isocode\")\n",
    "# df_add_gini.shape\n",
    "df_add_gini[df_add_gini.filter(regex='gni.*', axis=1).isna().all(axis=1)]"
   ]
  },
  {
   "source": [
    "### output"
   ],
   "cell_type": "markdown",
   "metadata": {}
  },
  {
   "cell_type": "code",
   "execution_count": 38,
   "metadata": {},
   "outputs": [],
   "source": [
    "df_add_gini.to_csv('data/result.csv', index=False) "
   ]
  }
 ],
 "metadata": {
  "kernelspec": {
   "name": "python3",
   "display_name": "Python 3.7.9 64-bit ('rm': conda)",
   "metadata": {
    "interpreter": {
     "hash": "3630c3d1db271ca1123f558dfec2a81a577c9d205576a56934a327aca0d0a0be"
    }
   }
  },
  "language_info": {
   "codemirror_mode": {
    "name": "ipython",
    "version": 3
   },
   "file_extension": ".py",
   "mimetype": "text/x-python",
   "name": "python",
   "nbconvert_exporter": "python",
   "pygments_lexer": "ipython3",
   "version": "3.7.9-final"
  }
 },
 "nbformat": 4,
 "nbformat_minor": 4
}