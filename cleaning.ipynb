{
 "cells": [
  {
   "cell_type": "markdown",
   "metadata": {},
   "source": [
    "in this notebook, I combined the data that is needed for our research project, using 76 countries in GPS as the key because this is our main interest in the project, the GDP, humanitarian aids data has been filtered to after 2003, for the reason that democratic index only starts from 2006.\n",
    "notice that Bosnia Herzegovina have no record in humanitarian aids data.\n",
    "\n",
    "### data output \n",
    "| Variable     |Type |      Content                                             |\n",
    "|:-------------|:---:|:------------------------------------------------------- :|\n",
    "| country   |  string| name of countries from Global Preference Survey(GPS) data|\n",
    "| isocode | string|  isocode of the countries                             |\n",
    "|2019 ~ 2006| float| democratic index by year, notice 2007 & 2009 doesn't exist|\n",
    "|altruism| float| altruism from GPS | \n",
    "|2003_gdp ~ 2019_gdp|int | gdp in current US$ by year                           |\n",
    "|funding_3 ~ funding_19| int| humanitarian aid funding (US$) by year       |\n",
    "|pledge_3 ~ pledge_19| int | pledging humanitarian aid (US$) by year        |\n",
    "|funding_3_pct~funding_19_pct| float | funding / gdp the year * 100           |\n",
    "|pledge_3_pct ~ pledge_19_pct| float| pledging funding / gdp the year * 100    |\n"
   ]
  },
  {
   "cell_type": "code",
   "execution_count": 1,
   "metadata": {},
   "outputs": [],
   "source": [
    "import pandas as pd\n",
    "import glob\n",
    "from auxiliary import *\n"
   ]
  },
  {
   "source": [
    "### read in  democracy index and renaming some countries for merging later"
   ],
   "cell_type": "markdown",
   "metadata": {}
  },
  {
   "cell_type": "code",
   "execution_count": 4,
   "metadata": {},
   "outputs": [],
   "source": [
    "democracy = pd.read_excel('data/EIU_Democracy_Index_2006_to_2019.xlsx').rename(columns={\"Unnamed: 0\": \"country\"})"
   ]
  },
  {
   "cell_type": "code",
   "execution_count": 5,
   "metadata": {},
   "outputs": [
    {
     "output_type": "execute_result",
     "data": {
      "text/plain": [
       "         country  2019  2018  2017  2016  2015  2014  2013  2012  2011  2010  \\\n",
       "0         Canada  9.22  9.15  9.15  9.15  9.08  9.08  9.08  9.08  9.08  9.08   \n",
       "1  United States  7.96  7.96  7.98  7.98  8.05  8.11  8.11  8.11  8.11  8.18   \n",
       "2        Austria  8.29  8.29  8.42  8.41  8.54  8.54  8.48  8.62  8.49  8.49   \n",
       "3        Belgium  7.64  7.78  7.78  7.77  7.93  7.93  8.05  8.05  8.05  8.05   \n",
       "4         Cyprus  7.59  7.59  7.59  7.65  7.53  7.40  7.29  7.29  7.29  7.29   \n",
       "\n",
       "   2008  2006  \n",
       "0  9.07  9.07  \n",
       "1  8.22  8.22  \n",
       "2  8.49  8.69  \n",
       "3  8.16  8.15  \n",
       "4  7.70  7.60  "
      ],
      "text/html": "<div>\n<style scoped>\n    .dataframe tbody tr th:only-of-type {\n        vertical-align: middle;\n    }\n\n    .dataframe tbody tr th {\n        vertical-align: top;\n    }\n\n    .dataframe thead th {\n        text-align: right;\n    }\n</style>\n<table border=\"1\" class=\"dataframe\">\n  <thead>\n    <tr style=\"text-align: right;\">\n      <th></th>\n      <th>country</th>\n      <th>2019</th>\n      <th>2018</th>\n      <th>2017</th>\n      <th>2016</th>\n      <th>2015</th>\n      <th>2014</th>\n      <th>2013</th>\n      <th>2012</th>\n      <th>2011</th>\n      <th>2010</th>\n      <th>2008</th>\n      <th>2006</th>\n    </tr>\n  </thead>\n  <tbody>\n    <tr>\n      <th>0</th>\n      <td>Canada</td>\n      <td>9.22</td>\n      <td>9.15</td>\n      <td>9.15</td>\n      <td>9.15</td>\n      <td>9.08</td>\n      <td>9.08</td>\n      <td>9.08</td>\n      <td>9.08</td>\n      <td>9.08</td>\n      <td>9.08</td>\n      <td>9.07</td>\n      <td>9.07</td>\n    </tr>\n    <tr>\n      <th>1</th>\n      <td>United States</td>\n      <td>7.96</td>\n      <td>7.96</td>\n      <td>7.98</td>\n      <td>7.98</td>\n      <td>8.05</td>\n      <td>8.11</td>\n      <td>8.11</td>\n      <td>8.11</td>\n      <td>8.11</td>\n      <td>8.18</td>\n      <td>8.22</td>\n      <td>8.22</td>\n    </tr>\n    <tr>\n      <th>2</th>\n      <td>Austria</td>\n      <td>8.29</td>\n      <td>8.29</td>\n      <td>8.42</td>\n      <td>8.41</td>\n      <td>8.54</td>\n      <td>8.54</td>\n      <td>8.48</td>\n      <td>8.62</td>\n      <td>8.49</td>\n      <td>8.49</td>\n      <td>8.49</td>\n      <td>8.69</td>\n    </tr>\n    <tr>\n      <th>3</th>\n      <td>Belgium</td>\n      <td>7.64</td>\n      <td>7.78</td>\n      <td>7.78</td>\n      <td>7.77</td>\n      <td>7.93</td>\n      <td>7.93</td>\n      <td>8.05</td>\n      <td>8.05</td>\n      <td>8.05</td>\n      <td>8.05</td>\n      <td>8.16</td>\n      <td>8.15</td>\n    </tr>\n    <tr>\n      <th>4</th>\n      <td>Cyprus</td>\n      <td>7.59</td>\n      <td>7.59</td>\n      <td>7.59</td>\n      <td>7.65</td>\n      <td>7.53</td>\n      <td>7.40</td>\n      <td>7.29</td>\n      <td>7.29</td>\n      <td>7.29</td>\n      <td>7.29</td>\n      <td>7.70</td>\n      <td>7.60</td>\n    </tr>\n  </tbody>\n</table>\n</div>"
     },
     "metadata": {},
     "execution_count": 5
    }
   ],
   "source": [
    "country_dict = {'US': 'United States',  'Bosnia and Hercegovina' : 'Bosnia Herzegovina', 'UK' : 'United Kingdom', 'UAE': 'United Arab Emirates' }\n",
    "democracy = democracy.replace({\"country\": country_dict})\n",
    "democracy.head()"
   ]
  },
  {
   "source": [
    "### read in Global Preference Survey (GPS) data and merge with  democracy index "
   ],
   "cell_type": "markdown",
   "metadata": {}
  },
  {
   "cell_type": "code",
   "execution_count": 6,
   "metadata": {},
   "outputs": [
    {
     "output_type": "execute_result",
     "data": {
      "text/plain": [
       "(76, 8)"
      ]
     },
     "metadata": {},
     "execution_count": 6
    }
   ],
   "source": [
    "gps = pd.read_stata('data/country.dta')\n",
    "gps.shape"
   ]
  },
  {
   "cell_type": "code",
   "execution_count": 7,
   "metadata": {},
   "outputs": [
    {
     "output_type": "execute_result",
     "data": {
      "text/plain": [
       "       country isocode  patience  risktaking  posrecip  negrecip  altruism  \\\n",
       "0  Afghanistan     AFG -0.201360    0.120764  0.289641  0.254712  0.166455   \n",
       "1      Algeria     DZA  0.059815    0.391530 -0.598255  0.254901 -0.009968   \n",
       "2    Argentina     ARG -0.229308    0.041503  0.159679 -0.140457  0.027347   \n",
       "3    Australia     AUS  0.657004    0.137137  0.069660  0.022190  0.155331   \n",
       "4      Austria     AUT  0.608285   -0.061829  0.161047 -0.055415 -0.035363   \n",
       "\n",
       "      trust  \n",
       "0  0.315964  \n",
       "1 -0.177371  \n",
       "2 -0.206733  \n",
       "3  0.298973  \n",
       "4  0.154628  "
      ],
      "text/html": "<div>\n<style scoped>\n    .dataframe tbody tr th:only-of-type {\n        vertical-align: middle;\n    }\n\n    .dataframe tbody tr th {\n        vertical-align: top;\n    }\n\n    .dataframe thead th {\n        text-align: right;\n    }\n</style>\n<table border=\"1\" class=\"dataframe\">\n  <thead>\n    <tr style=\"text-align: right;\">\n      <th></th>\n      <th>country</th>\n      <th>isocode</th>\n      <th>patience</th>\n      <th>risktaking</th>\n      <th>posrecip</th>\n      <th>negrecip</th>\n      <th>altruism</th>\n      <th>trust</th>\n    </tr>\n  </thead>\n  <tbody>\n    <tr>\n      <th>0</th>\n      <td>Afghanistan</td>\n      <td>AFG</td>\n      <td>-0.201360</td>\n      <td>0.120764</td>\n      <td>0.289641</td>\n      <td>0.254712</td>\n      <td>0.166455</td>\n      <td>0.315964</td>\n    </tr>\n    <tr>\n      <th>1</th>\n      <td>Algeria</td>\n      <td>DZA</td>\n      <td>0.059815</td>\n      <td>0.391530</td>\n      <td>-0.598255</td>\n      <td>0.254901</td>\n      <td>-0.009968</td>\n      <td>-0.177371</td>\n    </tr>\n    <tr>\n      <th>2</th>\n      <td>Argentina</td>\n      <td>ARG</td>\n      <td>-0.229308</td>\n      <td>0.041503</td>\n      <td>0.159679</td>\n      <td>-0.140457</td>\n      <td>0.027347</td>\n      <td>-0.206733</td>\n    </tr>\n    <tr>\n      <th>3</th>\n      <td>Australia</td>\n      <td>AUS</td>\n      <td>0.657004</td>\n      <td>0.137137</td>\n      <td>0.069660</td>\n      <td>0.022190</td>\n      <td>0.155331</td>\n      <td>0.298973</td>\n    </tr>\n    <tr>\n      <th>4</th>\n      <td>Austria</td>\n      <td>AUT</td>\n      <td>0.608285</td>\n      <td>-0.061829</td>\n      <td>0.161047</td>\n      <td>-0.055415</td>\n      <td>-0.035363</td>\n      <td>0.154628</td>\n    </tr>\n  </tbody>\n</table>\n</div>"
     },
     "metadata": {},
     "execution_count": 7
    }
   ],
   "source": [
    "gps.head()"
   ]
  },
  {
   "cell_type": "code",
   "execution_count": 8,
   "metadata": {},
   "outputs": [
    {
     "output_type": "execute_result",
     "data": {
      "text/plain": [
       "(76, 20)"
      ]
     },
     "metadata": {},
     "execution_count": 8
    }
   ],
   "source": [
    "gps_democracy = pd.merge(gps, democracy, how = 'left', on = 'country')\n",
    "gps_democracy.shape"
   ]
  },
  {
   "cell_type": "code",
   "execution_count": 9,
   "metadata": {},
   "outputs": [
    {
     "output_type": "execute_result",
     "data": {
      "text/plain": [
       "       country isocode  patience  risktaking  posrecip  negrecip  altruism  \\\n",
       "0  Afghanistan     AFG -0.201360    0.120764  0.289641  0.254712  0.166455   \n",
       "1      Algeria     DZA  0.059815    0.391530 -0.598255  0.254901 -0.009968   \n",
       "2    Argentina     ARG -0.229308    0.041503  0.159679 -0.140457  0.027347   \n",
       "3    Australia     AUS  0.657004    0.137137  0.069660  0.022190  0.155331   \n",
       "4      Austria     AUT  0.608285   -0.061829  0.161047 -0.055415 -0.035363   \n",
       "\n",
       "      trust  2019  2018  2017  2016  2015  2014  2013  2012  2011  2010  2008  \\\n",
       "0  0.315964  2.85  2.97  2.55  2.55  2.77  2.77  2.48  2.48  2.48  2.48  3.02   \n",
       "1 -0.177371  4.01  3.50  3.56  3.56  3.95  3.83  3.83  3.83  3.44  3.44  3.32   \n",
       "2 -0.206733  7.02  7.02  6.96  6.96  7.02  6.84  6.84  6.84  6.84  6.84  6.63   \n",
       "3  0.298973  9.09  9.09  9.09  9.01  9.01  9.01  9.13  9.22  9.22  9.22  9.09   \n",
       "4  0.154628  8.29  8.29  8.42  8.41  8.54  8.54  8.48  8.62  8.49  8.49  8.49   \n",
       "\n",
       "   2006  \n",
       "0  3.06  \n",
       "1  3.17  \n",
       "2  6.63  \n",
       "3  9.09  \n",
       "4  8.69  "
      ],
      "text/html": "<div>\n<style scoped>\n    .dataframe tbody tr th:only-of-type {\n        vertical-align: middle;\n    }\n\n    .dataframe tbody tr th {\n        vertical-align: top;\n    }\n\n    .dataframe thead th {\n        text-align: right;\n    }\n</style>\n<table border=\"1\" class=\"dataframe\">\n  <thead>\n    <tr style=\"text-align: right;\">\n      <th></th>\n      <th>country</th>\n      <th>isocode</th>\n      <th>patience</th>\n      <th>risktaking</th>\n      <th>posrecip</th>\n      <th>negrecip</th>\n      <th>altruism</th>\n      <th>trust</th>\n      <th>2019</th>\n      <th>2018</th>\n      <th>2017</th>\n      <th>2016</th>\n      <th>2015</th>\n      <th>2014</th>\n      <th>2013</th>\n      <th>2012</th>\n      <th>2011</th>\n      <th>2010</th>\n      <th>2008</th>\n      <th>2006</th>\n    </tr>\n  </thead>\n  <tbody>\n    <tr>\n      <th>0</th>\n      <td>Afghanistan</td>\n      <td>AFG</td>\n      <td>-0.201360</td>\n      <td>0.120764</td>\n      <td>0.289641</td>\n      <td>0.254712</td>\n      <td>0.166455</td>\n      <td>0.315964</td>\n      <td>2.85</td>\n      <td>2.97</td>\n      <td>2.55</td>\n      <td>2.55</td>\n      <td>2.77</td>\n      <td>2.77</td>\n      <td>2.48</td>\n      <td>2.48</td>\n      <td>2.48</td>\n      <td>2.48</td>\n      <td>3.02</td>\n      <td>3.06</td>\n    </tr>\n    <tr>\n      <th>1</th>\n      <td>Algeria</td>\n      <td>DZA</td>\n      <td>0.059815</td>\n      <td>0.391530</td>\n      <td>-0.598255</td>\n      <td>0.254901</td>\n      <td>-0.009968</td>\n      <td>-0.177371</td>\n      <td>4.01</td>\n      <td>3.50</td>\n      <td>3.56</td>\n      <td>3.56</td>\n      <td>3.95</td>\n      <td>3.83</td>\n      <td>3.83</td>\n      <td>3.83</td>\n      <td>3.44</td>\n      <td>3.44</td>\n      <td>3.32</td>\n      <td>3.17</td>\n    </tr>\n    <tr>\n      <th>2</th>\n      <td>Argentina</td>\n      <td>ARG</td>\n      <td>-0.229308</td>\n      <td>0.041503</td>\n      <td>0.159679</td>\n      <td>-0.140457</td>\n      <td>0.027347</td>\n      <td>-0.206733</td>\n      <td>7.02</td>\n      <td>7.02</td>\n      <td>6.96</td>\n      <td>6.96</td>\n      <td>7.02</td>\n      <td>6.84</td>\n      <td>6.84</td>\n      <td>6.84</td>\n      <td>6.84</td>\n      <td>6.84</td>\n      <td>6.63</td>\n      <td>6.63</td>\n    </tr>\n    <tr>\n      <th>3</th>\n      <td>Australia</td>\n      <td>AUS</td>\n      <td>0.657004</td>\n      <td>0.137137</td>\n      <td>0.069660</td>\n      <td>0.022190</td>\n      <td>0.155331</td>\n      <td>0.298973</td>\n      <td>9.09</td>\n      <td>9.09</td>\n      <td>9.09</td>\n      <td>9.01</td>\n      <td>9.01</td>\n      <td>9.01</td>\n      <td>9.13</td>\n      <td>9.22</td>\n      <td>9.22</td>\n      <td>9.22</td>\n      <td>9.09</td>\n      <td>9.09</td>\n    </tr>\n    <tr>\n      <th>4</th>\n      <td>Austria</td>\n      <td>AUT</td>\n      <td>0.608285</td>\n      <td>-0.061829</td>\n      <td>0.161047</td>\n      <td>-0.055415</td>\n      <td>-0.035363</td>\n      <td>0.154628</td>\n      <td>8.29</td>\n      <td>8.29</td>\n      <td>8.42</td>\n      <td>8.41</td>\n      <td>8.54</td>\n      <td>8.54</td>\n      <td>8.48</td>\n      <td>8.62</td>\n      <td>8.49</td>\n      <td>8.49</td>\n      <td>8.49</td>\n      <td>8.69</td>\n    </tr>\n  </tbody>\n</table>\n</div>"
     },
     "metadata": {},
     "execution_count": 9
    }
   ],
   "source": [
    "# gps_democracy[gps_democracy.isna().any(axis=1)]\n",
    "gps_democracy.head()"
   ]
  },
  {
   "source": [
    "### read in UN Humanitarian Affairs Financial Tracking Service data by year and rename columns for merging"
   ],
   "cell_type": "markdown",
   "metadata": {}
  },
  {
   "cell_type": "code",
   "execution_count": 10,
   "metadata": {},
   "outputs": [],
   "source": [
    "file_name = 'data/OCHA_FTS_Government_Donations_20'\n",
    "extension = '.xlsx'\n",
    "all_filenames = [i for i in glob.glob(f'{file_name}*{extension}')]"
   ]
  },
  {
   "cell_type": "code",
   "execution_count": 11,
   "metadata": {},
   "outputs": [],
   "source": [
    "for i in range(len(all_filenames)):\n",
    "    new = pd.read_excel(all_filenames[i], sheet_name='Export data', skiprows=2).rename(columns={\"Source org.\": \"country\", \"Funding US$\": \"funding\", \"Pledges US$\" : \"pledge\"})\n",
    "    if i == 0:\n",
    "        df = new\n",
    "    else:\n",
    "        df = pd.merge(df, new, how='outer', on=\"country\", suffixes=('', f'_{i+3}'))\n",
    "\n",
    "donate = df.rename(columns={\"pledge\": \"pledge_3\", \"funding\": \"funding_3\"})\n",
    "\n",
    "donate['country'] = donate['country'].str.rstrip(' Government of')\n",
    "donate['country'] = donate['country'].str.rstrip(',')\n"
   ]
  },
  {
   "cell_type": "code",
   "execution_count": 12,
   "metadata": {},
   "outputs": [],
   "source": [
    "#checking 2006 & 2020 manually \n",
    "country_dict = {'United States of America': 'United States',  'Saudi Arabia (Kingdom of)' : 'Saudi Arabia', 'Russian Federation' : 'Russia', 'Korea, Republic of': 'South Korea', 'Viet Nam' : 'Vietnam'}\n",
    "donate = donate.replace({\"country\": country_dict})"
   ]
  },
  {
   "source": [
    "### merge humanitarian data with previous dataframe, notice Bosnia does not get matched"
   ],
   "cell_type": "markdown",
   "metadata": {}
  },
  {
   "cell_type": "code",
   "execution_count": 13,
   "metadata": {},
   "outputs": [
    {
     "output_type": "execute_result",
     "data": {
      "text/plain": [
       "(76, 56)"
      ]
     },
     "metadata": {},
     "execution_count": 13
    }
   ],
   "source": [
    "gps_demo_donate = pd.merge(gps_democracy, donate,  how = 'left', on = 'country')\n",
    "gps_demo_donate.shape"
   ]
  },
  {
   "cell_type": "code",
   "execution_count": 14,
   "metadata": {},
   "outputs": [
    {
     "output_type": "execute_result",
     "data": {
      "text/plain": [
       "       country isocode  patience  risktaking  posrecip  negrecip  altruism  \\\n",
       "0  Afghanistan     AFG -0.201360    0.120764  0.289641  0.254712  0.166455   \n",
       "1      Algeria     DZA  0.059815    0.391530 -0.598255  0.254901 -0.009968   \n",
       "2    Argentina     ARG -0.229308    0.041503  0.159679 -0.140457  0.027347   \n",
       "3    Australia     AUS  0.657004    0.137137  0.069660  0.022190  0.155331   \n",
       "4      Austria     AUT  0.608285   -0.061829  0.161047 -0.055415 -0.035363   \n",
       "\n",
       "      trust  2019  2018  ...   funding_16  pledge_16   funding_17  pledge_17  \\\n",
       "0  0.315964  2.85  2.97  ...          NaN        NaN          NaN        NaN   \n",
       "1 -0.177371  4.01  3.50  ...     660000.0        0.0      10000.0        0.0   \n",
       "2 -0.206733  7.02  7.02  ...     176272.0        0.0    1344591.0        0.0   \n",
       "3  0.298973  9.09  9.09  ...  205207886.0  2724017.0  243900706.0  2712522.0   \n",
       "4  0.154628  8.29  8.29  ...   35663228.0        0.0   49109105.0        0.0   \n",
       "\n",
       "    funding_18  pledge_18   funding_19  pledge_19   funding_20  pledge_20  \n",
       "0    3870542.0        0.0     903177.0        0.0          NaN        NaN  \n",
       "1      10000.0        0.0          NaN        NaN          0.0        0.0  \n",
       "2     265000.0        0.0     155000.0        0.0          NaN        NaN  \n",
       "3  248119692.0        0.0  310639840.0        0.0  271692972.0        0.0  \n",
       "4   26096928.0  6670328.0   32476153.0  1540154.0   19142494.0        0.0  \n",
       "\n",
       "[5 rows x 56 columns]"
      ],
      "text/html": "<div>\n<style scoped>\n    .dataframe tbody tr th:only-of-type {\n        vertical-align: middle;\n    }\n\n    .dataframe tbody tr th {\n        vertical-align: top;\n    }\n\n    .dataframe thead th {\n        text-align: right;\n    }\n</style>\n<table border=\"1\" class=\"dataframe\">\n  <thead>\n    <tr style=\"text-align: right;\">\n      <th></th>\n      <th>country</th>\n      <th>isocode</th>\n      <th>patience</th>\n      <th>risktaking</th>\n      <th>posrecip</th>\n      <th>negrecip</th>\n      <th>altruism</th>\n      <th>trust</th>\n      <th>2019</th>\n      <th>2018</th>\n      <th>...</th>\n      <th>funding_16</th>\n      <th>pledge_16</th>\n      <th>funding_17</th>\n      <th>pledge_17</th>\n      <th>funding_18</th>\n      <th>pledge_18</th>\n      <th>funding_19</th>\n      <th>pledge_19</th>\n      <th>funding_20</th>\n      <th>pledge_20</th>\n    </tr>\n  </thead>\n  <tbody>\n    <tr>\n      <th>0</th>\n      <td>Afghanistan</td>\n      <td>AFG</td>\n      <td>-0.201360</td>\n      <td>0.120764</td>\n      <td>0.289641</td>\n      <td>0.254712</td>\n      <td>0.166455</td>\n      <td>0.315964</td>\n      <td>2.85</td>\n      <td>2.97</td>\n      <td>...</td>\n      <td>NaN</td>\n      <td>NaN</td>\n      <td>NaN</td>\n      <td>NaN</td>\n      <td>3870542.0</td>\n      <td>0.0</td>\n      <td>903177.0</td>\n      <td>0.0</td>\n      <td>NaN</td>\n      <td>NaN</td>\n    </tr>\n    <tr>\n      <th>1</th>\n      <td>Algeria</td>\n      <td>DZA</td>\n      <td>0.059815</td>\n      <td>0.391530</td>\n      <td>-0.598255</td>\n      <td>0.254901</td>\n      <td>-0.009968</td>\n      <td>-0.177371</td>\n      <td>4.01</td>\n      <td>3.50</td>\n      <td>...</td>\n      <td>660000.0</td>\n      <td>0.0</td>\n      <td>10000.0</td>\n      <td>0.0</td>\n      <td>10000.0</td>\n      <td>0.0</td>\n      <td>NaN</td>\n      <td>NaN</td>\n      <td>0.0</td>\n      <td>0.0</td>\n    </tr>\n    <tr>\n      <th>2</th>\n      <td>Argentina</td>\n      <td>ARG</td>\n      <td>-0.229308</td>\n      <td>0.041503</td>\n      <td>0.159679</td>\n      <td>-0.140457</td>\n      <td>0.027347</td>\n      <td>-0.206733</td>\n      <td>7.02</td>\n      <td>7.02</td>\n      <td>...</td>\n      <td>176272.0</td>\n      <td>0.0</td>\n      <td>1344591.0</td>\n      <td>0.0</td>\n      <td>265000.0</td>\n      <td>0.0</td>\n      <td>155000.0</td>\n      <td>0.0</td>\n      <td>NaN</td>\n      <td>NaN</td>\n    </tr>\n    <tr>\n      <th>3</th>\n      <td>Australia</td>\n      <td>AUS</td>\n      <td>0.657004</td>\n      <td>0.137137</td>\n      <td>0.069660</td>\n      <td>0.022190</td>\n      <td>0.155331</td>\n      <td>0.298973</td>\n      <td>9.09</td>\n      <td>9.09</td>\n      <td>...</td>\n      <td>205207886.0</td>\n      <td>2724017.0</td>\n      <td>243900706.0</td>\n      <td>2712522.0</td>\n      <td>248119692.0</td>\n      <td>0.0</td>\n      <td>310639840.0</td>\n      <td>0.0</td>\n      <td>271692972.0</td>\n      <td>0.0</td>\n    </tr>\n    <tr>\n      <th>4</th>\n      <td>Austria</td>\n      <td>AUT</td>\n      <td>0.608285</td>\n      <td>-0.061829</td>\n      <td>0.161047</td>\n      <td>-0.055415</td>\n      <td>-0.035363</td>\n      <td>0.154628</td>\n      <td>8.29</td>\n      <td>8.29</td>\n      <td>...</td>\n      <td>35663228.0</td>\n      <td>0.0</td>\n      <td>49109105.0</td>\n      <td>0.0</td>\n      <td>26096928.0</td>\n      <td>6670328.0</td>\n      <td>32476153.0</td>\n      <td>1540154.0</td>\n      <td>19142494.0</td>\n      <td>0.0</td>\n    </tr>\n  </tbody>\n</table>\n<p>5 rows × 56 columns</p>\n</div>"
     },
     "metadata": {},
     "execution_count": 14
    }
   ],
   "source": [
    "gps_demo_donate.head()"
   ]
  },
  {
   "cell_type": "code",
   "execution_count": 16,
   "metadata": {},
   "outputs": [
    {
     "output_type": "execute_result",
     "data": {
      "text/plain": [
       "              country isocode  patience  risktaking  posrecip  negrecip  \\\n",
       "7  Bosnia Herzegovina     BIH -0.247258   -0.125639  0.096463  0.429355   \n",
       "\n",
       "   altruism     trust  2019  2018  ...  funding_16  pledge_16  funding_17  \\\n",
       "7  -0.11531 -0.193106  4.86  4.98  ...         NaN        NaN         NaN   \n",
       "\n",
       "   pledge_17  funding_18  pledge_18  funding_19  pledge_19  funding_20  \\\n",
       "7        NaN         NaN        NaN         NaN        NaN         NaN   \n",
       "\n",
       "   pledge_20  \n",
       "7        NaN  \n",
       "\n",
       "[1 rows x 56 columns]"
      ],
      "text/html": "<div>\n<style scoped>\n    .dataframe tbody tr th:only-of-type {\n        vertical-align: middle;\n    }\n\n    .dataframe tbody tr th {\n        vertical-align: top;\n    }\n\n    .dataframe thead th {\n        text-align: right;\n    }\n</style>\n<table border=\"1\" class=\"dataframe\">\n  <thead>\n    <tr style=\"text-align: right;\">\n      <th></th>\n      <th>country</th>\n      <th>isocode</th>\n      <th>patience</th>\n      <th>risktaking</th>\n      <th>posrecip</th>\n      <th>negrecip</th>\n      <th>altruism</th>\n      <th>trust</th>\n      <th>2019</th>\n      <th>2018</th>\n      <th>...</th>\n      <th>funding_16</th>\n      <th>pledge_16</th>\n      <th>funding_17</th>\n      <th>pledge_17</th>\n      <th>funding_18</th>\n      <th>pledge_18</th>\n      <th>funding_19</th>\n      <th>pledge_19</th>\n      <th>funding_20</th>\n      <th>pledge_20</th>\n    </tr>\n  </thead>\n  <tbody>\n    <tr>\n      <th>7</th>\n      <td>Bosnia Herzegovina</td>\n      <td>BIH</td>\n      <td>-0.247258</td>\n      <td>-0.125639</td>\n      <td>0.096463</td>\n      <td>0.429355</td>\n      <td>-0.11531</td>\n      <td>-0.193106</td>\n      <td>4.86</td>\n      <td>4.98</td>\n      <td>...</td>\n      <td>NaN</td>\n      <td>NaN</td>\n      <td>NaN</td>\n      <td>NaN</td>\n      <td>NaN</td>\n      <td>NaN</td>\n      <td>NaN</td>\n      <td>NaN</td>\n      <td>NaN</td>\n      <td>NaN</td>\n    </tr>\n  </tbody>\n</table>\n<p>1 rows × 56 columns</p>\n</div>"
     },
     "metadata": {},
     "execution_count": 16
    }
   ],
   "source": [
    "gps_demo_donate[gps_demo_donate.filter(regex='(funding|pledge)_*', axis=1).isna().all(axis=1)]"
   ]
  },
  {
   "source": [
    "### read in GDP data and merge with previous data frame"
   ],
   "cell_type": "markdown",
   "metadata": {}
  },
  {
   "cell_type": "code",
   "execution_count": 17,
   "metadata": {},
   "outputs": [
    {
     "output_type": "execute_result",
     "data": {
      "text/plain": [
       "             2003_gdp      2004_gdp      2005_gdp      2006_gdp      2007_gdp  \\\n",
       "isocode                                                                         \n",
       "ABW      2.021229e+09  2.228492e+09  2.330726e+09  2.424581e+09  2.615084e+09   \n",
       "AFG      4.515559e+09  5.226779e+09  6.209138e+09  6.971286e+09  9.747880e+09   \n",
       "AGO      1.781271e+10  2.355205e+10  3.697092e+10  5.238101e+10  6.526645e+10   \n",
       "ALB      5.611492e+09  7.184681e+09  8.052076e+09  8.896074e+09  1.067732e+10   \n",
       "AND      2.361727e+09  2.894922e+09  3.159905e+09  3.456442e+09  3.952601e+09   \n",
       "\n",
       "             2008_gdp      2009_gdp      2010_gdp      2011_gdp      2012_gdp  \\\n",
       "isocode                                                                         \n",
       "ABW      2.745251e+09  2.498883e+09  2.390503e+09  2.549721e+09  2.534637e+09   \n",
       "AFG      1.010923e+10  1.243909e+10  1.585657e+10  1.780429e+10  2.000160e+10   \n",
       "AGO      8.853861e+10  7.030716e+10  8.379950e+10  1.117897e+11  1.280529e+11   \n",
       "ALB      1.288135e+10  1.204422e+10  1.192693e+10  1.289077e+10  1.231983e+10   \n",
       "AND      4.085631e+09  3.674410e+09  3.449967e+09  3.629204e+09  3.188809e+09   \n",
       "\n",
       "             2013_gdp      2014_gdp      2015_gdp      2016_gdp      2017_gdp  \\\n",
       "isocode                                                                         \n",
       "ABW      2.701676e+09  2.765363e+09  2.919553e+09  2.965922e+09  3.056425e+09   \n",
       "AFG      2.056107e+10  2.048489e+10  1.990711e+10  1.936264e+10  2.019176e+10   \n",
       "AGO      1.367099e+11  1.457122e+11  1.161936e+11  1.011239e+11  1.221238e+11   \n",
       "ALB      1.277622e+10  1.322814e+10  1.138685e+10  1.186120e+10  1.301969e+10   \n",
       "AND      3.193704e+09  3.271808e+09  2.789870e+09  2.896679e+09  3.000181e+09   \n",
       "\n",
       "             2018_gdp      2019_gdp  \n",
       "isocode                              \n",
       "ABW               NaN           NaN  \n",
       "AFG      1.948438e+10  1.910135e+10  \n",
       "AGO      1.013532e+11  9.463542e+10  \n",
       "ALB      1.514702e+10  1.527808e+10  \n",
       "AND      3.218316e+09  3.154058e+09  "
      ],
      "text/html": "<div>\n<style scoped>\n    .dataframe tbody tr th:only-of-type {\n        vertical-align: middle;\n    }\n\n    .dataframe tbody tr th {\n        vertical-align: top;\n    }\n\n    .dataframe thead th {\n        text-align: right;\n    }\n</style>\n<table border=\"1\" class=\"dataframe\">\n  <thead>\n    <tr style=\"text-align: right;\">\n      <th></th>\n      <th>2003_gdp</th>\n      <th>2004_gdp</th>\n      <th>2005_gdp</th>\n      <th>2006_gdp</th>\n      <th>2007_gdp</th>\n      <th>2008_gdp</th>\n      <th>2009_gdp</th>\n      <th>2010_gdp</th>\n      <th>2011_gdp</th>\n      <th>2012_gdp</th>\n      <th>2013_gdp</th>\n      <th>2014_gdp</th>\n      <th>2015_gdp</th>\n      <th>2016_gdp</th>\n      <th>2017_gdp</th>\n      <th>2018_gdp</th>\n      <th>2019_gdp</th>\n    </tr>\n    <tr>\n      <th>isocode</th>\n      <th></th>\n      <th></th>\n      <th></th>\n      <th></th>\n      <th></th>\n      <th></th>\n      <th></th>\n      <th></th>\n      <th></th>\n      <th></th>\n      <th></th>\n      <th></th>\n      <th></th>\n      <th></th>\n      <th></th>\n      <th></th>\n      <th></th>\n    </tr>\n  </thead>\n  <tbody>\n    <tr>\n      <th>ABW</th>\n      <td>2.021229e+09</td>\n      <td>2.228492e+09</td>\n      <td>2.330726e+09</td>\n      <td>2.424581e+09</td>\n      <td>2.615084e+09</td>\n      <td>2.745251e+09</td>\n      <td>2.498883e+09</td>\n      <td>2.390503e+09</td>\n      <td>2.549721e+09</td>\n      <td>2.534637e+09</td>\n      <td>2.701676e+09</td>\n      <td>2.765363e+09</td>\n      <td>2.919553e+09</td>\n      <td>2.965922e+09</td>\n      <td>3.056425e+09</td>\n      <td>NaN</td>\n      <td>NaN</td>\n    </tr>\n    <tr>\n      <th>AFG</th>\n      <td>4.515559e+09</td>\n      <td>5.226779e+09</td>\n      <td>6.209138e+09</td>\n      <td>6.971286e+09</td>\n      <td>9.747880e+09</td>\n      <td>1.010923e+10</td>\n      <td>1.243909e+10</td>\n      <td>1.585657e+10</td>\n      <td>1.780429e+10</td>\n      <td>2.000160e+10</td>\n      <td>2.056107e+10</td>\n      <td>2.048489e+10</td>\n      <td>1.990711e+10</td>\n      <td>1.936264e+10</td>\n      <td>2.019176e+10</td>\n      <td>1.948438e+10</td>\n      <td>1.910135e+10</td>\n    </tr>\n    <tr>\n      <th>AGO</th>\n      <td>1.781271e+10</td>\n      <td>2.355205e+10</td>\n      <td>3.697092e+10</td>\n      <td>5.238101e+10</td>\n      <td>6.526645e+10</td>\n      <td>8.853861e+10</td>\n      <td>7.030716e+10</td>\n      <td>8.379950e+10</td>\n      <td>1.117897e+11</td>\n      <td>1.280529e+11</td>\n      <td>1.367099e+11</td>\n      <td>1.457122e+11</td>\n      <td>1.161936e+11</td>\n      <td>1.011239e+11</td>\n      <td>1.221238e+11</td>\n      <td>1.013532e+11</td>\n      <td>9.463542e+10</td>\n    </tr>\n    <tr>\n      <th>ALB</th>\n      <td>5.611492e+09</td>\n      <td>7.184681e+09</td>\n      <td>8.052076e+09</td>\n      <td>8.896074e+09</td>\n      <td>1.067732e+10</td>\n      <td>1.288135e+10</td>\n      <td>1.204422e+10</td>\n      <td>1.192693e+10</td>\n      <td>1.289077e+10</td>\n      <td>1.231983e+10</td>\n      <td>1.277622e+10</td>\n      <td>1.322814e+10</td>\n      <td>1.138685e+10</td>\n      <td>1.186120e+10</td>\n      <td>1.301969e+10</td>\n      <td>1.514702e+10</td>\n      <td>1.527808e+10</td>\n    </tr>\n    <tr>\n      <th>AND</th>\n      <td>2.361727e+09</td>\n      <td>2.894922e+09</td>\n      <td>3.159905e+09</td>\n      <td>3.456442e+09</td>\n      <td>3.952601e+09</td>\n      <td>4.085631e+09</td>\n      <td>3.674410e+09</td>\n      <td>3.449967e+09</td>\n      <td>3.629204e+09</td>\n      <td>3.188809e+09</td>\n      <td>3.193704e+09</td>\n      <td>3.271808e+09</td>\n      <td>2.789870e+09</td>\n      <td>2.896679e+09</td>\n      <td>3.000181e+09</td>\n      <td>3.218316e+09</td>\n      <td>3.154058e+09</td>\n    </tr>\n  </tbody>\n</table>\n</div>"
     },
     "metadata": {},
     "execution_count": 17
    }
   ],
   "source": [
    "gdp = pd.read_excel('data/GDP_by_country_by_year.xls', sheet_name='Data', skiprows=3).rename(columns={\"Country Code\": \"isocode\"}).set_index('isocode')\n",
    "gdp = gdp.iloc[:,-18 : -1]\n",
    "gdp = gdp.add_suffix('_gdp')\n",
    "gdp.reset_index()\n",
    "gdp.head()\n"
   ]
  },
  {
   "cell_type": "code",
   "execution_count": 18,
   "metadata": {},
   "outputs": [
    {
     "output_type": "execute_result",
     "data": {
      "text/plain": [
       "(76, 73)"
      ]
     },
     "metadata": {},
     "execution_count": 18
    }
   ],
   "source": [
    "gps_demo_donate_gdp = pd.merge(gps_demo_donate, gdp, how='left', on=\"isocode\")\n",
    "gps_demo_donate_gdp.shape"
   ]
  },
  {
   "cell_type": "code",
   "execution_count": 19,
   "metadata": {},
   "outputs": [
    {
     "output_type": "execute_result",
     "data": {
      "text/plain": [
       "       country isocode  patience  risktaking  posrecip  negrecip  altruism  \\\n",
       "0  Afghanistan     AFG -0.201360    0.120764  0.289641  0.254712  0.166455   \n",
       "1      Algeria     DZA  0.059815    0.391530 -0.598255  0.254901 -0.009968   \n",
       "2    Argentina     ARG -0.229308    0.041503  0.159679 -0.140457  0.027347   \n",
       "3    Australia     AUS  0.657004    0.137137  0.069660  0.022190  0.155331   \n",
       "4      Austria     AUT  0.608285   -0.061829  0.161047 -0.055415 -0.035363   \n",
       "\n",
       "      trust  2019  2018  ...      2010_gdp      2011_gdp      2012_gdp  \\\n",
       "0  0.315964  2.85  2.97  ...  1.585657e+10  1.780429e+10  2.000160e+10   \n",
       "1 -0.177371  4.01  3.50  ...  1.612078e+11  2.000195e+11  2.090603e+11   \n",
       "2 -0.206733  7.02  7.02  ...  4.236274e+11  5.301633e+11  5.459824e+11   \n",
       "3  0.298973  9.09  9.09  ...  1.146138e+12  1.396650e+12  1.546152e+12   \n",
       "4  0.154628  8.29  8.29  ...  3.918927e+11  4.311203e+11  4.094252e+11   \n",
       "\n",
       "       2013_gdp      2014_gdp      2015_gdp      2016_gdp      2017_gdp  \\\n",
       "0  2.056107e+10  2.048489e+10  1.990711e+10  1.936264e+10  2.019176e+10   \n",
       "1  2.097548e+11  2.138088e+11  1.659794e+11  1.600338e+11  1.673894e+11   \n",
       "2  5.520251e+11  5.263197e+11  5.947493e+11  5.575314e+11  6.426959e+11   \n",
       "3  1.576184e+12  1.467484e+12  1.351694e+12  1.208847e+12  1.330136e+12   \n",
       "4  4.300687e+11  4.419961e+11  3.818176e+11  3.952277e+11  4.183162e+11   \n",
       "\n",
       "       2018_gdp      2019_gdp  \n",
       "0  1.948438e+10  1.910135e+10  \n",
       "1  1.737580e+11  1.699882e+11  \n",
       "2  5.198715e+11  4.496634e+11  \n",
       "3  1.433904e+12  1.392681e+12  \n",
       "4  4.555083e+11  4.463147e+11  \n",
       "\n",
       "[5 rows x 73 columns]"
      ],
      "text/html": "<div>\n<style scoped>\n    .dataframe tbody tr th:only-of-type {\n        vertical-align: middle;\n    }\n\n    .dataframe tbody tr th {\n        vertical-align: top;\n    }\n\n    .dataframe thead th {\n        text-align: right;\n    }\n</style>\n<table border=\"1\" class=\"dataframe\">\n  <thead>\n    <tr style=\"text-align: right;\">\n      <th></th>\n      <th>country</th>\n      <th>isocode</th>\n      <th>patience</th>\n      <th>risktaking</th>\n      <th>posrecip</th>\n      <th>negrecip</th>\n      <th>altruism</th>\n      <th>trust</th>\n      <th>2019</th>\n      <th>2018</th>\n      <th>...</th>\n      <th>2010_gdp</th>\n      <th>2011_gdp</th>\n      <th>2012_gdp</th>\n      <th>2013_gdp</th>\n      <th>2014_gdp</th>\n      <th>2015_gdp</th>\n      <th>2016_gdp</th>\n      <th>2017_gdp</th>\n      <th>2018_gdp</th>\n      <th>2019_gdp</th>\n    </tr>\n  </thead>\n  <tbody>\n    <tr>\n      <th>0</th>\n      <td>Afghanistan</td>\n      <td>AFG</td>\n      <td>-0.201360</td>\n      <td>0.120764</td>\n      <td>0.289641</td>\n      <td>0.254712</td>\n      <td>0.166455</td>\n      <td>0.315964</td>\n      <td>2.85</td>\n      <td>2.97</td>\n      <td>...</td>\n      <td>1.585657e+10</td>\n      <td>1.780429e+10</td>\n      <td>2.000160e+10</td>\n      <td>2.056107e+10</td>\n      <td>2.048489e+10</td>\n      <td>1.990711e+10</td>\n      <td>1.936264e+10</td>\n      <td>2.019176e+10</td>\n      <td>1.948438e+10</td>\n      <td>1.910135e+10</td>\n    </tr>\n    <tr>\n      <th>1</th>\n      <td>Algeria</td>\n      <td>DZA</td>\n      <td>0.059815</td>\n      <td>0.391530</td>\n      <td>-0.598255</td>\n      <td>0.254901</td>\n      <td>-0.009968</td>\n      <td>-0.177371</td>\n      <td>4.01</td>\n      <td>3.50</td>\n      <td>...</td>\n      <td>1.612078e+11</td>\n      <td>2.000195e+11</td>\n      <td>2.090603e+11</td>\n      <td>2.097548e+11</td>\n      <td>2.138088e+11</td>\n      <td>1.659794e+11</td>\n      <td>1.600338e+11</td>\n      <td>1.673894e+11</td>\n      <td>1.737580e+11</td>\n      <td>1.699882e+11</td>\n    </tr>\n    <tr>\n      <th>2</th>\n      <td>Argentina</td>\n      <td>ARG</td>\n      <td>-0.229308</td>\n      <td>0.041503</td>\n      <td>0.159679</td>\n      <td>-0.140457</td>\n      <td>0.027347</td>\n      <td>-0.206733</td>\n      <td>7.02</td>\n      <td>7.02</td>\n      <td>...</td>\n      <td>4.236274e+11</td>\n      <td>5.301633e+11</td>\n      <td>5.459824e+11</td>\n      <td>5.520251e+11</td>\n      <td>5.263197e+11</td>\n      <td>5.947493e+11</td>\n      <td>5.575314e+11</td>\n      <td>6.426959e+11</td>\n      <td>5.198715e+11</td>\n      <td>4.496634e+11</td>\n    </tr>\n    <tr>\n      <th>3</th>\n      <td>Australia</td>\n      <td>AUS</td>\n      <td>0.657004</td>\n      <td>0.137137</td>\n      <td>0.069660</td>\n      <td>0.022190</td>\n      <td>0.155331</td>\n      <td>0.298973</td>\n      <td>9.09</td>\n      <td>9.09</td>\n      <td>...</td>\n      <td>1.146138e+12</td>\n      <td>1.396650e+12</td>\n      <td>1.546152e+12</td>\n      <td>1.576184e+12</td>\n      <td>1.467484e+12</td>\n      <td>1.351694e+12</td>\n      <td>1.208847e+12</td>\n      <td>1.330136e+12</td>\n      <td>1.433904e+12</td>\n      <td>1.392681e+12</td>\n    </tr>\n    <tr>\n      <th>4</th>\n      <td>Austria</td>\n      <td>AUT</td>\n      <td>0.608285</td>\n      <td>-0.061829</td>\n      <td>0.161047</td>\n      <td>-0.055415</td>\n      <td>-0.035363</td>\n      <td>0.154628</td>\n      <td>8.29</td>\n      <td>8.29</td>\n      <td>...</td>\n      <td>3.918927e+11</td>\n      <td>4.311203e+11</td>\n      <td>4.094252e+11</td>\n      <td>4.300687e+11</td>\n      <td>4.419961e+11</td>\n      <td>3.818176e+11</td>\n      <td>3.952277e+11</td>\n      <td>4.183162e+11</td>\n      <td>4.555083e+11</td>\n      <td>4.463147e+11</td>\n    </tr>\n  </tbody>\n</table>\n<p>5 rows × 73 columns</p>\n</div>"
     },
     "metadata": {},
     "execution_count": 19
    }
   ],
   "source": [
    "# gps_demo_donate_gdp[gps_demo_donate_gdp.filter(regex='.*_gdp', axis=1).isna().all(axis=1)]\n",
    "gps_demo_donate_gdp.head()"
   ]
  },
  {
   "source": [
    "### adding columns of funding / GDP * 100 by year"
   ],
   "cell_type": "markdown",
   "metadata": {}
  },
  {
   "cell_type": "code",
   "execution_count": 24,
   "metadata": {},
   "outputs": [],
   "source": [
    "df_funding = convert_gdp_percent('funding', gps_demo_donate_gdp)\n",
    "df_pledge = convert_gdp_percent('pledge', df_funding)"
   ]
  },
  {
   "cell_type": "code",
   "execution_count": 26,
   "metadata": {},
   "outputs": [],
   "source": [
    "df_pledge.to_csv('data/gps_demo_donate_gdp.csv') "
   ]
  }
 ],
 "metadata": {
  "kernelspec": {
   "display_name": "Python 3",
   "language": "python",
   "name": "python3"
  },
  "language_info": {
   "codemirror_mode": {
    "name": "ipython",
    "version": 3
   },
   "file_extension": ".py",
   "mimetype": "text/x-python",
   "name": "python",
   "nbconvert_exporter": "python",
   "pygments_lexer": "ipython3",
   "version": "3.8.3-final"
  }
 },
 "nbformat": 4,
 "nbformat_minor": 4
}