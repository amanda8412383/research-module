{
 "cells": [
  {
   "cell_type": "markdown",
   "metadata": {},
   "source": [
    "in this notebook, I combined the data that is needed for our research project, using 76 countries in GPS as the key because this is our main interest in the project, all the data has been filtered to at least after 2003, for the reason that democratic index only starts from 2006.\n",
    "notice:\n",
    "- democratic index range from 2006 to 2019, 2007 & 2009 doesn't exist\n",
    "- Bosnia Herzegovina have no record in humanitarian aids data.\n",
    "- 54 countries do not have ODA record\n",
    "- 63 countries do not have aid received record\n",
    "- government expense is as GDP % but in current and constant value wasn't specified and the data looks fishy  \n",
    "\n",
    "### data output \n",
    "| Variable     |      Content                                                   |\n",
    "|:-------------|:------------------------------------------------------------- :|\n",
    "| country| name of countries from Global Preference Survey(GPS) data            |\n",
    "| isocode | isocode of the countries                             |\n",
    "|demo2019 ~ demo2006| democratic index by year|\n",
    "|altruism| altruism score from GPS | \n",
    "|gdp2003 ~ gdp2019| gdp in current US dollar by year|\n",
    "|funding2003 ~ funding2019| humanitarian aid fundinn in US dollar by year       |\n",
    "|pledge2003 ~ pledge2019|pledging humanitarian aid in US dollar by year        |\n",
    "|funding2003_gdp ~ funding2019_gdp| funding / gdp the year * 100       |\n",
    "|gdpcapita2003 ~ gdpcapita2019| gdp per capita in current US dollar by year  |\n",
    "|govexpense2003 ~ govexpense2019| General government total expenditure as % of GDP  |\n",
    "|region| region group from WDI data|\n",
    "|income_type| income group from WDI data|\n",
    "|pop2003 ~ pop2019| population data by year |\n",
    "|oda2003 ~ oda2019|Net Official development assistance in current US dollar |\n",
    "\n",
    "\n",
    "\n",
    "\n"
   ]
  },
  {
   "cell_type": "code",
   "execution_count": 5,
   "metadata": {},
   "outputs": [],
   "source": [
    "import pandas as pd\n",
    "import glob\n",
    "from auxiliary import *\n",
    "pd.set_option('display.max_columns', 500)\n",
    "\n"
   ]
  },
  {
   "source": [
    "### read in  democracy index from The Economist's Democracy Index"
   ],
   "cell_type": "markdown",
   "metadata": {}
  },
  {
   "cell_type": "code",
   "execution_count": 9,
   "metadata": {},
   "outputs": [],
   "source": [
    "democracy = pd.read_excel('data/EIU_Democracy_Index_2006_to_2019.xlsx').rename(columns={\"Unnamed: 0\": \"country\"})"
   ]
  },
  {
   "cell_type": "code",
   "execution_count": 10,
   "metadata": {},
   "outputs": [
    {
     "output_type": "execute_result",
     "data": {
      "text/plain": [
       "         country  demo2019  demo2018  demo2017  demo2016  demo2015  demo2014  \\\n",
       "0         Canada      9.22      9.15      9.15      9.15      9.08      9.08   \n",
       "1  United States      7.96      7.96      7.98      7.98      8.05      8.11   \n",
       "2        Austria      8.29      8.29      8.42      8.41      8.54      8.54   \n",
       "3        Belgium      7.64      7.78      7.78      7.77      7.93      7.93   \n",
       "4         Cyprus      7.59      7.59      7.59      7.65      7.53      7.40   \n",
       "\n",
       "   demo2013  demo2012  demo2011  demo2010  demo2008  demo2006  \n",
       "0      9.08      9.08      9.08      9.08      9.07      9.07  \n",
       "1      8.11      8.11      8.11      8.18      8.22      8.22  \n",
       "2      8.48      8.62      8.49      8.49      8.49      8.69  \n",
       "3      8.05      8.05      8.05      8.05      8.16      8.15  \n",
       "4      7.29      7.29      7.29      7.29      7.70      7.60  "
      ],
      "text/html": "<div>\n<style scoped>\n    .dataframe tbody tr th:only-of-type {\n        vertical-align: middle;\n    }\n\n    .dataframe tbody tr th {\n        vertical-align: top;\n    }\n\n    .dataframe thead th {\n        text-align: right;\n    }\n</style>\n<table border=\"1\" class=\"dataframe\">\n  <thead>\n    <tr style=\"text-align: right;\">\n      <th></th>\n      <th>country</th>\n      <th>demo2019</th>\n      <th>demo2018</th>\n      <th>demo2017</th>\n      <th>demo2016</th>\n      <th>demo2015</th>\n      <th>demo2014</th>\n      <th>demo2013</th>\n      <th>demo2012</th>\n      <th>demo2011</th>\n      <th>demo2010</th>\n      <th>demo2008</th>\n      <th>demo2006</th>\n    </tr>\n  </thead>\n  <tbody>\n    <tr>\n      <th>0</th>\n      <td>Canada</td>\n      <td>9.22</td>\n      <td>9.15</td>\n      <td>9.15</td>\n      <td>9.15</td>\n      <td>9.08</td>\n      <td>9.08</td>\n      <td>9.08</td>\n      <td>9.08</td>\n      <td>9.08</td>\n      <td>9.08</td>\n      <td>9.07</td>\n      <td>9.07</td>\n    </tr>\n    <tr>\n      <th>1</th>\n      <td>United States</td>\n      <td>7.96</td>\n      <td>7.96</td>\n      <td>7.98</td>\n      <td>7.98</td>\n      <td>8.05</td>\n      <td>8.11</td>\n      <td>8.11</td>\n      <td>8.11</td>\n      <td>8.11</td>\n      <td>8.18</td>\n      <td>8.22</td>\n      <td>8.22</td>\n    </tr>\n    <tr>\n      <th>2</th>\n      <td>Austria</td>\n      <td>8.29</td>\n      <td>8.29</td>\n      <td>8.42</td>\n      <td>8.41</td>\n      <td>8.54</td>\n      <td>8.54</td>\n      <td>8.48</td>\n      <td>8.62</td>\n      <td>8.49</td>\n      <td>8.49</td>\n      <td>8.49</td>\n      <td>8.69</td>\n    </tr>\n    <tr>\n      <th>3</th>\n      <td>Belgium</td>\n      <td>7.64</td>\n      <td>7.78</td>\n      <td>7.78</td>\n      <td>7.77</td>\n      <td>7.93</td>\n      <td>7.93</td>\n      <td>8.05</td>\n      <td>8.05</td>\n      <td>8.05</td>\n      <td>8.05</td>\n      <td>8.16</td>\n      <td>8.15</td>\n    </tr>\n    <tr>\n      <th>4</th>\n      <td>Cyprus</td>\n      <td>7.59</td>\n      <td>7.59</td>\n      <td>7.59</td>\n      <td>7.65</td>\n      <td>7.53</td>\n      <td>7.40</td>\n      <td>7.29</td>\n      <td>7.29</td>\n      <td>7.29</td>\n      <td>7.29</td>\n      <td>7.70</td>\n      <td>7.60</td>\n    </tr>\n  </tbody>\n</table>\n</div>"
     },
     "metadata": {},
     "execution_count": 10
    }
   ],
   "source": [
    "country_dict = {'US': 'United States',  'Bosnia and Hercegovina' : 'Bosnia Herzegovina', 'UK' : 'United Kingdom', 'UAE': 'United Arab Emirates' }\n",
    "democracy = democracy.replace({\"country\": country_dict})\n",
    "democracy = democracy.set_index('country').add_prefix('demo').reset_index()\n",
    "democracy.head()"
   ]
  },
  {
   "source": [
    "### read in Global Preference Survey (GPS) data and merge with  democracy index "
   ],
   "cell_type": "markdown",
   "metadata": {}
  },
  {
   "cell_type": "code",
   "execution_count": 11,
   "metadata": {},
   "outputs": [
    {
     "output_type": "execute_result",
     "data": {
      "text/plain": [
       "(76, 8)"
      ]
     },
     "metadata": {},
     "execution_count": 11
    }
   ],
   "source": [
    "gps = pd.read_stata('data/country.dta')\n",
    "gps.shape"
   ]
  },
  {
   "cell_type": "code",
   "execution_count": 12,
   "metadata": {},
   "outputs": [
    {
     "output_type": "execute_result",
     "data": {
      "text/plain": [
       "       country isocode  patience  risktaking  posrecip  negrecip  altruism  \\\n",
       "0  Afghanistan     AFG -0.201360    0.120764  0.289641  0.254712  0.166455   \n",
       "1      Algeria     DZA  0.059815    0.391530 -0.598255  0.254901 -0.009968   \n",
       "2    Argentina     ARG -0.229308    0.041503  0.159679 -0.140457  0.027347   \n",
       "3    Australia     AUS  0.657004    0.137137  0.069660  0.022190  0.155331   \n",
       "4      Austria     AUT  0.608285   -0.061829  0.161047 -0.055415 -0.035363   \n",
       "\n",
       "      trust  \n",
       "0  0.315964  \n",
       "1 -0.177371  \n",
       "2 -0.206733  \n",
       "3  0.298973  \n",
       "4  0.154628  "
      ],
      "text/html": "<div>\n<style scoped>\n    .dataframe tbody tr th:only-of-type {\n        vertical-align: middle;\n    }\n\n    .dataframe tbody tr th {\n        vertical-align: top;\n    }\n\n    .dataframe thead th {\n        text-align: right;\n    }\n</style>\n<table border=\"1\" class=\"dataframe\">\n  <thead>\n    <tr style=\"text-align: right;\">\n      <th></th>\n      <th>country</th>\n      <th>isocode</th>\n      <th>patience</th>\n      <th>risktaking</th>\n      <th>posrecip</th>\n      <th>negrecip</th>\n      <th>altruism</th>\n      <th>trust</th>\n    </tr>\n  </thead>\n  <tbody>\n    <tr>\n      <th>0</th>\n      <td>Afghanistan</td>\n      <td>AFG</td>\n      <td>-0.201360</td>\n      <td>0.120764</td>\n      <td>0.289641</td>\n      <td>0.254712</td>\n      <td>0.166455</td>\n      <td>0.315964</td>\n    </tr>\n    <tr>\n      <th>1</th>\n      <td>Algeria</td>\n      <td>DZA</td>\n      <td>0.059815</td>\n      <td>0.391530</td>\n      <td>-0.598255</td>\n      <td>0.254901</td>\n      <td>-0.009968</td>\n      <td>-0.177371</td>\n    </tr>\n    <tr>\n      <th>2</th>\n      <td>Argentina</td>\n      <td>ARG</td>\n      <td>-0.229308</td>\n      <td>0.041503</td>\n      <td>0.159679</td>\n      <td>-0.140457</td>\n      <td>0.027347</td>\n      <td>-0.206733</td>\n    </tr>\n    <tr>\n      <th>3</th>\n      <td>Australia</td>\n      <td>AUS</td>\n      <td>0.657004</td>\n      <td>0.137137</td>\n      <td>0.069660</td>\n      <td>0.022190</td>\n      <td>0.155331</td>\n      <td>0.298973</td>\n    </tr>\n    <tr>\n      <th>4</th>\n      <td>Austria</td>\n      <td>AUT</td>\n      <td>0.608285</td>\n      <td>-0.061829</td>\n      <td>0.161047</td>\n      <td>-0.055415</td>\n      <td>-0.035363</td>\n      <td>0.154628</td>\n    </tr>\n  </tbody>\n</table>\n</div>"
     },
     "metadata": {},
     "execution_count": 12
    }
   ],
   "source": [
    "gps.head()"
   ]
  },
  {
   "cell_type": "code",
   "execution_count": 13,
   "metadata": {},
   "outputs": [
    {
     "output_type": "execute_result",
     "data": {
      "text/plain": [
       "(76, 20)"
      ]
     },
     "metadata": {},
     "execution_count": 13
    }
   ],
   "source": [
    "gps_democracy = pd.merge(gps, democracy, how = 'left', on = 'country')\n",
    "gps_democracy.shape"
   ]
  },
  {
   "cell_type": "code",
   "execution_count": 14,
   "metadata": {},
   "outputs": [
    {
     "output_type": "execute_result",
     "data": {
      "text/plain": [
       "       country isocode  patience  risktaking  posrecip  negrecip  altruism  \\\n",
       "0  Afghanistan     AFG -0.201360    0.120764  0.289641  0.254712  0.166455   \n",
       "1      Algeria     DZA  0.059815    0.391530 -0.598255  0.254901 -0.009968   \n",
       "2    Argentina     ARG -0.229308    0.041503  0.159679 -0.140457  0.027347   \n",
       "3    Australia     AUS  0.657004    0.137137  0.069660  0.022190  0.155331   \n",
       "4      Austria     AUT  0.608285   -0.061829  0.161047 -0.055415 -0.035363   \n",
       "\n",
       "      trust  demo2019  demo2018  demo2017  demo2016  demo2015  demo2014  \\\n",
       "0  0.315964      2.85      2.97      2.55      2.55      2.77      2.77   \n",
       "1 -0.177371      4.01      3.50      3.56      3.56      3.95      3.83   \n",
       "2 -0.206733      7.02      7.02      6.96      6.96      7.02      6.84   \n",
       "3  0.298973      9.09      9.09      9.09      9.01      9.01      9.01   \n",
       "4  0.154628      8.29      8.29      8.42      8.41      8.54      8.54   \n",
       "\n",
       "   demo2013  demo2012  demo2011  demo2010  demo2008  demo2006  \n",
       "0      2.48      2.48      2.48      2.48      3.02      3.06  \n",
       "1      3.83      3.83      3.44      3.44      3.32      3.17  \n",
       "2      6.84      6.84      6.84      6.84      6.63      6.63  \n",
       "3      9.13      9.22      9.22      9.22      9.09      9.09  \n",
       "4      8.48      8.62      8.49      8.49      8.49      8.69  "
      ],
      "text/html": "<div>\n<style scoped>\n    .dataframe tbody tr th:only-of-type {\n        vertical-align: middle;\n    }\n\n    .dataframe tbody tr th {\n        vertical-align: top;\n    }\n\n    .dataframe thead th {\n        text-align: right;\n    }\n</style>\n<table border=\"1\" class=\"dataframe\">\n  <thead>\n    <tr style=\"text-align: right;\">\n      <th></th>\n      <th>country</th>\n      <th>isocode</th>\n      <th>patience</th>\n      <th>risktaking</th>\n      <th>posrecip</th>\n      <th>negrecip</th>\n      <th>altruism</th>\n      <th>trust</th>\n      <th>demo2019</th>\n      <th>demo2018</th>\n      <th>demo2017</th>\n      <th>demo2016</th>\n      <th>demo2015</th>\n      <th>demo2014</th>\n      <th>demo2013</th>\n      <th>demo2012</th>\n      <th>demo2011</th>\n      <th>demo2010</th>\n      <th>demo2008</th>\n      <th>demo2006</th>\n    </tr>\n  </thead>\n  <tbody>\n    <tr>\n      <th>0</th>\n      <td>Afghanistan</td>\n      <td>AFG</td>\n      <td>-0.201360</td>\n      <td>0.120764</td>\n      <td>0.289641</td>\n      <td>0.254712</td>\n      <td>0.166455</td>\n      <td>0.315964</td>\n      <td>2.85</td>\n      <td>2.97</td>\n      <td>2.55</td>\n      <td>2.55</td>\n      <td>2.77</td>\n      <td>2.77</td>\n      <td>2.48</td>\n      <td>2.48</td>\n      <td>2.48</td>\n      <td>2.48</td>\n      <td>3.02</td>\n      <td>3.06</td>\n    </tr>\n    <tr>\n      <th>1</th>\n      <td>Algeria</td>\n      <td>DZA</td>\n      <td>0.059815</td>\n      <td>0.391530</td>\n      <td>-0.598255</td>\n      <td>0.254901</td>\n      <td>-0.009968</td>\n      <td>-0.177371</td>\n      <td>4.01</td>\n      <td>3.50</td>\n      <td>3.56</td>\n      <td>3.56</td>\n      <td>3.95</td>\n      <td>3.83</td>\n      <td>3.83</td>\n      <td>3.83</td>\n      <td>3.44</td>\n      <td>3.44</td>\n      <td>3.32</td>\n      <td>3.17</td>\n    </tr>\n    <tr>\n      <th>2</th>\n      <td>Argentina</td>\n      <td>ARG</td>\n      <td>-0.229308</td>\n      <td>0.041503</td>\n      <td>0.159679</td>\n      <td>-0.140457</td>\n      <td>0.027347</td>\n      <td>-0.206733</td>\n      <td>7.02</td>\n      <td>7.02</td>\n      <td>6.96</td>\n      <td>6.96</td>\n      <td>7.02</td>\n      <td>6.84</td>\n      <td>6.84</td>\n      <td>6.84</td>\n      <td>6.84</td>\n      <td>6.84</td>\n      <td>6.63</td>\n      <td>6.63</td>\n    </tr>\n    <tr>\n      <th>3</th>\n      <td>Australia</td>\n      <td>AUS</td>\n      <td>0.657004</td>\n      <td>0.137137</td>\n      <td>0.069660</td>\n      <td>0.022190</td>\n      <td>0.155331</td>\n      <td>0.298973</td>\n      <td>9.09</td>\n      <td>9.09</td>\n      <td>9.09</td>\n      <td>9.01</td>\n      <td>9.01</td>\n      <td>9.01</td>\n      <td>9.13</td>\n      <td>9.22</td>\n      <td>9.22</td>\n      <td>9.22</td>\n      <td>9.09</td>\n      <td>9.09</td>\n    </tr>\n    <tr>\n      <th>4</th>\n      <td>Austria</td>\n      <td>AUT</td>\n      <td>0.608285</td>\n      <td>-0.061829</td>\n      <td>0.161047</td>\n      <td>-0.055415</td>\n      <td>-0.035363</td>\n      <td>0.154628</td>\n      <td>8.29</td>\n      <td>8.29</td>\n      <td>8.42</td>\n      <td>8.41</td>\n      <td>8.54</td>\n      <td>8.54</td>\n      <td>8.48</td>\n      <td>8.62</td>\n      <td>8.49</td>\n      <td>8.49</td>\n      <td>8.49</td>\n      <td>8.69</td>\n    </tr>\n  </tbody>\n</table>\n</div>"
     },
     "metadata": {},
     "execution_count": 14
    }
   ],
   "source": [
    "# gps_democracy[gps_democracy.isna().any(axis=1)]\n",
    "gps_democracy.head()"
   ]
  },
  {
   "source": [
    "### read in UN Humanitarian Affairs Financial Tracking Service data by year and rename columns for merging\n",
    "### notice Bosnia does not get matched"
   ],
   "cell_type": "markdown",
   "metadata": {}
  },
  {
   "cell_type": "code",
   "execution_count": 15,
   "metadata": {},
   "outputs": [],
   "source": [
    "file_name = 'data/OCHA_FTS_Government_Donations_20'\n",
    "extension = '.xlsx'\n",
    "all_filenames = [i for i in glob.glob(f'{file_name}*{extension}')]"
   ]
  },
  {
   "cell_type": "code",
   "execution_count": 16,
   "metadata": {},
   "outputs": [],
   "source": [
    "for i in range(len(all_filenames)):\n",
    "    new = pd.read_excel(all_filenames[i], sheet_name='Export data', skiprows=2).rename(columns={\"Source org.\": \"country\", \"Funding US$\": \"funding\", \"Pledges US$\" : \"pledge\"})\n",
    "    if i == 0:\n",
    "        df = new\n",
    "    elif i < 7:\n",
    "        df = pd.merge(df, new, how='outer', on=\"country\", suffixes=('', f'200{i+3}'))       \n",
    "    else:\n",
    "        df = pd.merge(df, new, how='outer', on=\"country\", suffixes=('', f'20{i+3}'))\n",
    "\n",
    "donate = df.rename(columns={\"pledge\": \"pledge2003\", \"funding\": \"funding2003\"})\n",
    "\n",
    "donate['country'] = donate['country'].str.rstrip(' Government of')\n",
    "donate['country'] = donate['country'].str.rstrip(',')\n"
   ]
  },
  {
   "cell_type": "code",
   "execution_count": 17,
   "metadata": {},
   "outputs": [],
   "source": [
    "#checking 2006 & 2020 manually \n",
    "country_dict = {'United States of America': 'United States',  'Saudi Arabia (Kingdom of)' : 'Saudi Arabia', 'Russian Federation' : 'Russia', 'Korea, Republic of': 'South Korea', 'Viet Nam' : 'Vietnam'}\n",
    "donate = donate.replace({\"country\": country_dict})"
   ]
  },
  {
   "cell_type": "code",
   "execution_count": 18,
   "metadata": {},
   "outputs": [
    {
     "output_type": "execute_result",
     "data": {
      "text/plain": [
       "(76, 56)"
      ]
     },
     "metadata": {},
     "execution_count": 18
    }
   ],
   "source": [
    "gps_demo_donate = pd.merge(gps_democracy, donate,  how = 'left', on = 'country')\n",
    "gps_demo_donate.shape"
   ]
  },
  {
   "cell_type": "code",
   "execution_count": 19,
   "metadata": {},
   "outputs": [
    {
     "output_type": "execute_result",
     "data": {
      "text/plain": [
       "       country isocode  patience  risktaking  posrecip  negrecip  altruism  \\\n",
       "0  Afghanistan     AFG -0.201360    0.120764  0.289641  0.254712  0.166455   \n",
       "1      Algeria     DZA  0.059815    0.391530 -0.598255  0.254901 -0.009968   \n",
       "2    Argentina     ARG -0.229308    0.041503  0.159679 -0.140457  0.027347   \n",
       "3    Australia     AUS  0.657004    0.137137  0.069660  0.022190  0.155331   \n",
       "4      Austria     AUT  0.608285   -0.061829  0.161047 -0.055415 -0.035363   \n",
       "\n",
       "      trust  demo2019  demo2018  demo2017  demo2016  demo2015  demo2014  \\\n",
       "0  0.315964      2.85      2.97      2.55      2.55      2.77      2.77   \n",
       "1 -0.177371      4.01      3.50      3.56      3.56      3.95      3.83   \n",
       "2 -0.206733      7.02      7.02      6.96      6.96      7.02      6.84   \n",
       "3  0.298973      9.09      9.09      9.09      9.01      9.01      9.01   \n",
       "4  0.154628      8.29      8.29      8.42      8.41      8.54      8.54   \n",
       "\n",
       "   demo2013  demo2012  demo2011  demo2010  demo2008  demo2006  funding2003  \\\n",
       "0      2.48      2.48      2.48      2.48      3.02      3.06          NaN   \n",
       "1      3.83      3.83      3.44      3.44      3.32      3.17    3178000.0   \n",
       "2      6.84      6.84      6.84      6.84      6.63      6.63          NaN   \n",
       "3      9.13      9.22      9.22      9.22      9.09      9.09   87736725.0   \n",
       "4      8.48      8.62      8.49      8.49      8.49      8.69    3245126.0   \n",
       "\n",
       "   pledge2003  funding2004  pledge2004  funding2005  pledge2005  funding2006  \\\n",
       "0         NaN          NaN         NaN     500000.0         0.0          NaN   \n",
       "1         0.0          NaN         NaN   14769749.0         0.0          NaN   \n",
       "2         NaN          0.0         0.0          0.0         0.0          0.0   \n",
       "3         0.0   69076907.0         0.0   85073844.0  29859474.0   89757369.0   \n",
       "4         0.0    6186042.0         0.0   18423937.0         0.0    5624017.0   \n",
       "\n",
       "   pledge2006  funding2007  pledge2007  funding2008  pledge2008  funding2009  \\\n",
       "0         NaN          NaN         NaN   24000000.0         0.0     136493.0   \n",
       "1         NaN      10000.0         0.0      10000.0         0.0      76432.0   \n",
       "2         0.0          0.0         0.0     139000.0         0.0      31100.0   \n",
       "3   2262517.0  109371739.0   3817867.0  143674846.0  39494954.0  196311166.0   \n",
       "4    765306.0    7885069.0         0.0   15280397.0   1017509.0   16939495.0   \n",
       "\n",
       "   pledge2009  funding2010  pledge2010  funding2011  pledge2011  funding2012  \\\n",
       "0         0.0    2379910.0         0.0       3360.0         0.0       3000.0   \n",
       "1         0.0   10110696.0         0.0   16010000.0   7000000.0          NaN   \n",
       "2         0.0      50000.0         0.0     107332.0         0.0     130826.0   \n",
       "3   8733624.0  293856560.0   1923773.0  312711049.0         0.0  271004092.0   \n",
       "4    348675.0   25973202.0         0.0   18074363.0    500409.0   16333100.0   \n",
       "\n",
       "   pledge2012  funding2013  pledge2013  funding2014  pledge2014  funding2015  \\\n",
       "0         0.0       2000.0         0.0          NaN         NaN       1000.0   \n",
       "1         NaN    2000000.0         0.0      10000.0         0.0          0.0   \n",
       "2         0.0     165718.0         0.0     230500.0         0.0          NaN   \n",
       "3   2809573.0  263194483.0         0.0  269253261.0         0.0  166236181.0   \n",
       "4         0.0   17699567.0         0.0   18504048.0         0.0   18786627.0   \n",
       "\n",
       "   pledge2015  funding2016  pledge2016  funding2017  pledge2017  funding2018  \\\n",
       "0         0.0          NaN         NaN          NaN         NaN    3870542.0   \n",
       "1         0.0     660000.0         0.0      10000.0         0.0      10000.0   \n",
       "2         NaN     176272.0         0.0    1344591.0         0.0     265000.0   \n",
       "3    762236.0  205207886.0   2724017.0  243900706.0   2712522.0  248119692.0   \n",
       "4         0.0   35663228.0         0.0   49109105.0         0.0   26096928.0   \n",
       "\n",
       "   pledge2018  funding2019  pledge2019  funding2020  pledge2020  \n",
       "0         0.0     903177.0         0.0          NaN         NaN  \n",
       "1         0.0          NaN         NaN          0.0         0.0  \n",
       "2         0.0     155000.0         0.0          NaN         NaN  \n",
       "3         0.0  310639840.0         0.0  271692972.0         0.0  \n",
       "4   6670328.0   32476153.0   1540154.0   19142494.0         0.0  "
      ],
      "text/html": "<div>\n<style scoped>\n    .dataframe tbody tr th:only-of-type {\n        vertical-align: middle;\n    }\n\n    .dataframe tbody tr th {\n        vertical-align: top;\n    }\n\n    .dataframe thead th {\n        text-align: right;\n    }\n</style>\n<table border=\"1\" class=\"dataframe\">\n  <thead>\n    <tr style=\"text-align: right;\">\n      <th></th>\n      <th>country</th>\n      <th>isocode</th>\n      <th>patience</th>\n      <th>risktaking</th>\n      <th>posrecip</th>\n      <th>negrecip</th>\n      <th>altruism</th>\n      <th>trust</th>\n      <th>demo2019</th>\n      <th>demo2018</th>\n      <th>demo2017</th>\n      <th>demo2016</th>\n      <th>demo2015</th>\n      <th>demo2014</th>\n      <th>demo2013</th>\n      <th>demo2012</th>\n      <th>demo2011</th>\n      <th>demo2010</th>\n      <th>demo2008</th>\n      <th>demo2006</th>\n      <th>funding2003</th>\n      <th>pledge2003</th>\n      <th>funding2004</th>\n      <th>pledge2004</th>\n      <th>funding2005</th>\n      <th>pledge2005</th>\n      <th>funding2006</th>\n      <th>pledge2006</th>\n      <th>funding2007</th>\n      <th>pledge2007</th>\n      <th>funding2008</th>\n      <th>pledge2008</th>\n      <th>funding2009</th>\n      <th>pledge2009</th>\n      <th>funding2010</th>\n      <th>pledge2010</th>\n      <th>funding2011</th>\n      <th>pledge2011</th>\n      <th>funding2012</th>\n      <th>pledge2012</th>\n      <th>funding2013</th>\n      <th>pledge2013</th>\n      <th>funding2014</th>\n      <th>pledge2014</th>\n      <th>funding2015</th>\n      <th>pledge2015</th>\n      <th>funding2016</th>\n      <th>pledge2016</th>\n      <th>funding2017</th>\n      <th>pledge2017</th>\n      <th>funding2018</th>\n      <th>pledge2018</th>\n      <th>funding2019</th>\n      <th>pledge2019</th>\n      <th>funding2020</th>\n      <th>pledge2020</th>\n    </tr>\n  </thead>\n  <tbody>\n    <tr>\n      <th>0</th>\n      <td>Afghanistan</td>\n      <td>AFG</td>\n      <td>-0.201360</td>\n      <td>0.120764</td>\n      <td>0.289641</td>\n      <td>0.254712</td>\n      <td>0.166455</td>\n      <td>0.315964</td>\n      <td>2.85</td>\n      <td>2.97</td>\n      <td>2.55</td>\n      <td>2.55</td>\n      <td>2.77</td>\n      <td>2.77</td>\n      <td>2.48</td>\n      <td>2.48</td>\n      <td>2.48</td>\n      <td>2.48</td>\n      <td>3.02</td>\n      <td>3.06</td>\n      <td>NaN</td>\n      <td>NaN</td>\n      <td>NaN</td>\n      <td>NaN</td>\n      <td>500000.0</td>\n      <td>0.0</td>\n      <td>NaN</td>\n      <td>NaN</td>\n      <td>NaN</td>\n      <td>NaN</td>\n      <td>24000000.0</td>\n      <td>0.0</td>\n      <td>136493.0</td>\n      <td>0.0</td>\n      <td>2379910.0</td>\n      <td>0.0</td>\n      <td>3360.0</td>\n      <td>0.0</td>\n      <td>3000.0</td>\n      <td>0.0</td>\n      <td>2000.0</td>\n      <td>0.0</td>\n      <td>NaN</td>\n      <td>NaN</td>\n      <td>1000.0</td>\n      <td>0.0</td>\n      <td>NaN</td>\n      <td>NaN</td>\n      <td>NaN</td>\n      <td>NaN</td>\n      <td>3870542.0</td>\n      <td>0.0</td>\n      <td>903177.0</td>\n      <td>0.0</td>\n      <td>NaN</td>\n      <td>NaN</td>\n    </tr>\n    <tr>\n      <th>1</th>\n      <td>Algeria</td>\n      <td>DZA</td>\n      <td>0.059815</td>\n      <td>0.391530</td>\n      <td>-0.598255</td>\n      <td>0.254901</td>\n      <td>-0.009968</td>\n      <td>-0.177371</td>\n      <td>4.01</td>\n      <td>3.50</td>\n      <td>3.56</td>\n      <td>3.56</td>\n      <td>3.95</td>\n      <td>3.83</td>\n      <td>3.83</td>\n      <td>3.83</td>\n      <td>3.44</td>\n      <td>3.44</td>\n      <td>3.32</td>\n      <td>3.17</td>\n      <td>3178000.0</td>\n      <td>0.0</td>\n      <td>NaN</td>\n      <td>NaN</td>\n      <td>14769749.0</td>\n      <td>0.0</td>\n      <td>NaN</td>\n      <td>NaN</td>\n      <td>10000.0</td>\n      <td>0.0</td>\n      <td>10000.0</td>\n      <td>0.0</td>\n      <td>76432.0</td>\n      <td>0.0</td>\n      <td>10110696.0</td>\n      <td>0.0</td>\n      <td>16010000.0</td>\n      <td>7000000.0</td>\n      <td>NaN</td>\n      <td>NaN</td>\n      <td>2000000.0</td>\n      <td>0.0</td>\n      <td>10000.0</td>\n      <td>0.0</td>\n      <td>0.0</td>\n      <td>0.0</td>\n      <td>660000.0</td>\n      <td>0.0</td>\n      <td>10000.0</td>\n      <td>0.0</td>\n      <td>10000.0</td>\n      <td>0.0</td>\n      <td>NaN</td>\n      <td>NaN</td>\n      <td>0.0</td>\n      <td>0.0</td>\n    </tr>\n    <tr>\n      <th>2</th>\n      <td>Argentina</td>\n      <td>ARG</td>\n      <td>-0.229308</td>\n      <td>0.041503</td>\n      <td>0.159679</td>\n      <td>-0.140457</td>\n      <td>0.027347</td>\n      <td>-0.206733</td>\n      <td>7.02</td>\n      <td>7.02</td>\n      <td>6.96</td>\n      <td>6.96</td>\n      <td>7.02</td>\n      <td>6.84</td>\n      <td>6.84</td>\n      <td>6.84</td>\n      <td>6.84</td>\n      <td>6.84</td>\n      <td>6.63</td>\n      <td>6.63</td>\n      <td>NaN</td>\n      <td>NaN</td>\n      <td>0.0</td>\n      <td>0.0</td>\n      <td>0.0</td>\n      <td>0.0</td>\n      <td>0.0</td>\n      <td>0.0</td>\n      <td>0.0</td>\n      <td>0.0</td>\n      <td>139000.0</td>\n      <td>0.0</td>\n      <td>31100.0</td>\n      <td>0.0</td>\n      <td>50000.0</td>\n      <td>0.0</td>\n      <td>107332.0</td>\n      <td>0.0</td>\n      <td>130826.0</td>\n      <td>0.0</td>\n      <td>165718.0</td>\n      <td>0.0</td>\n      <td>230500.0</td>\n      <td>0.0</td>\n      <td>NaN</td>\n      <td>NaN</td>\n      <td>176272.0</td>\n      <td>0.0</td>\n      <td>1344591.0</td>\n      <td>0.0</td>\n      <td>265000.0</td>\n      <td>0.0</td>\n      <td>155000.0</td>\n      <td>0.0</td>\n      <td>NaN</td>\n      <td>NaN</td>\n    </tr>\n    <tr>\n      <th>3</th>\n      <td>Australia</td>\n      <td>AUS</td>\n      <td>0.657004</td>\n      <td>0.137137</td>\n      <td>0.069660</td>\n      <td>0.022190</td>\n      <td>0.155331</td>\n      <td>0.298973</td>\n      <td>9.09</td>\n      <td>9.09</td>\n      <td>9.09</td>\n      <td>9.01</td>\n      <td>9.01</td>\n      <td>9.01</td>\n      <td>9.13</td>\n      <td>9.22</td>\n      <td>9.22</td>\n      <td>9.22</td>\n      <td>9.09</td>\n      <td>9.09</td>\n      <td>87736725.0</td>\n      <td>0.0</td>\n      <td>69076907.0</td>\n      <td>0.0</td>\n      <td>85073844.0</td>\n      <td>29859474.0</td>\n      <td>89757369.0</td>\n      <td>2262517.0</td>\n      <td>109371739.0</td>\n      <td>3817867.0</td>\n      <td>143674846.0</td>\n      <td>39494954.0</td>\n      <td>196311166.0</td>\n      <td>8733624.0</td>\n      <td>293856560.0</td>\n      <td>1923773.0</td>\n      <td>312711049.0</td>\n      <td>0.0</td>\n      <td>271004092.0</td>\n      <td>2809573.0</td>\n      <td>263194483.0</td>\n      <td>0.0</td>\n      <td>269253261.0</td>\n      <td>0.0</td>\n      <td>166236181.0</td>\n      <td>762236.0</td>\n      <td>205207886.0</td>\n      <td>2724017.0</td>\n      <td>243900706.0</td>\n      <td>2712522.0</td>\n      <td>248119692.0</td>\n      <td>0.0</td>\n      <td>310639840.0</td>\n      <td>0.0</td>\n      <td>271692972.0</td>\n      <td>0.0</td>\n    </tr>\n    <tr>\n      <th>4</th>\n      <td>Austria</td>\n      <td>AUT</td>\n      <td>0.608285</td>\n      <td>-0.061829</td>\n      <td>0.161047</td>\n      <td>-0.055415</td>\n      <td>-0.035363</td>\n      <td>0.154628</td>\n      <td>8.29</td>\n      <td>8.29</td>\n      <td>8.42</td>\n      <td>8.41</td>\n      <td>8.54</td>\n      <td>8.54</td>\n      <td>8.48</td>\n      <td>8.62</td>\n      <td>8.49</td>\n      <td>8.49</td>\n      <td>8.49</td>\n      <td>8.69</td>\n      <td>3245126.0</td>\n      <td>0.0</td>\n      <td>6186042.0</td>\n      <td>0.0</td>\n      <td>18423937.0</td>\n      <td>0.0</td>\n      <td>5624017.0</td>\n      <td>765306.0</td>\n      <td>7885069.0</td>\n      <td>0.0</td>\n      <td>15280397.0</td>\n      <td>1017509.0</td>\n      <td>16939495.0</td>\n      <td>348675.0</td>\n      <td>25973202.0</td>\n      <td>0.0</td>\n      <td>18074363.0</td>\n      <td>500409.0</td>\n      <td>16333100.0</td>\n      <td>0.0</td>\n      <td>17699567.0</td>\n      <td>0.0</td>\n      <td>18504048.0</td>\n      <td>0.0</td>\n      <td>18786627.0</td>\n      <td>0.0</td>\n      <td>35663228.0</td>\n      <td>0.0</td>\n      <td>49109105.0</td>\n      <td>0.0</td>\n      <td>26096928.0</td>\n      <td>6670328.0</td>\n      <td>32476153.0</td>\n      <td>1540154.0</td>\n      <td>19142494.0</td>\n      <td>0.0</td>\n    </tr>\n  </tbody>\n</table>\n</div>"
     },
     "metadata": {},
     "execution_count": 19
    }
   ],
   "source": [
    "gps_demo_donate.head()"
   ]
  },
  {
   "cell_type": "code",
   "execution_count": 20,
   "metadata": {},
   "outputs": [
    {
     "output_type": "execute_result",
     "data": {
      "text/plain": [
       "              country isocode  patience  risktaking  posrecip  negrecip  \\\n",
       "7  Bosnia Herzegovina     BIH -0.247258   -0.125639  0.096463  0.429355   \n",
       "\n",
       "   altruism     trust  demo2019  demo2018  demo2017  demo2016  demo2015  \\\n",
       "7  -0.11531 -0.193106      4.86      4.98      4.87      4.87      4.83   \n",
       "\n",
       "   demo2014  demo2013  demo2012  demo2011  demo2010  demo2008  demo2006  \\\n",
       "7      4.78      5.02      5.11      5.24      5.32       5.7      5.78   \n",
       "\n",
       "   funding2003  pledge2003  funding2004  pledge2004  funding2005  pledge2005  \\\n",
       "7          NaN         NaN          NaN         NaN          NaN         NaN   \n",
       "\n",
       "   funding2006  pledge2006  funding2007  pledge2007  funding2008  pledge2008  \\\n",
       "7          NaN         NaN          NaN         NaN          NaN         NaN   \n",
       "\n",
       "   funding2009  pledge2009  funding2010  pledge2010  funding2011  pledge2011  \\\n",
       "7          NaN         NaN          NaN         NaN          NaN         NaN   \n",
       "\n",
       "   funding2012  pledge2012  funding2013  pledge2013  funding2014  pledge2014  \\\n",
       "7          NaN         NaN          NaN         NaN          NaN         NaN   \n",
       "\n",
       "   funding2015  pledge2015  funding2016  pledge2016  funding2017  pledge2017  \\\n",
       "7          NaN         NaN          NaN         NaN          NaN         NaN   \n",
       "\n",
       "   funding2018  pledge2018  funding2019  pledge2019  funding2020  pledge2020  \n",
       "7          NaN         NaN          NaN         NaN          NaN         NaN  "
      ],
      "text/html": "<div>\n<style scoped>\n    .dataframe tbody tr th:only-of-type {\n        vertical-align: middle;\n    }\n\n    .dataframe tbody tr th {\n        vertical-align: top;\n    }\n\n    .dataframe thead th {\n        text-align: right;\n    }\n</style>\n<table border=\"1\" class=\"dataframe\">\n  <thead>\n    <tr style=\"text-align: right;\">\n      <th></th>\n      <th>country</th>\n      <th>isocode</th>\n      <th>patience</th>\n      <th>risktaking</th>\n      <th>posrecip</th>\n      <th>negrecip</th>\n      <th>altruism</th>\n      <th>trust</th>\n      <th>demo2019</th>\n      <th>demo2018</th>\n      <th>demo2017</th>\n      <th>demo2016</th>\n      <th>demo2015</th>\n      <th>demo2014</th>\n      <th>demo2013</th>\n      <th>demo2012</th>\n      <th>demo2011</th>\n      <th>demo2010</th>\n      <th>demo2008</th>\n      <th>demo2006</th>\n      <th>funding2003</th>\n      <th>pledge2003</th>\n      <th>funding2004</th>\n      <th>pledge2004</th>\n      <th>funding2005</th>\n      <th>pledge2005</th>\n      <th>funding2006</th>\n      <th>pledge2006</th>\n      <th>funding2007</th>\n      <th>pledge2007</th>\n      <th>funding2008</th>\n      <th>pledge2008</th>\n      <th>funding2009</th>\n      <th>pledge2009</th>\n      <th>funding2010</th>\n      <th>pledge2010</th>\n      <th>funding2011</th>\n      <th>pledge2011</th>\n      <th>funding2012</th>\n      <th>pledge2012</th>\n      <th>funding2013</th>\n      <th>pledge2013</th>\n      <th>funding2014</th>\n      <th>pledge2014</th>\n      <th>funding2015</th>\n      <th>pledge2015</th>\n      <th>funding2016</th>\n      <th>pledge2016</th>\n      <th>funding2017</th>\n      <th>pledge2017</th>\n      <th>funding2018</th>\n      <th>pledge2018</th>\n      <th>funding2019</th>\n      <th>pledge2019</th>\n      <th>funding2020</th>\n      <th>pledge2020</th>\n    </tr>\n  </thead>\n  <tbody>\n    <tr>\n      <th>7</th>\n      <td>Bosnia Herzegovina</td>\n      <td>BIH</td>\n      <td>-0.247258</td>\n      <td>-0.125639</td>\n      <td>0.096463</td>\n      <td>0.429355</td>\n      <td>-0.11531</td>\n      <td>-0.193106</td>\n      <td>4.86</td>\n      <td>4.98</td>\n      <td>4.87</td>\n      <td>4.87</td>\n      <td>4.83</td>\n      <td>4.78</td>\n      <td>5.02</td>\n      <td>5.11</td>\n      <td>5.24</td>\n      <td>5.32</td>\n      <td>5.7</td>\n      <td>5.78</td>\n      <td>NaN</td>\n      <td>NaN</td>\n      <td>NaN</td>\n      <td>NaN</td>\n      <td>NaN</td>\n      <td>NaN</td>\n      <td>NaN</td>\n      <td>NaN</td>\n      <td>NaN</td>\n      <td>NaN</td>\n      <td>NaN</td>\n      <td>NaN</td>\n      <td>NaN</td>\n      <td>NaN</td>\n      <td>NaN</td>\n      <td>NaN</td>\n      <td>NaN</td>\n      <td>NaN</td>\n      <td>NaN</td>\n      <td>NaN</td>\n      <td>NaN</td>\n      <td>NaN</td>\n      <td>NaN</td>\n      <td>NaN</td>\n      <td>NaN</td>\n      <td>NaN</td>\n      <td>NaN</td>\n      <td>NaN</td>\n      <td>NaN</td>\n      <td>NaN</td>\n      <td>NaN</td>\n      <td>NaN</td>\n      <td>NaN</td>\n      <td>NaN</td>\n      <td>NaN</td>\n      <td>NaN</td>\n    </tr>\n  </tbody>\n</table>\n</div>"
     },
     "metadata": {},
     "execution_count": 20
    }
   ],
   "source": [
    "gps_demo_donate[gps_demo_donate.filter(regex='(funding|pledge)20*', axis=1).isna().all(axis=1)]"
   ]
  },
  {
   "source": [
    "### read in GDP in current US dollar data from WDI and merge with previous data frame"
   ],
   "cell_type": "markdown",
   "metadata": {}
  },
  {
   "cell_type": "code",
   "execution_count": 21,
   "metadata": {},
   "outputs": [
    {
     "output_type": "execute_result",
     "data": {
      "text/plain": [
       "              gdp2003       gdp2004       gdp2005       gdp2006       gdp2007  \\\n",
       "isocode                                                                         \n",
       "ABW      2.021229e+09  2.228492e+09  2.330726e+09  2.424581e+09  2.615084e+09   \n",
       "AFG      4.515559e+09  5.226779e+09  6.209138e+09  6.971286e+09  9.747880e+09   \n",
       "AGO      1.781271e+10  2.355205e+10  3.697092e+10  5.238101e+10  6.526645e+10   \n",
       "ALB      5.611492e+09  7.184681e+09  8.052076e+09  8.896074e+09  1.067732e+10   \n",
       "AND      2.361727e+09  2.894922e+09  3.159905e+09  3.456442e+09  3.952601e+09   \n",
       "\n",
       "              gdp2008       gdp2009       gdp2010       gdp2011       gdp2012  \\\n",
       "isocode                                                                         \n",
       "ABW      2.745251e+09  2.498883e+09  2.390503e+09  2.549721e+09  2.534637e+09   \n",
       "AFG      1.010923e+10  1.243909e+10  1.585657e+10  1.780429e+10  2.000160e+10   \n",
       "AGO      8.853861e+10  7.030716e+10  8.379950e+10  1.117897e+11  1.280529e+11   \n",
       "ALB      1.288135e+10  1.204422e+10  1.192693e+10  1.289077e+10  1.231983e+10   \n",
       "AND      4.085631e+09  3.674410e+09  3.449967e+09  3.629204e+09  3.188809e+09   \n",
       "\n",
       "              gdp2013       gdp2014       gdp2015       gdp2016       gdp2017  \\\n",
       "isocode                                                                         \n",
       "ABW      2.701676e+09  2.765363e+09  2.919553e+09  2.965922e+09  3.056425e+09   \n",
       "AFG      2.056107e+10  2.048489e+10  1.990711e+10  1.936264e+10  2.019176e+10   \n",
       "AGO      1.367099e+11  1.457122e+11  1.161936e+11  1.011239e+11  1.221238e+11   \n",
       "ALB      1.277622e+10  1.322814e+10  1.138685e+10  1.186120e+10  1.301969e+10   \n",
       "AND      3.193704e+09  3.271808e+09  2.789870e+09  2.896679e+09  3.000181e+09   \n",
       "\n",
       "              gdp2018       gdp2019  \n",
       "isocode                              \n",
       "ABW               NaN           NaN  \n",
       "AFG      1.948438e+10  1.910135e+10  \n",
       "AGO      1.013532e+11  9.463542e+10  \n",
       "ALB      1.514702e+10  1.527808e+10  \n",
       "AND      3.218316e+09  3.154058e+09  "
      ],
      "text/html": "<div>\n<style scoped>\n    .dataframe tbody tr th:only-of-type {\n        vertical-align: middle;\n    }\n\n    .dataframe tbody tr th {\n        vertical-align: top;\n    }\n\n    .dataframe thead th {\n        text-align: right;\n    }\n</style>\n<table border=\"1\" class=\"dataframe\">\n  <thead>\n    <tr style=\"text-align: right;\">\n      <th></th>\n      <th>gdp2003</th>\n      <th>gdp2004</th>\n      <th>gdp2005</th>\n      <th>gdp2006</th>\n      <th>gdp2007</th>\n      <th>gdp2008</th>\n      <th>gdp2009</th>\n      <th>gdp2010</th>\n      <th>gdp2011</th>\n      <th>gdp2012</th>\n      <th>gdp2013</th>\n      <th>gdp2014</th>\n      <th>gdp2015</th>\n      <th>gdp2016</th>\n      <th>gdp2017</th>\n      <th>gdp2018</th>\n      <th>gdp2019</th>\n    </tr>\n    <tr>\n      <th>isocode</th>\n      <th></th>\n      <th></th>\n      <th></th>\n      <th></th>\n      <th></th>\n      <th></th>\n      <th></th>\n      <th></th>\n      <th></th>\n      <th></th>\n      <th></th>\n      <th></th>\n      <th></th>\n      <th></th>\n      <th></th>\n      <th></th>\n      <th></th>\n    </tr>\n  </thead>\n  <tbody>\n    <tr>\n      <th>ABW</th>\n      <td>2.021229e+09</td>\n      <td>2.228492e+09</td>\n      <td>2.330726e+09</td>\n      <td>2.424581e+09</td>\n      <td>2.615084e+09</td>\n      <td>2.745251e+09</td>\n      <td>2.498883e+09</td>\n      <td>2.390503e+09</td>\n      <td>2.549721e+09</td>\n      <td>2.534637e+09</td>\n      <td>2.701676e+09</td>\n      <td>2.765363e+09</td>\n      <td>2.919553e+09</td>\n      <td>2.965922e+09</td>\n      <td>3.056425e+09</td>\n      <td>NaN</td>\n      <td>NaN</td>\n    </tr>\n    <tr>\n      <th>AFG</th>\n      <td>4.515559e+09</td>\n      <td>5.226779e+09</td>\n      <td>6.209138e+09</td>\n      <td>6.971286e+09</td>\n      <td>9.747880e+09</td>\n      <td>1.010923e+10</td>\n      <td>1.243909e+10</td>\n      <td>1.585657e+10</td>\n      <td>1.780429e+10</td>\n      <td>2.000160e+10</td>\n      <td>2.056107e+10</td>\n      <td>2.048489e+10</td>\n      <td>1.990711e+10</td>\n      <td>1.936264e+10</td>\n      <td>2.019176e+10</td>\n      <td>1.948438e+10</td>\n      <td>1.910135e+10</td>\n    </tr>\n    <tr>\n      <th>AGO</th>\n      <td>1.781271e+10</td>\n      <td>2.355205e+10</td>\n      <td>3.697092e+10</td>\n      <td>5.238101e+10</td>\n      <td>6.526645e+10</td>\n      <td>8.853861e+10</td>\n      <td>7.030716e+10</td>\n      <td>8.379950e+10</td>\n      <td>1.117897e+11</td>\n      <td>1.280529e+11</td>\n      <td>1.367099e+11</td>\n      <td>1.457122e+11</td>\n      <td>1.161936e+11</td>\n      <td>1.011239e+11</td>\n      <td>1.221238e+11</td>\n      <td>1.013532e+11</td>\n      <td>9.463542e+10</td>\n    </tr>\n    <tr>\n      <th>ALB</th>\n      <td>5.611492e+09</td>\n      <td>7.184681e+09</td>\n      <td>8.052076e+09</td>\n      <td>8.896074e+09</td>\n      <td>1.067732e+10</td>\n      <td>1.288135e+10</td>\n      <td>1.204422e+10</td>\n      <td>1.192693e+10</td>\n      <td>1.289077e+10</td>\n      <td>1.231983e+10</td>\n      <td>1.277622e+10</td>\n      <td>1.322814e+10</td>\n      <td>1.138685e+10</td>\n      <td>1.186120e+10</td>\n      <td>1.301969e+10</td>\n      <td>1.514702e+10</td>\n      <td>1.527808e+10</td>\n    </tr>\n    <tr>\n      <th>AND</th>\n      <td>2.361727e+09</td>\n      <td>2.894922e+09</td>\n      <td>3.159905e+09</td>\n      <td>3.456442e+09</td>\n      <td>3.952601e+09</td>\n      <td>4.085631e+09</td>\n      <td>3.674410e+09</td>\n      <td>3.449967e+09</td>\n      <td>3.629204e+09</td>\n      <td>3.188809e+09</td>\n      <td>3.193704e+09</td>\n      <td>3.271808e+09</td>\n      <td>2.789870e+09</td>\n      <td>2.896679e+09</td>\n      <td>3.000181e+09</td>\n      <td>3.218316e+09</td>\n      <td>3.154058e+09</td>\n    </tr>\n  </tbody>\n</table>\n</div>"
     },
     "metadata": {},
     "execution_count": 21
    }
   ],
   "source": [
    "gdp = pd.read_excel('data/GDP_by_country_by_year.xls', sheet_name='Data', skiprows=3).rename(columns={\"Country Code\": \"isocode\"}).set_index('isocode')\n",
    "gdp = gdp.iloc[:,-18 : -1]\n",
    "gdp = gdp.add_prefix('gdp')\n",
    "gdp.reset_index()\n",
    "gdp.head()\n"
   ]
  },
  {
   "cell_type": "code",
   "execution_count": 22,
   "metadata": {},
   "outputs": [
    {
     "output_type": "execute_result",
     "data": {
      "text/plain": [
       "(76, 73)"
      ]
     },
     "metadata": {},
     "execution_count": 22
    }
   ],
   "source": [
    "gps_demo_donate_gdp = pd.merge(gps_demo_donate, gdp, how='left', on=\"isocode\")\n",
    "gps_demo_donate_gdp.shape"
   ]
  },
  {
   "cell_type": "code",
   "execution_count": 23,
   "metadata": {},
   "outputs": [
    {
     "output_type": "execute_result",
     "data": {
      "text/plain": [
       "       country isocode  patience  risktaking  posrecip  negrecip  altruism  \\\n",
       "0  Afghanistan     AFG -0.201360    0.120764  0.289641  0.254712  0.166455   \n",
       "1      Algeria     DZA  0.059815    0.391530 -0.598255  0.254901 -0.009968   \n",
       "2    Argentina     ARG -0.229308    0.041503  0.159679 -0.140457  0.027347   \n",
       "3    Australia     AUS  0.657004    0.137137  0.069660  0.022190  0.155331   \n",
       "4      Austria     AUT  0.608285   -0.061829  0.161047 -0.055415 -0.035363   \n",
       "\n",
       "      trust  demo2019  demo2018  demo2017  demo2016  demo2015  demo2014  \\\n",
       "0  0.315964      2.85      2.97      2.55      2.55      2.77      2.77   \n",
       "1 -0.177371      4.01      3.50      3.56      3.56      3.95      3.83   \n",
       "2 -0.206733      7.02      7.02      6.96      6.96      7.02      6.84   \n",
       "3  0.298973      9.09      9.09      9.09      9.01      9.01      9.01   \n",
       "4  0.154628      8.29      8.29      8.42      8.41      8.54      8.54   \n",
       "\n",
       "   demo2013  demo2012  demo2011  demo2010  demo2008  demo2006  funding2003  \\\n",
       "0      2.48      2.48      2.48      2.48      3.02      3.06          NaN   \n",
       "1      3.83      3.83      3.44      3.44      3.32      3.17    3178000.0   \n",
       "2      6.84      6.84      6.84      6.84      6.63      6.63          NaN   \n",
       "3      9.13      9.22      9.22      9.22      9.09      9.09   87736725.0   \n",
       "4      8.48      8.62      8.49      8.49      8.49      8.69    3245126.0   \n",
       "\n",
       "   pledge2003  funding2004  pledge2004  funding2005  pledge2005  funding2006  \\\n",
       "0         NaN          NaN         NaN     500000.0         0.0          NaN   \n",
       "1         0.0          NaN         NaN   14769749.0         0.0          NaN   \n",
       "2         NaN          0.0         0.0          0.0         0.0          0.0   \n",
       "3         0.0   69076907.0         0.0   85073844.0  29859474.0   89757369.0   \n",
       "4         0.0    6186042.0         0.0   18423937.0         0.0    5624017.0   \n",
       "\n",
       "   pledge2006  funding2007  pledge2007  funding2008  pledge2008  funding2009  \\\n",
       "0         NaN          NaN         NaN   24000000.0         0.0     136493.0   \n",
       "1         NaN      10000.0         0.0      10000.0         0.0      76432.0   \n",
       "2         0.0          0.0         0.0     139000.0         0.0      31100.0   \n",
       "3   2262517.0  109371739.0   3817867.0  143674846.0  39494954.0  196311166.0   \n",
       "4    765306.0    7885069.0         0.0   15280397.0   1017509.0   16939495.0   \n",
       "\n",
       "   pledge2009  funding2010  pledge2010  funding2011  pledge2011  funding2012  \\\n",
       "0         0.0    2379910.0         0.0       3360.0         0.0       3000.0   \n",
       "1         0.0   10110696.0         0.0   16010000.0   7000000.0          NaN   \n",
       "2         0.0      50000.0         0.0     107332.0         0.0     130826.0   \n",
       "3   8733624.0  293856560.0   1923773.0  312711049.0         0.0  271004092.0   \n",
       "4    348675.0   25973202.0         0.0   18074363.0    500409.0   16333100.0   \n",
       "\n",
       "   pledge2012  funding2013  pledge2013  funding2014  pledge2014  funding2015  \\\n",
       "0         0.0       2000.0         0.0          NaN         NaN       1000.0   \n",
       "1         NaN    2000000.0         0.0      10000.0         0.0          0.0   \n",
       "2         0.0     165718.0         0.0     230500.0         0.0          NaN   \n",
       "3   2809573.0  263194483.0         0.0  269253261.0         0.0  166236181.0   \n",
       "4         0.0   17699567.0         0.0   18504048.0         0.0   18786627.0   \n",
       "\n",
       "   pledge2015  funding2016  pledge2016  funding2017  pledge2017  funding2018  \\\n",
       "0         0.0          NaN         NaN          NaN         NaN    3870542.0   \n",
       "1         0.0     660000.0         0.0      10000.0         0.0      10000.0   \n",
       "2         NaN     176272.0         0.0    1344591.0         0.0     265000.0   \n",
       "3    762236.0  205207886.0   2724017.0  243900706.0   2712522.0  248119692.0   \n",
       "4         0.0   35663228.0         0.0   49109105.0         0.0   26096928.0   \n",
       "\n",
       "   pledge2018  funding2019  pledge2019  funding2020  pledge2020       gdp2003  \\\n",
       "0         0.0     903177.0         0.0          NaN         NaN  4.515559e+09   \n",
       "1         0.0          NaN         NaN          0.0         0.0  6.786485e+10   \n",
       "2         0.0     155000.0         0.0          NaN         NaN  1.275870e+11   \n",
       "3         0.0  310639840.0         0.0  271692972.0         0.0  4.664881e+11   \n",
       "4   6670328.0   32476153.0   1540154.0   19142494.0         0.0  2.616958e+11   \n",
       "\n",
       "        gdp2004       gdp2005       gdp2006       gdp2007       gdp2008  \\\n",
       "0  5.226779e+09  6.209138e+09  6.971286e+09  9.747880e+09  1.010923e+10   \n",
       "1  8.532477e+10  1.031984e+11  1.170254e+11  1.349773e+11  1.710006e+11   \n",
       "2  1.646579e+11  1.987371e+11  2.325573e+11  2.875305e+11  3.615580e+11   \n",
       "3  6.124904e+11  6.934078e+11  7.460542e+11  8.530996e+11  1.053996e+12   \n",
       "4  3.009042e+11  3.159744e+11  3.359986e+11  3.886914e+11  4.302943e+11   \n",
       "\n",
       "        gdp2009       gdp2010       gdp2011       gdp2012       gdp2013  \\\n",
       "0  1.243909e+10  1.585657e+10  1.780429e+10  2.000160e+10  2.056107e+10   \n",
       "1  1.372107e+11  1.612078e+11  2.000195e+11  2.090603e+11  2.097548e+11   \n",
       "2  3.329765e+11  4.236274e+11  5.301633e+11  5.459824e+11  5.520251e+11   \n",
       "3  9.278052e+11  1.146138e+12  1.396650e+12  1.546152e+12  1.576184e+12   \n",
       "4  4.001723e+11  3.918927e+11  4.311203e+11  4.094252e+11  4.300687e+11   \n",
       "\n",
       "        gdp2014       gdp2015       gdp2016       gdp2017       gdp2018  \\\n",
       "0  2.048489e+10  1.990711e+10  1.936264e+10  2.019176e+10  1.948438e+10   \n",
       "1  2.138088e+11  1.659794e+11  1.600338e+11  1.673894e+11  1.737580e+11   \n",
       "2  5.263197e+11  5.947493e+11  5.575314e+11  6.426959e+11  5.198715e+11   \n",
       "3  1.467484e+12  1.351694e+12  1.208847e+12  1.330136e+12  1.433904e+12   \n",
       "4  4.419961e+11  3.818176e+11  3.952277e+11  4.183162e+11  4.555083e+11   \n",
       "\n",
       "        gdp2019  \n",
       "0  1.910135e+10  \n",
       "1  1.699882e+11  \n",
       "2  4.496634e+11  \n",
       "3  1.392681e+12  \n",
       "4  4.463147e+11  "
      ],
      "text/html": "<div>\n<style scoped>\n    .dataframe tbody tr th:only-of-type {\n        vertical-align: middle;\n    }\n\n    .dataframe tbody tr th {\n        vertical-align: top;\n    }\n\n    .dataframe thead th {\n        text-align: right;\n    }\n</style>\n<table border=\"1\" class=\"dataframe\">\n  <thead>\n    <tr style=\"text-align: right;\">\n      <th></th>\n      <th>country</th>\n      <th>isocode</th>\n      <th>patience</th>\n      <th>risktaking</th>\n      <th>posrecip</th>\n      <th>negrecip</th>\n      <th>altruism</th>\n      <th>trust</th>\n      <th>demo2019</th>\n      <th>demo2018</th>\n      <th>demo2017</th>\n      <th>demo2016</th>\n      <th>demo2015</th>\n      <th>demo2014</th>\n      <th>demo2013</th>\n      <th>demo2012</th>\n      <th>demo2011</th>\n      <th>demo2010</th>\n      <th>demo2008</th>\n      <th>demo2006</th>\n      <th>funding2003</th>\n      <th>pledge2003</th>\n      <th>funding2004</th>\n      <th>pledge2004</th>\n      <th>funding2005</th>\n      <th>pledge2005</th>\n      <th>funding2006</th>\n      <th>pledge2006</th>\n      <th>funding2007</th>\n      <th>pledge2007</th>\n      <th>funding2008</th>\n      <th>pledge2008</th>\n      <th>funding2009</th>\n      <th>pledge2009</th>\n      <th>funding2010</th>\n      <th>pledge2010</th>\n      <th>funding2011</th>\n      <th>pledge2011</th>\n      <th>funding2012</th>\n      <th>pledge2012</th>\n      <th>funding2013</th>\n      <th>pledge2013</th>\n      <th>funding2014</th>\n      <th>pledge2014</th>\n      <th>funding2015</th>\n      <th>pledge2015</th>\n      <th>funding2016</th>\n      <th>pledge2016</th>\n      <th>funding2017</th>\n      <th>pledge2017</th>\n      <th>funding2018</th>\n      <th>pledge2018</th>\n      <th>funding2019</th>\n      <th>pledge2019</th>\n      <th>funding2020</th>\n      <th>pledge2020</th>\n      <th>gdp2003</th>\n      <th>gdp2004</th>\n      <th>gdp2005</th>\n      <th>gdp2006</th>\n      <th>gdp2007</th>\n      <th>gdp2008</th>\n      <th>gdp2009</th>\n      <th>gdp2010</th>\n      <th>gdp2011</th>\n      <th>gdp2012</th>\n      <th>gdp2013</th>\n      <th>gdp2014</th>\n      <th>gdp2015</th>\n      <th>gdp2016</th>\n      <th>gdp2017</th>\n      <th>gdp2018</th>\n      <th>gdp2019</th>\n    </tr>\n  </thead>\n  <tbody>\n    <tr>\n      <th>0</th>\n      <td>Afghanistan</td>\n      <td>AFG</td>\n      <td>-0.201360</td>\n      <td>0.120764</td>\n      <td>0.289641</td>\n      <td>0.254712</td>\n      <td>0.166455</td>\n      <td>0.315964</td>\n      <td>2.85</td>\n      <td>2.97</td>\n      <td>2.55</td>\n      <td>2.55</td>\n      <td>2.77</td>\n      <td>2.77</td>\n      <td>2.48</td>\n      <td>2.48</td>\n      <td>2.48</td>\n      <td>2.48</td>\n      <td>3.02</td>\n      <td>3.06</td>\n      <td>NaN</td>\n      <td>NaN</td>\n      <td>NaN</td>\n      <td>NaN</td>\n      <td>500000.0</td>\n      <td>0.0</td>\n      <td>NaN</td>\n      <td>NaN</td>\n      <td>NaN</td>\n      <td>NaN</td>\n      <td>24000000.0</td>\n      <td>0.0</td>\n      <td>136493.0</td>\n      <td>0.0</td>\n      <td>2379910.0</td>\n      <td>0.0</td>\n      <td>3360.0</td>\n      <td>0.0</td>\n      <td>3000.0</td>\n      <td>0.0</td>\n      <td>2000.0</td>\n      <td>0.0</td>\n      <td>NaN</td>\n      <td>NaN</td>\n      <td>1000.0</td>\n      <td>0.0</td>\n      <td>NaN</td>\n      <td>NaN</td>\n      <td>NaN</td>\n      <td>NaN</td>\n      <td>3870542.0</td>\n      <td>0.0</td>\n      <td>903177.0</td>\n      <td>0.0</td>\n      <td>NaN</td>\n      <td>NaN</td>\n      <td>4.515559e+09</td>\n      <td>5.226779e+09</td>\n      <td>6.209138e+09</td>\n      <td>6.971286e+09</td>\n      <td>9.747880e+09</td>\n      <td>1.010923e+10</td>\n      <td>1.243909e+10</td>\n      <td>1.585657e+10</td>\n      <td>1.780429e+10</td>\n      <td>2.000160e+10</td>\n      <td>2.056107e+10</td>\n      <td>2.048489e+10</td>\n      <td>1.990711e+10</td>\n      <td>1.936264e+10</td>\n      <td>2.019176e+10</td>\n      <td>1.948438e+10</td>\n      <td>1.910135e+10</td>\n    </tr>\n    <tr>\n      <th>1</th>\n      <td>Algeria</td>\n      <td>DZA</td>\n      <td>0.059815</td>\n      <td>0.391530</td>\n      <td>-0.598255</td>\n      <td>0.254901</td>\n      <td>-0.009968</td>\n      <td>-0.177371</td>\n      <td>4.01</td>\n      <td>3.50</td>\n      <td>3.56</td>\n      <td>3.56</td>\n      <td>3.95</td>\n      <td>3.83</td>\n      <td>3.83</td>\n      <td>3.83</td>\n      <td>3.44</td>\n      <td>3.44</td>\n      <td>3.32</td>\n      <td>3.17</td>\n      <td>3178000.0</td>\n      <td>0.0</td>\n      <td>NaN</td>\n      <td>NaN</td>\n      <td>14769749.0</td>\n      <td>0.0</td>\n      <td>NaN</td>\n      <td>NaN</td>\n      <td>10000.0</td>\n      <td>0.0</td>\n      <td>10000.0</td>\n      <td>0.0</td>\n      <td>76432.0</td>\n      <td>0.0</td>\n      <td>10110696.0</td>\n      <td>0.0</td>\n      <td>16010000.0</td>\n      <td>7000000.0</td>\n      <td>NaN</td>\n      <td>NaN</td>\n      <td>2000000.0</td>\n      <td>0.0</td>\n      <td>10000.0</td>\n      <td>0.0</td>\n      <td>0.0</td>\n      <td>0.0</td>\n      <td>660000.0</td>\n      <td>0.0</td>\n      <td>10000.0</td>\n      <td>0.0</td>\n      <td>10000.0</td>\n      <td>0.0</td>\n      <td>NaN</td>\n      <td>NaN</td>\n      <td>0.0</td>\n      <td>0.0</td>\n      <td>6.786485e+10</td>\n      <td>8.532477e+10</td>\n      <td>1.031984e+11</td>\n      <td>1.170254e+11</td>\n      <td>1.349773e+11</td>\n      <td>1.710006e+11</td>\n      <td>1.372107e+11</td>\n      <td>1.612078e+11</td>\n      <td>2.000195e+11</td>\n      <td>2.090603e+11</td>\n      <td>2.097548e+11</td>\n      <td>2.138088e+11</td>\n      <td>1.659794e+11</td>\n      <td>1.600338e+11</td>\n      <td>1.673894e+11</td>\n      <td>1.737580e+11</td>\n      <td>1.699882e+11</td>\n    </tr>\n    <tr>\n      <th>2</th>\n      <td>Argentina</td>\n      <td>ARG</td>\n      <td>-0.229308</td>\n      <td>0.041503</td>\n      <td>0.159679</td>\n      <td>-0.140457</td>\n      <td>0.027347</td>\n      <td>-0.206733</td>\n      <td>7.02</td>\n      <td>7.02</td>\n      <td>6.96</td>\n      <td>6.96</td>\n      <td>7.02</td>\n      <td>6.84</td>\n      <td>6.84</td>\n      <td>6.84</td>\n      <td>6.84</td>\n      <td>6.84</td>\n      <td>6.63</td>\n      <td>6.63</td>\n      <td>NaN</td>\n      <td>NaN</td>\n      <td>0.0</td>\n      <td>0.0</td>\n      <td>0.0</td>\n      <td>0.0</td>\n      <td>0.0</td>\n      <td>0.0</td>\n      <td>0.0</td>\n      <td>0.0</td>\n      <td>139000.0</td>\n      <td>0.0</td>\n      <td>31100.0</td>\n      <td>0.0</td>\n      <td>50000.0</td>\n      <td>0.0</td>\n      <td>107332.0</td>\n      <td>0.0</td>\n      <td>130826.0</td>\n      <td>0.0</td>\n      <td>165718.0</td>\n      <td>0.0</td>\n      <td>230500.0</td>\n      <td>0.0</td>\n      <td>NaN</td>\n      <td>NaN</td>\n      <td>176272.0</td>\n      <td>0.0</td>\n      <td>1344591.0</td>\n      <td>0.0</td>\n      <td>265000.0</td>\n      <td>0.0</td>\n      <td>155000.0</td>\n      <td>0.0</td>\n      <td>NaN</td>\n      <td>NaN</td>\n      <td>1.275870e+11</td>\n      <td>1.646579e+11</td>\n      <td>1.987371e+11</td>\n      <td>2.325573e+11</td>\n      <td>2.875305e+11</td>\n      <td>3.615580e+11</td>\n      <td>3.329765e+11</td>\n      <td>4.236274e+11</td>\n      <td>5.301633e+11</td>\n      <td>5.459824e+11</td>\n      <td>5.520251e+11</td>\n      <td>5.263197e+11</td>\n      <td>5.947493e+11</td>\n      <td>5.575314e+11</td>\n      <td>6.426959e+11</td>\n      <td>5.198715e+11</td>\n      <td>4.496634e+11</td>\n    </tr>\n    <tr>\n      <th>3</th>\n      <td>Australia</td>\n      <td>AUS</td>\n      <td>0.657004</td>\n      <td>0.137137</td>\n      <td>0.069660</td>\n      <td>0.022190</td>\n      <td>0.155331</td>\n      <td>0.298973</td>\n      <td>9.09</td>\n      <td>9.09</td>\n      <td>9.09</td>\n      <td>9.01</td>\n      <td>9.01</td>\n      <td>9.01</td>\n      <td>9.13</td>\n      <td>9.22</td>\n      <td>9.22</td>\n      <td>9.22</td>\n      <td>9.09</td>\n      <td>9.09</td>\n      <td>87736725.0</td>\n      <td>0.0</td>\n      <td>69076907.0</td>\n      <td>0.0</td>\n      <td>85073844.0</td>\n      <td>29859474.0</td>\n      <td>89757369.0</td>\n      <td>2262517.0</td>\n      <td>109371739.0</td>\n      <td>3817867.0</td>\n      <td>143674846.0</td>\n      <td>39494954.0</td>\n      <td>196311166.0</td>\n      <td>8733624.0</td>\n      <td>293856560.0</td>\n      <td>1923773.0</td>\n      <td>312711049.0</td>\n      <td>0.0</td>\n      <td>271004092.0</td>\n      <td>2809573.0</td>\n      <td>263194483.0</td>\n      <td>0.0</td>\n      <td>269253261.0</td>\n      <td>0.0</td>\n      <td>166236181.0</td>\n      <td>762236.0</td>\n      <td>205207886.0</td>\n      <td>2724017.0</td>\n      <td>243900706.0</td>\n      <td>2712522.0</td>\n      <td>248119692.0</td>\n      <td>0.0</td>\n      <td>310639840.0</td>\n      <td>0.0</td>\n      <td>271692972.0</td>\n      <td>0.0</td>\n      <td>4.664881e+11</td>\n      <td>6.124904e+11</td>\n      <td>6.934078e+11</td>\n      <td>7.460542e+11</td>\n      <td>8.530996e+11</td>\n      <td>1.053996e+12</td>\n      <td>9.278052e+11</td>\n      <td>1.146138e+12</td>\n      <td>1.396650e+12</td>\n      <td>1.546152e+12</td>\n      <td>1.576184e+12</td>\n      <td>1.467484e+12</td>\n      <td>1.351694e+12</td>\n      <td>1.208847e+12</td>\n      <td>1.330136e+12</td>\n      <td>1.433904e+12</td>\n      <td>1.392681e+12</td>\n    </tr>\n    <tr>\n      <th>4</th>\n      <td>Austria</td>\n      <td>AUT</td>\n      <td>0.608285</td>\n      <td>-0.061829</td>\n      <td>0.161047</td>\n      <td>-0.055415</td>\n      <td>-0.035363</td>\n      <td>0.154628</td>\n      <td>8.29</td>\n      <td>8.29</td>\n      <td>8.42</td>\n      <td>8.41</td>\n      <td>8.54</td>\n      <td>8.54</td>\n      <td>8.48</td>\n      <td>8.62</td>\n      <td>8.49</td>\n      <td>8.49</td>\n      <td>8.49</td>\n      <td>8.69</td>\n      <td>3245126.0</td>\n      <td>0.0</td>\n      <td>6186042.0</td>\n      <td>0.0</td>\n      <td>18423937.0</td>\n      <td>0.0</td>\n      <td>5624017.0</td>\n      <td>765306.0</td>\n      <td>7885069.0</td>\n      <td>0.0</td>\n      <td>15280397.0</td>\n      <td>1017509.0</td>\n      <td>16939495.0</td>\n      <td>348675.0</td>\n      <td>25973202.0</td>\n      <td>0.0</td>\n      <td>18074363.0</td>\n      <td>500409.0</td>\n      <td>16333100.0</td>\n      <td>0.0</td>\n      <td>17699567.0</td>\n      <td>0.0</td>\n      <td>18504048.0</td>\n      <td>0.0</td>\n      <td>18786627.0</td>\n      <td>0.0</td>\n      <td>35663228.0</td>\n      <td>0.0</td>\n      <td>49109105.0</td>\n      <td>0.0</td>\n      <td>26096928.0</td>\n      <td>6670328.0</td>\n      <td>32476153.0</td>\n      <td>1540154.0</td>\n      <td>19142494.0</td>\n      <td>0.0</td>\n      <td>2.616958e+11</td>\n      <td>3.009042e+11</td>\n      <td>3.159744e+11</td>\n      <td>3.359986e+11</td>\n      <td>3.886914e+11</td>\n      <td>4.302943e+11</td>\n      <td>4.001723e+11</td>\n      <td>3.918927e+11</td>\n      <td>4.311203e+11</td>\n      <td>4.094252e+11</td>\n      <td>4.300687e+11</td>\n      <td>4.419961e+11</td>\n      <td>3.818176e+11</td>\n      <td>3.952277e+11</td>\n      <td>4.183162e+11</td>\n      <td>4.555083e+11</td>\n      <td>4.463147e+11</td>\n    </tr>\n  </tbody>\n</table>\n</div>"
     },
     "metadata": {},
     "execution_count": 23
    }
   ],
   "source": [
    "# gps_demo_donate_gdp[gps_demo_donate_gdp.filter(regex='gdp.*', axis=1).isna().all(axis=1)]\n",
    "gps_demo_donate_gdp.head()"
   ]
  },
  {
   "source": [
    "### adding columns of funding / GDP * 100 by year"
   ],
   "cell_type": "markdown",
   "metadata": {}
  },
  {
   "cell_type": "code",
   "execution_count": 24,
   "metadata": {},
   "outputs": [
    {
     "output_type": "execute_result",
     "data": {
      "text/plain": [
       "       country isocode  patience  risktaking  posrecip  negrecip  altruism  \\\n",
       "0  Afghanistan     AFG -0.201360    0.120764  0.289641  0.254712  0.166455   \n",
       "1      Algeria     DZA  0.059815    0.391530 -0.598255  0.254901 -0.009968   \n",
       "2    Argentina     ARG -0.229308    0.041503  0.159679 -0.140457  0.027347   \n",
       "3    Australia     AUS  0.657004    0.137137  0.069660  0.022190  0.155331   \n",
       "4      Austria     AUT  0.608285   -0.061829  0.161047 -0.055415 -0.035363   \n",
       "\n",
       "      trust  demo2019  demo2018  demo2017  demo2016  demo2015  demo2014  \\\n",
       "0  0.315964      2.85      2.97      2.55      2.55      2.77      2.77   \n",
       "1 -0.177371      4.01      3.50      3.56      3.56      3.95      3.83   \n",
       "2 -0.206733      7.02      7.02      6.96      6.96      7.02      6.84   \n",
       "3  0.298973      9.09      9.09      9.09      9.01      9.01      9.01   \n",
       "4  0.154628      8.29      8.29      8.42      8.41      8.54      8.54   \n",
       "\n",
       "   demo2013  demo2012  demo2011  demo2010  demo2008  demo2006  funding2003  \\\n",
       "0      2.48      2.48      2.48      2.48      3.02      3.06          NaN   \n",
       "1      3.83      3.83      3.44      3.44      3.32      3.17    3178000.0   \n",
       "2      6.84      6.84      6.84      6.84      6.63      6.63          NaN   \n",
       "3      9.13      9.22      9.22      9.22      9.09      9.09   87736725.0   \n",
       "4      8.48      8.62      8.49      8.49      8.49      8.69    3245126.0   \n",
       "\n",
       "   pledge2003  funding2004  pledge2004  funding2005  pledge2005  funding2006  \\\n",
       "0         NaN          NaN         NaN     500000.0         0.0          NaN   \n",
       "1         0.0          NaN         NaN   14769749.0         0.0          NaN   \n",
       "2         NaN          0.0         0.0          0.0         0.0          0.0   \n",
       "3         0.0   69076907.0         0.0   85073844.0  29859474.0   89757369.0   \n",
       "4         0.0    6186042.0         0.0   18423937.0         0.0    5624017.0   \n",
       "\n",
       "   pledge2006  funding2007  pledge2007  funding2008  pledge2008  funding2009  \\\n",
       "0         NaN          NaN         NaN   24000000.0         0.0     136493.0   \n",
       "1         NaN      10000.0         0.0      10000.0         0.0      76432.0   \n",
       "2         0.0          0.0         0.0     139000.0         0.0      31100.0   \n",
       "3   2262517.0  109371739.0   3817867.0  143674846.0  39494954.0  196311166.0   \n",
       "4    765306.0    7885069.0         0.0   15280397.0   1017509.0   16939495.0   \n",
       "\n",
       "   pledge2009  funding2010  pledge2010  funding2011  pledge2011  funding2012  \\\n",
       "0         0.0    2379910.0         0.0       3360.0         0.0       3000.0   \n",
       "1         0.0   10110696.0         0.0   16010000.0   7000000.0          NaN   \n",
       "2         0.0      50000.0         0.0     107332.0         0.0     130826.0   \n",
       "3   8733624.0  293856560.0   1923773.0  312711049.0         0.0  271004092.0   \n",
       "4    348675.0   25973202.0         0.0   18074363.0    500409.0   16333100.0   \n",
       "\n",
       "   pledge2012  funding2013  pledge2013  funding2014  pledge2014  funding2015  \\\n",
       "0         0.0       2000.0         0.0          NaN         NaN       1000.0   \n",
       "1         NaN    2000000.0         0.0      10000.0         0.0          0.0   \n",
       "2         0.0     165718.0         0.0     230500.0         0.0          NaN   \n",
       "3   2809573.0  263194483.0         0.0  269253261.0         0.0  166236181.0   \n",
       "4         0.0   17699567.0         0.0   18504048.0         0.0   18786627.0   \n",
       "\n",
       "   pledge2015  funding2016  pledge2016  funding2017  pledge2017  funding2018  \\\n",
       "0         0.0          NaN         NaN          NaN         NaN    3870542.0   \n",
       "1         0.0     660000.0         0.0      10000.0         0.0      10000.0   \n",
       "2         NaN     176272.0         0.0    1344591.0         0.0     265000.0   \n",
       "3    762236.0  205207886.0   2724017.0  243900706.0   2712522.0  248119692.0   \n",
       "4         0.0   35663228.0         0.0   49109105.0         0.0   26096928.0   \n",
       "\n",
       "   pledge2018  funding2019  pledge2019  funding2020  pledge2020       gdp2003  \\\n",
       "0         0.0     903177.0         0.0          NaN         NaN  4.515559e+09   \n",
       "1         0.0          NaN         NaN          0.0         0.0  6.786485e+10   \n",
       "2         0.0     155000.0         0.0          NaN         NaN  1.275870e+11   \n",
       "3         0.0  310639840.0         0.0  271692972.0         0.0  4.664881e+11   \n",
       "4   6670328.0   32476153.0   1540154.0   19142494.0         0.0  2.616958e+11   \n",
       "\n",
       "        gdp2004       gdp2005       gdp2006       gdp2007       gdp2008  \\\n",
       "0  5.226779e+09  6.209138e+09  6.971286e+09  9.747880e+09  1.010923e+10   \n",
       "1  8.532477e+10  1.031984e+11  1.170254e+11  1.349773e+11  1.710006e+11   \n",
       "2  1.646579e+11  1.987371e+11  2.325573e+11  2.875305e+11  3.615580e+11   \n",
       "3  6.124904e+11  6.934078e+11  7.460542e+11  8.530996e+11  1.053996e+12   \n",
       "4  3.009042e+11  3.159744e+11  3.359986e+11  3.886914e+11  4.302943e+11   \n",
       "\n",
       "        gdp2009       gdp2010       gdp2011       gdp2012       gdp2013  \\\n",
       "0  1.243909e+10  1.585657e+10  1.780429e+10  2.000160e+10  2.056107e+10   \n",
       "1  1.372107e+11  1.612078e+11  2.000195e+11  2.090603e+11  2.097548e+11   \n",
       "2  3.329765e+11  4.236274e+11  5.301633e+11  5.459824e+11  5.520251e+11   \n",
       "3  9.278052e+11  1.146138e+12  1.396650e+12  1.546152e+12  1.576184e+12   \n",
       "4  4.001723e+11  3.918927e+11  4.311203e+11  4.094252e+11  4.300687e+11   \n",
       "\n",
       "        gdp2014       gdp2015       gdp2016       gdp2017       gdp2018  \\\n",
       "0  2.048489e+10  1.990711e+10  1.936264e+10  2.019176e+10  1.948438e+10   \n",
       "1  2.138088e+11  1.659794e+11  1.600338e+11  1.673894e+11  1.737580e+11   \n",
       "2  5.263197e+11  5.947493e+11  5.575314e+11  6.426959e+11  5.198715e+11   \n",
       "3  1.467484e+12  1.351694e+12  1.208847e+12  1.330136e+12  1.433904e+12   \n",
       "4  4.419961e+11  3.818176e+11  3.952277e+11  4.183162e+11  4.555083e+11   \n",
       "\n",
       "        gdp2019  funding2003_gdp  funding2004_gdp  funding2005_gdp  \\\n",
       "0  1.910135e+10              NaN              NaN         0.008053   \n",
       "1  1.699882e+11         0.004683              NaN         0.014312   \n",
       "2  4.496634e+11              NaN         0.000000         0.000000   \n",
       "3  1.392681e+12         0.018808         0.011278         0.012269   \n",
       "4  4.463147e+11         0.001240         0.002056         0.005831   \n",
       "\n",
       "   funding2006_gdp  funding2007_gdp  funding2008_gdp  funding2009_gdp  \\\n",
       "0              NaN              NaN         0.237407         0.001097   \n",
       "1              NaN         0.000007         0.000006         0.000056   \n",
       "2         0.000000         0.000000         0.000038         0.000009   \n",
       "3         0.012031         0.012821         0.013631         0.021159   \n",
       "4         0.001674         0.002029         0.003551         0.004233   \n",
       "\n",
       "   funding2010_gdp  funding2011_gdp  funding2012_gdp  funding2013_gdp  \\\n",
       "0         0.015009         0.000019         0.000015         0.000010   \n",
       "1         0.006272         0.008004              NaN         0.000953   \n",
       "2         0.000012         0.000020         0.000024         0.000030   \n",
       "3         0.025639         0.022390         0.017528         0.016698   \n",
       "4         0.006628         0.004192         0.003989         0.004116   \n",
       "\n",
       "   funding2014_gdp  funding2015_gdp  funding2016_gdp  funding2017_gdp  \\\n",
       "0              NaN         0.000005              NaN              NaN   \n",
       "1         0.000005         0.000000         0.000412         0.000006   \n",
       "2         0.000044              NaN         0.000032         0.000209   \n",
       "3         0.018348         0.012298         0.016976         0.018337   \n",
       "4         0.004186         0.004920         0.009023         0.011740   \n",
       "\n",
       "   funding2018_gdp  funding2019_gdp  \n",
       "0         0.019865         0.004728  \n",
       "1         0.000006              NaN  \n",
       "2         0.000051         0.000034  \n",
       "3         0.017304         0.022305  \n",
       "4         0.005729         0.007277  "
      ],
      "text/html": "<div>\n<style scoped>\n    .dataframe tbody tr th:only-of-type {\n        vertical-align: middle;\n    }\n\n    .dataframe tbody tr th {\n        vertical-align: top;\n    }\n\n    .dataframe thead th {\n        text-align: right;\n    }\n</style>\n<table border=\"1\" class=\"dataframe\">\n  <thead>\n    <tr style=\"text-align: right;\">\n      <th></th>\n      <th>country</th>\n      <th>isocode</th>\n      <th>patience</th>\n      <th>risktaking</th>\n      <th>posrecip</th>\n      <th>negrecip</th>\n      <th>altruism</th>\n      <th>trust</th>\n      <th>demo2019</th>\n      <th>demo2018</th>\n      <th>demo2017</th>\n      <th>demo2016</th>\n      <th>demo2015</th>\n      <th>demo2014</th>\n      <th>demo2013</th>\n      <th>demo2012</th>\n      <th>demo2011</th>\n      <th>demo2010</th>\n      <th>demo2008</th>\n      <th>demo2006</th>\n      <th>funding2003</th>\n      <th>pledge2003</th>\n      <th>funding2004</th>\n      <th>pledge2004</th>\n      <th>funding2005</th>\n      <th>pledge2005</th>\n      <th>funding2006</th>\n      <th>pledge2006</th>\n      <th>funding2007</th>\n      <th>pledge2007</th>\n      <th>funding2008</th>\n      <th>pledge2008</th>\n      <th>funding2009</th>\n      <th>pledge2009</th>\n      <th>funding2010</th>\n      <th>pledge2010</th>\n      <th>funding2011</th>\n      <th>pledge2011</th>\n      <th>funding2012</th>\n      <th>pledge2012</th>\n      <th>funding2013</th>\n      <th>pledge2013</th>\n      <th>funding2014</th>\n      <th>pledge2014</th>\n      <th>funding2015</th>\n      <th>pledge2015</th>\n      <th>funding2016</th>\n      <th>pledge2016</th>\n      <th>funding2017</th>\n      <th>pledge2017</th>\n      <th>funding2018</th>\n      <th>pledge2018</th>\n      <th>funding2019</th>\n      <th>pledge2019</th>\n      <th>funding2020</th>\n      <th>pledge2020</th>\n      <th>gdp2003</th>\n      <th>gdp2004</th>\n      <th>gdp2005</th>\n      <th>gdp2006</th>\n      <th>gdp2007</th>\n      <th>gdp2008</th>\n      <th>gdp2009</th>\n      <th>gdp2010</th>\n      <th>gdp2011</th>\n      <th>gdp2012</th>\n      <th>gdp2013</th>\n      <th>gdp2014</th>\n      <th>gdp2015</th>\n      <th>gdp2016</th>\n      <th>gdp2017</th>\n      <th>gdp2018</th>\n      <th>gdp2019</th>\n      <th>funding2003_gdp</th>\n      <th>funding2004_gdp</th>\n      <th>funding2005_gdp</th>\n      <th>funding2006_gdp</th>\n      <th>funding2007_gdp</th>\n      <th>funding2008_gdp</th>\n      <th>funding2009_gdp</th>\n      <th>funding2010_gdp</th>\n      <th>funding2011_gdp</th>\n      <th>funding2012_gdp</th>\n      <th>funding2013_gdp</th>\n      <th>funding2014_gdp</th>\n      <th>funding2015_gdp</th>\n      <th>funding2016_gdp</th>\n      <th>funding2017_gdp</th>\n      <th>funding2018_gdp</th>\n      <th>funding2019_gdp</th>\n    </tr>\n  </thead>\n  <tbody>\n    <tr>\n      <th>0</th>\n      <td>Afghanistan</td>\n      <td>AFG</td>\n      <td>-0.201360</td>\n      <td>0.120764</td>\n      <td>0.289641</td>\n      <td>0.254712</td>\n      <td>0.166455</td>\n      <td>0.315964</td>\n      <td>2.85</td>\n      <td>2.97</td>\n      <td>2.55</td>\n      <td>2.55</td>\n      <td>2.77</td>\n      <td>2.77</td>\n      <td>2.48</td>\n      <td>2.48</td>\n      <td>2.48</td>\n      <td>2.48</td>\n      <td>3.02</td>\n      <td>3.06</td>\n      <td>NaN</td>\n      <td>NaN</td>\n      <td>NaN</td>\n      <td>NaN</td>\n      <td>500000.0</td>\n      <td>0.0</td>\n      <td>NaN</td>\n      <td>NaN</td>\n      <td>NaN</td>\n      <td>NaN</td>\n      <td>24000000.0</td>\n      <td>0.0</td>\n      <td>136493.0</td>\n      <td>0.0</td>\n      <td>2379910.0</td>\n      <td>0.0</td>\n      <td>3360.0</td>\n      <td>0.0</td>\n      <td>3000.0</td>\n      <td>0.0</td>\n      <td>2000.0</td>\n      <td>0.0</td>\n      <td>NaN</td>\n      <td>NaN</td>\n      <td>1000.0</td>\n      <td>0.0</td>\n      <td>NaN</td>\n      <td>NaN</td>\n      <td>NaN</td>\n      <td>NaN</td>\n      <td>3870542.0</td>\n      <td>0.0</td>\n      <td>903177.0</td>\n      <td>0.0</td>\n      <td>NaN</td>\n      <td>NaN</td>\n      <td>4.515559e+09</td>\n      <td>5.226779e+09</td>\n      <td>6.209138e+09</td>\n      <td>6.971286e+09</td>\n      <td>9.747880e+09</td>\n      <td>1.010923e+10</td>\n      <td>1.243909e+10</td>\n      <td>1.585657e+10</td>\n      <td>1.780429e+10</td>\n      <td>2.000160e+10</td>\n      <td>2.056107e+10</td>\n      <td>2.048489e+10</td>\n      <td>1.990711e+10</td>\n      <td>1.936264e+10</td>\n      <td>2.019176e+10</td>\n      <td>1.948438e+10</td>\n      <td>1.910135e+10</td>\n      <td>NaN</td>\n      <td>NaN</td>\n      <td>0.008053</td>\n      <td>NaN</td>\n      <td>NaN</td>\n      <td>0.237407</td>\n      <td>0.001097</td>\n      <td>0.015009</td>\n      <td>0.000019</td>\n      <td>0.000015</td>\n      <td>0.000010</td>\n      <td>NaN</td>\n      <td>0.000005</td>\n      <td>NaN</td>\n      <td>NaN</td>\n      <td>0.019865</td>\n      <td>0.004728</td>\n    </tr>\n    <tr>\n      <th>1</th>\n      <td>Algeria</td>\n      <td>DZA</td>\n      <td>0.059815</td>\n      <td>0.391530</td>\n      <td>-0.598255</td>\n      <td>0.254901</td>\n      <td>-0.009968</td>\n      <td>-0.177371</td>\n      <td>4.01</td>\n      <td>3.50</td>\n      <td>3.56</td>\n      <td>3.56</td>\n      <td>3.95</td>\n      <td>3.83</td>\n      <td>3.83</td>\n      <td>3.83</td>\n      <td>3.44</td>\n      <td>3.44</td>\n      <td>3.32</td>\n      <td>3.17</td>\n      <td>3178000.0</td>\n      <td>0.0</td>\n      <td>NaN</td>\n      <td>NaN</td>\n      <td>14769749.0</td>\n      <td>0.0</td>\n      <td>NaN</td>\n      <td>NaN</td>\n      <td>10000.0</td>\n      <td>0.0</td>\n      <td>10000.0</td>\n      <td>0.0</td>\n      <td>76432.0</td>\n      <td>0.0</td>\n      <td>10110696.0</td>\n      <td>0.0</td>\n      <td>16010000.0</td>\n      <td>7000000.0</td>\n      <td>NaN</td>\n      <td>NaN</td>\n      <td>2000000.0</td>\n      <td>0.0</td>\n      <td>10000.0</td>\n      <td>0.0</td>\n      <td>0.0</td>\n      <td>0.0</td>\n      <td>660000.0</td>\n      <td>0.0</td>\n      <td>10000.0</td>\n      <td>0.0</td>\n      <td>10000.0</td>\n      <td>0.0</td>\n      <td>NaN</td>\n      <td>NaN</td>\n      <td>0.0</td>\n      <td>0.0</td>\n      <td>6.786485e+10</td>\n      <td>8.532477e+10</td>\n      <td>1.031984e+11</td>\n      <td>1.170254e+11</td>\n      <td>1.349773e+11</td>\n      <td>1.710006e+11</td>\n      <td>1.372107e+11</td>\n      <td>1.612078e+11</td>\n      <td>2.000195e+11</td>\n      <td>2.090603e+11</td>\n      <td>2.097548e+11</td>\n      <td>2.138088e+11</td>\n      <td>1.659794e+11</td>\n      <td>1.600338e+11</td>\n      <td>1.673894e+11</td>\n      <td>1.737580e+11</td>\n      <td>1.699882e+11</td>\n      <td>0.004683</td>\n      <td>NaN</td>\n      <td>0.014312</td>\n      <td>NaN</td>\n      <td>0.000007</td>\n      <td>0.000006</td>\n      <td>0.000056</td>\n      <td>0.006272</td>\n      <td>0.008004</td>\n      <td>NaN</td>\n      <td>0.000953</td>\n      <td>0.000005</td>\n      <td>0.000000</td>\n      <td>0.000412</td>\n      <td>0.000006</td>\n      <td>0.000006</td>\n      <td>NaN</td>\n    </tr>\n    <tr>\n      <th>2</th>\n      <td>Argentina</td>\n      <td>ARG</td>\n      <td>-0.229308</td>\n      <td>0.041503</td>\n      <td>0.159679</td>\n      <td>-0.140457</td>\n      <td>0.027347</td>\n      <td>-0.206733</td>\n      <td>7.02</td>\n      <td>7.02</td>\n      <td>6.96</td>\n      <td>6.96</td>\n      <td>7.02</td>\n      <td>6.84</td>\n      <td>6.84</td>\n      <td>6.84</td>\n      <td>6.84</td>\n      <td>6.84</td>\n      <td>6.63</td>\n      <td>6.63</td>\n      <td>NaN</td>\n      <td>NaN</td>\n      <td>0.0</td>\n      <td>0.0</td>\n      <td>0.0</td>\n      <td>0.0</td>\n      <td>0.0</td>\n      <td>0.0</td>\n      <td>0.0</td>\n      <td>0.0</td>\n      <td>139000.0</td>\n      <td>0.0</td>\n      <td>31100.0</td>\n      <td>0.0</td>\n      <td>50000.0</td>\n      <td>0.0</td>\n      <td>107332.0</td>\n      <td>0.0</td>\n      <td>130826.0</td>\n      <td>0.0</td>\n      <td>165718.0</td>\n      <td>0.0</td>\n      <td>230500.0</td>\n      <td>0.0</td>\n      <td>NaN</td>\n      <td>NaN</td>\n      <td>176272.0</td>\n      <td>0.0</td>\n      <td>1344591.0</td>\n      <td>0.0</td>\n      <td>265000.0</td>\n      <td>0.0</td>\n      <td>155000.0</td>\n      <td>0.0</td>\n      <td>NaN</td>\n      <td>NaN</td>\n      <td>1.275870e+11</td>\n      <td>1.646579e+11</td>\n      <td>1.987371e+11</td>\n      <td>2.325573e+11</td>\n      <td>2.875305e+11</td>\n      <td>3.615580e+11</td>\n      <td>3.329765e+11</td>\n      <td>4.236274e+11</td>\n      <td>5.301633e+11</td>\n      <td>5.459824e+11</td>\n      <td>5.520251e+11</td>\n      <td>5.263197e+11</td>\n      <td>5.947493e+11</td>\n      <td>5.575314e+11</td>\n      <td>6.426959e+11</td>\n      <td>5.198715e+11</td>\n      <td>4.496634e+11</td>\n      <td>NaN</td>\n      <td>0.000000</td>\n      <td>0.000000</td>\n      <td>0.000000</td>\n      <td>0.000000</td>\n      <td>0.000038</td>\n      <td>0.000009</td>\n      <td>0.000012</td>\n      <td>0.000020</td>\n      <td>0.000024</td>\n      <td>0.000030</td>\n      <td>0.000044</td>\n      <td>NaN</td>\n      <td>0.000032</td>\n      <td>0.000209</td>\n      <td>0.000051</td>\n      <td>0.000034</td>\n    </tr>\n    <tr>\n      <th>3</th>\n      <td>Australia</td>\n      <td>AUS</td>\n      <td>0.657004</td>\n      <td>0.137137</td>\n      <td>0.069660</td>\n      <td>0.022190</td>\n      <td>0.155331</td>\n      <td>0.298973</td>\n      <td>9.09</td>\n      <td>9.09</td>\n      <td>9.09</td>\n      <td>9.01</td>\n      <td>9.01</td>\n      <td>9.01</td>\n      <td>9.13</td>\n      <td>9.22</td>\n      <td>9.22</td>\n      <td>9.22</td>\n      <td>9.09</td>\n      <td>9.09</td>\n      <td>87736725.0</td>\n      <td>0.0</td>\n      <td>69076907.0</td>\n      <td>0.0</td>\n      <td>85073844.0</td>\n      <td>29859474.0</td>\n      <td>89757369.0</td>\n      <td>2262517.0</td>\n      <td>109371739.0</td>\n      <td>3817867.0</td>\n      <td>143674846.0</td>\n      <td>39494954.0</td>\n      <td>196311166.0</td>\n      <td>8733624.0</td>\n      <td>293856560.0</td>\n      <td>1923773.0</td>\n      <td>312711049.0</td>\n      <td>0.0</td>\n      <td>271004092.0</td>\n      <td>2809573.0</td>\n      <td>263194483.0</td>\n      <td>0.0</td>\n      <td>269253261.0</td>\n      <td>0.0</td>\n      <td>166236181.0</td>\n      <td>762236.0</td>\n      <td>205207886.0</td>\n      <td>2724017.0</td>\n      <td>243900706.0</td>\n      <td>2712522.0</td>\n      <td>248119692.0</td>\n      <td>0.0</td>\n      <td>310639840.0</td>\n      <td>0.0</td>\n      <td>271692972.0</td>\n      <td>0.0</td>\n      <td>4.664881e+11</td>\n      <td>6.124904e+11</td>\n      <td>6.934078e+11</td>\n      <td>7.460542e+11</td>\n      <td>8.530996e+11</td>\n      <td>1.053996e+12</td>\n      <td>9.278052e+11</td>\n      <td>1.146138e+12</td>\n      <td>1.396650e+12</td>\n      <td>1.546152e+12</td>\n      <td>1.576184e+12</td>\n      <td>1.467484e+12</td>\n      <td>1.351694e+12</td>\n      <td>1.208847e+12</td>\n      <td>1.330136e+12</td>\n      <td>1.433904e+12</td>\n      <td>1.392681e+12</td>\n      <td>0.018808</td>\n      <td>0.011278</td>\n      <td>0.012269</td>\n      <td>0.012031</td>\n      <td>0.012821</td>\n      <td>0.013631</td>\n      <td>0.021159</td>\n      <td>0.025639</td>\n      <td>0.022390</td>\n      <td>0.017528</td>\n      <td>0.016698</td>\n      <td>0.018348</td>\n      <td>0.012298</td>\n      <td>0.016976</td>\n      <td>0.018337</td>\n      <td>0.017304</td>\n      <td>0.022305</td>\n    </tr>\n    <tr>\n      <th>4</th>\n      <td>Austria</td>\n      <td>AUT</td>\n      <td>0.608285</td>\n      <td>-0.061829</td>\n      <td>0.161047</td>\n      <td>-0.055415</td>\n      <td>-0.035363</td>\n      <td>0.154628</td>\n      <td>8.29</td>\n      <td>8.29</td>\n      <td>8.42</td>\n      <td>8.41</td>\n      <td>8.54</td>\n      <td>8.54</td>\n      <td>8.48</td>\n      <td>8.62</td>\n      <td>8.49</td>\n      <td>8.49</td>\n      <td>8.49</td>\n      <td>8.69</td>\n      <td>3245126.0</td>\n      <td>0.0</td>\n      <td>6186042.0</td>\n      <td>0.0</td>\n      <td>18423937.0</td>\n      <td>0.0</td>\n      <td>5624017.0</td>\n      <td>765306.0</td>\n      <td>7885069.0</td>\n      <td>0.0</td>\n      <td>15280397.0</td>\n      <td>1017509.0</td>\n      <td>16939495.0</td>\n      <td>348675.0</td>\n      <td>25973202.0</td>\n      <td>0.0</td>\n      <td>18074363.0</td>\n      <td>500409.0</td>\n      <td>16333100.0</td>\n      <td>0.0</td>\n      <td>17699567.0</td>\n      <td>0.0</td>\n      <td>18504048.0</td>\n      <td>0.0</td>\n      <td>18786627.0</td>\n      <td>0.0</td>\n      <td>35663228.0</td>\n      <td>0.0</td>\n      <td>49109105.0</td>\n      <td>0.0</td>\n      <td>26096928.0</td>\n      <td>6670328.0</td>\n      <td>32476153.0</td>\n      <td>1540154.0</td>\n      <td>19142494.0</td>\n      <td>0.0</td>\n      <td>2.616958e+11</td>\n      <td>3.009042e+11</td>\n      <td>3.159744e+11</td>\n      <td>3.359986e+11</td>\n      <td>3.886914e+11</td>\n      <td>4.302943e+11</td>\n      <td>4.001723e+11</td>\n      <td>3.918927e+11</td>\n      <td>4.311203e+11</td>\n      <td>4.094252e+11</td>\n      <td>4.300687e+11</td>\n      <td>4.419961e+11</td>\n      <td>3.818176e+11</td>\n      <td>3.952277e+11</td>\n      <td>4.183162e+11</td>\n      <td>4.555083e+11</td>\n      <td>4.463147e+11</td>\n      <td>0.001240</td>\n      <td>0.002056</td>\n      <td>0.005831</td>\n      <td>0.001674</td>\n      <td>0.002029</td>\n      <td>0.003551</td>\n      <td>0.004233</td>\n      <td>0.006628</td>\n      <td>0.004192</td>\n      <td>0.003989</td>\n      <td>0.004116</td>\n      <td>0.004186</td>\n      <td>0.004920</td>\n      <td>0.009023</td>\n      <td>0.011740</td>\n      <td>0.005729</td>\n      <td>0.007277</td>\n    </tr>\n  </tbody>\n</table>\n</div>"
     },
     "metadata": {},
     "execution_count": 24
    }
   ],
   "source": [
    "df_funding = convert_percent('funding','gdp', gps_demo_donate_gdp)\n",
    "df_funding.head()"
   ]
  },
  {
   "source": [
    "### adding General government total expenditure as % of GDP & GDP per capita in current US dollar from IMF "
   ],
   "cell_type": "markdown",
   "metadata": {}
  },
  {
   "cell_type": "code",
   "execution_count": 98,
   "metadata": {},
   "outputs": [
    {
     "output_type": "execute_result",
     "data": {
      "text/plain": [
       "        govexpense2003 govexpense2004 govexpense2005 govexpense2006  \\\n",
       "isocode                                                               \n",
       "AFG              11927          15069          15698          18303   \n",
       "ALB              29680          30155          28892          29191   \n",
       "DZA              32202          30765          27108          28853   \n",
       "AGO              34400          29803          26527          30604   \n",
       "ATG              26870          24476          24105          29327   \n",
       "\n",
       "        govexpense2007 govexpense2008 govexpense2009 govexpense2010  \\\n",
       "isocode                                                               \n",
       "AFG              21478          20918          21170          20801   \n",
       "ALB              29309          31726          32679          29387   \n",
       "DZA              33236          37950          42600          37251   \n",
       "AGO              38129          52666          45007          39394   \n",
       "ATG              27015          26418          36330          22563   \n",
       "\n",
       "        govexpense2011 govexpense2012 govexpense2013 govexpense2014  \\\n",
       "isocode                                                               \n",
       "AFG              21937          25028          24977          25402   \n",
       "ALB              28923          28229          29193          31729   \n",
       "DZA              40123          43543          36186          40606   \n",
       "AGO              37402          37209          37050          36457   \n",
       "ATG              23861          21077          23223          23010   \n",
       "\n",
       "        govexpense2015 govexpense2016 govexpense2017 govexpense2018  \\\n",
       "isocode                                                               \n",
       "AFG              25947          28029          27732          28936   \n",
       "ALB              30377          29139          29148          28820   \n",
       "DZA              45811          41665          39205          38166   \n",
       "AGO              27051          22043          23806          19695   \n",
       "ATG              26704          24658          23577          22985   \n",
       "\n",
       "        govexpense2019  \n",
       "isocode                 \n",
       "AFG              27999  \n",
       "ALB              29383  \n",
       "DZA              38241  \n",
       "AGO              19223  \n",
       "ATG              22967  "
      ],
      "text/html": "<div>\n<style scoped>\n    .dataframe tbody tr th:only-of-type {\n        vertical-align: middle;\n    }\n\n    .dataframe tbody tr th {\n        vertical-align: top;\n    }\n\n    .dataframe thead th {\n        text-align: right;\n    }\n</style>\n<table border=\"1\" class=\"dataframe\">\n  <thead>\n    <tr style=\"text-align: right;\">\n      <th></th>\n      <th>govexpense2003</th>\n      <th>govexpense2004</th>\n      <th>govexpense2005</th>\n      <th>govexpense2006</th>\n      <th>govexpense2007</th>\n      <th>govexpense2008</th>\n      <th>govexpense2009</th>\n      <th>govexpense2010</th>\n      <th>govexpense2011</th>\n      <th>govexpense2012</th>\n      <th>govexpense2013</th>\n      <th>govexpense2014</th>\n      <th>govexpense2015</th>\n      <th>govexpense2016</th>\n      <th>govexpense2017</th>\n      <th>govexpense2018</th>\n      <th>govexpense2019</th>\n    </tr>\n    <tr>\n      <th>isocode</th>\n      <th></th>\n      <th></th>\n      <th></th>\n      <th></th>\n      <th></th>\n      <th></th>\n      <th></th>\n      <th></th>\n      <th></th>\n      <th></th>\n      <th></th>\n      <th></th>\n      <th></th>\n      <th></th>\n      <th></th>\n      <th></th>\n      <th></th>\n    </tr>\n  </thead>\n  <tbody>\n    <tr>\n      <th>AFG</th>\n      <td>11927</td>\n      <td>15069</td>\n      <td>15698</td>\n      <td>18303</td>\n      <td>21478</td>\n      <td>20918</td>\n      <td>21170</td>\n      <td>20801</td>\n      <td>21937</td>\n      <td>25028</td>\n      <td>24977</td>\n      <td>25402</td>\n      <td>25947</td>\n      <td>28029</td>\n      <td>27732</td>\n      <td>28936</td>\n      <td>27999</td>\n    </tr>\n    <tr>\n      <th>ALB</th>\n      <td>29680</td>\n      <td>30155</td>\n      <td>28892</td>\n      <td>29191</td>\n      <td>29309</td>\n      <td>31726</td>\n      <td>32679</td>\n      <td>29387</td>\n      <td>28923</td>\n      <td>28229</td>\n      <td>29193</td>\n      <td>31729</td>\n      <td>30377</td>\n      <td>29139</td>\n      <td>29148</td>\n      <td>28820</td>\n      <td>29383</td>\n    </tr>\n    <tr>\n      <th>DZA</th>\n      <td>32202</td>\n      <td>30765</td>\n      <td>27108</td>\n      <td>28853</td>\n      <td>33236</td>\n      <td>37950</td>\n      <td>42600</td>\n      <td>37251</td>\n      <td>40123</td>\n      <td>43543</td>\n      <td>36186</td>\n      <td>40606</td>\n      <td>45811</td>\n      <td>41665</td>\n      <td>39205</td>\n      <td>38166</td>\n      <td>38241</td>\n    </tr>\n    <tr>\n      <th>AGO</th>\n      <td>34400</td>\n      <td>29803</td>\n      <td>26527</td>\n      <td>30604</td>\n      <td>38129</td>\n      <td>52666</td>\n      <td>45007</td>\n      <td>39394</td>\n      <td>37402</td>\n      <td>37209</td>\n      <td>37050</td>\n      <td>36457</td>\n      <td>27051</td>\n      <td>22043</td>\n      <td>23806</td>\n      <td>19695</td>\n      <td>19223</td>\n    </tr>\n    <tr>\n      <th>ATG</th>\n      <td>26870</td>\n      <td>24476</td>\n      <td>24105</td>\n      <td>29327</td>\n      <td>27015</td>\n      <td>26418</td>\n      <td>36330</td>\n      <td>22563</td>\n      <td>23861</td>\n      <td>21077</td>\n      <td>23223</td>\n      <td>23010</td>\n      <td>26704</td>\n      <td>24658</td>\n      <td>23577</td>\n      <td>22985</td>\n      <td>22967</td>\n    </tr>\n  </tbody>\n</table>\n</div>"
     },
     "metadata": {},
     "execution_count": 98
    }
   ],
   "source": [
    "imf = pd.read_excel('data/IMF_Macro_Data_2020.xlsx').rename(columns={\"ISO\": \"isocode\"}).set_index('isocode')\n",
    "imf_rename = imf.replace({'Gross domestic product per capita, current prices': 'gdpcapita', 'General government total expenditure': 'govexpense'})\n",
    "imf_capita = imf_rename.query('`Subject Descriptor` == \"gdpcapita\"')\n",
    "capita_filter = imf_capita.filter(regex='^20(10|11|12|.*[3456789]$)', axis=1).add_prefix('gdpcapita')\n",
    "\n",
    "imf_expense = imf_rename.query('`Subject Descriptor` == \"govexpense\"')\n",
    "expense_filter = imf_expense.filter(regex='^20(10|11|12|.*[3456789]$)', axis=1).add_prefix('govexpense')\n",
    "\n",
    "expense_filter.head()\n"
   ]
  },
  {
   "cell_type": "code",
   "execution_count": 68,
   "metadata": {},
   "outputs": [],
   "source": [
    "df_add_capita = pd.merge(df_funding, capita_filter, how='left', on=\"isocode\")\n",
    "# df_add_capita.shape\n",
    "# df_add_capita[df_add_capita.filter(regex='gdpcapita.*', axis=1).isna().all(axis=1)]\n",
    "\n",
    "df_add_expense = pd.merge(df_add_capita, expense_filter, how='left', on=\"isocode\")\n",
    "# df_add_expense.shape\n",
    "# df_add_expense[df_add_expense.filter(regex='govexpense.*', axis=1).isna().all(axis=1)]\n",
    "\n"
   ]
  },
  {
   "source": [
    "### adding region and income group data from WDI"
   ],
   "cell_type": "markdown",
   "metadata": {}
  },
  {
   "cell_type": "code",
   "execution_count": 73,
   "metadata": {},
   "outputs": [
    {
     "output_type": "execute_result",
     "data": {
      "text/plain": [
       "                            region          income_type\n",
       "isocode                                                \n",
       "ABW      Latin America & Caribbean          High income\n",
       "AFG                     South Asia           Low income\n",
       "AGO             Sub-Saharan Africa  Lower middle income\n",
       "ALB          Europe & Central Asia  Upper middle income\n",
       "AND          Europe & Central Asia          High income"
      ],
      "text/html": "<div>\n<style scoped>\n    .dataframe tbody tr th:only-of-type {\n        vertical-align: middle;\n    }\n\n    .dataframe tbody tr th {\n        vertical-align: top;\n    }\n\n    .dataframe thead th {\n        text-align: right;\n    }\n</style>\n<table border=\"1\" class=\"dataframe\">\n  <thead>\n    <tr style=\"text-align: right;\">\n      <th></th>\n      <th>region</th>\n      <th>income_type</th>\n    </tr>\n    <tr>\n      <th>isocode</th>\n      <th></th>\n      <th></th>\n    </tr>\n  </thead>\n  <tbody>\n    <tr>\n      <th>ABW</th>\n      <td>Latin America &amp; Caribbean</td>\n      <td>High income</td>\n    </tr>\n    <tr>\n      <th>AFG</th>\n      <td>South Asia</td>\n      <td>Low income</td>\n    </tr>\n    <tr>\n      <th>AGO</th>\n      <td>Sub-Saharan Africa</td>\n      <td>Lower middle income</td>\n    </tr>\n    <tr>\n      <th>ALB</th>\n      <td>Europe &amp; Central Asia</td>\n      <td>Upper middle income</td>\n    </tr>\n    <tr>\n      <th>AND</th>\n      <td>Europe &amp; Central Asia</td>\n      <td>High income</td>\n    </tr>\n  </tbody>\n</table>\n</div>"
     },
     "metadata": {},
     "execution_count": 73
    }
   ],
   "source": [
    "region = pd.read_csv('data/WDICountry.csv').rename(columns={\"Country Code\": \"isocode\"}).set_index('isocode')\n",
    "region_rename = region.rename({'Region': 'region', 'Income Group': 'income_type'}, axis=1)\n",
    "region_filter = region_rename.filter(items=['region', 'income_type'], axis=1)\n",
    "region_filter.head()\n"
   ]
  },
  {
   "cell_type": "code",
   "execution_count": 82,
   "metadata": {},
   "outputs": [],
   "source": [
    "df_add_region = pd.merge(df_add_expense, region_filter, how='left', on=\"isocode\")\n",
    "# df_add_region.shape\n",
    "# df_add_region[df_add_region.filter(items=['region', 'income_type'], axis=1).isna().any(axis=1)]"
   ]
  },
  {
   "source": [
    "### adding population data by year from world bank"
   ],
   "cell_type": "markdown",
   "metadata": {}
  },
  {
   "cell_type": "code",
   "execution_count": 79,
   "metadata": {},
   "outputs": [
    {
     "output_type": "execute_result",
     "data": {
      "text/plain": [
       "            pop2003     pop2004     pop2005     pop2006     pop2007  \\\n",
       "isocode                                                               \n",
       "ABW         97017.0     98737.0    100031.0    100834.0    101222.0   \n",
       "AFG      23680871.0  24726684.0  25654277.0  26433049.0  27100536.0   \n",
       "AGO      18121479.0  18758145.0  19433602.0  20149901.0  20905363.0   \n",
       "ALB       3039616.0   3026939.0   3011487.0   2992547.0   2970017.0   \n",
       "AND         73182.0     76244.0     78867.0     80993.0     82684.0   \n",
       "\n",
       "            pop2008     pop2009     pop2010     pop2011     pop2012  \\\n",
       "isocode                                                               \n",
       "ABW        101358.0    101455.0    101669.0    102046.0    102560.0   \n",
       "AFG      27722276.0  28394813.0  29185507.0  30117413.0  31161376.0   \n",
       "AGO      21695634.0  22514281.0  23356246.0  24220661.0  25107931.0   \n",
       "ALB       2947314.0   2927519.0   2913021.0   2905195.0   2900401.0   \n",
       "AND         83862.0     84463.0     84449.0     83747.0     82427.0   \n",
       "\n",
       "            pop2013     pop2014     pop2015     pop2016     pop2017  \\\n",
       "isocode                                                               \n",
       "ABW        103159.0    103774.0    104341.0    104872.0    105366.0   \n",
       "AFG      32269589.0  33370794.0  34413603.0  35383128.0  36296400.0   \n",
       "AGO      26015780.0  26941779.0  27884381.0  28842484.0  29816748.0   \n",
       "ALB       2895092.0   2889104.0   2880703.0   2876101.0   2873457.0   \n",
       "AND         80774.0     79213.0     78011.0     77297.0     77001.0   \n",
       "\n",
       "            pop2018     pop2019  \n",
       "isocode                          \n",
       "ABW        105845.0    106314.0  \n",
       "AFG      37172386.0  38041754.0  \n",
       "AGO      30809762.0  31825295.0  \n",
       "ALB       2866376.0   2854191.0  \n",
       "AND         77006.0     77142.0  "
      ],
      "text/html": "<div>\n<style scoped>\n    .dataframe tbody tr th:only-of-type {\n        vertical-align: middle;\n    }\n\n    .dataframe tbody tr th {\n        vertical-align: top;\n    }\n\n    .dataframe thead th {\n        text-align: right;\n    }\n</style>\n<table border=\"1\" class=\"dataframe\">\n  <thead>\n    <tr style=\"text-align: right;\">\n      <th></th>\n      <th>pop2003</th>\n      <th>pop2004</th>\n      <th>pop2005</th>\n      <th>pop2006</th>\n      <th>pop2007</th>\n      <th>pop2008</th>\n      <th>pop2009</th>\n      <th>pop2010</th>\n      <th>pop2011</th>\n      <th>pop2012</th>\n      <th>pop2013</th>\n      <th>pop2014</th>\n      <th>pop2015</th>\n      <th>pop2016</th>\n      <th>pop2017</th>\n      <th>pop2018</th>\n      <th>pop2019</th>\n    </tr>\n    <tr>\n      <th>isocode</th>\n      <th></th>\n      <th></th>\n      <th></th>\n      <th></th>\n      <th></th>\n      <th></th>\n      <th></th>\n      <th></th>\n      <th></th>\n      <th></th>\n      <th></th>\n      <th></th>\n      <th></th>\n      <th></th>\n      <th></th>\n      <th></th>\n      <th></th>\n    </tr>\n  </thead>\n  <tbody>\n    <tr>\n      <th>ABW</th>\n      <td>97017.0</td>\n      <td>98737.0</td>\n      <td>100031.0</td>\n      <td>100834.0</td>\n      <td>101222.0</td>\n      <td>101358.0</td>\n      <td>101455.0</td>\n      <td>101669.0</td>\n      <td>102046.0</td>\n      <td>102560.0</td>\n      <td>103159.0</td>\n      <td>103774.0</td>\n      <td>104341.0</td>\n      <td>104872.0</td>\n      <td>105366.0</td>\n      <td>105845.0</td>\n      <td>106314.0</td>\n    </tr>\n    <tr>\n      <th>AFG</th>\n      <td>23680871.0</td>\n      <td>24726684.0</td>\n      <td>25654277.0</td>\n      <td>26433049.0</td>\n      <td>27100536.0</td>\n      <td>27722276.0</td>\n      <td>28394813.0</td>\n      <td>29185507.0</td>\n      <td>30117413.0</td>\n      <td>31161376.0</td>\n      <td>32269589.0</td>\n      <td>33370794.0</td>\n      <td>34413603.0</td>\n      <td>35383128.0</td>\n      <td>36296400.0</td>\n      <td>37172386.0</td>\n      <td>38041754.0</td>\n    </tr>\n    <tr>\n      <th>AGO</th>\n      <td>18121479.0</td>\n      <td>18758145.0</td>\n      <td>19433602.0</td>\n      <td>20149901.0</td>\n      <td>20905363.0</td>\n      <td>21695634.0</td>\n      <td>22514281.0</td>\n      <td>23356246.0</td>\n      <td>24220661.0</td>\n      <td>25107931.0</td>\n      <td>26015780.0</td>\n      <td>26941779.0</td>\n      <td>27884381.0</td>\n      <td>28842484.0</td>\n      <td>29816748.0</td>\n      <td>30809762.0</td>\n      <td>31825295.0</td>\n    </tr>\n    <tr>\n      <th>ALB</th>\n      <td>3039616.0</td>\n      <td>3026939.0</td>\n      <td>3011487.0</td>\n      <td>2992547.0</td>\n      <td>2970017.0</td>\n      <td>2947314.0</td>\n      <td>2927519.0</td>\n      <td>2913021.0</td>\n      <td>2905195.0</td>\n      <td>2900401.0</td>\n      <td>2895092.0</td>\n      <td>2889104.0</td>\n      <td>2880703.0</td>\n      <td>2876101.0</td>\n      <td>2873457.0</td>\n      <td>2866376.0</td>\n      <td>2854191.0</td>\n    </tr>\n    <tr>\n      <th>AND</th>\n      <td>73182.0</td>\n      <td>76244.0</td>\n      <td>78867.0</td>\n      <td>80993.0</td>\n      <td>82684.0</td>\n      <td>83862.0</td>\n      <td>84463.0</td>\n      <td>84449.0</td>\n      <td>83747.0</td>\n      <td>82427.0</td>\n      <td>80774.0</td>\n      <td>79213.0</td>\n      <td>78011.0</td>\n      <td>77297.0</td>\n      <td>77001.0</td>\n      <td>77006.0</td>\n      <td>77142.0</td>\n    </tr>\n  </tbody>\n</table>\n</div>"
     },
     "metadata": {},
     "execution_count": 79
    }
   ],
   "source": [
    "pop = pd.read_excel('data/Worldbank_Population_Data.xls', sheet_name='Data', skiprows=3).rename(columns={\"Country Code\": \"isocode\"}).set_index('isocode')\n",
    "pop_filter = pop.filter(regex='^20(10|11|12|.*[3456789]$)', axis=1).add_prefix('pop')\n",
    "pop_filter.head()"
   ]
  },
  {
   "cell_type": "code",
   "execution_count": 84,
   "metadata": {},
   "outputs": [],
   "source": [
    "df_add_pop = pd.merge(df_add_region, pop_filter, how='left', on=\"isocode\")\n",
    "# df_add_pop.shape\n",
    "# df_add_pop[df_add_pop.filter(regex='pop.*', axis=1).isna().all(axis=1)]"
   ]
  },
  {
   "source": [
    "### adding Net Official development assistance (ODA) data in current US dollar from WDI\n",
    "### notice 54/76 countries have no ODA record from 2003 ~ 2019"
   ],
   "cell_type": "markdown",
   "metadata": {}
  },
  {
   "cell_type": "code",
   "execution_count": 85,
   "metadata": {},
   "outputs": [
    {
     "output_type": "execute_result",
     "data": {
      "text/plain": [
       "         oda2003  oda2004  oda2005  oda2006  oda2007  oda2008  oda2009  \\\n",
       "isocode                                                                  \n",
       "ABW          NaN      NaN      NaN      NaN      NaN      NaN      NaN   \n",
       "AFG          NaN      NaN      NaN      NaN      NaN      NaN      NaN   \n",
       "AGO          NaN      NaN      NaN      NaN      NaN      NaN      NaN   \n",
       "ALB          NaN      NaN      NaN      NaN      NaN      NaN      NaN   \n",
       "AND          NaN      NaN      NaN      NaN      NaN      NaN      NaN   \n",
       "\n",
       "         oda2010  oda2011  oda2012  oda2013  oda2014  oda2015  oda2016  \\\n",
       "isocode                                                                  \n",
       "ABW          NaN      NaN      NaN      NaN      NaN      NaN      NaN   \n",
       "AFG          NaN      NaN      NaN      NaN      NaN      NaN      NaN   \n",
       "AGO          NaN      NaN      NaN      NaN      NaN      NaN      NaN   \n",
       "ALB          NaN      NaN      NaN      NaN      NaN      NaN      NaN   \n",
       "AND          NaN      NaN      NaN      NaN      NaN      NaN      NaN   \n",
       "\n",
       "         oda2017  oda2018  oda2019  \n",
       "isocode                             \n",
       "ABW          NaN      NaN      NaN  \n",
       "AFG          NaN      NaN      NaN  \n",
       "AGO          NaN      NaN      NaN  \n",
       "ALB          NaN      NaN      NaN  \n",
       "AND          NaN      NaN      NaN  "
      ],
      "text/html": "<div>\n<style scoped>\n    .dataframe tbody tr th:only-of-type {\n        vertical-align: middle;\n    }\n\n    .dataframe tbody tr th {\n        vertical-align: top;\n    }\n\n    .dataframe thead th {\n        text-align: right;\n    }\n</style>\n<table border=\"1\" class=\"dataframe\">\n  <thead>\n    <tr style=\"text-align: right;\">\n      <th></th>\n      <th>oda2003</th>\n      <th>oda2004</th>\n      <th>oda2005</th>\n      <th>oda2006</th>\n      <th>oda2007</th>\n      <th>oda2008</th>\n      <th>oda2009</th>\n      <th>oda2010</th>\n      <th>oda2011</th>\n      <th>oda2012</th>\n      <th>oda2013</th>\n      <th>oda2014</th>\n      <th>oda2015</th>\n      <th>oda2016</th>\n      <th>oda2017</th>\n      <th>oda2018</th>\n      <th>oda2019</th>\n    </tr>\n    <tr>\n      <th>isocode</th>\n      <th></th>\n      <th></th>\n      <th></th>\n      <th></th>\n      <th></th>\n      <th></th>\n      <th></th>\n      <th></th>\n      <th></th>\n      <th></th>\n      <th></th>\n      <th></th>\n      <th></th>\n      <th></th>\n      <th></th>\n      <th></th>\n      <th></th>\n    </tr>\n  </thead>\n  <tbody>\n    <tr>\n      <th>ABW</th>\n      <td>NaN</td>\n      <td>NaN</td>\n      <td>NaN</td>\n      <td>NaN</td>\n      <td>NaN</td>\n      <td>NaN</td>\n      <td>NaN</td>\n      <td>NaN</td>\n      <td>NaN</td>\n      <td>NaN</td>\n      <td>NaN</td>\n      <td>NaN</td>\n      <td>NaN</td>\n      <td>NaN</td>\n      <td>NaN</td>\n      <td>NaN</td>\n      <td>NaN</td>\n    </tr>\n    <tr>\n      <th>AFG</th>\n      <td>NaN</td>\n      <td>NaN</td>\n      <td>NaN</td>\n      <td>NaN</td>\n      <td>NaN</td>\n      <td>NaN</td>\n      <td>NaN</td>\n      <td>NaN</td>\n      <td>NaN</td>\n      <td>NaN</td>\n      <td>NaN</td>\n      <td>NaN</td>\n      <td>NaN</td>\n      <td>NaN</td>\n      <td>NaN</td>\n      <td>NaN</td>\n      <td>NaN</td>\n    </tr>\n    <tr>\n      <th>AGO</th>\n      <td>NaN</td>\n      <td>NaN</td>\n      <td>NaN</td>\n      <td>NaN</td>\n      <td>NaN</td>\n      <td>NaN</td>\n      <td>NaN</td>\n      <td>NaN</td>\n      <td>NaN</td>\n      <td>NaN</td>\n      <td>NaN</td>\n      <td>NaN</td>\n      <td>NaN</td>\n      <td>NaN</td>\n      <td>NaN</td>\n      <td>NaN</td>\n      <td>NaN</td>\n    </tr>\n    <tr>\n      <th>ALB</th>\n      <td>NaN</td>\n      <td>NaN</td>\n      <td>NaN</td>\n      <td>NaN</td>\n      <td>NaN</td>\n      <td>NaN</td>\n      <td>NaN</td>\n      <td>NaN</td>\n      <td>NaN</td>\n      <td>NaN</td>\n      <td>NaN</td>\n      <td>NaN</td>\n      <td>NaN</td>\n      <td>NaN</td>\n      <td>NaN</td>\n      <td>NaN</td>\n      <td>NaN</td>\n    </tr>\n    <tr>\n      <th>AND</th>\n      <td>NaN</td>\n      <td>NaN</td>\n      <td>NaN</td>\n      <td>NaN</td>\n      <td>NaN</td>\n      <td>NaN</td>\n      <td>NaN</td>\n      <td>NaN</td>\n      <td>NaN</td>\n      <td>NaN</td>\n      <td>NaN</td>\n      <td>NaN</td>\n      <td>NaN</td>\n      <td>NaN</td>\n      <td>NaN</td>\n      <td>NaN</td>\n      <td>NaN</td>\n    </tr>\n  </tbody>\n</table>\n</div>"
     },
     "metadata": {},
     "execution_count": 85
    }
   ],
   "source": [
    "oda = pd.read_excel('data/oda.xls', sheet_name='Data', skiprows=3).rename(columns={\"Country Code\": \"isocode\"}).set_index('isocode')\n",
    "oda_filter = oda.filter(regex='^20(10|11|12|.*[3456789]$)', axis=1).add_prefix('oda')\n",
    "oda_filter.head()"
   ]
  },
  {
   "cell_type": "code",
   "execution_count": 88,
   "metadata": {},
   "outputs": [
    {
     "output_type": "execute_result",
     "data": {
      "text/plain": [
       "(54, 160)"
      ]
     },
     "metadata": {},
     "execution_count": 88
    }
   ],
   "source": [
    "df_add_oda = pd.merge(df_add_pop, oda_filter, how='left', on=\"isocode\")\n",
    "# df_add_oda.shape\n",
    "df_add_oda[df_add_oda.filter(regex='oda.*', axis=1).isna().all(axis=1)].shape"
   ]
  },
  {
   "cell_type": "code",
   "execution_count": 93,
   "metadata": {},
   "outputs": [],
   "source": [
    "#oda as % of GNI \n",
    "# odagni = pd.read_excel('data/oda gni.xls', sheet_name='Data', skiprows=3).rename(columns={\"Country Code\": \"isocode\"}).set_index('isocode')\n",
    "# odagni_filter = odagni.filter(regex='^20(10|11|12|.*[3456789]$)', axis=1).add_prefix('odagni')\n",
    "# odagni_filter.head()\n",
    "# df_add_odagni = pd.merge(df_add_oda, odagni_filter, how='left', on=\"isocode\")\n",
    "# df_add_odagni.shape\n",
    "# df_add_odagni[df_add_odagni.filter(regex='odagni.*', axis=1).isna().all(axis=1)].shape"
   ]
  },
  {
   "source": [
    "### adding net official aid recieve in current US dollar \n",
    "### notice 63/76 countries does not have any record"
   ],
   "cell_type": "markdown",
   "metadata": {}
  },
  {
   "cell_type": "code",
   "execution_count": 99,
   "metadata": {},
   "outputs": [
    {
     "output_type": "execute_result",
     "data": {
      "text/plain": [
       "              aid2003       aid2004  aid2005  aid2006  aid2007  aid2008  \\\n",
       "isocode                                                                   \n",
       "ABW      7.622000e+07 -1.132000e+07      NaN      NaN      NaN      NaN   \n",
       "AFG               NaN           NaN      NaN      NaN      NaN      NaN   \n",
       "AGO               NaN           NaN      NaN      NaN      NaN      NaN   \n",
       "ALB               NaN           NaN      NaN      NaN      NaN      NaN   \n",
       "AND               NaN           NaN      NaN      NaN      NaN      NaN   \n",
       "\n",
       "         aid2009  aid2010  aid2011  aid2012  aid2013  aid2014  aid2015  \\\n",
       "isocode                                                                  \n",
       "ABW          NaN      NaN      NaN      NaN      NaN      NaN      NaN   \n",
       "AFG          NaN      NaN      NaN      NaN      NaN      NaN      NaN   \n",
       "AGO          NaN      NaN      NaN      NaN      NaN      NaN      NaN   \n",
       "ALB          NaN      NaN      NaN      NaN      NaN      NaN      NaN   \n",
       "AND          NaN      NaN      NaN      NaN      NaN      NaN      NaN   \n",
       "\n",
       "         aid2016  aid2017  aid2018  aid2019  \n",
       "isocode                                      \n",
       "ABW          NaN      NaN      NaN      NaN  \n",
       "AFG          NaN      NaN      NaN      NaN  \n",
       "AGO          NaN      NaN      NaN      NaN  \n",
       "ALB          NaN      NaN      NaN      NaN  \n",
       "AND          NaN      NaN      NaN      NaN  "
      ],
      "text/html": "<div>\n<style scoped>\n    .dataframe tbody tr th:only-of-type {\n        vertical-align: middle;\n    }\n\n    .dataframe tbody tr th {\n        vertical-align: top;\n    }\n\n    .dataframe thead th {\n        text-align: right;\n    }\n</style>\n<table border=\"1\" class=\"dataframe\">\n  <thead>\n    <tr style=\"text-align: right;\">\n      <th></th>\n      <th>aid2003</th>\n      <th>aid2004</th>\n      <th>aid2005</th>\n      <th>aid2006</th>\n      <th>aid2007</th>\n      <th>aid2008</th>\n      <th>aid2009</th>\n      <th>aid2010</th>\n      <th>aid2011</th>\n      <th>aid2012</th>\n      <th>aid2013</th>\n      <th>aid2014</th>\n      <th>aid2015</th>\n      <th>aid2016</th>\n      <th>aid2017</th>\n      <th>aid2018</th>\n      <th>aid2019</th>\n    </tr>\n    <tr>\n      <th>isocode</th>\n      <th></th>\n      <th></th>\n      <th></th>\n      <th></th>\n      <th></th>\n      <th></th>\n      <th></th>\n      <th></th>\n      <th></th>\n      <th></th>\n      <th></th>\n      <th></th>\n      <th></th>\n      <th></th>\n      <th></th>\n      <th></th>\n      <th></th>\n    </tr>\n  </thead>\n  <tbody>\n    <tr>\n      <th>ABW</th>\n      <td>7.622000e+07</td>\n      <td>-1.132000e+07</td>\n      <td>NaN</td>\n      <td>NaN</td>\n      <td>NaN</td>\n      <td>NaN</td>\n      <td>NaN</td>\n      <td>NaN</td>\n      <td>NaN</td>\n      <td>NaN</td>\n      <td>NaN</td>\n      <td>NaN</td>\n      <td>NaN</td>\n      <td>NaN</td>\n      <td>NaN</td>\n      <td>NaN</td>\n      <td>NaN</td>\n    </tr>\n    <tr>\n      <th>AFG</th>\n      <td>NaN</td>\n      <td>NaN</td>\n      <td>NaN</td>\n      <td>NaN</td>\n      <td>NaN</td>\n      <td>NaN</td>\n      <td>NaN</td>\n      <td>NaN</td>\n      <td>NaN</td>\n      <td>NaN</td>\n      <td>NaN</td>\n      <td>NaN</td>\n      <td>NaN</td>\n      <td>NaN</td>\n      <td>NaN</td>\n      <td>NaN</td>\n      <td>NaN</td>\n    </tr>\n    <tr>\n      <th>AGO</th>\n      <td>NaN</td>\n      <td>NaN</td>\n      <td>NaN</td>\n      <td>NaN</td>\n      <td>NaN</td>\n      <td>NaN</td>\n      <td>NaN</td>\n      <td>NaN</td>\n      <td>NaN</td>\n      <td>NaN</td>\n      <td>NaN</td>\n      <td>NaN</td>\n      <td>NaN</td>\n      <td>NaN</td>\n      <td>NaN</td>\n      <td>NaN</td>\n      <td>NaN</td>\n    </tr>\n    <tr>\n      <th>ALB</th>\n      <td>NaN</td>\n      <td>NaN</td>\n      <td>NaN</td>\n      <td>NaN</td>\n      <td>NaN</td>\n      <td>NaN</td>\n      <td>NaN</td>\n      <td>NaN</td>\n      <td>NaN</td>\n      <td>NaN</td>\n      <td>NaN</td>\n      <td>NaN</td>\n      <td>NaN</td>\n      <td>NaN</td>\n      <td>NaN</td>\n      <td>NaN</td>\n      <td>NaN</td>\n    </tr>\n    <tr>\n      <th>AND</th>\n      <td>NaN</td>\n      <td>NaN</td>\n      <td>NaN</td>\n      <td>NaN</td>\n      <td>NaN</td>\n      <td>NaN</td>\n      <td>NaN</td>\n      <td>NaN</td>\n      <td>NaN</td>\n      <td>NaN</td>\n      <td>NaN</td>\n      <td>NaN</td>\n      <td>NaN</td>\n      <td>NaN</td>\n      <td>NaN</td>\n      <td>NaN</td>\n      <td>NaN</td>\n    </tr>\n  </tbody>\n</table>\n</div>"
     },
     "metadata": {},
     "execution_count": 99
    }
   ],
   "source": [
    "\n",
    "aid = pd.read_excel('data/offial aid received.xls', sheet_name='Data', skiprows=3).rename(columns={\"Country Code\": \"isocode\"}).set_index('isocode')\n",
    "aid_filter = aid.filter(regex='^20(10|11|12|.*[3456789]$)', axis=1).add_prefix('aid')\n",
    "aid_filter.head()"
   ]
  },
  {
   "cell_type": "code",
   "execution_count": 101,
   "metadata": {},
   "outputs": [
    {
     "output_type": "execute_result",
     "data": {
      "text/plain": [
       "(63, 177)"
      ]
     },
     "metadata": {},
     "execution_count": 101
    }
   ],
   "source": [
    "df_add_aid = pd.merge(df_add_oda, aid_filter, how='left', on=\"isocode\")\n",
    "# df_add_aid.shape\n",
    "df_add_aid[df_add_aid.filter(regex='aid.*', axis=1).isna().all(axis=1)].shape"
   ]
  },
  {
   "source": [
    "### output"
   ],
   "cell_type": "markdown",
   "metadata": {}
  },
  {
   "cell_type": "code",
   "execution_count": 102,
   "metadata": {},
   "outputs": [],
   "source": [
    "df_add_aid.to_csv('data/result.csv') "
   ]
  }
 ],
 "metadata": {
  "kernelspec": {
   "display_name": "Python 3",
   "language": "python",
   "name": "python3"
  },
  "language_info": {
   "codemirror_mode": {
    "name": "ipython",
    "version": 3
   },
   "file_extension": ".py",
   "mimetype": "text/x-python",
   "name": "python",
   "nbconvert_exporter": "python",
   "pygments_lexer": "ipython3",
   "version": "3.7.9-final"
  }
 },
 "nbformat": 4,
 "nbformat_minor": 4
}