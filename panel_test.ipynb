{
 "metadata": {
  "language_info": {
   "codemirror_mode": {
    "name": "ipython",
    "version": 3
   },
   "file_extension": ".py",
   "mimetype": "text/x-python",
   "name": "python",
   "nbconvert_exporter": "python",
   "pygments_lexer": "ipython3",
   "version": 3
  },
  "orig_nbformat": 2
 },
 "nbformat": 4,
 "nbformat_minor": 2,
 "cells": [
  {
   "cell_type": "code",
   "execution_count": null,
   "metadata": {},
   "outputs": [],
   "source": [
    "import numpy as np\n",
    "import pandas as pd\n",
    "import seaborn as sns\n",
    "import matplotlib.pyplot as plt\n",
    "from auxiliary import *\n",
    "import zipfile\n",
    "from statsmodels.api import OLS, add_constant\n",
    "from linearmodels import IV2SLS, IVLIML, IVGMM, IVGMMCUE\n",
    "# import ipystata\n",
    "\n",
    "\n",
    "sns.set_theme(style=\"ticks\")"
   ]
  },
  {
   "cell_type": "code",
   "execution_count": null,
   "metadata": {},
   "outputs": [],
   "source": [
    "with zipfile.ZipFile('data.zip', 'r') as zip_ref:\n",
    "    zip_ref.extractall('')"
   ]
  },
  {
   "cell_type": "code",
   "execution_count": null,
   "metadata": {},
   "outputs": [],
   "source": [
    "\n",
    "long = pd.read_csv('data/result_long.csv')\n",
    "long = sm.add_constant(long)"
   ]
  },
  {
   "cell_type": "code",
   "execution_count": null,
   "metadata": {},
   "outputs": [],
   "source": [
    "x = ['posrecip', 'risktaking',\n",
    "       'patience', 'trust', 'negrecip', 'aid_boolean',\n",
    "        'gdpcapita','govexpense', 'pop', 'const']\n",
    "dummy = pd.get_dummies(long.income_type).astype(float)\n",
    "add_dummy = pd.concat([long, dummy], axis=1)\n",
    "dummy_list = long.income_type.unique().tolist()\n",
    "\n",
    "interaction = add_dummy[dummy_list].mul(add_dummy['altruism'], axis=\"index\").add_prefix('altruism_')\n",
    "interaction_list = interaction.columns.tolist()\n",
    "add_interaction = pd.concat([add_dummy, interaction], axis=1).dropna().reset_index()\n",
    "\n",
    "ols_interacton = PooledOLS(add_interaction['funding_gdp'], add_interaction[ ['demo'] + dummy_list[0:3]])\n",
    "ols_interacton.fit(cov_type='clustered').summary\n"
   ]
  }
 ]
}