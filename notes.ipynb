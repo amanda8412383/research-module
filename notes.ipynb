{
 "metadata": {
  "language_info": {
   "codemirror_mode": {
    "name": "ipython",
    "version": 3
   },
   "file_extension": ".py",
   "mimetype": "text/x-python",
   "name": "python",
   "nbconvert_exporter": "python",
   "pygments_lexer": "ipython3",
   "version": 3
  },
  "orig_nbformat": 2
 },
 "nbformat": 4,
 "nbformat_minor": 2,
 "cells": [
  {
   "source": [
    "notes on gdp\n",
    "- Current series are influenced by the effect of price inflation. \n",
    "- Constant series are used to measure the true growth of a series\n",
    "- gross national income (GNI): gross domestic product (GDP), plus factor incomes earned by foreign residents, minus income earned in the domestic economy by nonresidents\n",
    "- GDP Per Capita: gross value added by all resident producers in the economy plus any product taxes and minus any subsidies / midyear population.  without making deductions for depreciation\n",
    "- Current LCU: current local currency.\n",
    "    - (i) the measurement is for this year's production  any productive output (regardless of whether it is depreciable) is not depreciated because it is still the first year (depreciation has not yet taken its toll)\n",
    "    - (ii) depreciation is not used as an off-set \n",
    "- CURRENT US DOLLAR:\n",
    "    - (i) it allows us to evaluate the effectiveness of fiscal and monetary policies \n",
    "    - (ii) it allows an objective evaluation of the economic development of the country. \n",
    "- GDP (PPP) per capita : gross domestic product (at purchasing power parity) per capita"
   ],
   "cell_type": "markdown",
   "metadata": {}
  }
 ]
}