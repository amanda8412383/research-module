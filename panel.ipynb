{
 "metadata": {
  "language_info": {
   "codemirror_mode": {
    "name": "ipython",
    "version": 3
   },
   "file_extension": ".py",
   "mimetype": "text/x-python",
   "name": "python",
   "nbconvert_exporter": "python",
   "pygments_lexer": "ipython3",
   "version": "3.8.3-final"
  },
  "orig_nbformat": 2,
  "kernelspec": {
   "name": "python3",
   "display_name": "Python 3.8.3 64-bit (conda)",
   "metadata": {
    "interpreter": {
     "hash": "020f7d036e9df261a2a01114164e80f3ac6ec812dc6603c210a5c80f4ebbffb1"
    }
   }
  }
 },
 "nbformat": 4,
 "nbformat_minor": 2,
 "cells": [
  {
   "source": [
    "in this notebook, FEF model in [Pesaran, M. Hashem; Zhou, Qiankun (2014) : Estimation of Time-invariant Effects in Static Panel Data Models] (https://papers.ssrn.com/sol3/papers.cfm?abstract_id=2493312) is applied to estimate the effect of time-invariant variables, altruism, in the panel data.\n",
    "\n",
    "I wrote this in Stata first to ensure the correctness of applying statistic models, then writing this again in Python for the completeness of the project and to practice.\n"
   ],
   "cell_type": "markdown",
   "metadata": {}
  },
  {
   "cell_type": "code",
   "execution_count": 1,
   "metadata": {},
   "outputs": [
    {
     "output_type": "error",
     "ename": "ModuleNotFoundError",
     "evalue": "No module named 'numpy'",
     "traceback": [
      "\u001b[1;31m---------------------------------------------------------------------------\u001b[0m",
      "\u001b[1;31mModuleNotFoundError\u001b[0m                       Traceback (most recent call last)",
      "\u001b[1;32m<ipython-input-1-8f61b21c7eab>\u001b[0m in \u001b[0;36m<module>\u001b[1;34m\u001b[0m\n\u001b[1;32m----> 1\u001b[1;33m \u001b[1;32mimport\u001b[0m \u001b[0mnumpy\u001b[0m \u001b[1;32mas\u001b[0m \u001b[0mnp\u001b[0m\u001b[1;33m\u001b[0m\u001b[1;33m\u001b[0m\u001b[0m\n\u001b[0m\u001b[0;32m      2\u001b[0m \u001b[1;32mimport\u001b[0m \u001b[0mpandas\u001b[0m \u001b[1;32mas\u001b[0m \u001b[0mpd\u001b[0m\u001b[1;33m\u001b[0m\u001b[1;33m\u001b[0m\u001b[0m\n\u001b[0;32m      3\u001b[0m \u001b[1;32mimport\u001b[0m \u001b[0mseaborn\u001b[0m \u001b[1;32mas\u001b[0m \u001b[0msns\u001b[0m\u001b[1;33m\u001b[0m\u001b[1;33m\u001b[0m\u001b[0m\n\u001b[0;32m      4\u001b[0m \u001b[1;32mimport\u001b[0m \u001b[0mmatplotlib\u001b[0m\u001b[1;33m.\u001b[0m\u001b[0mpyplot\u001b[0m \u001b[1;32mas\u001b[0m \u001b[0mplt\u001b[0m\u001b[1;33m\u001b[0m\u001b[1;33m\u001b[0m\u001b[0m\n\u001b[0;32m      5\u001b[0m \u001b[1;32mfrom\u001b[0m \u001b[0mauxiliary\u001b[0m \u001b[1;32mimport\u001b[0m \u001b[1;33m*\u001b[0m\u001b[1;33m\u001b[0m\u001b[1;33m\u001b[0m\u001b[0m\n",
      "\u001b[1;31mModuleNotFoundError\u001b[0m: No module named 'numpy'"
     ]
    }
   ],
   "source": [
    "import numpy as np\n",
    "import pandas as pd\n",
    "import seaborn as sns\n",
    "import matplotlib.pyplot as plt\n",
    "from auxiliary import *\n",
    "import zipfile\n",
    "from linearmodels.panel import PooledOLS, RandomEffects, BetweenOLS, FirstDifferenceOLS\n",
    "\n",
    "import statsmodels.api as sm\n",
    "import missingno as msno\n",
    "\n",
    "pd.set_option('display.max_columns', 500)\n",
    "\n",
    "sns.set_theme(style=\"ticks\")"
   ]
  },
  {
   "cell_type": "code",
   "execution_count": null,
   "metadata": {},
   "outputs": [],
   "source": [
    "with zipfile.ZipFile('data.zip', 'r') as zip_ref:\n",
    "    zip_ref.extractall('')"
   ]
  },
  {
   "source": [
    "### read in data\n",
    "### set up dependent and independent variables\n",
    "### examine missing value"
   ],
   "cell_type": "markdown",
   "metadata": {}
  },
  {
   "cell_type": "code",
   "execution_count": 5,
   "metadata": {},
   "outputs": [
    {
     "output_type": "stream",
     "name": "stdout",
     "text": [
      "<class 'pandas.core.frame.DataFrame'>\nMultiIndex: 1368 entries, ('AFG', 2003) to ('ZWE', 2020)\nData columns (total 21 columns):\n #   Column            Non-Null Count  Dtype  \n---  ------            --------------  -----  \n 0   funding_capita    1368 non-null   float64\n 1   altruism          1368 non-null   float64\n 2   posrecip          1368 non-null   float64\n 3   risktaking        1368 non-null   float64\n 4   patience          1368 non-null   float64\n 5   trust             1368 non-null   float64\n 6   negrecip          1368 non-null   float64\n 7   income_type       1368 non-null   object \n 8   region            1368 non-null   object \n 9   oecd              1368 non-null   int64  \n 10  g20               1368 non-null   int64  \n 11  oda_int           1368 non-null   int64  \n 12  aid               1368 non-null   int64  \n 13  demo_electoral    912 non-null    float64\n 14  demo_gov          912 non-null    float64\n 15  demo_participate  912 non-null    float64\n 16  demo_culture      912 non-null    float64\n 17  demo_liberty      912 non-null    float64\n 18  govexpense        1289 non-null   float64\n 19  gdpcapita         1284 non-null   float64\n 20  gni               635 non-null    float64\ndtypes: float64(15), int64(4), object(2)\nmemory usage: 231.1+ KB\n"
     ]
    }
   ],
   "source": [
    "long = pd.read_csv('data/result_long.csv')\n",
    "\n",
    "#setting variables\n",
    "#time invariants\n",
    "x = ['altruism', 'posrecip', 'risktaking', 'patience', 'trust', 'negrecip', 'income_type', 'region']\n",
    "\n",
    "#dummy vars\n",
    "x_dummy = ['oecd', 'g20', 'oda_int', 'aid']\n",
    "\n",
    "#year-varied vars \n",
    "x_year = ['demo_electoral', 'demo_gov', 'demo_participate', 'demo_culture', 'demo_liberty', 'govexpense',  'gdpcapita']\n",
    "\n",
    "#year-varied gini index, contains large numbers of na\n",
    "gni = ['gni']\n",
    "\n",
    "#add constant\n",
    "long_c = sm.add_constant(long)\n",
    "long_y = long_c.assign(funding_capita= long_c['funding']/long_c['pop'])\n",
    "\n",
    "long_replace = long_y.replace({'funding_capita': np.nan}, 0)\n",
    "long_index = long_replace.set_index(['isocode', 'year'])\n",
    "long_select_gni = long_index[['funding_capita'] + x + x_dummy + x_year + gni]\n",
    "long_select_gni.info()"
   ]
  },
  {
   "source": [
    "### heat map for examine missing value"
   ],
   "cell_type": "markdown",
   "metadata": {}
  },
  {
   "cell_type": "code",
   "execution_count": 8,
   "metadata": {},
   "outputs": [],
   "source": [
    "sns.heatmap(long_select_gni.isnull(), cbar=False)\n",
    "\n"
   ]
  },
  {
   "cell_type": "code",
   "execution_count": 2,
   "metadata": {},
   "outputs": [
    {
     "output_type": "execute_result",
     "data": {
      "text/plain": [
       "              funding_gdp  posrecip  risktaking  patience     trust  negrecip  \\\n",
       "isocode year                                                                    \n",
       "AFG     2006       0.0000  0.289641    0.120764  -0.20136  0.315964  0.254712   \n",
       "        2008       0.2374  0.289641    0.120764  -0.20136  0.315964  0.254712   \n",
       "        2010       0.0150  0.289641    0.120764  -0.20136  0.315964  0.254712   \n",
       "        2011       0.0000  0.289641    0.120764  -0.20136  0.315964  0.254712   \n",
       "        2012       0.0000  0.289641    0.120764  -0.20136  0.315964  0.254712   \n",
       "\n",
       "              aid   gdpcapita  govexpense         pop  oda_int  const  \\\n",
       "isocode year                                                            \n",
       "AFG     2006    0  263.733692      18.303  26433049.0        0    1.0   \n",
       "        2008    0  364.660745      20.918  27722276.0        0    1.0   \n",
       "        2010    0  543.303042      20.801  29185507.0        0    1.0   \n",
       "        2011    0  591.162759      21.937  30117413.0        0    1.0   \n",
       "        2012    0  641.871479      25.028  31161376.0        0    1.0   \n",
       "\n",
       "             income_type      region  demo  altruism  year  \n",
       "isocode year                                                \n",
       "AFG     2006  Low income  South Asia  30.6  0.166455  2006  \n",
       "        2008  Low income  South Asia  30.2  0.166455  2008  \n",
       "        2010  Low income  South Asia  24.8  0.166455  2010  \n",
       "        2011  Low income  South Asia  24.8  0.166455  2011  \n",
       "        2012  Low income  South Asia  24.8  0.166455  2012  "
      ],
      "text/html": "<div>\n<style scoped>\n    .dataframe tbody tr th:only-of-type {\n        vertical-align: middle;\n    }\n\n    .dataframe tbody tr th {\n        vertical-align: top;\n    }\n\n    .dataframe thead th {\n        text-align: right;\n    }\n</style>\n<table border=\"1\" class=\"dataframe\">\n  <thead>\n    <tr style=\"text-align: right;\">\n      <th></th>\n      <th></th>\n      <th>funding_gdp</th>\n      <th>posrecip</th>\n      <th>risktaking</th>\n      <th>patience</th>\n      <th>trust</th>\n      <th>negrecip</th>\n      <th>aid</th>\n      <th>gdpcapita</th>\n      <th>govexpense</th>\n      <th>pop</th>\n      <th>oda_int</th>\n      <th>const</th>\n      <th>income_type</th>\n      <th>region</th>\n      <th>demo</th>\n      <th>altruism</th>\n      <th>year</th>\n    </tr>\n    <tr>\n      <th>isocode</th>\n      <th>year</th>\n      <th></th>\n      <th></th>\n      <th></th>\n      <th></th>\n      <th></th>\n      <th></th>\n      <th></th>\n      <th></th>\n      <th></th>\n      <th></th>\n      <th></th>\n      <th></th>\n      <th></th>\n      <th></th>\n      <th></th>\n      <th></th>\n      <th></th>\n    </tr>\n  </thead>\n  <tbody>\n    <tr>\n      <th rowspan=\"5\" valign=\"top\">AFG</th>\n      <th>2006</th>\n      <td>0.0000</td>\n      <td>0.289641</td>\n      <td>0.120764</td>\n      <td>-0.20136</td>\n      <td>0.315964</td>\n      <td>0.254712</td>\n      <td>0</td>\n      <td>263.733692</td>\n      <td>18.303</td>\n      <td>26433049.0</td>\n      <td>0</td>\n      <td>1.0</td>\n      <td>Low income</td>\n      <td>South Asia</td>\n      <td>30.6</td>\n      <td>0.166455</td>\n      <td>2006</td>\n    </tr>\n    <tr>\n      <th>2008</th>\n      <td>0.2374</td>\n      <td>0.289641</td>\n      <td>0.120764</td>\n      <td>-0.20136</td>\n      <td>0.315964</td>\n      <td>0.254712</td>\n      <td>0</td>\n      <td>364.660745</td>\n      <td>20.918</td>\n      <td>27722276.0</td>\n      <td>0</td>\n      <td>1.0</td>\n      <td>Low income</td>\n      <td>South Asia</td>\n      <td>30.2</td>\n      <td>0.166455</td>\n      <td>2008</td>\n    </tr>\n    <tr>\n      <th>2010</th>\n      <td>0.0150</td>\n      <td>0.289641</td>\n      <td>0.120764</td>\n      <td>-0.20136</td>\n      <td>0.315964</td>\n      <td>0.254712</td>\n      <td>0</td>\n      <td>543.303042</td>\n      <td>20.801</td>\n      <td>29185507.0</td>\n      <td>0</td>\n      <td>1.0</td>\n      <td>Low income</td>\n      <td>South Asia</td>\n      <td>24.8</td>\n      <td>0.166455</td>\n      <td>2010</td>\n    </tr>\n    <tr>\n      <th>2011</th>\n      <td>0.0000</td>\n      <td>0.289641</td>\n      <td>0.120764</td>\n      <td>-0.20136</td>\n      <td>0.315964</td>\n      <td>0.254712</td>\n      <td>0</td>\n      <td>591.162759</td>\n      <td>21.937</td>\n      <td>30117413.0</td>\n      <td>0</td>\n      <td>1.0</td>\n      <td>Low income</td>\n      <td>South Asia</td>\n      <td>24.8</td>\n      <td>0.166455</td>\n      <td>2011</td>\n    </tr>\n    <tr>\n      <th>2012</th>\n      <td>0.0000</td>\n      <td>0.289641</td>\n      <td>0.120764</td>\n      <td>-0.20136</td>\n      <td>0.315964</td>\n      <td>0.254712</td>\n      <td>0</td>\n      <td>641.871479</td>\n      <td>25.028</td>\n      <td>31161376.0</td>\n      <td>0</td>\n      <td>1.0</td>\n      <td>Low income</td>\n      <td>South Asia</td>\n      <td>24.8</td>\n      <td>0.166455</td>\n      <td>2012</td>\n    </tr>\n  </tbody>\n</table>\n</div>"
     },
     "metadata": {},
     "execution_count": 2
    }
   ],
   "source": [
    "long_select = long_select_gni.drop('gni')\n",
    "\n",
    "df = long_select.dropna()\n",
    "df_gni = long_select_gni.dropna()\n",
    "\n",
    "# df['year'] = pd.Categorical(df.index.to_frame()['year'])\n",
    "# x += ['year']\n",
    "df.head()\n"
   ]
  },
  {
   "source": [
    "# OLS"
   ],
   "cell_type": "markdown",
   "metadata": {}
  },
  {
   "cell_type": "code",
   "execution_count": 60,
   "metadata": {},
   "outputs": [
    {
     "output_type": "execute_result",
     "data": {
      "text/plain": [
       "                          PooledOLS Estimation Summary                          \n",
       "================================================================================\n",
       "Dep. Variable:            funding_gdp   R-squared:                        0.3773\n",
       "Estimator:                  PooledOLS   R-squared (Between):              0.6241\n",
       "No. Observations:                 905   R-squared (Within):               0.0043\n",
       "Date:                Tue, Dec 08 2020   R-squared (Overall):              0.3773\n",
       "Time:                        23:40:58   Log-likelihood                    2075.8\n",
       "Cov. Estimator:             Clustered                                           \n",
       "                                        F-statistic:                      16.509\n",
       "Entities:                          76   P-value                           0.0000\n",
       "Avg Obs:                       11.908   Distribution:                  F(32,872)\n",
       "Min Obs:                       7.0000                                           \n",
       "Max Obs:                       12.000   F-statistic (robust):             13.181\n",
       "                                        P-value                           0.0000\n",
       "Time periods:                      12   Distribution:                  F(32,872)\n",
       "Avg Obs:                       75.417                                           \n",
       "Min Obs:                       74.000                                           \n",
       "Max Obs:                       76.000                                           \n",
       "                                                                                \n",
       "                                         Parameter Estimates                                         \n",
       "=====================================================================================================\n",
       "                                   Parameter  Std. Err.     T-stat    P-value    Lower CI    Upper CI\n",
       "-----------------------------------------------------------------------------------------------------\n",
       "posrecip                             -0.0020     0.0065    -0.3083     0.7580     -0.0149      0.0108\n",
       "risktaking                           -0.0009     0.0087    -0.0990     0.9211     -0.0178      0.0161\n",
       "patience                              0.0202     0.0171     1.1834     0.2370     -0.0133      0.0538\n",
       "trust                                 0.0218     0.0088     2.4869     0.0131      0.0046      0.0390\n",
       "negrecip                             -0.0058     0.0067    -0.8754     0.3816     -0.0189      0.0073\n",
       "aid                                   0.0027     0.0069     0.3904     0.6963     -0.0108      0.0162\n",
       "gdpcapita                          9.585e-07  3.432e-07     2.7926     0.0053   2.848e-07   1.632e-06\n",
       "govexpense                           -0.0001     0.0002    -0.6455     0.5188     -0.0004      0.0002\n",
       "pop                               -9.856e-12  8.949e-12    -1.1013     0.2711  -2.742e-11   7.709e-12\n",
       "oda_int                              -0.0075     0.0060    -1.2462     0.2130     -0.0193      0.0043\n",
       "const                                 0.0227     0.0145     1.5686     0.1171     -0.0057      0.0512\n",
       "income_type.Low income               -0.0016     0.0095    -0.1730     0.8627     -0.0202      0.0169\n",
       "income_type.Lower middle income      -0.0056     0.0076    -0.7359     0.4620     -0.0206      0.0094\n",
       "income_type.Upper middle income      -0.0047     0.0066    -0.7179     0.4730     -0.0177      0.0082\n",
       "region.Europe & Central Asia          0.0069     0.0074     0.9287     0.3533     -0.0076      0.0213\n",
       "region.Latin America & Caribbean      0.0119     0.0067     1.7859     0.0745     -0.0012      0.0250\n",
       "region.Middle East & North Africa     0.0101     0.0106     0.9515     0.3416     -0.0107      0.0309\n",
       "region.North America                 -0.0058     0.0105    -0.5491     0.5831     -0.0264      0.0149\n",
       "region.South Asia                     0.0212     0.0068     3.1218     0.0019      0.0079      0.0345\n",
       "region.Sub-Saharan Africa             0.0162     0.0092     1.7730     0.0766     -0.0017      0.0342\n",
       "demo                                 -0.0046     0.0019    -2.3830     0.0174     -0.0083     -0.0008\n",
       "altruism                             -0.0053     0.0063    -0.8461     0.3977     -0.0177      0.0070\n",
       "year.2008                             0.0024     0.0036     0.6723     0.5016     -0.0047      0.0096\n",
       "year.2010                             0.0006     0.0016     0.3601     0.7189     -0.0025      0.0036\n",
       "year.2011                            -0.0027     0.0017    -1.5653     0.1179     -0.0061      0.0007\n",
       "year.2012                            -0.0011     0.0021    -0.5270     0.5984     -0.0053      0.0030\n",
       "year.2013                            -0.0034     0.0019    -1.7950     0.0730     -0.0071      0.0003\n",
       "year.2014                             0.0010     0.0020     0.5140     0.6074     -0.0029      0.0050\n",
       "year.2015                             0.0042     0.0024     1.7537     0.0798     -0.0005      0.0090\n",
       "year.2016                             0.0032     0.0025     1.3185     0.1877     -0.0016      0.0080\n",
       "year.2017                            -0.0002     0.0017    -0.1145     0.9089     -0.0036      0.0032\n",
       "year.2018                             0.0062     0.0061     1.0263     0.3050     -0.0057      0.0181\n",
       "year.2019                             0.0016     0.0025     0.6262     0.5313     -0.0033      0.0064\n",
       "=====================================================================================================\n",
       "PanelResults, id: 0x2d98ef85488"
      ],
      "text/html": "<table class=\"simpletable\">\n<caption>PooledOLS Estimation Summary</caption>\n<tr>\n  <th>Dep. Variable:</th>       <td>funding_gdp</td>   <th>  R-squared:         </th>    <td>0.3773</td>  \n</tr>\n<tr>\n  <th>Estimator:</th>            <td>PooledOLS</td>    <th>  R-squared (Between):</th>   <td>0.6241</td>  \n</tr>\n<tr>\n  <th>No. Observations:</th>        <td>905</td>       <th>  R-squared (Within):</th>    <td>0.0043</td>  \n</tr>\n<tr>\n  <th>Date:</th>             <td>Tue, Dec 08 2020</td> <th>  R-squared (Overall):</th>   <td>0.3773</td>  \n</tr>\n<tr>\n  <th>Time:</th>                 <td>23:40:58</td>     <th>  Log-likelihood     </th>    <td>2075.8</td>  \n</tr>\n<tr>\n  <th>Cov. Estimator:</th>       <td>Clustered</td>    <th>                     </th>       <td></td>     \n</tr>\n<tr>\n  <th></th>                          <td></td>         <th>  F-statistic:       </th>    <td>16.509</td>  \n</tr>\n<tr>\n  <th>Entities:</th>                <td>76</td>        <th>  P-value            </th>    <td>0.0000</td>  \n</tr>\n<tr>\n  <th>Avg Obs:</th>               <td>11.908</td>      <th>  Distribution:      </th>   <td>F(32,872)</td>\n</tr>\n<tr>\n  <th>Min Obs:</th>               <td>7.0000</td>      <th>                     </th>       <td></td>     \n</tr>\n<tr>\n  <th>Max Obs:</th>               <td>12.000</td>      <th>  F-statistic (robust):</th>  <td>13.181</td>  \n</tr>\n<tr>\n  <th></th>                          <td></td>         <th>  P-value            </th>    <td>0.0000</td>  \n</tr>\n<tr>\n  <th>Time periods:</th>            <td>12</td>        <th>  Distribution:      </th>   <td>F(32,872)</td>\n</tr>\n<tr>\n  <th>Avg Obs:</th>               <td>75.417</td>      <th>                     </th>       <td></td>     \n</tr>\n<tr>\n  <th>Min Obs:</th>               <td>74.000</td>      <th>                     </th>       <td></td>     \n</tr>\n<tr>\n  <th>Max Obs:</th>               <td>76.000</td>      <th>                     </th>       <td></td>     \n</tr>\n<tr>\n  <th></th>                          <td></td>         <th>                     </th>       <td></td>     \n</tr>\n</table>\n<table class=\"simpletable\">\n<caption>Parameter Estimates</caption>\n<tr>\n                  <td></td>                   <th>Parameter</th> <th>Std. Err.</th> <th>T-stat</th>  <th>P-value</th>  <th>Lower CI</th>  <th>Upper CI</th> \n</tr>\n<tr>\n  <th>posrecip</th>                            <td>-0.0020</td>   <td>0.0065</td>   <td>-0.3083</td> <td>0.7580</td>    <td>-0.0149</td>   <td>0.0108</td>  \n</tr>\n<tr>\n  <th>risktaking</th>                          <td>-0.0009</td>   <td>0.0087</td>   <td>-0.0990</td> <td>0.9211</td>    <td>-0.0178</td>   <td>0.0161</td>  \n</tr>\n<tr>\n  <th>patience</th>                            <td>0.0202</td>    <td>0.0171</td>   <td>1.1834</td>  <td>0.2370</td>    <td>-0.0133</td>   <td>0.0538</td>  \n</tr>\n<tr>\n  <th>trust</th>                               <td>0.0218</td>    <td>0.0088</td>   <td>2.4869</td>  <td>0.0131</td>    <td>0.0046</td>    <td>0.0390</td>  \n</tr>\n<tr>\n  <th>negrecip</th>                            <td>-0.0058</td>   <td>0.0067</td>   <td>-0.8754</td> <td>0.3816</td>    <td>-0.0189</td>   <td>0.0073</td>  \n</tr>\n<tr>\n  <th>aid</th>                                 <td>0.0027</td>    <td>0.0069</td>   <td>0.3904</td>  <td>0.6963</td>    <td>-0.0108</td>   <td>0.0162</td>  \n</tr>\n<tr>\n  <th>gdpcapita</th>                          <td>9.585e-07</td> <td>3.432e-07</td> <td>2.7926</td>  <td>0.0053</td>   <td>2.848e-07</td> <td>1.632e-06</td>\n</tr>\n<tr>\n  <th>govexpense</th>                          <td>-0.0001</td>   <td>0.0002</td>   <td>-0.6455</td> <td>0.5188</td>    <td>-0.0004</td>   <td>0.0002</td>  \n</tr>\n<tr>\n  <th>pop</th>                               <td>-9.856e-12</td> <td>8.949e-12</td> <td>-1.1013</td> <td>0.2711</td>  <td>-2.742e-11</td> <td>7.709e-12</td>\n</tr>\n<tr>\n  <th>oda_int</th>                             <td>-0.0075</td>   <td>0.0060</td>   <td>-1.2462</td> <td>0.2130</td>    <td>-0.0193</td>   <td>0.0043</td>  \n</tr>\n<tr>\n  <th>const</th>                               <td>0.0227</td>    <td>0.0145</td>   <td>1.5686</td>  <td>0.1171</td>    <td>-0.0057</td>   <td>0.0512</td>  \n</tr>\n<tr>\n  <th>income_type.Low income</th>              <td>-0.0016</td>   <td>0.0095</td>   <td>-0.1730</td> <td>0.8627</td>    <td>-0.0202</td>   <td>0.0169</td>  \n</tr>\n<tr>\n  <th>income_type.Lower middle income</th>     <td>-0.0056</td>   <td>0.0076</td>   <td>-0.7359</td> <td>0.4620</td>    <td>-0.0206</td>   <td>0.0094</td>  \n</tr>\n<tr>\n  <th>income_type.Upper middle income</th>     <td>-0.0047</td>   <td>0.0066</td>   <td>-0.7179</td> <td>0.4730</td>    <td>-0.0177</td>   <td>0.0082</td>  \n</tr>\n<tr>\n  <th>region.Europe & Central Asia</th>        <td>0.0069</td>    <td>0.0074</td>   <td>0.9287</td>  <td>0.3533</td>    <td>-0.0076</td>   <td>0.0213</td>  \n</tr>\n<tr>\n  <th>region.Latin America & Caribbean</th>    <td>0.0119</td>    <td>0.0067</td>   <td>1.7859</td>  <td>0.0745</td>    <td>-0.0012</td>   <td>0.0250</td>  \n</tr>\n<tr>\n  <th>region.Middle East & North Africa</th>   <td>0.0101</td>    <td>0.0106</td>   <td>0.9515</td>  <td>0.3416</td>    <td>-0.0107</td>   <td>0.0309</td>  \n</tr>\n<tr>\n  <th>region.North America</th>                <td>-0.0058</td>   <td>0.0105</td>   <td>-0.5491</td> <td>0.5831</td>    <td>-0.0264</td>   <td>0.0149</td>  \n</tr>\n<tr>\n  <th>region.South Asia</th>                   <td>0.0212</td>    <td>0.0068</td>   <td>3.1218</td>  <td>0.0019</td>    <td>0.0079</td>    <td>0.0345</td>  \n</tr>\n<tr>\n  <th>region.Sub-Saharan Africa</th>           <td>0.0162</td>    <td>0.0092</td>   <td>1.7730</td>  <td>0.0766</td>    <td>-0.0017</td>   <td>0.0342</td>  \n</tr>\n<tr>\n  <th>demo</th>                                <td>-0.0046</td>   <td>0.0019</td>   <td>-2.3830</td> <td>0.0174</td>    <td>-0.0083</td>   <td>-0.0008</td> \n</tr>\n<tr>\n  <th>altruism</th>                            <td>-0.0053</td>   <td>0.0063</td>   <td>-0.8461</td> <td>0.3977</td>    <td>-0.0177</td>   <td>0.0070</td>  \n</tr>\n<tr>\n  <th>year.2008</th>                           <td>0.0024</td>    <td>0.0036</td>   <td>0.6723</td>  <td>0.5016</td>    <td>-0.0047</td>   <td>0.0096</td>  \n</tr>\n<tr>\n  <th>year.2010</th>                           <td>0.0006</td>    <td>0.0016</td>   <td>0.3601</td>  <td>0.7189</td>    <td>-0.0025</td>   <td>0.0036</td>  \n</tr>\n<tr>\n  <th>year.2011</th>                           <td>-0.0027</td>   <td>0.0017</td>   <td>-1.5653</td> <td>0.1179</td>    <td>-0.0061</td>   <td>0.0007</td>  \n</tr>\n<tr>\n  <th>year.2012</th>                           <td>-0.0011</td>   <td>0.0021</td>   <td>-0.5270</td> <td>0.5984</td>    <td>-0.0053</td>   <td>0.0030</td>  \n</tr>\n<tr>\n  <th>year.2013</th>                           <td>-0.0034</td>   <td>0.0019</td>   <td>-1.7950</td> <td>0.0730</td>    <td>-0.0071</td>   <td>0.0003</td>  \n</tr>\n<tr>\n  <th>year.2014</th>                           <td>0.0010</td>    <td>0.0020</td>   <td>0.5140</td>  <td>0.6074</td>    <td>-0.0029</td>   <td>0.0050</td>  \n</tr>\n<tr>\n  <th>year.2015</th>                           <td>0.0042</td>    <td>0.0024</td>   <td>1.7537</td>  <td>0.0798</td>    <td>-0.0005</td>   <td>0.0090</td>  \n</tr>\n<tr>\n  <th>year.2016</th>                           <td>0.0032</td>    <td>0.0025</td>   <td>1.3185</td>  <td>0.1877</td>    <td>-0.0016</td>   <td>0.0080</td>  \n</tr>\n<tr>\n  <th>year.2017</th>                           <td>-0.0002</td>   <td>0.0017</td>   <td>-0.1145</td> <td>0.9089</td>    <td>-0.0036</td>   <td>0.0032</td>  \n</tr>\n<tr>\n  <th>year.2018</th>                           <td>0.0062</td>    <td>0.0061</td>   <td>1.0263</td>  <td>0.3050</td>    <td>-0.0057</td>   <td>0.0181</td>  \n</tr>\n<tr>\n  <th>year.2019</th>                           <td>0.0016</td>    <td>0.0025</td>   <td>0.6262</td>  <td>0.5313</td>    <td>-0.0033</td>   <td>0.0064</td>  \n</tr>\n</table><br/>id: 0x2d98ef85488"
     },
     "metadata": {},
     "execution_count": 60
    }
   ],
   "source": [
    "mod = PooledOLS(df.funding_gdp, df[x])\n",
    "pooled_res = mod.fit(cov_type='clustered', cluster_entity=True, cluster_time=False)\n",
    "pooled_res"
   ]
  },
  {
   "cell_type": "code",
   "execution_count": null,
   "metadata": {},
   "outputs": [],
   "source": [
    "# FEF"
   ]
  },
  {
   "cell_type": "code",
   "execution_count": null,
   "metadata": {},
   "outputs": [],
   "source": []
  }
 ]
}